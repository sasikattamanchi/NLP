{
 "cells": [
  {
   "cell_type": "markdown",
   "id": "07ee7da1",
   "metadata": {
    "papermill": {
     "duration": 0.041789,
     "end_time": "2021-12-12T11:43:54.968648",
     "exception": false,
     "start_time": "2021-12-12T11:43:54.926859",
     "status": "completed"
    },
    "tags": []
   },
   "source": [
    "Implementation fo neural machine translation with attention mechanism.\n",
    "Ref: [Effective Approaches to Attention-based Neural Machine Translation](https://arxiv.org/abs/1508.04025v2)"
   ]
  },
  {
   "cell_type": "markdown",
   "id": "3e504c17",
   "metadata": {
    "papermill": {
     "duration": 0.043726,
     "end_time": "2021-12-12T11:43:55.055292",
     "exception": false,
     "start_time": "2021-12-12T11:43:55.011566",
     "status": "completed"
    },
    "tags": []
   },
   "source": [
    "## Imports"
   ]
  },
  {
   "cell_type": "code",
   "execution_count": 1,
   "id": "21623078",
   "metadata": {
    "execution": {
     "iopub.execute_input": "2021-12-12T11:43:55.156723Z",
     "iopub.status.busy": "2021-12-12T11:43:55.155034Z",
     "iopub.status.idle": "2021-12-12T11:43:55.159758Z",
     "shell.execute_reply": "2021-12-12T11:43:55.159183Z",
     "shell.execute_reply.started": "2021-12-12T10:33:55.703404Z"
    },
    "executionInfo": {
     "elapsed": 24,
     "status": "ok",
     "timestamp": 1629908305086,
     "user": {
      "displayName": "Sasi Kattamanchi",
      "photoUrl": "",
      "userId": "06124919951785490930"
     },
     "user_tz": -330
    },
    "id": "856bf53f",
    "papermill": {
     "duration": 0.057967,
     "end_time": "2021-12-12T11:43:55.159897",
     "exception": false,
     "start_time": "2021-12-12T11:43:55.101930",
     "status": "completed"
    },
    "tags": []
   },
   "outputs": [],
   "source": [
    "# %config Completer.use_jedi=False"
   ]
  },
  {
   "cell_type": "code",
   "execution_count": 2,
   "id": "73dae4f1",
   "metadata": {
    "execution": {
     "iopub.execute_input": "2021-12-12T11:43:55.295367Z",
     "iopub.status.busy": "2021-12-12T11:43:55.289853Z",
     "iopub.status.idle": "2021-12-12T11:43:56.914319Z",
     "shell.execute_reply": "2021-12-12T11:43:56.913464Z",
     "shell.execute_reply.started": "2021-12-12T10:33:55.729153Z"
    },
    "executionInfo": {
     "elapsed": 626,
     "status": "ok",
     "timestamp": 1629900209452,
     "user": {
      "displayName": "Sasi Kattamanchi",
      "photoUrl": "",
      "userId": "06124919951785490930"
     },
     "user_tz": -330
    },
    "id": "5166304d",
    "outputId": "46051ec5-7261-46d7-9c83-e19fb374aa27",
    "papermill": {
     "duration": 1.707419,
     "end_time": "2021-12-12T11:43:56.914459",
     "exception": false,
     "start_time": "2021-12-12T11:43:55.207040",
     "status": "completed"
    },
    "tags": []
   },
   "outputs": [],
   "source": [
    "import torch\n",
    "import torch.nn as nn\n",
    "import torch.nn.functional as F\n",
    "import torchtext\n",
    "from torch.utils.data import DataLoader, Dataset"
   ]
  },
  {
   "cell_type": "code",
   "execution_count": 3,
   "id": "a6a78fe6",
   "metadata": {
    "execution": {
     "iopub.execute_input": "2021-12-12T11:43:57.004153Z",
     "iopub.status.busy": "2021-12-12T11:43:57.002602Z",
     "iopub.status.idle": "2021-12-12T11:43:57.004766Z",
     "shell.execute_reply": "2021-12-12T11:43:57.005171Z",
     "shell.execute_reply.started": "2021-12-12T10:33:57.258076Z"
    },
    "executionInfo": {
     "elapsed": 3,
     "status": "ok",
     "timestamp": 1629900210871,
     "user": {
      "displayName": "Sasi Kattamanchi",
      "photoUrl": "",
      "userId": "06124919951785490930"
     },
     "user_tz": -330
    },
    "id": "5ef5db9f",
    "papermill": {
     "duration": 0.050294,
     "end_time": "2021-12-12T11:43:57.005298",
     "exception": false,
     "start_time": "2021-12-12T11:43:56.955004",
     "status": "completed"
    },
    "tags": []
   },
   "outputs": [],
   "source": [
    "import gc\n",
    "import numpy as np\n",
    "import pandas as pd\n",
    "import time\n",
    "from tqdm.auto import tqdm, trange\n",
    "import matplotlib.pyplot as plt\n",
    "%matplotlib inline\n",
    "plt.style.use('seaborn-colorblind')"
   ]
  },
  {
   "cell_type": "code",
   "execution_count": 4,
   "id": "1aea4278",
   "metadata": {
    "execution": {
     "iopub.execute_input": "2021-12-12T11:43:57.098312Z",
     "iopub.status.busy": "2021-12-12T11:43:57.097424Z",
     "iopub.status.idle": "2021-12-12T11:43:57.099354Z",
     "shell.execute_reply": "2021-12-12T11:43:57.099860Z",
     "shell.execute_reply.started": "2021-12-12T10:33:57.267207Z"
    },
    "executionInfo": {
     "elapsed": 5,
     "status": "ok",
     "timestamp": 1629900211453,
     "user": {
      "displayName": "Sasi Kattamanchi",
      "photoUrl": "",
      "userId": "06124919951785490930"
     },
     "user_tz": -330
    },
    "id": "b1d42b73",
    "papermill": {
     "duration": 0.051706,
     "end_time": "2021-12-12T11:43:57.100017",
     "exception": false,
     "start_time": "2021-12-12T11:43:57.048311",
     "status": "completed"
    },
    "tags": []
   },
   "outputs": [],
   "source": [
    "pd.options.display.width = 1200\n",
    "pd.options.display.max_colwidth = 1000"
   ]
  },
  {
   "cell_type": "code",
   "execution_count": 5,
   "id": "ed7a3c0d",
   "metadata": {
    "execution": {
     "iopub.execute_input": "2021-12-12T11:43:57.195114Z",
     "iopub.status.busy": "2021-12-12T11:43:57.194232Z",
     "iopub.status.idle": "2021-12-12T11:43:57.196366Z",
     "shell.execute_reply": "2021-12-12T11:43:57.196838Z",
     "shell.execute_reply.started": "2021-12-12T10:33:57.279513Z"
    },
    "executionInfo": {
     "elapsed": 4,
     "status": "ok",
     "timestamp": 1629900212816,
     "user": {
      "displayName": "Sasi Kattamanchi",
      "photoUrl": "",
      "userId": "06124919951785490930"
     },
     "user_tz": -330
    },
    "id": "006122bc",
    "papermill": {
     "duration": 0.051351,
     "end_time": "2021-12-12T11:43:57.196995",
     "exception": false,
     "start_time": "2021-12-12T11:43:57.145644",
     "status": "completed"
    },
    "tags": []
   },
   "outputs": [],
   "source": [
    "from itertools import chain\n",
    "from collections import Counter,OrderedDict\n",
    "import re\n",
    "import string\n",
    "import time\n",
    "import os\n",
    "from datetime import datetime"
   ]
  },
  {
   "cell_type": "code",
   "execution_count": 6,
   "id": "14ac15ed",
   "metadata": {
    "execution": {
     "iopub.execute_input": "2021-12-12T11:43:57.288459Z",
     "iopub.status.busy": "2021-12-12T11:43:57.287796Z",
     "iopub.status.idle": "2021-12-12T11:43:57.293095Z",
     "shell.execute_reply": "2021-12-12T11:43:57.292570Z",
     "shell.execute_reply.started": "2021-12-12T10:33:57.288372Z"
    },
    "papermill": {
     "duration": 0.051178,
     "end_time": "2021-12-12T11:43:57.293215",
     "exception": false,
     "start_time": "2021-12-12T11:43:57.242037",
     "status": "completed"
    },
    "tags": []
   },
   "outputs": [],
   "source": [
    "# random seeds\n",
    "SEED = 42\n",
    "torch.backends.cudnn.deterministic = True\n",
    "np.random.seed(SEED)\n",
    "torch.manual_seed(SEED)\n",
    "torch.cuda.manual_seed_all(SEED)"
   ]
  },
  {
   "cell_type": "code",
   "execution_count": 7,
   "id": "ade546e1",
   "metadata": {
    "execution": {
     "iopub.execute_input": "2021-12-12T11:43:57.383981Z",
     "iopub.status.busy": "2021-12-12T11:43:57.383366Z",
     "iopub.status.idle": "2021-12-12T11:43:57.614632Z",
     "shell.execute_reply": "2021-12-12T11:43:57.614140Z",
     "shell.execute_reply.started": "2021-12-12T10:33:57.302532Z"
    },
    "executionInfo": {
     "elapsed": 2,
     "status": "ok",
     "timestamp": 1629900213421,
     "user": {
      "displayName": "Sasi Kattamanchi",
      "photoUrl": "",
      "userId": "06124919951785490930"
     },
     "user_tz": -330
    },
    "id": "85a55754",
    "papermill": {
     "duration": 0.277992,
     "end_time": "2021-12-12T11:43:57.614796",
     "exception": false,
     "start_time": "2021-12-12T11:43:57.336804",
     "status": "completed"
    },
    "tags": []
   },
   "outputs": [],
   "source": [
    "from torch.utils.tensorboard import SummaryWriter"
   ]
  },
  {
   "cell_type": "code",
   "execution_count": 8,
   "id": "ede3e427",
   "metadata": {
    "execution": {
     "iopub.execute_input": "2021-12-12T11:43:57.744841Z",
     "iopub.status.busy": "2021-12-12T11:43:57.744038Z",
     "iopub.status.idle": "2021-12-12T11:43:57.748987Z",
     "shell.execute_reply": "2021-12-12T11:43:57.749865Z",
     "shell.execute_reply.started": "2021-12-12T10:33:57.625113Z"
    },
    "executionInfo": {
     "elapsed": 3,
     "status": "ok",
     "timestamp": 1629900213956,
     "user": {
      "displayName": "Sasi Kattamanchi",
      "photoUrl": "",
      "userId": "06124919951785490930"
     },
     "user_tz": -330
    },
    "id": "db414605",
    "outputId": "95e38b4c-5976-4563-9a94-ed5346abff71",
    "papermill": {
     "duration": 0.094524,
     "end_time": "2021-12-12T11:43:57.750044",
     "exception": false,
     "start_time": "2021-12-12T11:43:57.655520",
     "status": "completed"
    },
    "tags": []
   },
   "outputs": [
    {
     "name": "stdout",
     "output_type": "stream",
     "text": [
      "Using CUDA device\n"
     ]
    }
   ],
   "source": [
    "device = torch.device('cuda' if torch.cuda.is_available() else 'cpu')\n",
    "print(f'Using {device.type.upper()} device')"
   ]
  },
  {
   "cell_type": "markdown",
   "id": "3e26b2c1",
   "metadata": {
    "id": "885172ba",
    "papermill": {
     "duration": 0.059531,
     "end_time": "2021-12-12T11:43:57.851016",
     "exception": false,
     "start_time": "2021-12-12T11:43:57.791485",
     "status": "completed"
    },
    "tags": []
   },
   "source": [
    "# Data "
   ]
  },
  {
   "cell_type": "code",
   "execution_count": 9,
   "id": "a8399182",
   "metadata": {
    "execution": {
     "iopub.execute_input": "2021-12-12T11:43:58.010026Z",
     "iopub.status.busy": "2021-12-12T11:43:58.008353Z",
     "iopub.status.idle": "2021-12-12T11:44:08.779713Z",
     "shell.execute_reply": "2021-12-12T11:44:08.778992Z",
     "shell.execute_reply.started": "2021-12-12T10:33:57.679616Z"
    },
    "executionInfo": {
     "elapsed": 2,
     "status": "ok",
     "timestamp": 1629900221861,
     "user": {
      "displayName": "Sasi Kattamanchi",
      "photoUrl": "",
      "userId": "06124919951785490930"
     },
     "user_tz": -330
    },
    "id": "4a8d4a56",
    "papermill": {
     "duration": 10.851649,
     "end_time": "2021-12-12T11:44:08.779879",
     "exception": false,
     "start_time": "2021-12-12T11:43:57.928230",
     "status": "completed"
    },
    "tags": []
   },
   "outputs": [
    {
     "name": "stderr",
     "output_type": "stream",
     "text": [
      "training.tar.gz: 100%|██████████| 1.21M/1.21M [00:04<00:00, 300kB/s]\n",
      "validation.tar.gz: 100%|██████████| 46.3k/46.3k [00:00<00:00, 92.5kB/s]\n",
      "mmt16_task1_test.tar.gz: 100%|██████████| 43.9k/43.9k [00:00<00:00, 88.0kB/s]\n"
     ]
    }
   ],
   "source": [
    "train_data, valid_data, test_data = torchtext.datasets.Multi30k()"
   ]
  },
  {
   "cell_type": "code",
   "execution_count": 10,
   "id": "a5031cf3",
   "metadata": {
    "execution": {
     "iopub.execute_input": "2021-12-12T11:44:08.944189Z",
     "iopub.status.busy": "2021-12-12T11:44:08.943312Z",
     "iopub.status.idle": "2021-12-12T11:44:09.068313Z",
     "shell.execute_reply": "2021-12-12T11:44:09.069419Z",
     "shell.execute_reply.started": "2021-12-12T10:34:03.379078Z"
    },
    "executionInfo": {
     "elapsed": 3,
     "status": "ok",
     "timestamp": 1629900222460,
     "user": {
      "displayName": "Sasi Kattamanchi",
      "photoUrl": "",
      "userId": "06124919951785490930"
     },
     "user_tz": -330
    },
    "id": "7fefb08e",
    "papermill": {
     "duration": 0.219387,
     "end_time": "2021-12-12T11:44:09.069650",
     "exception": false,
     "start_time": "2021-12-12T11:44:08.850263",
     "status": "completed"
    },
    "tags": []
   },
   "outputs": [],
   "source": [
    "dataset_train = torchtext.data.to_map_style_dataset(train_data)\n",
    "dataset_test = torchtext.data.to_map_style_dataset(test_data)\n",
    "dataset_valid = torchtext.data.to_map_style_dataset(valid_data)"
   ]
  },
  {
   "cell_type": "code",
   "execution_count": 11,
   "id": "be087527",
   "metadata": {
    "execution": {
     "iopub.execute_input": "2021-12-12T11:44:09.241324Z",
     "iopub.status.busy": "2021-12-12T11:44:09.240278Z",
     "iopub.status.idle": "2021-12-12T11:44:17.682287Z",
     "shell.execute_reply": "2021-12-12T11:44:17.681786Z",
     "shell.execute_reply.started": "2021-12-12T10:34:03.472444Z"
    },
    "executionInfo": {
     "elapsed": 3,
     "status": "ok",
     "timestamp": 1629900222460,
     "user": {
      "displayName": "Sasi Kattamanchi",
      "photoUrl": "",
      "userId": "06124919951785490930"
     },
     "user_tz": -330
    },
    "id": "43f30d9b",
    "papermill": {
     "duration": 8.527861,
     "end_time": "2021-12-12T11:44:17.682423",
     "exception": false,
     "start_time": "2021-12-12T11:44:09.154562",
     "status": "completed"
    },
    "tags": []
   },
   "outputs": [],
   "source": [
    "from spacy.lang.en import English\n",
    "from spacy.lang.de import German"
   ]
  },
  {
   "cell_type": "code",
   "execution_count": 12,
   "id": "45fcf71a",
   "metadata": {
    "execution": {
     "iopub.execute_input": "2021-12-12T11:44:17.783399Z",
     "iopub.status.busy": "2021-12-12T11:44:17.782651Z",
     "iopub.status.idle": "2021-12-12T11:44:17.785305Z",
     "shell.execute_reply": "2021-12-12T11:44:17.784853Z",
     "shell.execute_reply.started": "2021-12-12T10:34:11.821155Z"
    },
    "executionInfo": {
     "elapsed": 399,
     "status": "ok",
     "timestamp": 1629900222857,
     "user": {
      "displayName": "Sasi Kattamanchi",
      "photoUrl": "",
      "userId": "06124919951785490930"
     },
     "user_tz": -330
    },
    "id": "da25fc09",
    "papermill": {
     "duration": 0.054319,
     "end_time": "2021-12-12T11:44:17.785409",
     "exception": false,
     "start_time": "2021-12-12T11:44:17.731090",
     "status": "completed"
    },
    "tags": []
   },
   "outputs": [],
   "source": [
    "SRC = 'German'\n",
    "TRG = 'English'\n",
    "FILE_SUFFIX = 'en-de'\n",
    "SRC_LANG = 'de'\n",
    "TRG_LANG = 'en'"
   ]
  },
  {
   "cell_type": "code",
   "execution_count": 13,
   "id": "6a8bd8c2",
   "metadata": {
    "execution": {
     "iopub.execute_input": "2021-12-12T11:44:17.887682Z",
     "iopub.status.busy": "2021-12-12T11:44:17.886935Z",
     "iopub.status.idle": "2021-12-12T11:44:18.272560Z",
     "shell.execute_reply": "2021-12-12T11:44:18.272037Z",
     "shell.execute_reply.started": "2021-12-12T10:34:11.827182Z"
    },
    "executionInfo": {
     "elapsed": 576,
     "status": "ok",
     "timestamp": 1629900223431,
     "user": {
      "displayName": "Sasi Kattamanchi",
      "photoUrl": "",
      "userId": "06124919951785490930"
     },
     "user_tz": -330
    },
    "id": "4a98a34e",
    "papermill": {
     "duration": 0.439001,
     "end_time": "2021-12-12T11:44:18.272710",
     "exception": false,
     "start_time": "2021-12-12T11:44:17.833709",
     "status": "completed"
    },
    "tags": []
   },
   "outputs": [],
   "source": [
    "nlp_trg = English()\n",
    "nlp_src = German()"
   ]
  },
  {
   "cell_type": "code",
   "execution_count": 14,
   "id": "0bb1a6b1",
   "metadata": {
    "execution": {
     "iopub.execute_input": "2021-12-12T11:44:18.379897Z",
     "iopub.status.busy": "2021-12-12T11:44:18.379003Z",
     "iopub.status.idle": "2021-12-12T11:44:18.380846Z",
     "shell.execute_reply": "2021-12-12T11:44:18.381303Z",
     "shell.execute_reply.started": "2021-12-12T10:34:12.211043Z"
    },
    "executionInfo": {
     "elapsed": 3,
     "status": "ok",
     "timestamp": 1629900223432,
     "user": {
      "displayName": "Sasi Kattamanchi",
      "photoUrl": "",
      "userId": "06124919951785490930"
     },
     "user_tz": -330
    },
    "id": "03b5d54c",
    "papermill": {
     "duration": 0.058597,
     "end_time": "2021-12-12T11:44:18.381441",
     "exception": false,
     "start_time": "2021-12-12T11:44:18.322844",
     "status": "completed"
    },
    "tags": []
   },
   "outputs": [],
   "source": [
    "def tokenizer_trg(text):\n",
    "    return [token.text for token in nlp_trg.tokenizer(text.strip())]\n",
    "def tokenizer_src(text):\n",
    "    return [token.text for token in nlp_src.tokenizer(text.strip())] "
   ]
  },
  {
   "cell_type": "code",
   "execution_count": 15,
   "id": "f5364de2",
   "metadata": {
    "execution": {
     "iopub.execute_input": "2021-12-12T11:44:18.522346Z",
     "iopub.status.busy": "2021-12-12T11:44:18.501619Z",
     "iopub.status.idle": "2021-12-12T11:44:22.245453Z",
     "shell.execute_reply": "2021-12-12T11:44:22.244996Z",
     "shell.execute_reply.started": "2021-12-12T10:34:12.217395Z"
    },
    "executionInfo": {
     "elapsed": 4623,
     "status": "ok",
     "timestamp": 1629900228052,
     "user": {
      "displayName": "Sasi Kattamanchi",
      "photoUrl": "",
      "userId": "06124919951785490930"
     },
     "user_tz": -330
    },
    "id": "a305918d",
    "papermill": {
     "duration": 3.811718,
     "end_time": "2021-12-12T11:44:22.245584",
     "exception": false,
     "start_time": "2021-12-12T11:44:18.433866",
     "status": "completed"
    },
    "tags": []
   },
   "outputs": [],
   "source": [
    "src_train_tokens = []\n",
    "trg_train_tokens = []\n",
    "for a, b in dataset_train:\n",
    "    src_train_tokens.append(tokenizer_src(a))\n",
    "    trg_train_tokens.append(tokenizer_trg(b))"
   ]
  },
  {
   "cell_type": "code",
   "execution_count": 16,
   "id": "00206f26",
   "metadata": {
    "execution": {
     "iopub.execute_input": "2021-12-12T11:44:22.378300Z",
     "iopub.status.busy": "2021-12-12T11:44:22.377356Z",
     "iopub.status.idle": "2021-12-12T11:44:22.379147Z",
     "shell.execute_reply": "2021-12-12T11:44:22.379512Z",
     "shell.execute_reply.started": "2021-12-12T10:34:16.604982Z"
    },
    "executionInfo": {
     "elapsed": 3,
     "status": "ok",
     "timestamp": 1629900228052,
     "user": {
      "displayName": "Sasi Kattamanchi",
      "photoUrl": "",
      "userId": "06124919951785490930"
     },
     "user_tz": -330
    },
    "id": "397fc53e",
    "papermill": {
     "duration": 0.084408,
     "end_time": "2021-12-12T11:44:22.379661",
     "exception": false,
     "start_time": "2021-12-12T11:44:22.295253",
     "status": "completed"
    },
    "tags": []
   },
   "outputs": [],
   "source": [
    "src_train_tokens = list(chain.from_iterable(src_train_tokens))\n",
    "trg_train_tokens = list(chain.from_iterable(trg_train_tokens))"
   ]
  },
  {
   "cell_type": "code",
   "execution_count": 17,
   "id": "51e0e992",
   "metadata": {
    "execution": {
     "iopub.execute_input": "2021-12-12T11:44:22.483984Z",
     "iopub.status.busy": "2021-12-12T11:44:22.483189Z",
     "iopub.status.idle": "2021-12-12T11:44:22.486555Z",
     "shell.execute_reply": "2021-12-12T11:44:22.486047Z",
     "shell.execute_reply.started": "2021-12-12T10:34:16.642909Z"
    },
    "executionInfo": {
     "elapsed": 5,
     "status": "ok",
     "timestamp": 1629900228054,
     "user": {
      "displayName": "Sasi Kattamanchi",
      "photoUrl": "",
      "userId": "06124919951785490930"
     },
     "user_tz": -330
    },
    "id": "e0e0bbf4",
    "papermill": {
     "duration": 0.058642,
     "end_time": "2021-12-12T11:44:22.486663",
     "exception": false,
     "start_time": "2021-12-12T11:44:22.428021",
     "status": "completed"
    },
    "tags": []
   },
   "outputs": [],
   "source": [
    "# Fix bug in torchtext.vocab.build_vocab_from_iterator\n",
    "def build_vocab_from_iterator_N(iterator, min_freq = 1, specials = None, special_first = True):\n",
    "    \"\"\"\n",
    "    Build a Vocab from an iterator.\n",
    "\n",
    "    Args:\n",
    "        iterator: Iterator used to build Vocab. Must yield list or iterator of tokens.\n",
    "        min_freq: The minimum frequency needed to include a token in the vocabulary.\n",
    "        specials: Special symbols to add. The order of supplied tokens will be preserved.\n",
    "        special_first: Indicates whether to insert symbols at the beginning or at the end.\n",
    "\n",
    "\n",
    "    Returns:\n",
    "        torchtext.vocab.Vocab: A `Vocab` object\n",
    "\n",
    "    Examples:\n",
    "        >>> #generating vocab from text file\n",
    "        >>> import io\n",
    "        >>> from torchtext.vocab import build_vocab_from_iterator\n",
    "        >>> def yield_tokens(file_path):\n",
    "        >>>     with io.open(file_path, encoding = 'utf-8') as f:\n",
    "        >>>         for line in f:\n",
    "        >>>             yield line.strip().split()\n",
    "        >>> vocab = build_vocab_from_iterator(yield_tokens_batch(file_path), specials=[\"<unk>\"])\n",
    "    \"\"\"\n",
    "\n",
    "    counter = Counter()\n",
    "    for tokens in iterator:\n",
    "        counter.update([tokens]) # Added brackets. otherwise characters will be updated insted of words\n",
    "\n",
    "    if specials is not None:\n",
    "        for tok in specials:\n",
    "            del counter[tok]\n",
    "\n",
    "    sorted_by_freq_tuples = sorted(counter.items(), key=lambda x: x[0])\n",
    "    sorted_by_freq_tuples.sort(key=lambda x: x[1], reverse=True)\n",
    "    ordered_dict = OrderedDict(sorted_by_freq_tuples)\n",
    "\n",
    "    if specials is not None:\n",
    "        if special_first:\n",
    "            specials = specials[::-1]\n",
    "        for symbol in specials:\n",
    "            ordered_dict.update({symbol: min_freq})\n",
    "            ordered_dict.move_to_end(symbol, last=not special_first)\n",
    "\n",
    "    word_vocab = torchtext.vocab.vocab(ordered_dict, min_freq=min_freq)\n",
    "    return word_vocab"
   ]
  },
  {
   "cell_type": "code",
   "execution_count": 18,
   "id": "50e7a280",
   "metadata": {
    "execution": {
     "iopub.execute_input": "2021-12-12T11:44:22.606018Z",
     "iopub.status.busy": "2021-12-12T11:44:22.596490Z",
     "iopub.status.idle": "2021-12-12T11:44:24.034496Z",
     "shell.execute_reply": "2021-12-12T11:44:24.033961Z",
     "shell.execute_reply.started": "2021-12-12T10:34:16.654522Z"
    },
    "executionInfo": {
     "elapsed": 1978,
     "status": "ok",
     "timestamp": 1629900230028,
     "user": {
      "displayName": "Sasi Kattamanchi",
      "photoUrl": "",
      "userId": "06124919951785490930"
     },
     "user_tz": -330
    },
    "id": "8551b7ec",
    "papermill": {
     "duration": 1.499709,
     "end_time": "2021-12-12T11:44:24.034628",
     "exception": false,
     "start_time": "2021-12-12T11:44:22.534919",
     "status": "completed"
    },
    "tags": []
   },
   "outputs": [],
   "source": [
    "MIN_FREQ = 2\n",
    "vocab_src = build_vocab_from_iterator_N(src_train_tokens, min_freq=MIN_FREQ, specials=['<pad>','<unk>', '<bos>', '<eos>'], special_first=True)\n",
    "vocab_trg = build_vocab_from_iterator_N(trg_train_tokens, min_freq=MIN_FREQ, specials=['<pad>','<unk>', '<bos>', '<eos>'], special_first=True)"
   ]
  },
  {
   "cell_type": "code",
   "execution_count": 19,
   "id": "f48181b0",
   "metadata": {
    "execution": {
     "iopub.execute_input": "2021-12-12T11:44:24.146761Z",
     "iopub.status.busy": "2021-12-12T11:44:24.145749Z",
     "iopub.status.idle": "2021-12-12T11:44:24.147542Z",
     "shell.execute_reply": "2021-12-12T11:44:24.148087Z",
     "shell.execute_reply.started": "2021-12-12T10:34:18.120457Z"
    },
    "executionInfo": {
     "elapsed": 24,
     "status": "ok",
     "timestamp": 1629900230028,
     "user": {
      "displayName": "Sasi Kattamanchi",
      "photoUrl": "",
      "userId": "06124919951785490930"
     },
     "user_tz": -330
    },
    "id": "8e055964",
    "papermill": {
     "duration": 0.060787,
     "end_time": "2021-12-12T11:44:24.148235",
     "exception": false,
     "start_time": "2021-12-12T11:44:24.087448",
     "status": "completed"
    },
    "tags": []
   },
   "outputs": [],
   "source": [
    "vocab_src.set_default_index(vocab_src['<unk>'])\n",
    "vocab_trg.set_default_index(vocab_trg['<unk>'])"
   ]
  },
  {
   "cell_type": "code",
   "execution_count": 20,
   "id": "25dce794",
   "metadata": {
    "execution": {
     "iopub.execute_input": "2021-12-12T11:44:24.257279Z",
     "iopub.status.busy": "2021-12-12T11:44:24.256639Z",
     "iopub.status.idle": "2021-12-12T11:44:24.259561Z",
     "shell.execute_reply": "2021-12-12T11:44:24.259965Z",
     "shell.execute_reply.started": "2021-12-12T10:34:18.126494Z"
    },
    "executionInfo": {
     "elapsed": 22,
     "status": "ok",
     "timestamp": 1629900230029,
     "user": {
      "displayName": "Sasi Kattamanchi",
      "photoUrl": "",
      "userId": "06124919951785490930"
     },
     "user_tz": -330
    },
    "id": "b3dce928",
    "outputId": "594f03db-9538-4d7f-b36d-6d2153727f36",
    "papermill": {
     "duration": 0.060028,
     "end_time": "2021-12-12T11:44:24.260090",
     "exception": false,
     "start_time": "2021-12-12T11:44:24.200062",
     "status": "completed"
    },
    "tags": []
   },
   "outputs": [
    {
     "data": {
      "text/plain": [
       "(8014, 6191)"
      ]
     },
     "execution_count": 20,
     "metadata": {},
     "output_type": "execute_result"
    }
   ],
   "source": [
    "len(vocab_src), len(vocab_trg)"
   ]
  },
  {
   "cell_type": "code",
   "execution_count": 21,
   "id": "860f3484",
   "metadata": {
    "execution": {
     "iopub.execute_input": "2021-12-12T11:44:24.371344Z",
     "iopub.status.busy": "2021-12-12T11:44:24.370558Z",
     "iopub.status.idle": "2021-12-12T11:44:24.373510Z",
     "shell.execute_reply": "2021-12-12T11:44:24.374006Z",
     "shell.execute_reply.started": "2021-12-12T10:34:18.140639Z"
    },
    "executionInfo": {
     "elapsed": 18,
     "status": "ok",
     "timestamp": 1629900230029,
     "user": {
      "displayName": "Sasi Kattamanchi",
      "photoUrl": "",
      "userId": "06124919951785490930"
     },
     "user_tz": -330
    },
    "id": "9fcf1c74",
    "outputId": "08b34909-5d0a-4545-bd3e-ecb279b36ed4",
    "papermill": {
     "duration": 0.063243,
     "end_time": "2021-12-12T11:44:24.374137",
     "exception": false,
     "start_time": "2021-12-12T11:44:24.310894",
     "status": "completed"
    },
    "tags": []
   },
   "outputs": [
    {
     "data": {
      "text/plain": [
       "['Zwei',\n",
       " 'junge',\n",
       " 'weiße',\n",
       " 'Männer',\n",
       " 'sind',\n",
       " 'im',\n",
       " 'Freien',\n",
       " 'in',\n",
       " 'der',\n",
       " 'Nähe',\n",
       " 'vieler',\n",
       " 'Büsche',\n",
       " '.']"
      ]
     },
     "execution_count": 21,
     "metadata": {},
     "output_type": "execute_result"
    }
   ],
   "source": [
    "tokenizer_src(dataset_train[0][0])"
   ]
  },
  {
   "cell_type": "code",
   "execution_count": 22,
   "id": "c9388644",
   "metadata": {
    "execution": {
     "iopub.execute_input": "2021-12-12T11:44:24.489456Z",
     "iopub.status.busy": "2021-12-12T11:44:24.487855Z",
     "iopub.status.idle": "2021-12-12T11:44:24.491489Z",
     "shell.execute_reply": "2021-12-12T11:44:24.492286Z",
     "shell.execute_reply.started": "2021-12-12T10:34:18.151742Z"
    },
    "executionInfo": {
     "elapsed": 15,
     "status": "ok",
     "timestamp": 1629900230030,
     "user": {
      "displayName": "Sasi Kattamanchi",
      "photoUrl": "",
      "userId": "06124919951785490930"
     },
     "user_tz": -330
    },
    "id": "46dbb04b",
    "papermill": {
     "duration": 0.064048,
     "end_time": "2021-12-12T11:44:24.492416",
     "exception": false,
     "start_time": "2021-12-12T11:44:24.428368",
     "status": "completed"
    },
    "tags": []
   },
   "outputs": [],
   "source": [
    "# Function to perform padding\n",
    "\n",
    "# pad_indx = vocab_src.word2indx['<pad>']\n",
    "pad_indx = vocab_src['<pad>']\n",
    "\n",
    "def collate_by_padding(batch):\n",
    "    inputs = [None]*len(batch)\n",
    "    targets = [None]*len(batch)\n",
    "    inputs_len = [None]*len(batch)\n",
    "    targets_len = [None]*len(batch)\n",
    "\n",
    "    for i,(inp, targ) in enumerate(tuple(batch)):\n",
    "        inp = vocab_src(tokenizer_src(inp)+['<eos>'])\n",
    "        targ = vocab_trg(tokenizer_trg(targ)+['<eos>'])\n",
    "        inputs[i] = torch.IntTensor(inp)\n",
    "        targets[i] = torch.IntTensor(targ)\n",
    "        \n",
    "        inputs_len[i] = len(inp)\n",
    "        targets_len[i] = len(targ)\n",
    "        \n",
    "\n",
    "    max_length_inputs = max(inputs_len)\n",
    "    max_length_targets = max(targets_len)\n",
    "    \n",
    "    for i in range(len(batch)):\n",
    "        inputs[i] = torch.cat((inputs[i], torch.IntTensor([pad_indx]*(max_length_inputs - inputs_len[i]))), dim=-1)\n",
    "        targets[i] = torch.cat((targets[i], torch.IntTensor([pad_indx]*(max_length_targets - targets_len[i]))), dim=-1)\n",
    "        \n",
    "    return torch.stack(inputs), torch.stack(targets)\n",
    "    "
   ]
  },
  {
   "cell_type": "code",
   "execution_count": 23,
   "id": "982d4ebf",
   "metadata": {
    "execution": {
     "iopub.execute_input": "2021-12-12T11:44:24.597865Z",
     "iopub.status.busy": "2021-12-12T11:44:24.597136Z",
     "iopub.status.idle": "2021-12-12T11:44:24.599094Z",
     "shell.execute_reply": "2021-12-12T11:44:24.599451Z",
     "shell.execute_reply.started": "2021-12-12T10:34:18.163836Z"
    },
    "executionInfo": {
     "elapsed": 15,
     "status": "ok",
     "timestamp": 1629900230030,
     "user": {
      "displayName": "Sasi Kattamanchi",
      "photoUrl": "",
      "userId": "06124919951785490930"
     },
     "user_tz": -330
    },
    "id": "ea505266",
    "papermill": {
     "duration": 0.056561,
     "end_time": "2021-12-12T11:44:24.599570",
     "exception": false,
     "start_time": "2021-12-12T11:44:24.543009",
     "status": "completed"
    },
    "tags": []
   },
   "outputs": [],
   "source": [
    "BATCH_SIZE = 128\n",
    "SHUFFLE = True\n",
    "DROP_LAST = True\n",
    "dataloader_train  = torch.utils.data.DataLoader(dataset_train, shuffle=SHUFFLE, batch_size=BATCH_SIZE, drop_last=DROP_LAST, collate_fn=collate_by_padding)\n",
    "dataloader_train_e  = torch.utils.data.DataLoader(dataset_train, shuffle=SHUFFLE, batch_size=BATCH_SIZE, drop_last=DROP_LAST, collate_fn=collate_by_padding)\n",
    "dataloader_valid  = torch.utils.data.DataLoader(dataset_valid, shuffle=SHUFFLE, batch_size=BATCH_SIZE, drop_last=DROP_LAST, collate_fn=collate_by_padding)\n",
    "dataloader_test  = torch.utils.data.DataLoader(dataset_test, shuffle=SHUFFLE, batch_size=len(dataset_test), drop_last=DROP_LAST, collate_fn=collate_by_padding)"
   ]
  },
  {
   "cell_type": "code",
   "execution_count": 24,
   "id": "a6e5dfbc",
   "metadata": {
    "execution": {
     "iopub.execute_input": "2021-12-12T11:44:24.703213Z",
     "iopub.status.busy": "2021-12-12T11:44:24.702481Z",
     "iopub.status.idle": "2021-12-12T11:44:24.705347Z",
     "shell.execute_reply": "2021-12-12T11:44:24.705754Z",
     "shell.execute_reply.started": "2021-12-12T10:34:18.174682Z"
    },
    "executionInfo": {
     "elapsed": 15,
     "status": "ok",
     "timestamp": 1629900230031,
     "user": {
      "displayName": "Sasi Kattamanchi",
      "photoUrl": "",
      "userId": "06124919951785490930"
     },
     "user_tz": -330
    },
    "id": "015780ed",
    "outputId": "be352272-7268-4c60-ecf2-6d47547386c0",
    "papermill": {
     "duration": 0.057134,
     "end_time": "2021-12-12T11:44:24.705876",
     "exception": false,
     "start_time": "2021-12-12T11:44:24.648742",
     "status": "completed"
    },
    "tags": []
   },
   "outputs": [
    {
     "data": {
      "text/plain": [
       "(226, 7, 1)"
      ]
     },
     "execution_count": 24,
     "metadata": {},
     "output_type": "execute_result"
    }
   ],
   "source": [
    "len(dataloader_train), len(dataloader_valid), len(dataloader_test)"
   ]
  },
  {
   "cell_type": "code",
   "execution_count": 25,
   "id": "29b5ae1a",
   "metadata": {
    "execution": {
     "iopub.execute_input": "2021-12-12T11:44:24.807590Z",
     "iopub.status.busy": "2021-12-12T11:44:24.806972Z",
     "iopub.status.idle": "2021-12-12T11:44:24.809424Z",
     "shell.execute_reply": "2021-12-12T11:44:24.809932Z",
     "shell.execute_reply.started": "2021-12-12T10:34:18.187857Z"
    },
    "executionInfo": {
     "elapsed": 12,
     "status": "ok",
     "timestamp": 1629900230031,
     "user": {
      "displayName": "Sasi Kattamanchi",
      "photoUrl": "",
      "userId": "06124919951785490930"
     },
     "user_tz": -330
    },
    "id": "d9f91f00",
    "outputId": "d7797099-28a0-4b24-9a2c-ef73095ac9d1",
    "papermill": {
     "duration": 0.055306,
     "end_time": "2021-12-12T11:44:24.810055",
     "exception": false,
     "start_time": "2021-12-12T11:44:24.754749",
     "status": "completed"
    },
    "tags": []
   },
   "outputs": [
    {
     "data": {
      "text/plain": [
       "(8014, 6191)"
      ]
     },
     "execution_count": 25,
     "metadata": {},
     "output_type": "execute_result"
    }
   ],
   "source": [
    "len(vocab_src), len(vocab_trg)"
   ]
  },
  {
   "cell_type": "markdown",
   "id": "0103d834",
   "metadata": {
    "id": "7c21227b",
    "papermill": {
     "duration": 0.048929,
     "end_time": "2021-12-12T11:44:24.908449",
     "exception": false,
     "start_time": "2021-12-12T11:44:24.859520",
     "status": "completed"
    },
    "tags": []
   },
   "source": [
    "# Model"
   ]
  },
  {
   "cell_type": "code",
   "execution_count": 26,
   "id": "93af22bb",
   "metadata": {
    "execution": {
     "iopub.execute_input": "2021-12-12T11:44:25.009454Z",
     "iopub.status.busy": "2021-12-12T11:44:25.008479Z",
     "iopub.status.idle": "2021-12-12T11:44:25.015819Z",
     "shell.execute_reply": "2021-12-12T11:44:25.015368Z",
     "shell.execute_reply.started": "2021-12-12T10:34:18.197728Z"
    },
    "executionInfo": {
     "elapsed": 590,
     "status": "ok",
     "timestamp": 1629900233850,
     "user": {
      "displayName": "Sasi Kattamanchi",
      "photoUrl": "",
      "userId": "06124919951785490930"
     },
     "user_tz": -330
    },
    "id": "f8a4959f",
    "papermill": {
     "duration": 0.058768,
     "end_time": "2021-12-12T11:44:25.015933",
     "exception": false,
     "start_time": "2021-12-12T11:44:24.957165",
     "status": "completed"
    },
    "tags": []
   },
   "outputs": [],
   "source": [
    "class EncoderBlock(nn.Module):\n",
    "    def __init__(self, vocab_size_in, embedding_size, n_hidden, n_layers,dropout_fraction):\n",
    "        super(EncoderBlock, self).__init__()\n",
    "        self.embedding = nn.Embedding(vocab_size_in, embedding_size, padding_idx=pad_indx, scale_grad_by_freq=True)\n",
    "#         self.rnn = nn.LSTM(embedding_size, n_hidden, n_layers, batch_first=True,bidirectional=False, dropout=dropout_fraction)\n",
    "        self.rnn = nn.GRU(embedding_size, n_hidden, n_layers, batch_first=True,bidirectional=False, dropout=dropout_fraction)\n",
    "        self.n_hidden = n_hidden\n",
    "        self.n_layers = n_layers\n",
    "        \n",
    "    def forward(self, inputs, hidden=None): # inputs: B x T_x\n",
    "        emb1 = self.embedding(inputs) # emb1: B x T_x x E\n",
    "        outputs, hidden = self.rnn(emb1, hidden)   # outputs: B x T_x x H_E*2 hidden: 1 x B x H_E*2\n",
    "#         outputs = outputs[:,:,:self.n_hidden]+  outputs[:,:,self.n_hidden:]\n",
    "        return  outputs, hidden #[self.n_layers:,:,:]"
   ]
  },
  {
   "cell_type": "code",
   "execution_count": 27,
   "id": "f65cbfb9",
   "metadata": {
    "execution": {
     "iopub.execute_input": "2021-12-12T11:44:25.130382Z",
     "iopub.status.busy": "2021-12-12T11:44:25.128670Z",
     "iopub.status.idle": "2021-12-12T11:44:25.131052Z",
     "shell.execute_reply": "2021-12-12T11:44:25.131474Z",
     "shell.execute_reply.started": "2021-12-12T10:34:18.208185Z"
    },
    "executionInfo": {
     "elapsed": 2,
     "status": "ok",
     "timestamp": 1629900234509,
     "user": {
      "displayName": "Sasi Kattamanchi",
      "photoUrl": "",
      "userId": "06124919951785490930"
     },
     "user_tz": -330
    },
    "id": "2ad82e69",
    "papermill": {
     "duration": 0.063522,
     "end_time": "2021-12-12T11:44:25.131655",
     "exception": false,
     "start_time": "2021-12-12T11:44:25.068133",
     "status": "completed"
    },
    "tags": []
   },
   "outputs": [],
   "source": [
    "class AttentionBlock(nn.Module):\n",
    "    def __init__(self, n_hidden):\n",
    "        super(AttentionBlock, self).__init__()\n",
    "        self.linear = nn.Linear(n_hidden, n_hidden, bias=False)\n",
    "        self.softmax = nn.Softmax(dim=-1)\n",
    "        self.n_hidden_sqrt_inv = n_hidden**(-0.5)\n",
    "        \n",
    "    def forward(self, decoder_hidden, encoder_hidden_states, mask):\n",
    "#         decoder_hidden_rep = decoder_hidden.expand(-1, encoder_hidden_states.shape[1], -1) # B x T_x x H_D\n",
    "        scores = torch.bmm(decoder_hidden, self.linear(encoder_hidden_states).transpose(1,2))\n",
    "        \n",
    "        scores = mask*scores.squeeze(1)\n",
    "        scores[scores==0] = -1e10 # ignoring pad indices\n",
    "        \n",
    "        attention_weights = self.softmax(scores.squeeze(1)*self.n_hidden_sqrt_inv)        \n",
    "        \n",
    "        return attention_weights"
   ]
  },
  {
   "cell_type": "code",
   "execution_count": 28,
   "id": "c62bf809",
   "metadata": {
    "execution": {
     "iopub.execute_input": "2021-12-12T11:44:25.248926Z",
     "iopub.status.busy": "2021-12-12T11:44:25.248002Z",
     "iopub.status.idle": "2021-12-12T11:44:25.250018Z",
     "shell.execute_reply": "2021-12-12T11:44:25.250445Z",
     "shell.execute_reply.started": "2021-12-12T10:34:18.218376Z"
    },
    "executionInfo": {
     "elapsed": 2,
     "status": "ok",
     "timestamp": 1629900234943,
     "user": {
      "displayName": "Sasi Kattamanchi",
      "photoUrl": "",
      "userId": "06124919951785490930"
     },
     "user_tz": -330
    },
    "id": "5d9bfb12",
    "papermill": {
     "duration": 0.066409,
     "end_time": "2021-12-12T11:44:25.250653",
     "exception": false,
     "start_time": "2021-12-12T11:44:25.184244",
     "status": "completed"
    },
    "tags": []
   },
   "outputs": [],
   "source": [
    "class DecoderAttentionBlock(nn.Module):\n",
    "    def __init__(self, vocab_size_out, embedding_size, n_hidden, n_layers,dropout_fraction):\n",
    "        super(DecoderAttentionBlock, self).__init__()\n",
    "        \n",
    "        self.embedding = nn.Embedding(vocab_size_out, embedding_size, padding_idx=pad_indx, scale_grad_by_freq=True)\n",
    "        self.attention = AttentionBlock(n_hidden)\n",
    "        self.tanh = nn.Tanh()\n",
    "#         self.rnn = nn.LSTM(embedding_size + n_hidden, n_hidden, n_layers, batch_first=True, dropout = dropout_fraction)\n",
    "        self.rnn = nn.GRU(embedding_size, n_hidden, n_layers, batch_first=True, dropout = dropout_fraction)\n",
    "        \n",
    "        self.linear = nn.Linear(n_hidden*2, n_hidden*2, bias=False)\n",
    "        self.fc = nn.Linear(n_hidden*2, vocab_size_out)\n",
    "        \n",
    "        self.lsf = nn.LogSoftmax(dim=-1)\n",
    "\n",
    "    def forward(self, inputs, hidden, enc_hidden_seq, mask): # inputs: B x 1,  hidden: 1 x B x E_D , enc_hidden_seq: B x T_x x H_E*2\n",
    "        \n",
    "        emb1 = self.embedding(inputs) # emb1: B x 1 x E (only one token is input.. the previous output)\n",
    "        outputs, hidden = self.rnn(emb1, hidden)\n",
    "        \n",
    "        attention_weights = self.attention(outputs,enc_hidden_seq, mask) # B x T_x x H_E\n",
    "        \n",
    "        context_vectors = attention_weights.unsqueeze(1).bmm(enc_hidden_seq) # B x H_E x H_D\n",
    "        attention_vector = self.tanh(self.linear(torch.cat((context_vectors, outputs), dim=-1)))\n",
    "#         outputs = self.fc(attention_vector).squeeze(1)\n",
    "        outputs = self.lsf(self.fc(attention_vector).squeeze(1))\n",
    "        # outputs = self.fc(outputs) # use CrossEntropyLoss\n",
    "        \n",
    "        return outputs, hidden, attention_weights "
   ]
  },
  {
   "cell_type": "code",
   "execution_count": 29,
   "id": "ec4dd8ea",
   "metadata": {
    "execution": {
     "iopub.execute_input": "2021-12-12T11:44:25.367664Z",
     "iopub.status.busy": "2021-12-12T11:44:25.366800Z",
     "iopub.status.idle": "2021-12-12T11:44:25.368511Z",
     "shell.execute_reply": "2021-12-12T11:44:25.369011Z",
     "shell.execute_reply.started": "2021-12-12T10:34:18.231696Z"
    },
    "executionInfo": {
     "elapsed": 2,
     "status": "ok",
     "timestamp": 1629900235282,
     "user": {
      "displayName": "Sasi Kattamanchi",
      "photoUrl": "",
      "userId": "06124919951785490930"
     },
     "user_tz": -330
    },
    "id": "32416f84",
    "papermill": {
     "duration": 0.063423,
     "end_time": "2021-12-12T11:44:25.369139",
     "exception": false,
     "start_time": "2021-12-12T11:44:25.305716",
     "status": "completed"
    },
    "tags": []
   },
   "outputs": [],
   "source": [
    "class Seq2Seq(nn.Module):\n",
    "    def __init__(self, vocab_size_in, vocab_size_out,embedding_size, n_hidden, n_layers_enc, n_layers_dec, dropout_fraction,teacher_forcing_fraction=1.0):\n",
    "        super(Seq2Seq, self).__init__()        \n",
    "        self.encoder = EncoderBlock(vocab_size_in, embedding_size, n_hidden, n_layers_enc,dropout_fraction)\n",
    "#         self.decoder = DecoderAttentionBlock(vocab_size_out, embedding_size, n_hidden, n_layers_dec,dropout_fraction)\n",
    "        self.decoder = DecoderAttentionBlock(vocab_size_out, embedding_size, n_hidden, n_layers_dec,dropout_fraction)\n",
    "        self.vocab_size_out = vocab_size_out\n",
    "        self.teacher_forcing_fraction = teacher_forcing_fraction\n",
    "        self.n_layers_dec = n_layers_dec\n",
    "                    \n",
    "        \n",
    "    def forward(self, inputs, outputs, teacher_forcing_fraction=None):\n",
    "        \n",
    "        if teacher_forcing_fraction is None:\n",
    "            teacher_forcing_fraction = self.teacher_forcing_fraction\n",
    "        \n",
    "#         mask = ((inputs.detach()!=0 )*(inputs.detach()!=3) ).long()\n",
    "        mask = ((inputs.detach()!=0 ) ).long()\n",
    "        \n",
    "        encoder_outputs, hidden = self.encoder(inputs)\n",
    "        \n",
    "        start_token = torch.IntTensor([vocab_trg['<sos>']]).expand((inputs.shape[0],1)).to(inputs.device)\n",
    "        decoder_hidden = hidden\n",
    "#         decoder_hidden = None\n",
    "        predictions = torch.zeros((outputs.shape[0],outputs.shape[1], self.vocab_size_out), device=inputs.device)\n",
    "        teacher_targets = outputs.narrow(1, 0, outputs.size(1) - 1)\n",
    "        \n",
    "        decoder_input = start_token\n",
    "        \n",
    "        attention_list = []\n",
    "        \n",
    "        for i in range(outputs.shape[1]):\n",
    "            \n",
    "            out, decoder_hidden, decoder_attn = self.decoder(decoder_input, decoder_hidden, encoder_outputs, mask)\n",
    "            predictions[:,i,:] = out.squeeze(1)\n",
    "            if torch.rand(1).item() < teacher_forcing_fraction:\n",
    "                decoder_input = outputs[:,i].unsqueeze(1)\n",
    "            else:\n",
    "                decoder_input = out.unsqueeze(1).argmax( dim=-1).detach()\n",
    "            attention_list.append(decoder_attn.unsqueeze(2))\n",
    "            \n",
    "        return predictions, torch.cat(tuple(attention_list), dim=2)"
   ]
  },
  {
   "cell_type": "code",
   "execution_count": 30,
   "id": "3e65efca",
   "metadata": {
    "execution": {
     "iopub.execute_input": "2021-12-12T11:44:25.470938Z",
     "iopub.status.busy": "2021-12-12T11:44:25.470241Z",
     "iopub.status.idle": "2021-12-12T11:44:25.472283Z",
     "shell.execute_reply": "2021-12-12T11:44:25.472645Z",
     "shell.execute_reply.started": "2021-12-12T10:34:18.247211Z"
    },
    "executionInfo": {
     "elapsed": 1,
     "status": "ok",
     "timestamp": 1629900236380,
     "user": {
      "displayName": "Sasi Kattamanchi",
      "photoUrl": "",
      "userId": "06124919951785490930"
     },
     "user_tz": -330
    },
    "id": "371e0898",
    "papermill": {
     "duration": 0.055002,
     "end_time": "2021-12-12T11:44:25.472799",
     "exception": false,
     "start_time": "2021-12-12T11:44:25.417797",
     "status": "completed"
    },
    "tags": []
   },
   "outputs": [],
   "source": [
    "VOCAB_SIZE_SRC = len(vocab_src)\n",
    "VOCAB_SIZE_TRG = len(vocab_trg)\n",
    "EMBEDDING_SIZE = 512\n",
    "NUM_HIDDEN_UNITS = 512\n",
    "NUM_RNN_LAYERS_ENC = 4\n",
    "NUM_RNN_LAYERS_DEC = 4\n",
    "DROPOUT_FRACTION = 0\n",
    "TEACHER_FORCING_FRACTION = 0.8"
   ]
  },
  {
   "cell_type": "code",
   "execution_count": 31,
   "id": "bdd42dab",
   "metadata": {
    "execution": {
     "iopub.execute_input": "2021-12-12T11:44:25.576182Z",
     "iopub.status.busy": "2021-12-12T11:44:25.575570Z",
     "iopub.status.idle": "2021-12-12T11:44:25.578092Z",
     "shell.execute_reply": "2021-12-12T11:44:25.578498Z",
     "shell.execute_reply.started": "2021-12-12T10:34:18.258201Z"
    },
    "executionInfo": {
     "elapsed": 593,
     "status": "ok",
     "timestamp": 1629900237589,
     "user": {
      "displayName": "Sasi Kattamanchi",
      "photoUrl": "",
      "userId": "06124919951785490930"
     },
     "user_tz": -330
    },
    "id": "7dd052c7",
    "outputId": "658fdfcb-a304-47f5-d710-b451ebb353a9",
    "papermill": {
     "duration": 0.056899,
     "end_time": "2021-12-12T11:44:25.578619",
     "exception": false,
     "start_time": "2021-12-12T11:44:25.521720",
     "status": "completed"
    },
    "tags": []
   },
   "outputs": [
    {
     "data": {
      "text/plain": [
       "'German_English'"
      ]
     },
     "execution_count": 31,
     "metadata": {},
     "output_type": "execute_result"
    }
   ],
   "source": [
    "suffix = '_'.join([SRC, TRG]) \n",
    "suffix"
   ]
  },
  {
   "cell_type": "code",
   "execution_count": 32,
   "id": "c0722940",
   "metadata": {
    "execution": {
     "iopub.execute_input": "2021-12-12T11:44:25.682260Z",
     "iopub.status.busy": "2021-12-12T11:44:25.681744Z",
     "iopub.status.idle": "2021-12-12T11:44:25.946936Z",
     "shell.execute_reply": "2021-12-12T11:44:25.947531Z",
     "shell.execute_reply.started": "2021-12-12T10:34:18.270960Z"
    },
    "executionInfo": {
     "elapsed": 9,
     "status": "ok",
     "timestamp": 1629900237590,
     "user": {
      "displayName": "Sasi Kattamanchi",
      "photoUrl": "",
      "userId": "06124919951785490930"
     },
     "user_tz": -330
    },
    "id": "a6b8dfb5",
    "outputId": "8743a9ad-e237-4790-c930-9d92a084bc94",
    "papermill": {
     "duration": 0.320112,
     "end_time": "2021-12-12T11:44:25.947751",
     "exception": false,
     "start_time": "2021-12-12T11:44:25.627639",
     "status": "completed"
    },
    "tags": []
   },
   "outputs": [
    {
     "name": "stdout",
     "output_type": "stream",
     "text": [
      "The model has 27.536943M trainable paraeters\n"
     ]
    }
   ],
   "source": [
    "model = Seq2Seq(VOCAB_SIZE_SRC, VOCAB_SIZE_TRG, EMBEDDING_SIZE,NUM_HIDDEN_UNITS, NUM_RNN_LAYERS_ENC, NUM_RNN_LAYERS_DEC, DROPOUT_FRACTION,teacher_forcing_fraction=TEACHER_FORCING_FRACTION)\n",
    "print(f'The model has {sum([torch.numel(par) for par in model.parameters()])/10**6}M trainable paraeters')"
   ]
  },
  {
   "cell_type": "code",
   "execution_count": 33,
   "id": "53def7aa",
   "metadata": {
    "execution": {
     "iopub.execute_input": "2021-12-12T11:44:26.055246Z",
     "iopub.status.busy": "2021-12-12T11:44:26.054568Z",
     "iopub.status.idle": "2021-12-12T11:44:26.057399Z",
     "shell.execute_reply": "2021-12-12T11:44:26.057830Z",
     "shell.execute_reply.started": "2021-12-12T10:34:18.545841Z"
    },
    "executionInfo": {
     "elapsed": 21,
     "status": "ok",
     "timestamp": 1629900243262,
     "user": {
      "displayName": "Sasi Kattamanchi",
      "photoUrl": "",
      "userId": "06124919951785490930"
     },
     "user_tz": -330
    },
    "id": "ad0ab91b",
    "outputId": "51a855c8-8f7a-4860-ce1c-5adb81509fd5",
    "papermill": {
     "duration": 0.058554,
     "end_time": "2021-12-12T11:44:26.057968",
     "exception": false,
     "start_time": "2021-12-12T11:44:25.999414",
     "status": "completed"
    },
    "tags": []
   },
   "outputs": [
    {
     "data": {
      "text/plain": [
       "Seq2Seq(\n",
       "  (encoder): EncoderBlock(\n",
       "    (embedding): Embedding(8014, 512, padding_idx=0, scale_grad_by_freq=True)\n",
       "    (rnn): GRU(512, 512, num_layers=4, batch_first=True)\n",
       "  )\n",
       "  (decoder): DecoderAttentionBlock(\n",
       "    (embedding): Embedding(6191, 512, padding_idx=0, scale_grad_by_freq=True)\n",
       "    (attention): AttentionBlock(\n",
       "      (linear): Linear(in_features=512, out_features=512, bias=False)\n",
       "      (softmax): Softmax(dim=-1)\n",
       "    )\n",
       "    (tanh): Tanh()\n",
       "    (rnn): GRU(512, 512, num_layers=4, batch_first=True)\n",
       "    (linear): Linear(in_features=1024, out_features=1024, bias=False)\n",
       "    (fc): Linear(in_features=1024, out_features=6191, bias=True)\n",
       "    (lsf): LogSoftmax(dim=-1)\n",
       "  )\n",
       ")"
      ]
     },
     "execution_count": 33,
     "metadata": {},
     "output_type": "execute_result"
    }
   ],
   "source": [
    "model"
   ]
  },
  {
   "cell_type": "code",
   "execution_count": 34,
   "id": "661f0392",
   "metadata": {
    "execution": {
     "iopub.execute_input": "2021-12-12T11:44:26.170547Z",
     "iopub.status.busy": "2021-12-12T11:44:26.169990Z",
     "iopub.status.idle": "2021-12-12T11:44:26.173568Z",
     "shell.execute_reply": "2021-12-12T11:44:26.173120Z",
     "shell.execute_reply.started": "2021-12-12T10:34:18.554733Z"
    },
    "executionInfo": {
     "elapsed": 3,
     "status": "ok",
     "timestamp": 1629900246204,
     "user": {
      "displayName": "Sasi Kattamanchi",
      "photoUrl": "",
      "userId": "06124919951785490930"
     },
     "user_tz": -330
    },
    "id": "9017963f",
    "papermill": {
     "duration": 0.062611,
     "end_time": "2021-12-12T11:44:26.173683",
     "exception": false,
     "start_time": "2021-12-12T11:44:26.111072",
     "status": "completed"
    },
    "tags": []
   },
   "outputs": [],
   "source": [
    "# loss_function = nn.CrossEntropyLoss( reduction='mean', ignore_index=pad_indx)    \n",
    "loss_function = nn.NLLLoss(ignore_index=pad_indx)"
   ]
  },
  {
   "cell_type": "code",
   "execution_count": 35,
   "id": "832a2499",
   "metadata": {
    "execution": {
     "iopub.execute_input": "2021-12-12T11:44:26.497570Z",
     "iopub.status.busy": "2021-12-12T11:44:26.496616Z",
     "iopub.status.idle": "2021-12-12T11:44:26.500111Z",
     "shell.execute_reply": "2021-12-12T11:44:26.500499Z",
     "shell.execute_reply.started": "2021-12-12T10:34:18.562061Z"
    },
    "executionInfo": {
     "elapsed": 2,
     "status": "ok",
     "timestamp": 1629900247023,
     "user": {
      "displayName": "Sasi Kattamanchi",
      "photoUrl": "",
      "userId": "06124919951785490930"
     },
     "user_tz": -330
    },
    "id": "0ed459d1",
    "papermill": {
     "duration": 0.272611,
     "end_time": "2021-12-12T11:44:26.500655",
     "exception": false,
     "start_time": "2021-12-12T11:44:26.228044",
     "status": "completed"
    },
    "tags": []
   },
   "outputs": [],
   "source": [
    "\n",
    "gc.collect()\n",
    "torch.cuda.empty_cache()"
   ]
  },
  {
   "cell_type": "code",
   "execution_count": 36,
   "id": "0b548695",
   "metadata": {
    "execution": {
     "iopub.execute_input": "2021-12-12T11:44:26.607794Z",
     "iopub.status.busy": "2021-12-12T11:44:26.607016Z",
     "iopub.status.idle": "2021-12-12T11:44:26.608994Z",
     "shell.execute_reply": "2021-12-12T11:44:26.609408Z",
     "shell.execute_reply.started": "2021-12-12T10:34:18.793365Z"
    },
    "executionInfo": {
     "elapsed": 2,
     "status": "ok",
     "timestamp": 1629900247463,
     "user": {
      "displayName": "Sasi Kattamanchi",
      "photoUrl": "",
      "userId": "06124919951785490930"
     },
     "user_tz": -330
    },
    "id": "696a816c",
    "papermill": {
     "duration": 0.058539,
     "end_time": "2021-12-12T11:44:26.609539",
     "exception": false,
     "start_time": "2021-12-12T11:44:26.551000",
     "status": "completed"
    },
    "tags": []
   },
   "outputs": [],
   "source": [
    "v_t = vocab_trg.get_itos()\n",
    "v_s = vocab_src.get_itos()"
   ]
  },
  {
   "cell_type": "code",
   "execution_count": 37,
   "id": "007b7a69",
   "metadata": {
    "execution": {
     "iopub.execute_input": "2021-12-12T11:44:26.713219Z",
     "iopub.status.busy": "2021-12-12T11:44:26.712448Z",
     "iopub.status.idle": "2021-12-12T11:44:26.714810Z",
     "shell.execute_reply": "2021-12-12T11:44:26.714384Z",
     "shell.execute_reply.started": "2021-12-12T10:34:18.803675Z"
    },
    "executionInfo": {
     "elapsed": 6,
     "status": "ok",
     "timestamp": 1629900248025,
     "user": {
      "displayName": "Sasi Kattamanchi",
      "photoUrl": "",
      "userId": "06124919951785490930"
     },
     "user_tz": -330
    },
    "id": "500ff9d4",
    "papermill": {
     "duration": 0.055724,
     "end_time": "2021-12-12T11:44:26.714925",
     "exception": false,
     "start_time": "2021-12-12T11:44:26.659201",
     "status": "completed"
    },
    "tags": []
   },
   "outputs": [],
   "source": [
    "valid_losses_list = []\n",
    "losses_list=[]"
   ]
  },
  {
   "cell_type": "code",
   "execution_count": 38,
   "id": "3810a4f5",
   "metadata": {
    "execution": {
     "iopub.execute_input": "2021-12-12T11:44:26.817667Z",
     "iopub.status.busy": "2021-12-12T11:44:26.816854Z",
     "iopub.status.idle": "2021-12-12T11:44:26.826670Z",
     "shell.execute_reply": "2021-12-12T11:44:26.826281Z",
     "shell.execute_reply.started": "2021-12-12T10:34:18.813730Z"
    },
    "executionInfo": {
     "elapsed": 6,
     "status": "ok",
     "timestamp": 1629900248632,
     "user": {
      "displayName": "Sasi Kattamanchi",
      "photoUrl": "",
      "userId": "06124919951785490930"
     },
     "user_tz": -330
    },
    "id": "1d2a2c6c",
    "papermill": {
     "duration": 0.062184,
     "end_time": "2021-12-12T11:44:26.826804",
     "exception": false,
     "start_time": "2021-12-12T11:44:26.764620",
     "status": "completed"
    },
    "tags": []
   },
   "outputs": [],
   "source": [
    "def eval(dataloader_valid):\n",
    "    # Eval on validation data\n",
    "    model.eval()\n",
    "    loss_val = 0\n",
    "    \n",
    "    with torch.no_grad():\n",
    "        pred_sentences = []\n",
    "        true_pred_sentences = []\n",
    "        for batch, a in enumerate(dataloader_valid):\n",
    "            inputs = a[0]\n",
    "            targets = a[1]\n",
    "            inputs = inputs.to(device)\n",
    "            targets = targets.to(device)\n",
    "            \n",
    "            # compute predictions\n",
    "            pred,_ = model(inputs, targets, teacher_forcing_fraction=0)\n",
    "            \n",
    "            for row in targets:\n",
    "                true_pred_sentences.append([[v_t[token]  for token in row.tolist() if token is not pad_indx]])\n",
    "            \n",
    "            for row in torch.argmax(pred, dim=-1):\n",
    "                pred_sentences.append([v_t[token]  for token in row.tolist() if token is not pad_indx])\n",
    "            \n",
    "            # compute loss\n",
    "            loss = loss_function(pred.view(-1,pred.shape[-1]), targets.long().view(-1))\n",
    "\n",
    "            # loss\n",
    "            loss_val += loss.item()\n",
    "\n",
    "        loss_val = loss_val/len(dataloader_valid)\n",
    "    try:\n",
    "        bleu_score = torchtext.data.metrics.bleu_score(pred_sentences,true_pred_sentences)\n",
    "    except:\n",
    "        bleu_score = 0.0\n",
    "    model.train()\n",
    "    return loss_val, bleu_score"
   ]
  },
  {
   "cell_type": "code",
   "execution_count": 39,
   "id": "fa63e1ef",
   "metadata": {
    "execution": {
     "iopub.execute_input": "2021-12-12T11:44:26.930059Z",
     "iopub.status.busy": "2021-12-12T11:44:26.929396Z",
     "iopub.status.idle": "2021-12-12T11:44:26.931448Z",
     "shell.execute_reply": "2021-12-12T11:44:26.931859Z",
     "shell.execute_reply.started": "2021-12-12T10:34:18.829026Z"
    },
    "papermill": {
     "duration": 0.055143,
     "end_time": "2021-12-12T11:44:26.931980",
     "exception": false,
     "start_time": "2021-12-12T11:44:26.876837",
     "status": "completed"
    },
    "tags": []
   },
   "outputs": [],
   "source": [
    "CLIP_NORM = 10"
   ]
  },
  {
   "cell_type": "code",
   "execution_count": 40,
   "id": "e140d52b",
   "metadata": {
    "execution": {
     "iopub.execute_input": "2021-12-12T11:44:27.035378Z",
     "iopub.status.busy": "2021-12-12T11:44:27.034565Z",
     "iopub.status.idle": "2021-12-12T11:44:27.043752Z",
     "shell.execute_reply": "2021-12-12T11:44:27.044189Z",
     "shell.execute_reply.started": "2021-12-12T10:34:18.836703Z"
    },
    "papermill": {
     "duration": 0.062488,
     "end_time": "2021-12-12T11:44:27.044320",
     "exception": false,
     "start_time": "2021-12-12T11:44:26.981832",
     "status": "completed"
    },
    "tags": []
   },
   "outputs": [],
   "source": [
    "# Find optimal Learning rate \n",
    "def find_learning_rate(model, dataloader, initial_lr = 1e-5, max_lr = 1e2,  num_lr_finder_steps=100):\n",
    "\n",
    "\n",
    "    # Free memory\n",
    "    gc.collect()\n",
    "    torch.cuda.empty_cache()\n",
    "\n",
    "    # training mode\n",
    "    model.to(device)\n",
    "    model.train()\n",
    "\n",
    "    optimizer = torch.optim.Adam(model.parameters(), lr = initial_lr)\n",
    "    fac= np.exp((1/num_lr_finder_steps)*np.log(max_lr/initial_lr))\n",
    "    scheduler = torch.optim.lr_scheduler.LambdaLR(optimizer,lr_lambda=lambda epoch: fac**(epoch+1))\n",
    "    # scheduler = None\n",
    "    iter_dataloader = iter(dataloader)\n",
    "    lr_list = []\n",
    "    for iteration in trange(num_lr_finder_steps):\n",
    "        \n",
    "        inputs, targets  = next(iter_dataloader)\n",
    "        \n",
    "        inputs = inputs.to(device)\n",
    "        targets = targets.to(device)\n",
    "\n",
    "        # zero gradients\n",
    "        optimizer.zero_grad()\n",
    "\n",
    "        # compute predictions\n",
    "        pred,_  = model(inputs,targets)\n",
    "\n",
    "        # compute loss\n",
    "        loss = loss_function(pred.view(-1,pred.shape[-1]), targets.long().view(-1))\n",
    "\n",
    "        # compute gradients\n",
    "        loss.backward()\n",
    "\n",
    "        # clip gradients\n",
    "        torch.nn.utils.clip_grad_norm_(model.parameters(), CLIP_NORM)\n",
    "\n",
    "        # update params\n",
    "        optimizer.step()\n",
    "        lr_list.append([scheduler.get_last_lr()[0],loss.item() ])\n",
    "\n",
    "        # scheduler step\n",
    "        scheduler.step()\n",
    "\n",
    "    return np.array(lr_list)\n",
    "        "
   ]
  },
  {
   "cell_type": "code",
   "execution_count": 41,
   "id": "0ef3bfb9",
   "metadata": {
    "execution": {
     "iopub.execute_input": "2021-12-12T11:44:27.157483Z",
     "iopub.status.busy": "2021-12-12T11:44:27.156656Z",
     "iopub.status.idle": "2021-12-12T11:44:58.464014Z",
     "shell.execute_reply": "2021-12-12T11:44:58.464442Z",
     "shell.execute_reply.started": "2021-12-12T10:34:18.853022Z"
    },
    "papermill": {
     "duration": 31.367373,
     "end_time": "2021-12-12T11:44:58.464599",
     "exception": false,
     "start_time": "2021-12-12T11:44:27.097226",
     "status": "completed"
    },
    "tags": []
   },
   "outputs": [
    {
     "data": {
      "application/vnd.jupyter.widget-view+json": {
       "model_id": "aa051732746c466f91aa1c74d59787d1",
       "version_major": 2,
       "version_minor": 0
      },
      "text/plain": [
       "  0%|          | 0/100 [00:00<?, ?it/s]"
      ]
     },
     "metadata": {},
     "output_type": "display_data"
    }
   ],
   "source": [
    "model = Seq2Seq(VOCAB_SIZE_SRC, VOCAB_SIZE_TRG, EMBEDDING_SIZE,NUM_HIDDEN_UNITS, NUM_RNN_LAYERS_ENC, NUM_RNN_LAYERS_DEC, DROPOUT_FRACTION,teacher_forcing_fraction=TEACHER_FORCING_FRACTION)\n",
    "lr_list = find_learning_rate(model, dataloader_train, initial_lr=1e-5,max_lr=1.5*1e-2,num_lr_finder_steps=100)"
   ]
  },
  {
   "cell_type": "code",
   "execution_count": 42,
   "id": "6d0cd401",
   "metadata": {
    "execution": {
     "iopub.execute_input": "2021-12-12T11:44:58.575231Z",
     "iopub.status.busy": "2021-12-12T11:44:58.574498Z",
     "iopub.status.idle": "2021-12-12T11:44:59.175838Z",
     "shell.execute_reply": "2021-12-12T11:44:59.175393Z",
     "shell.execute_reply.started": "2021-12-12T10:34:49.739271Z"
    },
    "executionInfo": {
     "elapsed": 415,
     "status": "ok",
     "timestamp": 1629906200445,
     "user": {
      "displayName": "Sasi Kattamanchi",
      "photoUrl": "",
      "userId": "06124919951785490930"
     },
     "user_tz": -330
    },
    "id": "5ec4ce52",
    "outputId": "6afa0283-85f2-4675-abbb-f2ff7b98bb17",
    "papermill": {
     "duration": 0.660386,
     "end_time": "2021-12-12T11:44:59.175965",
     "exception": false,
     "start_time": "2021-12-12T11:44:58.515579",
     "status": "completed"
    },
    "tags": []
   },
   "outputs": [
    {
     "data": {
      "text/plain": [
       "[<matplotlib.lines.Line2D at 0x7f828d8f6b10>]"
      ]
     },
     "execution_count": 42,
     "metadata": {},
     "output_type": "execute_result"
    },
    {
     "data": {
      "image/png": "[encoded data removed]",
      "text/plain": [
       "<Figure size 432x288 with 1 Axes>"
      ]
     },
     "metadata": {
      "needs_background": "light"
     },
     "output_type": "display_data"
    }
   ],
   "source": [
    "plt.semilogx(lr_list[:,0], lr_list[:,1])"
   ]
  },
  {
   "cell_type": "code",
   "execution_count": 43,
   "id": "a600841e",
   "metadata": {
    "execution": {
     "iopub.execute_input": "2021-12-12T11:44:59.282967Z",
     "iopub.status.busy": "2021-12-12T11:44:59.282196Z",
     "iopub.status.idle": "2021-12-12T11:44:59.284160Z",
     "shell.execute_reply": "2021-12-12T11:44:59.284563Z",
     "shell.execute_reply.started": "2021-12-12T10:34:50.354698Z"
    },
    "papermill": {
     "duration": 0.05732,
     "end_time": "2021-12-12T11:44:59.284690",
     "exception": false,
     "start_time": "2021-12-12T11:44:59.227370",
     "status": "completed"
    },
    "tags": []
   },
   "outputs": [],
   "source": [
    "optimal_lr = 1e-3\n"
   ]
  },
  {
   "cell_type": "code",
   "execution_count": 44,
   "id": "71ea03be",
   "metadata": {
    "execution": {
     "iopub.execute_input": "2021-12-12T11:44:59.408082Z",
     "iopub.status.busy": "2021-12-12T11:44:59.407208Z",
     "iopub.status.idle": "2021-12-12T11:44:59.409758Z",
     "shell.execute_reply": "2021-12-12T11:44:59.409263Z",
     "shell.execute_reply.started": "2021-12-12T10:34:50.362511Z"
    },
    "executionInfo": {
     "elapsed": 449,
     "status": "ok",
     "timestamp": 1629906243693,
     "user": {
      "displayName": "Sasi Kattamanchi",
      "photoUrl": "",
      "userId": "06124919951785490930"
     },
     "user_tz": -330
    },
    "id": "643d1e51",
    "papermill": {
     "duration": 0.073702,
     "end_time": "2021-12-12T11:44:59.409874",
     "exception": false,
     "start_time": "2021-12-12T11:44:59.336172",
     "status": "completed"
    },
    "tags": []
   },
   "outputs": [],
   "source": [
    "# Training loop\n",
    "EVAL_INTERVAL = 100 # steps\n",
    "PATIENCE = 10 # eval steps\n",
    "train_losses_list = []\n",
    "val_losses_list = []\n",
    "train_bleu_list = []\n",
    "val_bleu_list = []\n",
    "\n",
    "epochs_since_last_val_best = 0\n",
    "\n",
    "def train(model, num_epochs, lr = 1e-4):\n",
    "    gc.collect()\n",
    "    torch.cuda.empty_cache()\n",
    "\n",
    "    min_valid_loss_until_now = 10**14\n",
    "    min_train_loss_until_now = 10**14\n",
    "    \n",
    "    max_valid_bleu_until_now = 0\n",
    "    epochs_since_last_val_best = 0\n",
    "    \n",
    "    nStep = 0\n",
    "    \n",
    "    try:\n",
    "        optimizer = torch.optim.Adam(model.parameters(), lr=lr)        \n",
    "        scheduler = torch.optim.lr_scheduler.OneCycleLR(optimizer, max_lr=lr, \n",
    "                                                        steps_per_epoch=len(dataloader_train), \n",
    "                                                        epochs=num_epochs, \n",
    "                                                        cycle_momentum=True, \n",
    "                                                        anneal_strategy = 'linear', \n",
    "                                                        three_phase=True, \n",
    "                                                        pct_start=0.4,\n",
    "                                                        div_factor=10.0,\n",
    "                                                        final_div_factor = 1000.0\n",
    "                                                        )\n",
    "        for epoch in tqdm(range(num_epochs), desc= 'Epoch'):\n",
    "            \n",
    "            start = time.time()\n",
    "            model.train()\n",
    "                \n",
    "            hidden = None\n",
    "\n",
    "            loss_accumulated = 0\n",
    "            for batch, a in tqdm(enumerate(dataloader_train), total=len(dataloader_train)):\n",
    "\n",
    "                inputs = a[0]\n",
    "                targets = a[1]\n",
    "                inputs = inputs.to(device)\n",
    "                targets = targets.to(device)\n",
    "\n",
    "                # zero gradients\n",
    "                optimizer.zero_grad()\n",
    "\n",
    "                # compute predictions\n",
    "                pred,_  = model(inputs, targets)\n",
    "                \n",
    "                # compute loss\n",
    "                loss = loss_function(pred.view(-1,pred.shape[-1]), targets.long().view(-1))\n",
    "\n",
    "                # compute gradients\n",
    "                loss.backward()\n",
    "\n",
    "                # clip gradients\n",
    "                torch.nn.utils.clip_grad_norm_(model.parameters(), CLIP_NORM)\n",
    "                # torch.nn.utils.clip_grad_value_(model.parameters(), CLIP_VAL)\n",
    "\n",
    "                # update params\n",
    "                optimizer.step()\n",
    "\n",
    "                # lr scheduler\n",
    "                scheduler.step()\n",
    "\n",
    "                # logging\n",
    "                writer.add_scalar(\"Loss_train_step\", loss.item(), nStep)\n",
    "                \n",
    "                # log histograms of model params\n",
    "#                 if (nStep)%200 ==0:\n",
    "#                     for name,param in model.named_parameters():\n",
    "#                         writer.add_histogram(name, param, -1)\n",
    "#                         writer.add_histogram(name+'_log', torch.log(torch.abs(param)), -1)\n",
    "\n",
    "                if (nStep%EVAL_INTERVAL == 0 ) :\n",
    "                    loss_val, bleu_score_val = eval(dataloader_valid)\n",
    "                    loss_train, bleu_score_train = eval(dataloader_train_e)\n",
    "                    \n",
    "                    print(f'nStep: {nStep}, Val_loss: {loss_val: .2f},Train_loss: {loss_train: .2f}, Val_bleu: {bleu_score_val}, Train_bleu: {bleu_score_train}')\n",
    "                \n",
    "                    writer.add_scalar('loss_val', loss_val,nStep)\n",
    "                    writer.add_scalar('loss_train', loss_train, nStep)\n",
    "                    writer.add_scalar('bleu_score_val', bleu_score_val, nStep)\n",
    "                    writer.add_scalar('bleu_score_train', bleu_score_train, nStep)\n",
    "                    \n",
    "                    train_losses_list.append(loss_train)\n",
    "                    val_losses_list.append(loss_val)\n",
    "                    train_bleu_list.append(bleu_score_train)\n",
    "                    val_bleu_list.append(bleu_score_val)\n",
    "\n",
    "#                     if min_valid_loss_until_now > loss_val:\n",
    "#                         min_valid_loss_until_now = loss_val\n",
    "\n",
    "                    if max_valid_bleu_until_now <= bleu_score_val:\n",
    "                        max_valid_bleu_until_now = bleu_score_val\n",
    "                        torch.save({'epoch': epoch,\n",
    "                                        'model_state_dict': model.state_dict(),\n",
    "                                        'optimizer_state_dict': optimizer.state_dict(),\n",
    "                                        'losses_list': losses_list,\n",
    "                                        },  'Best_Valid_NMT_Attention.pt')\n",
    "\n",
    "                        epochs_since_last_val_best = 0\n",
    "                    else:\n",
    "                        epochs_since_last_val_best += 1\n",
    "                    \n",
    "                nStep +=1\n",
    "\n",
    "                # loss\n",
    "                loss_accumulated += loss.item()\n",
    "\n",
    "\n",
    "        # Do these per epoch\n",
    "            loss_accumulated = loss_accumulated/len(dataloader_train)\n",
    "            losses_list.append(loss_accumulated)\n",
    "\n",
    "#             writer.add_scalar(\"Loss_train\", loss_accumulated, epoch)            \n",
    "            \n",
    "            # Early stopping\n",
    "            if epochs_since_last_val_best >= PATIENCE:\n",
    "                print(\"Early stopping triggered!\")\n",
    "                break\n",
    "            \n",
    "            elapsed = time.time() - start\n",
    "\n",
    "#             print(f'Epoch {epoch} done in {elapsed/60: .2f} minutes. Train_loss: {loss_accumulated: .2f}, Val_loss: {loss_val: .2f}, Val_bleu: {bleu_score_val}')\n",
    "        \n",
    "        torch.save({\n",
    "            'epoch': epoch,\n",
    "            'model_state_dict': model.state_dict(),\n",
    "            'optimizer_state_dict': optimizer.state_dict(),\n",
    "            'losses_list': losses_list,\n",
    "            },  f'NMT_Attention_{epoch+1}_epochs.pt')\n",
    "        \n",
    "        print(\"Training finished. Training loss: \" + str(loss_accumulated) )\n",
    "        writer.flush()\n",
    "        \n",
    "        \n",
    "    except KeyboardInterrupt:\n",
    "        print(\"Keyboard interrupt detected\")\n",
    "        \n",
    "    return model\n",
    "\n"
   ]
  },
  {
   "cell_type": "code",
   "execution_count": 45,
   "id": "6c26de39",
   "metadata": {
    "execution": {
     "iopub.execute_input": "2021-12-12T11:44:59.516667Z",
     "iopub.status.busy": "2021-12-12T11:44:59.515919Z",
     "iopub.status.idle": "2021-12-12T11:44:59.518339Z",
     "shell.execute_reply": "2021-12-12T11:44:59.517916Z",
     "shell.execute_reply.started": "2021-12-12T10:34:50.388008Z"
    },
    "executionInfo": {
     "elapsed": 12,
     "status": "ok",
     "timestamp": 1629906244388,
     "user": {
      "displayName": "Sasi Kattamanchi",
      "photoUrl": "",
      "userId": "06124919951785490930"
     },
     "user_tz": -330
    },
    "id": "a828a287",
    "outputId": "0db1cd37-9710-4706-b852-c7a86354f822",
    "papermill": {
     "duration": 0.057178,
     "end_time": "2021-12-12T11:44:59.518443",
     "exception": false,
     "start_time": "2021-12-12T11:44:59.461265",
     "status": "completed"
    },
    "tags": []
   },
   "outputs": [],
   "source": [
    "# %tensorboard --logdir runs_NMT"
   ]
  },
  {
   "cell_type": "code",
   "execution_count": 46,
   "id": "7bae350d",
   "metadata": {
    "execution": {
     "iopub.execute_input": "2021-12-12T11:44:59.626802Z",
     "iopub.status.busy": "2021-12-12T11:44:59.626029Z",
     "iopub.status.idle": "2021-12-12T12:26:36.538877Z",
     "shell.execute_reply": "2021-12-12T12:26:36.539475Z",
     "shell.execute_reply.started": "2021-12-12T10:34:50.396363Z"
    },
    "executionInfo": {
     "elapsed": 2046071,
     "status": "ok",
     "timestamp": 1629908305085,
     "user": {
      "displayName": "Sasi Kattamanchi",
      "photoUrl": "",
      "userId": "06124919951785490930"
     },
     "user_tz": -330
    },
    "id": "88d21ae4",
    "outputId": "c23613a1-2c1e-4997-f3d1-93783ce60e8e",
    "papermill": {
     "duration": 2496.969127,
     "end_time": "2021-12-12T12:26:36.539677",
     "exception": false,
     "start_time": "2021-12-12T11:44:59.570550",
     "status": "completed"
    },
    "tags": []
   },
   "outputs": [
    {
     "data": {
      "application/vnd.jupyter.widget-view+json": {
       "model_id": "0e87234864884e28bd324ae096c69e50",
       "version_major": 2,
       "version_minor": 0
      },
      "text/plain": [
       "Epoch:   0%|          | 0/20 [00:00<?, ?it/s]"
      ]
     },
     "metadata": {},
     "output_type": "display_data"
    },
    {
     "data": {
      "application/vnd.jupyter.widget-view+json": {
       "model_id": "d9ffaff5e1084a9a9eeb377757aff324",
       "version_major": 2,
       "version_minor": 0
      },
      "text/plain": [
       "  0%|          | 0/226 [00:00<?, ?it/s]"
      ]
     },
     "metadata": {},
     "output_type": "display_data"
    },
    {
     "name": "stdout",
     "output_type": "stream",
     "text": [
      "nStep: 0, Val_loss:  8.72,Train_loss:  8.72, Val_bleu: 0.0, Train_bleu: 0.0\n",
      "nStep: 100, Val_loss:  5.08,Train_loss:  5.13, Val_bleu: 0.0, Train_bleu: 0.0\n",
      "nStep: 200, Val_loss:  4.94,Train_loss:  4.97, Val_bleu: 0.013791302219033241, Train_bleu: 0.013164459727704525\n"
     ]
    },
    {
     "data": {
      "application/vnd.jupyter.widget-view+json": {
       "model_id": "984d4d66413f426d80036ef00a1dcc67",
       "version_major": 2,
       "version_minor": 0
      },
      "text/plain": [
       "  0%|          | 0/226 [00:00<?, ?it/s]"
      ]
     },
     "metadata": {},
     "output_type": "display_data"
    },
    {
     "name": "stdout",
     "output_type": "stream",
     "text": [
      "nStep: 300, Val_loss:  4.92,Train_loss:  4.98, Val_bleu: 0.014960084110498428, Train_bleu: 0.013173973187804222\n",
      "nStep: 400, Val_loss:  5.09,Train_loss:  5.19, Val_bleu: 0.013227307237684727, Train_bleu: 0.012173968367278576\n"
     ]
    },
    {
     "data": {
      "application/vnd.jupyter.widget-view+json": {
       "model_id": "c5ff085e993e4587a6a95858754f87fd",
       "version_major": 2,
       "version_minor": 0
      },
      "text/plain": [
       "  0%|          | 0/226 [00:00<?, ?it/s]"
      ]
     },
     "metadata": {},
     "output_type": "display_data"
    },
    {
     "name": "stdout",
     "output_type": "stream",
     "text": [
      "nStep: 500, Val_loss:  4.89,Train_loss:  4.97, Val_bleu: 0.02028031274676323, Train_bleu: 0.019852733239531517\n",
      "nStep: 600, Val_loss:  5.25,Train_loss:  5.30, Val_bleu: 0.0299516711384058, Train_bleu: 0.02772192284464836\n"
     ]
    },
    {
     "data": {
      "application/vnd.jupyter.widget-view+json": {
       "model_id": "f1068ba5b8f943819043e334c5d80927",
       "version_major": 2,
       "version_minor": 0
      },
      "text/plain": [
       "  0%|          | 0/226 [00:00<?, ?it/s]"
      ]
     },
     "metadata": {},
     "output_type": "display_data"
    },
    {
     "name": "stdout",
     "output_type": "stream",
     "text": [
      "nStep: 700, Val_loss:  4.93,Train_loss:  4.91, Val_bleu: 0.028317661955952644, Train_bleu: 0.02799162268638611\n",
      "nStep: 800, Val_loss:  4.98,Train_loss:  5.02, Val_bleu: 0.03971114754676819, Train_bleu: 0.03864085301756859\n",
      "nStep: 900, Val_loss:  4.80,Train_loss:  4.82, Val_bleu: 0.05070808529853821, Train_bleu: 0.04947058856487274\n"
     ]
    },
    {
     "data": {
      "application/vnd.jupyter.widget-view+json": {
       "model_id": "e65ca02295314022b935f73a5b799381",
       "version_major": 2,
       "version_minor": 0
      },
      "text/plain": [
       "  0%|          | 0/226 [00:00<?, ?it/s]"
      ]
     },
     "metadata": {},
     "output_type": "display_data"
    },
    {
     "name": "stdout",
     "output_type": "stream",
     "text": [
      "nStep: 1000, Val_loss:  4.81,Train_loss:  4.83, Val_bleu: 0.07157367467880249, Train_bleu: 0.07062523812055588\n",
      "nStep: 1100, Val_loss:  4.62,Train_loss:  4.63, Val_bleu: 0.08714306354522705, Train_bleu: 0.08803074061870575\n"
     ]
    },
    {
     "data": {
      "application/vnd.jupyter.widget-view+json": {
       "model_id": "26cddb906fba49749aab14e9ab62ffc0",
       "version_major": 2,
       "version_minor": 0
      },
      "text/plain": [
       "  0%|          | 0/226 [00:00<?, ?it/s]"
      ]
     },
     "metadata": {},
     "output_type": "display_data"
    },
    {
     "name": "stdout",
     "output_type": "stream",
     "text": [
      "nStep: 1200, Val_loss:  4.46,Train_loss:  4.47, Val_bleu: 0.1008714959025383, Train_bleu: 0.10021279752254486\n",
      "nStep: 1300, Val_loss:  4.44,Train_loss:  4.42, Val_bleu: 0.11828838288784027, Train_bleu: 0.11575216799974442\n"
     ]
    },
    {
     "data": {
      "application/vnd.jupyter.widget-view+json": {
       "model_id": "633ad16e79ca47bea702718ab24396c0",
       "version_major": 2,
       "version_minor": 0
      },
      "text/plain": [
       "  0%|          | 0/226 [00:00<?, ?it/s]"
      ]
     },
     "metadata": {},
     "output_type": "display_data"
    },
    {
     "name": "stdout",
     "output_type": "stream",
     "text": [
      "nStep: 1400, Val_loss:  4.45,Train_loss:  4.36, Val_bleu: 0.12651483714580536, Train_bleu: 0.1307094246149063\n",
      "nStep: 1500, Val_loss:  4.41,Train_loss:  4.28, Val_bleu: 0.1389191895723343, Train_bleu: 0.1386955976486206\n"
     ]
    },
    {
     "data": {
      "application/vnd.jupyter.widget-view+json": {
       "model_id": "dd6b9e1c8b124ad09e350c9937e5bbf4",
       "version_major": 2,
       "version_minor": 0
      },
      "text/plain": [
       "  0%|          | 0/226 [00:00<?, ?it/s]"
      ]
     },
     "metadata": {},
     "output_type": "display_data"
    },
    {
     "name": "stdout",
     "output_type": "stream",
     "text": [
      "nStep: 1600, Val_loss:  4.28,Train_loss:  4.16, Val_bleu: 0.1420077383518219, Train_bleu: 0.1465921849012375\n",
      "nStep: 1700, Val_loss:  4.37,Train_loss:  4.14, Val_bleu: 0.14492909610271454, Train_bleu: 0.15911252796649933\n",
      "nStep: 1800, Val_loss:  4.37,Train_loss:  4.14, Val_bleu: 0.14690545201301575, Train_bleu: 0.15782004594802856\n"
     ]
    },
    {
     "data": {
      "application/vnd.jupyter.widget-view+json": {
       "model_id": "f9fb669caaa649b4ab18be2ed1485a5f",
       "version_major": 2,
       "version_minor": 0
      },
      "text/plain": [
       "  0%|          | 0/226 [00:00<?, ?it/s]"
      ]
     },
     "metadata": {},
     "output_type": "display_data"
    },
    {
     "name": "stdout",
     "output_type": "stream",
     "text": [
      "nStep: 1900, Val_loss:  4.36,Train_loss:  4.03, Val_bleu: 0.15053687989711761, Train_bleu: 0.17257657647132874\n",
      "nStep: 2000, Val_loss:  4.37,Train_loss:  3.91, Val_bleu: 0.1557733565568924, Train_bleu: 0.0\n"
     ]
    },
    {
     "data": {
      "application/vnd.jupyter.widget-view+json": {
       "model_id": "98a40652ac644c4c85e3edc48afd3bf1",
       "version_major": 2,
       "version_minor": 0
      },
      "text/plain": [
       "  0%|          | 0/226 [00:00<?, ?it/s]"
      ]
     },
     "metadata": {},
     "output_type": "display_data"
    },
    {
     "name": "stdout",
     "output_type": "stream",
     "text": [
      "nStep: 2100, Val_loss:  4.43,Train_loss:  3.90, Val_bleu: 0.1627618968486786, Train_bleu: 0.19447718560695648\n",
      "nStep: 2200, Val_loss:  4.42,Train_loss:  3.72, Val_bleu: 0.16500236093997955, Train_bleu: 0.20130710303783417\n"
     ]
    },
    {
     "data": {
      "application/vnd.jupyter.widget-view+json": {
       "model_id": "181bfa20f97a499f9d3a102e4a1f3d71",
       "version_major": 2,
       "version_minor": 0
      },
      "text/plain": [
       "  0%|          | 0/226 [00:00<?, ?it/s]"
      ]
     },
     "metadata": {},
     "output_type": "display_data"
    },
    {
     "name": "stdout",
     "output_type": "stream",
     "text": [
      "nStep: 2300, Val_loss:  4.33,Train_loss:  3.63, Val_bleu: 0.16826337575912476, Train_bleu: 0.0\n",
      "nStep: 2400, Val_loss:  4.46,Train_loss:  3.57, Val_bleu: 0.16817820072174072, Train_bleu: 0.2211296707391739\n"
     ]
    },
    {
     "data": {
      "application/vnd.jupyter.widget-view+json": {
       "model_id": "466c8608b5544fe3a67a382af76cdce6",
       "version_major": 2,
       "version_minor": 0
      },
      "text/plain": [
       "  0%|          | 0/226 [00:00<?, ?it/s]"
      ]
     },
     "metadata": {},
     "output_type": "display_data"
    },
    {
     "name": "stdout",
     "output_type": "stream",
     "text": [
      "nStep: 2500, Val_loss:  4.56,Train_loss:  3.54, Val_bleu: 0.16864018142223358, Train_bleu: 0.23049509525299072\n",
      "nStep: 2600, Val_loss:  4.60,Train_loss:  3.37, Val_bleu: 0.16232861578464508, Train_bleu: 0.0\n",
      "nStep: 2700, Val_loss:  4.54,Train_loss:  3.28, Val_bleu: 0.17105674743652344, Train_bleu: 0.0\n"
     ]
    },
    {
     "data": {
      "application/vnd.jupyter.widget-view+json": {
       "model_id": "b34cea77c3b4456bb05fb50e863a72ff",
       "version_major": 2,
       "version_minor": 0
      },
      "text/plain": [
       "  0%|          | 0/226 [00:00<?, ?it/s]"
      ]
     },
     "metadata": {},
     "output_type": "display_data"
    },
    {
     "name": "stdout",
     "output_type": "stream",
     "text": [
      "nStep: 2800, Val_loss:  4.69,Train_loss:  3.24, Val_bleu: 0.17008249461650848, Train_bleu: 0.26603972911834717\n",
      "nStep: 2900, Val_loss:  4.72,Train_loss:  3.07, Val_bleu: 0.1692851483821869, Train_bleu: 0.0\n"
     ]
    },
    {
     "data": {
      "application/vnd.jupyter.widget-view+json": {
       "model_id": "01bc974399a54da39e2aae8aec307c9d",
       "version_major": 2,
       "version_minor": 0
      },
      "text/plain": [
       "  0%|          | 0/226 [00:00<?, ?it/s]"
      ]
     },
     "metadata": {},
     "output_type": "display_data"
    },
    {
     "name": "stdout",
     "output_type": "stream",
     "text": [
      "nStep: 3000, Val_loss:  4.87,Train_loss:  3.03, Val_bleu: 0.17294210195541382, Train_bleu: 0.0\n",
      "nStep: 3100, Val_loss:  4.77,Train_loss:  2.89, Val_bleu: 0.1691948026418686, Train_bleu: 0.0\n"
     ]
    },
    {
     "data": {
      "application/vnd.jupyter.widget-view+json": {
       "model_id": "13a699d745104d79b5a38c99448bc852",
       "version_major": 2,
       "version_minor": 0
      },
      "text/plain": [
       "  0%|          | 0/226 [00:00<?, ?it/s]"
      ]
     },
     "metadata": {},
     "output_type": "display_data"
    },
    {
     "name": "stdout",
     "output_type": "stream",
     "text": [
      "nStep: 3200, Val_loss:  4.89,Train_loss:  2.78, Val_bleu: 0.16244803369045258, Train_bleu: 0.0\n",
      "nStep: 3300, Val_loss:  4.94,Train_loss:  2.61, Val_bleu: 0.16344337165355682, Train_bleu: 0.0\n"
     ]
    },
    {
     "data": {
      "application/vnd.jupyter.widget-view+json": {
       "model_id": "f4a13e79fa814d188b326409473a7a89",
       "version_major": 2,
       "version_minor": 0
      },
      "text/plain": [
       "  0%|          | 0/226 [00:00<?, ?it/s]"
      ]
     },
     "metadata": {},
     "output_type": "display_data"
    },
    {
     "name": "stdout",
     "output_type": "stream",
     "text": [
      "nStep: 3400, Val_loss:  5.02,Train_loss:  2.55, Val_bleu: 0.1682358682155609, Train_bleu: 0.0\n",
      "nStep: 3500, Val_loss:  5.05,Train_loss:  2.48, Val_bleu: 0.18049626052379608, Train_bleu: 0.0\n",
      "nStep: 3600, Val_loss:  5.04,Train_loss:  2.41, Val_bleu: 0.1760161966085434, Train_bleu: 0.0\n"
     ]
    },
    {
     "data": {
      "application/vnd.jupyter.widget-view+json": {
       "model_id": "f832d0b964fa4e81a2022aac3b894c2e",
       "version_major": 2,
       "version_minor": 0
      },
      "text/plain": [
       "  0%|          | 0/226 [00:00<?, ?it/s]"
      ]
     },
     "metadata": {},
     "output_type": "display_data"
    },
    {
     "name": "stdout",
     "output_type": "stream",
     "text": [
      "nStep: 3700, Val_loss:  5.20,Train_loss:  2.35, Val_bleu: 0.17426688969135284, Train_bleu: 0.0\n",
      "nStep: 3800, Val_loss:  5.21,Train_loss:  2.35, Val_bleu: 0.1742597222328186, Train_bleu: 0.0\n"
     ]
    },
    {
     "data": {
      "application/vnd.jupyter.widget-view+json": {
       "model_id": "488857a0d8754c6c8d2bbfd52e349a39",
       "version_major": 2,
       "version_minor": 0
      },
      "text/plain": [
       "  0%|          | 0/226 [00:00<?, ?it/s]"
      ]
     },
     "metadata": {},
     "output_type": "display_data"
    },
    {
     "name": "stdout",
     "output_type": "stream",
     "text": [
      "nStep: 3900, Val_loss:  5.27,Train_loss:  2.30, Val_bleu: 0.16747184097766876, Train_bleu: 0.0\n",
      "nStep: 4000, Val_loss:  5.23,Train_loss:  2.30, Val_bleu: 0.17170438170433044, Train_bleu: 0.0\n"
     ]
    },
    {
     "data": {
      "application/vnd.jupyter.widget-view+json": {
       "model_id": "1dd4222d366247a983ef24b389f21ce7",
       "version_major": 2,
       "version_minor": 0
      },
      "text/plain": [
       "  0%|          | 0/226 [00:00<?, ?it/s]"
      ]
     },
     "metadata": {},
     "output_type": "display_data"
    },
    {
     "name": "stdout",
     "output_type": "stream",
     "text": [
      "nStep: 4100, Val_loss:  5.32,Train_loss:  2.25, Val_bleu: 0.17004269361495972, Train_bleu: 0.0\n",
      "nStep: 4200, Val_loss:  5.36,Train_loss:  2.25, Val_bleu: 0.16986851394176483, Train_bleu: 0.0\n"
     ]
    },
    {
     "data": {
      "application/vnd.jupyter.widget-view+json": {
       "model_id": "1537699c5a334204b2909e65f4387178",
       "version_major": 2,
       "version_minor": 0
      },
      "text/plain": [
       "  0%|          | 0/226 [00:00<?, ?it/s]"
      ]
     },
     "metadata": {},
     "output_type": "display_data"
    },
    {
     "name": "stdout",
     "output_type": "stream",
     "text": [
      "nStep: 4300, Val_loss:  5.35,Train_loss:  2.21, Val_bleu: 0.17224228382110596, Train_bleu: 0.0\n",
      "nStep: 4400, Val_loss:  5.34,Train_loss:  2.21, Val_bleu: 0.1726248562335968, Train_bleu: 0.0\n",
      "nStep: 4500, Val_loss:  5.34,Train_loss:  2.21, Val_bleu: 0.17457802593708038, Train_bleu: 0.0\n",
      "Early stopping triggered!\n",
      "Training finished. Training loss: 0.36522171250750535\n"
     ]
    }
   ],
   "source": [
    "writer = SummaryWriter(log_dir='TensorBoardLogs/NMT')\n",
    "\n",
    "model = Seq2Seq(VOCAB_SIZE_SRC, VOCAB_SIZE_TRG, EMBEDDING_SIZE,NUM_HIDDEN_UNITS, NUM_RNN_LAYERS_ENC, NUM_RNN_LAYERS_DEC, DROPOUT_FRACTION,teacher_forcing_fraction=TEACHER_FORCING_FRACTION)\n",
    "model = model.to('cuda')\n",
    "\n",
    "model = train(model, num_epochs = 20, lr=optimal_lr) "
   ]
  },
  {
   "cell_type": "code",
   "execution_count": 47,
   "id": "c4c18cff",
   "metadata": {
    "execution": {
     "iopub.execute_input": "2021-12-12T12:26:36.766415Z",
     "iopub.status.busy": "2021-12-12T12:26:36.758602Z",
     "iopub.status.idle": "2021-12-12T12:26:36.933204Z",
     "shell.execute_reply": "2021-12-12T12:26:36.933784Z",
     "shell.execute_reply.started": "2021-12-12T11:17:40.020095Z"
    },
    "papermill": {
     "duration": 0.319717,
     "end_time": "2021-12-12T12:26:36.933940",
     "exception": false,
     "start_time": "2021-12-12T12:26:36.614223",
     "status": "completed"
    },
    "tags": []
   },
   "outputs": [
    {
     "data": {
      "text/plain": [
       "[<matplotlib.lines.Line2D at 0x7f828b5cf7d0>]"
      ]
     },
     "execution_count": 47,
     "metadata": {},
     "output_type": "execute_result"
    },
    {
     "data": {
      "image/png": "[encoded data removed]",
      "text/plain": [
       "<Figure size 432x288 with 1 Axes>"
      ]
     },
     "metadata": {
      "needs_background": "light"
     },
     "output_type": "display_data"
    }
   ],
   "source": [
    "plt.plot(train_losses_list)\n",
    "plt.plot(val_losses_list, '--')"
   ]
  },
  {
   "cell_type": "code",
   "execution_count": 48,
   "id": "efa606bc",
   "metadata": {
    "execution": {
     "iopub.execute_input": "2021-12-12T12:26:37.115486Z",
     "iopub.status.busy": "2021-12-12T12:26:37.108126Z",
     "iopub.status.idle": "2021-12-12T12:26:37.297649Z",
     "shell.execute_reply": "2021-12-12T12:26:37.297243Z",
     "shell.execute_reply.started": "2021-12-12T11:17:40.213289Z"
    },
    "papermill": {
     "duration": 0.28951,
     "end_time": "2021-12-12T12:26:37.297807",
     "exception": false,
     "start_time": "2021-12-12T12:26:37.008297",
     "status": "completed"
    },
    "tags": []
   },
   "outputs": [
    {
     "data": {
      "text/plain": [
       "[<matplotlib.lines.Line2D at 0x7f828a5ec710>]"
      ]
     },
     "execution_count": 48,
     "metadata": {},
     "output_type": "execute_result"
    },
    {
     "data": {
      "image/png": "[encoded data removed]",
      "text/plain": [
       "<Figure size 432x288 with 1 Axes>"
      ]
     },
     "metadata": {
      "needs_background": "light"
     },
     "output_type": "display_data"
    }
   ],
   "source": [
    "plt.plot(val_bleu_list, '--')"
   ]
  },
  {
   "cell_type": "code",
   "execution_count": 49,
   "id": "dad9aa73",
   "metadata": {
    "execution": {
     "iopub.execute_input": "2021-12-12T12:26:37.451839Z",
     "iopub.status.busy": "2021-12-12T12:26:37.450791Z",
     "iopub.status.idle": "2021-12-12T12:26:37.730371Z",
     "shell.execute_reply": "2021-12-12T12:26:37.730834Z",
     "shell.execute_reply.started": "2021-12-12T11:17:40.540917Z"
    },
    "executionInfo": {
     "elapsed": 413,
     "status": "ok",
     "timestamp": 1629908519085,
     "user": {
      "displayName": "Sasi Kattamanchi",
      "photoUrl": "",
      "userId": "06124919951785490930"
     },
     "user_tz": -330
    },
    "id": "9109bbed",
    "outputId": "7fd3cbb5-9a0c-4ca6-8cca-1eb78cdbb605",
    "papermill": {
     "duration": 0.358724,
     "end_time": "2021-12-12T12:26:37.730985",
     "exception": false,
     "start_time": "2021-12-12T12:26:37.372261",
     "status": "completed"
    },
    "tags": []
   },
   "outputs": [
    {
     "data": {
      "text/plain": [
       "Seq2Seq(\n",
       "  (encoder): EncoderBlock(\n",
       "    (embedding): Embedding(8014, 512, padding_idx=0, scale_grad_by_freq=True)\n",
       "    (rnn): GRU(512, 512, num_layers=4, batch_first=True)\n",
       "  )\n",
       "  (decoder): DecoderAttentionBlock(\n",
       "    (embedding): Embedding(6191, 512, padding_idx=0, scale_grad_by_freq=True)\n",
       "    (attention): AttentionBlock(\n",
       "      (linear): Linear(in_features=512, out_features=512, bias=False)\n",
       "      (softmax): Softmax(dim=-1)\n",
       "    )\n",
       "    (tanh): Tanh()\n",
       "    (rnn): GRU(512, 512, num_layers=4, batch_first=True)\n",
       "    (linear): Linear(in_features=1024, out_features=1024, bias=False)\n",
       "    (fc): Linear(in_features=1024, out_features=6191, bias=True)\n",
       "    (lsf): LogSoftmax(dim=-1)\n",
       "  )\n",
       ")"
      ]
     },
     "execution_count": 49,
     "metadata": {},
     "output_type": "execute_result"
    }
   ],
   "source": [
    "model.load_state_dict(torch.load('Best_Valid_NMT_Attention.pt')['model_state_dict'])\n",
    "model = model.to('cpu')\n",
    "model.eval()"
   ]
  },
  {
   "cell_type": "code",
   "execution_count": 50,
   "id": "69f3d289",
   "metadata": {
    "execution": {
     "iopub.execute_input": "2021-12-12T12:26:37.890558Z",
     "iopub.status.busy": "2021-12-12T12:26:37.888969Z",
     "iopub.status.idle": "2021-12-12T12:26:37.891202Z",
     "shell.execute_reply": "2021-12-12T12:26:37.891597Z",
     "shell.execute_reply.started": "2021-12-12T11:17:40.919077Z"
    },
    "executionInfo": {
     "elapsed": 2,
     "status": "ok",
     "timestamp": 1629908522084,
     "user": {
      "displayName": "Sasi Kattamanchi",
      "photoUrl": "",
      "userId": "06124919951785490930"
     },
     "user_tz": -330
    },
    "id": "4594cd4a",
    "papermill": {
     "duration": 0.084473,
     "end_time": "2021-12-12T12:26:37.891762",
     "exception": false,
     "start_time": "2021-12-12T12:26:37.807289",
     "status": "completed"
    },
    "tags": []
   },
   "outputs": [],
   "source": [
    "# from googletrans import Translator\n",
    "# translator = Translator()"
   ]
  },
  {
   "cell_type": "code",
   "execution_count": 51,
   "id": "5bfa2e1b",
   "metadata": {
    "execution": {
     "iopub.execute_input": "2021-12-12T12:26:38.056013Z",
     "iopub.status.busy": "2021-12-12T12:26:38.055159Z",
     "iopub.status.idle": "2021-12-12T12:26:41.423658Z",
     "shell.execute_reply": "2021-12-12T12:26:41.424832Z",
     "shell.execute_reply.started": "2021-12-12T11:17:40.930054Z"
    },
    "executionInfo": {
     "elapsed": 832,
     "status": "ok",
     "timestamp": 1629908597022,
     "user": {
      "displayName": "Sasi Kattamanchi",
      "photoUrl": "",
      "userId": "06124919951785490930"
     },
     "user_tz": -330
    },
    "id": "83d5e4af",
    "outputId": "6e3e058a-73d3-488b-f9f2-e6a06ee2aad2",
    "papermill": {
     "duration": 3.45788,
     "end_time": "2021-12-12T12:26:41.425059",
     "exception": false,
     "start_time": "2021-12-12T12:26:37.967179",
     "status": "completed"
    },
    "tags": []
   },
   "outputs": [
    {
     "name": "stdout",
     "output_type": "stream",
     "text": [
      "ind: 639 \n",
      "\n",
      "Source: \n",
      "Ein Mann mit einem schwarzen Hut macht ein Foto auf einer belebten Straße .\n",
      "\n",
      "Original Translation: \n",
      "A man wearing a black hat taking a photo in a busy street .\n",
      "\n",
      "Translation: \n",
      "A man in a black hat is taking a picture on a busy street .\n",
      "-----------------------------------------------------\n",
      "ind: 22 \n",
      "\n",
      "Source: \n",
      "Eine Gruppe von Leuten , die auf Stühlen sitzen .\n",
      "\n",
      "Original Translation: \n",
      "A group of people are sitting in chairs .\n",
      "\n",
      "Translation: \n",
      "A group of people sitting on chairs .\n",
      "-----------------------------------------------------\n",
      "ind: 821 \n",
      "\n",
      "Source: \n",
      "Ein Junge und sein jüngerer Bruder spielen gemeinsam auf einem Spielplatz .\n",
      "\n",
      "Original Translation: \n",
      "A boy and his younger brother playing together at the playground .\n",
      "\n",
      "Translation: \n",
      "A boy and his younger brother playing together on a playground .\n",
      "-----------------------------------------------------\n",
      "ind: 696 \n",
      "\n",
      "Source: \n",
      "Eine Frau isst an einem schönen Tag auf dem Gras .\n",
      "\n",
      "Original Translation: \n",
      "A woman eating in the grass on a beautiful day .\n",
      "\n",
      "Translation: \n",
      "A woman is eating on the grass on a beautiful day . .\n",
      "-----------------------------------------------------\n",
      "ind: 690 \n",
      "\n",
      "Source: \n",
      "Das rote Auto fährt vor den beiden Autos im Hintergrund .\n",
      "\n",
      "Original Translation: \n",
      "The red car is ahead of the two cars in the background .\n",
      "\n",
      "Translation: \n",
      "The red car is going in front of the two cars in the background .\n",
      "-----------------------------------------------------\n"
     ]
    },
    {
     "data": {
      "image/png": "[encoded data removed]",
      "text/plain": [
       "<Figure size 720x720 with 1 Axes>"
      ]
     },
     "metadata": {
      "needs_background": "light"
     },
     "output_type": "display_data"
    },
    {
     "data": {
      "image/png": "[encoded data removed]",
      "text/plain": [
       "<Figure size 720x720 with 1 Axes>"
      ]
     },
     "metadata": {
      "needs_background": "light"
     },
     "output_type": "display_data"
    },
    {
     "data": {
      "image/png": "[encoded data removed]",
      "text/plain": [
       "<Figure size 720x720 with 1 Axes>"
      ]
     },
     "metadata": {
      "needs_background": "light"
     },
     "output_type": "display_data"
    },
    {
     "data": {
      "image/png": "[encoded data removed]",
      "text/plain": [
       "<Figure size 720x720 with 1 Axes>"
      ]
     },
     "metadata": {
      "needs_background": "light"
     },
     "output_type": "display_data"
    },
    {
     "data": {
      "image/png": "[encoded data removed]",
      "text/plain": [
       "<Figure size 720x720 with 1 Axes>"
      ]
     },
     "metadata": {
      "needs_background": "light"
     },
     "output_type": "display_data"
    }
   ],
   "source": [
    "eos_indx = 3\n",
    "bos_indx = 2\n",
    "inputs, targets = next(iter(dataloader_test))\n",
    "for _ in range(5):\n",
    "    \n",
    "    ind = torch.randint(low=0, high=len(inputs), size=(1,)).item()\n",
    "    print(f'ind: {ind} \\n')\n",
    "    src = ' '.join([v_s[token]  for token in inputs[ind,:].tolist() if token not in [pad_indx,bos_indx, eos_indx]])\n",
    "    print('Source: \\n'+ src)\n",
    "    print('\\nOriginal Translation: \\n'+ ' '.join([v_t[token] for token in targets[ind,:].tolist() if token not in [pad_indx,bos_indx, eos_indx]]))\n",
    "    outp,av = model(inputs[ind].unsqueeze(0), targets[ind].unsqueeze(0), teacher_forcing_fraction =0)\n",
    "    pred= torch.argmax(  outp , dim=2).squeeze(0).tolist()\n",
    "    pred_t = ' '.join([v_t[token] for token in pred if token not in [pad_indx,bos_indx, eos_indx]])\n",
    "    print('\\nTranslation: \\n'+pred_t )\n",
    "    # print('\\nTranslation: \\n'+ ' '.join([v_t[token] for token in model.translate(inputs[ind].unsqueeze(0),32).argmax(dim=2).squeeze().tolist()]))\n",
    "    fig, ax = plt.subplots(figsize=[10, 10])\n",
    "    ax.matshow(av.squeeze(0)[0:len(src.split()),0:len(pred_t.split())].detach().numpy(), cmap=plt.get_cmap('Greys'))\n",
    "    xlabels = src.split()\n",
    "    # xlabels= [token+': ' +translator.translate(token).text for token in xlabels]\n",
    "    ylabels = pred_t.split()\n",
    "    x=ax.set_yticks(np.arange(len(src.split())))\n",
    "    x=ax.set_yticklabels(xlabels)\n",
    "    y=ax.set_xticks(np.arange(len(pred_t.split())))\n",
    "    y=ax.set_xticklabels(ylabels,rotation=90)\n",
    "    print('-----------------------------------------------------')"
   ]
  },
  {
   "cell_type": "markdown",
   "id": "903b76ee",
   "metadata": {
    "id": "xoOOnrzIxGJb",
    "papermill": {
     "duration": 0.078576,
     "end_time": "2021-12-12T12:26:41.616106",
     "exception": false,
     "start_time": "2021-12-12T12:26:41.537530",
     "status": "completed"
    },
    "tags": []
   },
   "source": [
    "We haven't even considered beam search to generete translation; just a simple greedy seach translation. The results are still pretty good!"
   ]
  },
  {
   "cell_type": "code",
   "execution_count": null,
   "id": "30f9e4d4",
   "metadata": {
    "id": "5VjyghBmycdW",
    "papermill": {
     "duration": 0.078642,
     "end_time": "2021-12-12T12:26:41.773241",
     "exception": false,
     "start_time": "2021-12-12T12:26:41.694599",
     "status": "completed"
    },
    "tags": []
   },
   "outputs": [],
   "source": []
  }
 ],
 "metadata": {
  "kernelspec": {
   "display_name": "Python 3",
   "language": "python",
   "name": "python3"
  },
  "language_info": {
   "codemirror_mode": {
    "name": "ipython",
    "version": 3
   },
   "file_extension": ".py",
   "mimetype": "text/x-python",
   "name": "python",
   "nbconvert_exporter": "python",
   "pygments_lexer": "ipython3",
   "version": "3.7.12"
  },
  "papermill": {
   "default_parameters": {},
   "duration": 2578.662635,
   "end_time": "2021-12-12T12:26:45.270919",
   "environment_variables": {},
   "exception": null,
   "input_path": "__notebook__.ipynb",
   "output_path": "__notebook__.ipynb",
   "parameters": {},
   "start_time": "2021-12-12T11:43:46.608284",
   "version": "2.3.3"
  },
  "widgets": {
   "application/vnd.jupyter.widget-state+json": {
    "state": {
     "002e5b969f6848c9a28a005176129d24": {
      "model_module": "@jupyter-widgets/controls",
      "model_module_version": "1.5.0",
      "model_name": "HTMLModel",
      "state": {
       "_dom_classes": [],
       "_model_module": "@jupyter-widgets/controls",
       "_model_module_version": "1.5.0",
       "_model_name": "HTMLModel",
       "_view_count": null,
       "_view_module": "@jupyter-widgets/controls",
       "_view_module_version": "1.5.0",
       "_view_name": "HTMLView",
       "description": "",
       "description_tooltip": null,
       "layout": "IPY_MODEL_8e2824622335441394c688241b7de901",
       "placeholder": "​",
       "style": "IPY_MODEL_c3d2d5c44cbf4fd3b62ab04521fcf337",
       "value": "100%"
      }
     },
     "01bc974399a54da39e2aae8aec307c9d": {
      "model_module": "@jupyter-widgets/controls",
      "model_module_version": "1.5.0",
      "model_name": "HBoxModel",
      "state": {
       "_dom_classes": [],
       "_model_module": "@jupyter-widgets/controls",
       "_model_module_version": "1.5.0",
       "_model_name": "HBoxModel",
       "_view_count": null,
       "_view_module": "@jupyter-widgets/controls",
       "_view_module_version": "1.5.0",
       "_view_name": "HBoxView",
       "box_style": "",
       "children": [
        "IPY_MODEL_fb32abe7bbc34f219e998573393f3c1f",
        "IPY_MODEL_6cbfc86db4554b0c83fc8f58faf60672",
        "IPY_MODEL_2b7a05427c4c40c781aaf844973188e3"
       ],
       "layout": "IPY_MODEL_3fe4c584b7e745ebb6d3d2014e1f7865"
      }
     },
     "02b91c2619e14ecbaed0fd75586de7bf": {
      "model_module": "@jupyter-widgets/controls",
      "model_module_version": "1.5.0",
      "model_name": "FloatProgressModel",
      "state": {
       "_dom_classes": [],
       "_model_module": "@jupyter-widgets/controls",
       "_model_module_version": "1.5.0",
       "_model_name": "FloatProgressModel",
       "_view_count": null,
       "_view_module": "@jupyter-widgets/controls",
       "_view_module_version": "1.5.0",
       "_view_name": "ProgressView",
       "bar_style": "success",
       "description": "",
       "description_tooltip": null,
       "layout": "IPY_MODEL_5e212d2b1ce345fbad79fa6e6323b72f",
       "max": 226.0,
       "min": 0.0,
       "orientation": "horizontal",
       "style": "IPY_MODEL_844ac7f2d1c048129f1f3d34cb56131a",
       "value": 226.0
      }
     },
     "0352f1c1f7474ad6bfa841c9202c2974": {
      "model_module": "@jupyter-widgets/controls",
      "model_module_version": "1.5.0",
      "model_name": "ProgressStyleModel",
      "state": {
       "_model_module": "@jupyter-widgets/controls",
       "_model_module_version": "1.5.0",
       "_model_name": "ProgressStyleModel",
       "_view_count": null,
       "_view_module": "@jupyter-widgets/base",
       "_view_module_version": "1.2.0",
       "_view_name": "StyleView",
       "bar_color": null,
       "description_width": ""
      }
     },
     "056056a9db494a8ba76b022d629215d5": {
      "model_module": "@jupyter-widgets/base",
      "model_module_version": "1.2.0",
      "model_name": "LayoutModel",
      "state": {
       "_model_module": "@jupyter-widgets/base",
       "_model_module_version": "1.2.0",
       "_model_name": "LayoutModel",
       "_view_count": null,
       "_view_module": "@jupyter-widgets/base",
       "_view_module_version": "1.2.0",
       "_view_name": "LayoutView",
       "align_content": null,
       "align_items": null,
       "align_self": null,
       "border": null,
       "bottom": null,
       "display": null,
       "flex": null,
       "flex_flow": null,
       "grid_area": null,
       "grid_auto_columns": null,
       "grid_auto_flow": null,
       "grid_auto_rows": null,
       "grid_column": null,
       "grid_gap": null,
       "grid_row": null,
       "grid_template_areas": null,
       "grid_template_columns": null,
       "grid_template_rows": null,
       "height": null,
       "justify_content": null,
       "justify_items": null,
       "left": null,
       "margin": null,
       "max_height": null,
       "max_width": null,
       "min_height": null,
       "min_width": null,
       "object_fit": null,
       "object_position": null,
       "order": null,
       "overflow": null,
       "overflow_x": null,
       "overflow_y": null,
       "padding": null,
       "right": null,
       "top": null,
       "visibility": null,
       "width": null
      }
     },
     "07bc13b4d1564155a1a8f18c3d2a89cc": {
      "model_module": "@jupyter-widgets/controls",
      "model_module_version": "1.5.0",
      "model_name": "ProgressStyleModel",
      "state": {
       "_model_module": "@jupyter-widgets/controls",
       "_model_module_version": "1.5.0",
       "_model_name": "ProgressStyleModel",
       "_view_count": null,
       "_view_module": "@jupyter-widgets/base",
       "_view_module_version": "1.2.0",
       "_view_name": "StyleView",
       "bar_color": null,
       "description_width": ""
      }
     },
     "083f950fc9b345bd83626245f16dc1bf": {
      "model_module": "@jupyter-widgets/base",
      "model_module_version": "1.2.0",
      "model_name": "LayoutModel",
      "state": {
       "_model_module": "@jupyter-widgets/base",
       "_model_module_version": "1.2.0",
       "_model_name": "LayoutModel",
       "_view_count": null,
       "_view_module": "@jupyter-widgets/base",
       "_view_module_version": "1.2.0",
       "_view_name": "LayoutView",
       "align_content": null,
       "align_items": null,
       "align_self": null,
       "border": null,
       "bottom": null,
       "display": null,
       "flex": null,
       "flex_flow": null,
       "grid_area": null,
       "grid_auto_columns": null,
       "grid_auto_flow": null,
       "grid_auto_rows": null,
       "grid_column": null,
       "grid_gap": null,
       "grid_row": null,
       "grid_template_areas": null,
       "grid_template_columns": null,
       "grid_template_rows": null,
       "height": null,
       "justify_content": null,
       "justify_items": null,
       "left": null,
       "margin": null,
       "max_height": null,
       "max_width": null,
       "min_height": null,
       "min_width": null,
       "object_fit": null,
       "object_position": null,
       "order": null,
       "overflow": null,
       "overflow_x": null,
       "overflow_y": null,
       "padding": null,
       "right": null,
       "top": null,
       "visibility": null,
       "width": null
      }
     },
     "09b33209980e416482bc61923a6832a6": {
      "model_module": "@jupyter-widgets/controls",
      "model_module_version": "1.5.0",
      "model_name": "FloatProgressModel",
      "state": {
       "_dom_classes": [],
       "_model_module": "@jupyter-widgets/controls",
       "_model_module_version": "1.5.0",
       "_model_name": "FloatProgressModel",
       "_view_count": null,
       "_view_module": "@jupyter-widgets/controls",
       "_view_module_version": "1.5.0",
       "_view_name": "ProgressView",
       "bar_style": "success",
       "description": "",
       "description_tooltip": null,
       "layout": "IPY_MODEL_855eaf53e27c40cb9cec9e72cb48027b",
       "max": 226.0,
       "min": 0.0,
       "orientation": "horizontal",
       "style": "IPY_MODEL_07bc13b4d1564155a1a8f18c3d2a89cc",
       "value": 226.0
      }
     },
     "0cd6bf43c41340d0bd11d1ef52554bab": {
      "model_module": "@jupyter-widgets/controls",
      "model_module_version": "1.5.0",
      "model_name": "DescriptionStyleModel",
      "state": {
       "_model_module": "@jupyter-widgets/controls",
       "_model_module_version": "1.5.0",
       "_model_name": "DescriptionStyleModel",
       "_view_count": null,
       "_view_module": "@jupyter-widgets/base",
       "_view_module_version": "1.2.0",
       "_view_name": "StyleView",
       "description_width": ""
      }
     },
     "0e87234864884e28bd324ae096c69e50": {
      "model_module": "@jupyter-widgets/controls",
      "model_module_version": "1.5.0",
      "model_name": "HBoxModel",
      "state": {
       "_dom_classes": [],
       "_model_module": "@jupyter-widgets/controls",
       "_model_module_version": "1.5.0",
       "_model_name": "HBoxModel",
       "_view_count": null,
       "_view_module": "@jupyter-widgets/controls",
       "_view_module_version": "1.5.0",
       "_view_name": "HBoxView",
       "box_style": "",
       "children": [
        "IPY_MODEL_17dad0a125fe4192a7b8d71df59dcdf6",
        "IPY_MODEL_173b535e88b0437996a84b0ca1d8e4af",
        "IPY_MODEL_97cdc5ce2dc7420dba8771238695121c"
       ],
       "layout": "IPY_MODEL_f79198a280024bc78811ff7472ae0776"
      }
     },
     "10f335ea16f7437faa4f5e9052cce567": {
      "model_module": "@jupyter-widgets/base",
      "model_module_version": "1.2.0",
      "model_name": "LayoutModel",
      "state": {
       "_model_module": "@jupyter-widgets/base",
       "_model_module_version": "1.2.0",
       "_model_name": "LayoutModel",
       "_view_count": null,
       "_view_module": "@jupyter-widgets/base",
       "_view_module_version": "1.2.0",
       "_view_name": "LayoutView",
       "align_content": null,
       "align_items": null,
       "align_self": null,
       "border": null,
       "bottom": null,
       "display": null,
       "flex": null,
       "flex_flow": null,
       "grid_area": null,
       "grid_auto_columns": null,
       "grid_auto_flow": null,
       "grid_auto_rows": null,
       "grid_column": null,
       "grid_gap": null,
       "grid_row": null,
       "grid_template_areas": null,
       "grid_template_columns": null,
       "grid_template_rows": null,
       "height": null,
       "justify_content": null,
       "justify_items": null,
       "left": null,
       "margin": null,
       "max_height": null,
       "max_width": null,
       "min_height": null,
       "min_width": null,
       "object_fit": null,
       "object_position": null,
       "order": null,
       "overflow": null,
       "overflow_x": null,
       "overflow_y": null,
       "padding": null,
       "right": null,
       "top": null,
       "visibility": null,
       "width": null
      }
     },
     "117556b3422e4751a0c60619d05351c2": {
      "model_module": "@jupyter-widgets/controls",
      "model_module_version": "1.5.0",
      "model_name": "DescriptionStyleModel",
      "state": {
       "_model_module": "@jupyter-widgets/controls",
       "_model_module_version": "1.5.0",
       "_model_name": "DescriptionStyleModel",
       "_view_count": null,
       "_view_module": "@jupyter-widgets/base",
       "_view_module_version": "1.2.0",
       "_view_name": "StyleView",
       "description_width": ""
      }
     },
     "11bfc7f6508a45f7aef8435ac1c5757a": {
      "model_module": "@jupyter-widgets/controls",
      "model_module_version": "1.5.0",
      "model_name": "FloatProgressModel",
      "state": {
       "_dom_classes": [],
       "_model_module": "@jupyter-widgets/controls",
       "_model_module_version": "1.5.0",
       "_model_name": "FloatProgressModel",
       "_view_count": null,
       "_view_module": "@jupyter-widgets/controls",
       "_view_module_version": "1.5.0",
       "_view_name": "ProgressView",
       "bar_style": "success",
       "description": "",
       "description_tooltip": null,
       "layout": "IPY_MODEL_c12c45df896448b1baaf6bc372b6a874",
       "max": 226.0,
       "min": 0.0,
       "orientation": "horizontal",
       "style": "IPY_MODEL_93e315a1d79044c29eb273d3973891b4",
       "value": 226.0
      }
     },
     "13a699d745104d79b5a38c99448bc852": {
      "model_module": "@jupyter-widgets/controls",
      "model_module_version": "1.5.0",
      "model_name": "HBoxModel",
      "state": {
       "_dom_classes": [],
       "_model_module": "@jupyter-widgets/controls",
       "_model_module_version": "1.5.0",
       "_model_name": "HBoxModel",
       "_view_count": null,
       "_view_module": "@jupyter-widgets/controls",
       "_view_module_version": "1.5.0",
       "_view_name": "HBoxView",
       "box_style": "",
       "children": [
        "IPY_MODEL_fb13afe969854e66bae848b1676c0bb9",
        "IPY_MODEL_b4897bfd1a6841bab422d98d9cd3d0ad",
        "IPY_MODEL_bb9ede3dcf1040ba935761aaad5ba7fb"
       ],
       "layout": "IPY_MODEL_056056a9db494a8ba76b022d629215d5"
      }
     },
     "13ca97fb3dc54afdb05db29cba6973bc": {
      "model_module": "@jupyter-widgets/controls",
      "model_module_version": "1.5.0",
      "model_name": "ProgressStyleModel",
      "state": {
       "_model_module": "@jupyter-widgets/controls",
       "_model_module_version": "1.5.0",
       "_model_name": "ProgressStyleModel",
       "_view_count": null,
       "_view_module": "@jupyter-widgets/base",
       "_view_module_version": "1.2.0",
       "_view_name": "StyleView",
       "bar_color": null,
       "description_width": ""
      }
     },
     "145645a4143b4fd6aad44cf5c6fdb96b": {
      "model_module": "@jupyter-widgets/controls",
      "model_module_version": "1.5.0",
      "model_name": "FloatProgressModel",
      "state": {
       "_dom_classes": [],
       "_model_module": "@jupyter-widgets/controls",
       "_model_module_version": "1.5.0",
       "_model_name": "FloatProgressModel",
       "_view_count": null,
       "_view_module": "@jupyter-widgets/controls",
       "_view_module_version": "1.5.0",
       "_view_name": "ProgressView",
       "bar_style": "success",
       "description": "",
       "description_tooltip": null,
       "layout": "IPY_MODEL_6115b575c4634eaabd68baec276f1d8c",
       "max": 226.0,
       "min": 0.0,
       "orientation": "horizontal",
       "style": "IPY_MODEL_7a0397974868434a8e6c6e8aef4b5335",
       "value": 226.0
      }
     },
     "1485a3b00c4e4052932e4a030ca07e60": {
      "model_module": "@jupyter-widgets/base",
      "model_module_version": "1.2.0",
      "model_name": "LayoutModel",
      "state": {
       "_model_module": "@jupyter-widgets/base",
       "_model_module_version": "1.2.0",
       "_model_name": "LayoutModel",
       "_view_count": null,
       "_view_module": "@jupyter-widgets/base",
       "_view_module_version": "1.2.0",
       "_view_name": "LayoutView",
       "align_content": null,
       "align_items": null,
       "align_self": null,
       "border": null,
       "bottom": null,
       "display": null,
       "flex": null,
       "flex_flow": null,
       "grid_area": null,
       "grid_auto_columns": null,
       "grid_auto_flow": null,
       "grid_auto_rows": null,
       "grid_column": null,
       "grid_gap": null,
       "grid_row": null,
       "grid_template_areas": null,
       "grid_template_columns": null,
       "grid_template_rows": null,
       "height": null,
       "justify_content": null,
       "justify_items": null,
       "left": null,
       "margin": null,
       "max_height": null,
       "max_width": null,
       "min_height": null,
       "min_width": null,
       "object_fit": null,
       "object_position": null,
       "order": null,
       "overflow": null,
       "overflow_x": null,
       "overflow_y": null,
       "padding": null,
       "right": null,
       "top": null,
       "visibility": null,
       "width": null
      }
     },
     "1537699c5a334204b2909e65f4387178": {
      "model_module": "@jupyter-widgets/controls",
      "model_module_version": "1.5.0",
      "model_name": "HBoxModel",
      "state": {
       "_dom_classes": [],
       "_model_module": "@jupyter-widgets/controls",
       "_model_module_version": "1.5.0",
       "_model_name": "HBoxModel",
       "_view_count": null,
       "_view_module": "@jupyter-widgets/controls",
       "_view_module_version": "1.5.0",
       "_view_name": "HBoxView",
       "box_style": "",
       "children": [
        "IPY_MODEL_41c3d4437fe94435b6adbdf09e5e0021",
        "IPY_MODEL_b9908427f87a483fa22aae09b2908415",
        "IPY_MODEL_c1d0abc97545491ebdc0f570c452b836"
       ],
       "layout": "IPY_MODEL_1485a3b00c4e4052932e4a030ca07e60"
      }
     },
     "16f094bbfa1c4cf39c19a15566f65cc0": {
      "model_module": "@jupyter-widgets/controls",
      "model_module_version": "1.5.0",
      "model_name": "HTMLModel",
      "state": {
       "_dom_classes": [],
       "_model_module": "@jupyter-widgets/controls",
       "_model_module_version": "1.5.0",
       "_model_name": "HTMLModel",
       "_view_count": null,
       "_view_module": "@jupyter-widgets/controls",
       "_view_module_version": "1.5.0",
       "_view_name": "HTMLView",
       "description": "",
       "description_tooltip": null,
       "layout": "IPY_MODEL_5d75b6e4d60c491887a6aa294b7db565",
       "placeholder": "​",
       "style": "IPY_MODEL_aa28c982f91b4262b339974867d1050e",
       "value": "100%"
      }
     },
     "173b535e88b0437996a84b0ca1d8e4af": {
      "model_module": "@jupyter-widgets/controls",
      "model_module_version": "1.5.0",
      "model_name": "FloatProgressModel",
      "state": {
       "_dom_classes": [],
       "_model_module": "@jupyter-widgets/controls",
       "_model_module_version": "1.5.0",
       "_model_name": "FloatProgressModel",
       "_view_count": null,
       "_view_module": "@jupyter-widgets/controls",
       "_view_module_version": "1.5.0",
       "_view_name": "ProgressView",
       "bar_style": "danger",
       "description": "",
       "description_tooltip": null,
       "layout": "IPY_MODEL_b660086152174114a1b5586587821b6c",
       "max": 20.0,
       "min": 0.0,
       "orientation": "horizontal",
       "style": "IPY_MODEL_83d285a7572d42f39a69964fa7fe84de",
       "value": 19.0
      }
     },
     "17b97a57325748e1bfdcd8a6380f7e68": {
      "model_module": "@jupyter-widgets/base",
      "model_module_version": "1.2.0",
      "model_name": "LayoutModel",
      "state": {
       "_model_module": "@jupyter-widgets/base",
       "_model_module_version": "1.2.0",
       "_model_name": "LayoutModel",
       "_view_count": null,
       "_view_module": "@jupyter-widgets/base",
       "_view_module_version": "1.2.0",
       "_view_name": "LayoutView",
       "align_content": null,
       "align_items": null,
       "align_self": null,
       "border": null,
       "bottom": null,
       "display": null,
       "flex": null,
       "flex_flow": null,
       "grid_area": null,
       "grid_auto_columns": null,
       "grid_auto_flow": null,
       "grid_auto_rows": null,
       "grid_column": null,
       "grid_gap": null,
       "grid_row": null,
       "grid_template_areas": null,
       "grid_template_columns": null,
       "grid_template_rows": null,
       "height": null,
       "justify_content": null,
       "justify_items": null,
       "left": null,
       "margin": null,
       "max_height": null,
       "max_width": null,
       "min_height": null,
       "min_width": null,
       "object_fit": null,
       "object_position": null,
       "order": null,
       "overflow": null,
       "overflow_x": null,
       "overflow_y": null,
       "padding": null,
       "right": null,
       "top": null,
       "visibility": null,
       "width": null
      }
     },
     "17dad0a125fe4192a7b8d71df59dcdf6": {
      "model_module": "@jupyter-widgets/controls",
      "model_module_version": "1.5.0",
      "model_name": "HTMLModel",
      "state": {
       "_dom_classes": [],
       "_model_module": "@jupyter-widgets/controls",
       "_model_module_version": "1.5.0",
       "_model_name": "HTMLModel",
       "_view_count": null,
       "_view_module": "@jupyter-widgets/controls",
       "_view_module_version": "1.5.0",
       "_view_name": "HTMLView",
       "description": "",
       "description_tooltip": null,
       "layout": "IPY_MODEL_be353ff01352426bb60578d32d092895",
       "placeholder": "​",
       "style": "IPY_MODEL_26ae652744434ebf923086d9ac518d2c",
       "value": "Epoch:  95%"
      }
     },
     "181bfa20f97a499f9d3a102e4a1f3d71": {
      "model_module": "@jupyter-widgets/controls",
      "model_module_version": "1.5.0",
      "model_name": "HBoxModel",
      "state": {
       "_dom_classes": [],
       "_model_module": "@jupyter-widgets/controls",
       "_model_module_version": "1.5.0",
       "_model_name": "HBoxModel",
       "_view_count": null,
       "_view_module": "@jupyter-widgets/controls",
       "_view_module_version": "1.5.0",
       "_view_name": "HBoxView",
       "box_style": "",
       "children": [
        "IPY_MODEL_f70b7d7020294afbb01ee01d7fe932c2",
        "IPY_MODEL_8bc3cb41cc1d4a4d82f6fd32eb78fd7e",
        "IPY_MODEL_9a1a5a873b8542eebf2138a71ea3ef48"
       ],
       "layout": "IPY_MODEL_28f1bba4185e4213b0c1d42de72058a8"
      }
     },
     "1aa9660700f4421ab465817be6867300": {
      "model_module": "@jupyter-widgets/controls",
      "model_module_version": "1.5.0",
      "model_name": "ProgressStyleModel",
      "state": {
       "_model_module": "@jupyter-widgets/controls",
       "_model_module_version": "1.5.0",
       "_model_name": "ProgressStyleModel",
       "_view_count": null,
       "_view_module": "@jupyter-widgets/base",
       "_view_module_version": "1.2.0",
       "_view_name": "StyleView",
       "bar_color": null,
       "description_width": ""
      }
     },
     "1dd4222d366247a983ef24b389f21ce7": {
      "model_module": "@jupyter-widgets/controls",
      "model_module_version": "1.5.0",
      "model_name": "HBoxModel",
      "state": {
       "_dom_classes": [],
       "_model_module": "@jupyter-widgets/controls",
       "_model_module_version": "1.5.0",
       "_model_name": "HBoxModel",
       "_view_count": null,
       "_view_module": "@jupyter-widgets/controls",
       "_view_module_version": "1.5.0",
       "_view_name": "HBoxView",
       "box_style": "",
       "children": [
        "IPY_MODEL_4ba9b446aed6491caa6bf00f5806f124",
        "IPY_MODEL_d8d137dca24842df8afc97f38a0b38f5",
        "IPY_MODEL_1f86cf298d564370b8eb28f702b4ca7c"
       ],
       "layout": "IPY_MODEL_7ca9d074946640dfbd7552ef8e5ef510"
      }
     },
     "1e6fe7354da24bebb9a76939b5713b6c": {
      "model_module": "@jupyter-widgets/base",
      "model_module_version": "1.2.0",
      "model_name": "LayoutModel",
      "state": {
       "_model_module": "@jupyter-widgets/base",
       "_model_module_version": "1.2.0",
       "_model_name": "LayoutModel",
       "_view_count": null,
       "_view_module": "@jupyter-widgets/base",
       "_view_module_version": "1.2.0",
       "_view_name": "LayoutView",
       "align_content": null,
       "align_items": null,
       "align_self": null,
       "border": null,
       "bottom": null,
       "display": null,
       "flex": null,
       "flex_flow": null,
       "grid_area": null,
       "grid_auto_columns": null,
       "grid_auto_flow": null,
       "grid_auto_rows": null,
       "grid_column": null,
       "grid_gap": null,
       "grid_row": null,
       "grid_template_areas": null,
       "grid_template_columns": null,
       "grid_template_rows": null,
       "height": null,
       "justify_content": null,
       "justify_items": null,
       "left": null,
       "margin": null,
       "max_height": null,
       "max_width": null,
       "min_height": null,
       "min_width": null,
       "object_fit": null,
       "object_position": null,
       "order": null,
       "overflow": null,
       "overflow_x": null,
       "overflow_y": null,
       "padding": null,
       "right": null,
       "top": null,
       "visibility": null,
       "width": null
      }
     },
     "1e968116503248f5ba9fce8a1fb17047": {
      "model_module": "@jupyter-widgets/controls",
      "model_module_version": "1.5.0",
      "model_name": "HTMLModel",
      "state": {
       "_dom_classes": [],
       "_model_module": "@jupyter-widgets/controls",
       "_model_module_version": "1.5.0",
       "_model_name": "HTMLModel",
       "_view_count": null,
       "_view_module": "@jupyter-widgets/controls",
       "_view_module_version": "1.5.0",
       "_view_name": "HTMLView",
       "description": "",
       "description_tooltip": null,
       "layout": "IPY_MODEL_703f92f861c94c51a5a447f7c80e089a",
       "placeholder": "​",
       "style": "IPY_MODEL_fc55da155b084e9eb952a962536970a1",
       "value": " 226/226 [02:28&lt;00:00,  2.33it/s]"
      }
     },
     "1f24a6a880034c74aa25299e1ee8964c": {
      "model_module": "@jupyter-widgets/base",
      "model_module_version": "1.2.0",
      "model_name": "LayoutModel",
      "state": {
       "_model_module": "@jupyter-widgets/base",
       "_model_module_version": "1.2.0",
       "_model_name": "LayoutModel",
       "_view_count": null,
       "_view_module": "@jupyter-widgets/base",
       "_view_module_version": "1.2.0",
       "_view_name": "LayoutView",
       "align_content": null,
       "align_items": null,
       "align_self": null,
       "border": null,
       "bottom": null,
       "display": null,
       "flex": null,
       "flex_flow": null,
       "grid_area": null,
       "grid_auto_columns": null,
       "grid_auto_flow": null,
       "grid_auto_rows": null,
       "grid_column": null,
       "grid_gap": null,
       "grid_row": null,
       "grid_template_areas": null,
       "grid_template_columns": null,
       "grid_template_rows": null,
       "height": null,
       "justify_content": null,
       "justify_items": null,
       "left": null,
       "margin": null,
       "max_height": null,
       "max_width": null,
       "min_height": null,
       "min_width": null,
       "object_fit": null,
       "object_position": null,
       "order": null,
       "overflow": null,
       "overflow_x": null,
       "overflow_y": null,
       "padding": null,
       "right": null,
       "top": null,
       "visibility": null,
       "width": null
      }
     },
     "1f86cf298d564370b8eb28f702b4ca7c": {
      "model_module": "@jupyter-widgets/controls",
      "model_module_version": "1.5.0",
      "model_name": "HTMLModel",
      "state": {
       "_dom_classes": [],
       "_model_module": "@jupyter-widgets/controls",
       "_model_module_version": "1.5.0",
       "_model_name": "HTMLModel",
       "_view_count": null,
       "_view_module": "@jupyter-widgets/controls",
       "_view_module_version": "1.5.0",
       "_view_name": "HTMLView",
       "description": "",
       "description_tooltip": null,
       "layout": "IPY_MODEL_680ec1f323a242e6978a24a832eacfbf",
       "placeholder": "​",
       "style": "IPY_MODEL_9041eebea41b4177a9a2f7a528dc96a8",
       "value": " 226/226 [02:02&lt;00:00,  4.44it/s]"
      }
     },
     "1fa684d962854cb0a740f2e74eacd417": {
      "model_module": "@jupyter-widgets/controls",
      "model_module_version": "1.5.0",
      "model_name": "DescriptionStyleModel",
      "state": {
       "_model_module": "@jupyter-widgets/controls",
       "_model_module_version": "1.5.0",
       "_model_name": "DescriptionStyleModel",
       "_view_count": null,
       "_view_module": "@jupyter-widgets/base",
       "_view_module_version": "1.2.0",
       "_view_name": "StyleView",
       "description_width": ""
      }
     },
     "203537942ea847ca96ec135968a80dd7": {
      "model_module": "@jupyter-widgets/controls",
      "model_module_version": "1.5.0",
      "model_name": "DescriptionStyleModel",
      "state": {
       "_model_module": "@jupyter-widgets/controls",
       "_model_module_version": "1.5.0",
       "_model_name": "DescriptionStyleModel",
       "_view_count": null,
       "_view_module": "@jupyter-widgets/base",
       "_view_module_version": "1.2.0",
       "_view_name": "StyleView",
       "description_width": ""
      }
     },
     "23219479f62843d79a3d84aacf9ab49f": {
      "model_module": "@jupyter-widgets/base",
      "model_module_version": "1.2.0",
      "model_name": "LayoutModel",
      "state": {
       "_model_module": "@jupyter-widgets/base",
       "_model_module_version": "1.2.0",
       "_model_name": "LayoutModel",
       "_view_count": null,
       "_view_module": "@jupyter-widgets/base",
       "_view_module_version": "1.2.0",
       "_view_name": "LayoutView",
       "align_content": null,
       "align_items": null,
       "align_self": null,
       "border": null,
       "bottom": null,
       "display": null,
       "flex": null,
       "flex_flow": null,
       "grid_area": null,
       "grid_auto_columns": null,
       "grid_auto_flow": null,
       "grid_auto_rows": null,
       "grid_column": null,
       "grid_gap": null,
       "grid_row": null,
       "grid_template_areas": null,
       "grid_template_columns": null,
       "grid_template_rows": null,
       "height": null,
       "justify_content": null,
       "justify_items": null,
       "left": null,
       "margin": null,
       "max_height": null,
       "max_width": null,
       "min_height": null,
       "min_width": null,
       "object_fit": null,
       "object_position": null,
       "order": null,
       "overflow": null,
       "overflow_x": null,
       "overflow_y": null,
       "padding": null,
       "right": null,
       "top": null,
       "visibility": null,
       "width": null
      }
     },
     "2321d26eb1644f70a31a39541c9d4b66": {
      "model_module": "@jupyter-widgets/base",
      "model_module_version": "1.2.0",
      "model_name": "LayoutModel",
      "state": {
       "_model_module": "@jupyter-widgets/base",
       "_model_module_version": "1.2.0",
       "_model_name": "LayoutModel",
       "_view_count": null,
       "_view_module": "@jupyter-widgets/base",
       "_view_module_version": "1.2.0",
       "_view_name": "LayoutView",
       "align_content": null,
       "align_items": null,
       "align_self": null,
       "border": null,
       "bottom": null,
       "display": null,
       "flex": null,
       "flex_flow": null,
       "grid_area": null,
       "grid_auto_columns": null,
       "grid_auto_flow": null,
       "grid_auto_rows": null,
       "grid_column": null,
       "grid_gap": null,
       "grid_row": null,
       "grid_template_areas": null,
       "grid_template_columns": null,
       "grid_template_rows": null,
       "height": null,
       "justify_content": null,
       "justify_items": null,
       "left": null,
       "margin": null,
       "max_height": null,
       "max_width": null,
       "min_height": null,
       "min_width": null,
       "object_fit": null,
       "object_position": null,
       "order": null,
       "overflow": null,
       "overflow_x": null,
       "overflow_y": null,
       "padding": null,
       "right": null,
       "top": null,
       "visibility": null,
       "width": null
      }
     },
     "258550e13411429ba03e22719d2a2018": {
      "model_module": "@jupyter-widgets/base",
      "model_module_version": "1.2.0",
      "model_name": "LayoutModel",
      "state": {
       "_model_module": "@jupyter-widgets/base",
       "_model_module_version": "1.2.0",
       "_model_name": "LayoutModel",
       "_view_count": null,
       "_view_module": "@jupyter-widgets/base",
       "_view_module_version": "1.2.0",
       "_view_name": "LayoutView",
       "align_content": null,
       "align_items": null,
       "align_self": null,
       "border": null,
       "bottom": null,
       "display": null,
       "flex": null,
       "flex_flow": null,
       "grid_area": null,
       "grid_auto_columns": null,
       "grid_auto_flow": null,
       "grid_auto_rows": null,
       "grid_column": null,
       "grid_gap": null,
       "grid_row": null,
       "grid_template_areas": null,
       "grid_template_columns": null,
       "grid_template_rows": null,
       "height": null,
       "justify_content": null,
       "justify_items": null,
       "left": null,
       "margin": null,
       "max_height": null,
       "max_width": null,
       "min_height": null,
       "min_width": null,
       "object_fit": null,
       "object_position": null,
       "order": null,
       "overflow": null,
       "overflow_x": null,
       "overflow_y": null,
       "padding": null,
       "right": null,
       "top": null,
       "visibility": null,
       "width": null
      }
     },
     "26ae652744434ebf923086d9ac518d2c": {
      "model_module": "@jupyter-widgets/controls",
      "model_module_version": "1.5.0",
      "model_name": "DescriptionStyleModel",
      "state": {
       "_model_module": "@jupyter-widgets/controls",
       "_model_module_version": "1.5.0",
       "_model_name": "DescriptionStyleModel",
       "_view_count": null,
       "_view_module": "@jupyter-widgets/base",
       "_view_module_version": "1.2.0",
       "_view_name": "StyleView",
       "description_width": ""
      }
     },
     "26c43e28253e460a8d127ccb49a0de17": {
      "model_module": "@jupyter-widgets/base",
      "model_module_version": "1.2.0",
      "model_name": "LayoutModel",
      "state": {
       "_model_module": "@jupyter-widgets/base",
       "_model_module_version": "1.2.0",
       "_model_name": "LayoutModel",
       "_view_count": null,
       "_view_module": "@jupyter-widgets/base",
       "_view_module_version": "1.2.0",
       "_view_name": "LayoutView",
       "align_content": null,
       "align_items": null,
       "align_self": null,
       "border": null,
       "bottom": null,
       "display": null,
       "flex": null,
       "flex_flow": null,
       "grid_area": null,
       "grid_auto_columns": null,
       "grid_auto_flow": null,
       "grid_auto_rows": null,
       "grid_column": null,
       "grid_gap": null,
       "grid_row": null,
       "grid_template_areas": null,
       "grid_template_columns": null,
       "grid_template_rows": null,
       "height": null,
       "justify_content": null,
       "justify_items": null,
       "left": null,
       "margin": null,
       "max_height": null,
       "max_width": null,
       "min_height": null,
       "min_width": null,
       "object_fit": null,
       "object_position": null,
       "order": null,
       "overflow": null,
       "overflow_x": null,
       "overflow_y": null,
       "padding": null,
       "right": null,
       "top": null,
       "visibility": null,
       "width": null
      }
     },
     "26cddb906fba49749aab14e9ab62ffc0": {
      "model_module": "@jupyter-widgets/controls",
      "model_module_version": "1.5.0",
      "model_name": "HBoxModel",
      "state": {
       "_dom_classes": [],
       "_model_module": "@jupyter-widgets/controls",
       "_model_module_version": "1.5.0",
       "_model_name": "HBoxModel",
       "_view_count": null,
       "_view_module": "@jupyter-widgets/controls",
       "_view_module_version": "1.5.0",
       "_view_name": "HBoxView",
       "box_style": "",
       "children": [
        "IPY_MODEL_329b591443454477979eb7ee13b46519",
        "IPY_MODEL_529b55b19c9e44d1be9cbc33cbacf125",
        "IPY_MODEL_343a78a338f54fda9a4a7130459a5dfb"
       ],
       "layout": "IPY_MODEL_7bda2fa92c534c349d8db2825831a1b2"
      }
     },
     "26f1397e3bc146ff9fbf221787360b96": {
      "model_module": "@jupyter-widgets/base",
      "model_module_version": "1.2.0",
      "model_name": "LayoutModel",
      "state": {
       "_model_module": "@jupyter-widgets/base",
       "_model_module_version": "1.2.0",
       "_model_name": "LayoutModel",
       "_view_count": null,
       "_view_module": "@jupyter-widgets/base",
       "_view_module_version": "1.2.0",
       "_view_name": "LayoutView",
       "align_content": null,
       "align_items": null,
       "align_self": null,
       "border": null,
       "bottom": null,
       "display": null,
       "flex": null,
       "flex_flow": null,
       "grid_area": null,
       "grid_auto_columns": null,
       "grid_auto_flow": null,
       "grid_auto_rows": null,
       "grid_column": null,
       "grid_gap": null,
       "grid_row": null,
       "grid_template_areas": null,
       "grid_template_columns": null,
       "grid_template_rows": null,
       "height": null,
       "justify_content": null,
       "justify_items": null,
       "left": null,
       "margin": null,
       "max_height": null,
       "max_width": null,
       "min_height": null,
       "min_width": null,
       "object_fit": null,
       "object_position": null,
       "order": null,
       "overflow": null,
       "overflow_x": null,
       "overflow_y": null,
       "padding": null,
       "right": null,
       "top": null,
       "visibility": null,
       "width": null
      }
     },
     "2866e2d5dc204de1a8391dddccb1eb2c": {
      "model_module": "@jupyter-widgets/controls",
      "model_module_version": "1.5.0",
      "model_name": "HTMLModel",
      "state": {
       "_dom_classes": [],
       "_model_module": "@jupyter-widgets/controls",
       "_model_module_version": "1.5.0",
       "_model_name": "HTMLModel",
       "_view_count": null,
       "_view_module": "@jupyter-widgets/controls",
       "_view_module_version": "1.5.0",
       "_view_name": "HTMLView",
       "description": "",
       "description_tooltip": null,
       "layout": "IPY_MODEL_2a0bab0b521f4e269bdb1a0e57c95ad9",
       "placeholder": "​",
       "style": "IPY_MODEL_cd30c3df561e4d499aca64a17132a040",
       "value": " 226/226 [02:11&lt;00:00,  5.20it/s]"
      }
     },
     "28a98f2463d9477896ec7f0149152213": {
      "model_module": "@jupyter-widgets/base",
      "model_module_version": "1.2.0",
      "model_name": "LayoutModel",
      "state": {
       "_model_module": "@jupyter-widgets/base",
       "_model_module_version": "1.2.0",
       "_model_name": "LayoutModel",
       "_view_count": null,
       "_view_module": "@jupyter-widgets/base",
       "_view_module_version": "1.2.0",
       "_view_name": "LayoutView",
       "align_content": null,
       "align_items": null,
       "align_self": null,
       "border": null,
       "bottom": null,
       "display": null,
       "flex": null,
       "flex_flow": null,
       "grid_area": null,
       "grid_auto_columns": null,
       "grid_auto_flow": null,
       "grid_auto_rows": null,
       "grid_column": null,
       "grid_gap": null,
       "grid_row": null,
       "grid_template_areas": null,
       "grid_template_columns": null,
       "grid_template_rows": null,
       "height": null,
       "justify_content": null,
       "justify_items": null,
       "left": null,
       "margin": null,
       "max_height": null,
       "max_width": null,
       "min_height": null,
       "min_width": null,
       "object_fit": null,
       "object_position": null,
       "order": null,
       "overflow": null,
       "overflow_x": null,
       "overflow_y": null,
       "padding": null,
       "right": null,
       "top": null,
       "visibility": null,
       "width": null
      }
     },
     "28f1bba4185e4213b0c1d42de72058a8": {
      "model_module": "@jupyter-widgets/base",
      "model_module_version": "1.2.0",
      "model_name": "LayoutModel",
      "state": {
       "_model_module": "@jupyter-widgets/base",
       "_model_module_version": "1.2.0",
       "_model_name": "LayoutModel",
       "_view_count": null,
       "_view_module": "@jupyter-widgets/base",
       "_view_module_version": "1.2.0",
       "_view_name": "LayoutView",
       "align_content": null,
       "align_items": null,
       "align_self": null,
       "border": null,
       "bottom": null,
       "display": null,
       "flex": null,
       "flex_flow": null,
       "grid_area": null,
       "grid_auto_columns": null,
       "grid_auto_flow": null,
       "grid_auto_rows": null,
       "grid_column": null,
       "grid_gap": null,
       "grid_row": null,
       "grid_template_areas": null,
       "grid_template_columns": null,
       "grid_template_rows": null,
       "height": null,
       "justify_content": null,
       "justify_items": null,
       "left": null,
       "margin": null,
       "max_height": null,
       "max_width": null,
       "min_height": null,
       "min_width": null,
       "object_fit": null,
       "object_position": null,
       "order": null,
       "overflow": null,
       "overflow_x": null,
       "overflow_y": null,
       "padding": null,
       "right": null,
       "top": null,
       "visibility": null,
       "width": null
      }
     },
     "293319cdf39b478c845f476c8b5a6b50": {
      "model_module": "@jupyter-widgets/base",
      "model_module_version": "1.2.0",
      "model_name": "LayoutModel",
      "state": {
       "_model_module": "@jupyter-widgets/base",
       "_model_module_version": "1.2.0",
       "_model_name": "LayoutModel",
       "_view_count": null,
       "_view_module": "@jupyter-widgets/base",
       "_view_module_version": "1.2.0",
       "_view_name": "LayoutView",
       "align_content": null,
       "align_items": null,
       "align_self": null,
       "border": null,
       "bottom": null,
       "display": null,
       "flex": null,
       "flex_flow": null,
       "grid_area": null,
       "grid_auto_columns": null,
       "grid_auto_flow": null,
       "grid_auto_rows": null,
       "grid_column": null,
       "grid_gap": null,
       "grid_row": null,
       "grid_template_areas": null,
       "grid_template_columns": null,
       "grid_template_rows": null,
       "height": null,
       "justify_content": null,
       "justify_items": null,
       "left": null,
       "margin": null,
       "max_height": null,
       "max_width": null,
       "min_height": null,
       "min_width": null,
       "object_fit": null,
       "object_position": null,
       "order": null,
       "overflow": null,
       "overflow_x": null,
       "overflow_y": null,
       "padding": null,
       "right": null,
       "top": null,
       "visibility": null,
       "width": null
      }
     },
     "298ea7acad4a4d75b66492aa486bd7c7": {
      "model_module": "@jupyter-widgets/base",
      "model_module_version": "1.2.0",
      "model_name": "LayoutModel",
      "state": {
       "_model_module": "@jupyter-widgets/base",
       "_model_module_version": "1.2.0",
       "_model_name": "LayoutModel",
       "_view_count": null,
       "_view_module": "@jupyter-widgets/base",
       "_view_module_version": "1.2.0",
       "_view_name": "LayoutView",
       "align_content": null,
       "align_items": null,
       "align_self": null,
       "border": null,
       "bottom": null,
       "display": null,
       "flex": null,
       "flex_flow": null,
       "grid_area": null,
       "grid_auto_columns": null,
       "grid_auto_flow": null,
       "grid_auto_rows": null,
       "grid_column": null,
       "grid_gap": null,
       "grid_row": null,
       "grid_template_areas": null,
       "grid_template_columns": null,
       "grid_template_rows": null,
       "height": null,
       "justify_content": null,
       "justify_items": null,
       "left": null,
       "margin": null,
       "max_height": null,
       "max_width": null,
       "min_height": null,
       "min_width": null,
       "object_fit": null,
       "object_position": null,
       "order": null,
       "overflow": null,
       "overflow_x": null,
       "overflow_y": null,
       "padding": null,
       "right": null,
       "top": null,
       "visibility": null,
       "width": null
      }
     },
     "2a0bab0b521f4e269bdb1a0e57c95ad9": {
      "model_module": "@jupyter-widgets/base",
      "model_module_version": "1.2.0",
      "model_name": "LayoutModel",
      "state": {
       "_model_module": "@jupyter-widgets/base",
       "_model_module_version": "1.2.0",
       "_model_name": "LayoutModel",
       "_view_count": null,
       "_view_module": "@jupyter-widgets/base",
       "_view_module_version": "1.2.0",
       "_view_name": "LayoutView",
       "align_content": null,
       "align_items": null,
       "align_self": null,
       "border": null,
       "bottom": null,
       "display": null,
       "flex": null,
       "flex_flow": null,
       "grid_area": null,
       "grid_auto_columns": null,
       "grid_auto_flow": null,
       "grid_auto_rows": null,
       "grid_column": null,
       "grid_gap": null,
       "grid_row": null,
       "grid_template_areas": null,
       "grid_template_columns": null,
       "grid_template_rows": null,
       "height": null,
       "justify_content": null,
       "justify_items": null,
       "left": null,
       "margin": null,
       "max_height": null,
       "max_width": null,
       "min_height": null,
       "min_width": null,
       "object_fit": null,
       "object_position": null,
       "order": null,
       "overflow": null,
       "overflow_x": null,
       "overflow_y": null,
       "padding": null,
       "right": null,
       "top": null,
       "visibility": null,
       "width": null
      }
     },
     "2b7a05427c4c40c781aaf844973188e3": {
      "model_module": "@jupyter-widgets/controls",
      "model_module_version": "1.5.0",
      "model_name": "HTMLModel",
      "state": {
       "_dom_classes": [],
       "_model_module": "@jupyter-widgets/controls",
       "_model_module_version": "1.5.0",
       "_model_name": "HTMLModel",
       "_view_count": null,
       "_view_module": "@jupyter-widgets/controls",
       "_view_module_version": "1.5.0",
       "_view_name": "HTMLView",
       "description": "",
       "description_tooltip": null,
       "layout": "IPY_MODEL_258550e13411429ba03e22719d2a2018",
       "placeholder": "​",
       "style": "IPY_MODEL_84d75b59281247cca5e31d05f8ca1bb6",
       "value": " 226/226 [01:23&lt;00:00,  5.28it/s]"
      }
     },
     "2c53f68b7856499892a0d5f830bf44d4": {
      "model_module": "@jupyter-widgets/controls",
      "model_module_version": "1.5.0",
      "model_name": "FloatProgressModel",
      "state": {
       "_dom_classes": [],
       "_model_module": "@jupyter-widgets/controls",
       "_model_module_version": "1.5.0",
       "_model_name": "FloatProgressModel",
       "_view_count": null,
       "_view_module": "@jupyter-widgets/controls",
       "_view_module_version": "1.5.0",
       "_view_name": "ProgressView",
       "bar_style": "success",
       "description": "",
       "description_tooltip": null,
       "layout": "IPY_MODEL_bda1ae93fe3248109eaa7a4e99f36bc1",
       "max": 226.0,
       "min": 0.0,
       "orientation": "horizontal",
       "style": "IPY_MODEL_7f6d95c79bd7434bb4e8b61f9cbfa98c",
       "value": 226.0
      }
     },
     "2c677a394959445abf654828af9c5789": {
      "model_module": "@jupyter-widgets/controls",
      "model_module_version": "1.5.0",
      "model_name": "HTMLModel",
      "state": {
       "_dom_classes": [],
       "_model_module": "@jupyter-widgets/controls",
       "_model_module_version": "1.5.0",
       "_model_name": "HTMLModel",
       "_view_count": null,
       "_view_module": "@jupyter-widgets/controls",
       "_view_module_version": "1.5.0",
       "_view_name": "HTMLView",
       "description": "",
       "description_tooltip": null,
       "layout": "IPY_MODEL_b7f7d4b76bde4654afeb093c88eb7207",
       "placeholder": "​",
       "style": "IPY_MODEL_783c76f7d7134a61baeecdea02405200",
       "value": "100%"
      }
     },
     "2d21e09a09e34e8a9e7dba21d46b3642": {
      "model_module": "@jupyter-widgets/base",
      "model_module_version": "1.2.0",
      "model_name": "LayoutModel",
      "state": {
       "_model_module": "@jupyter-widgets/base",
       "_model_module_version": "1.2.0",
       "_model_name": "LayoutModel",
       "_view_count": null,
       "_view_module": "@jupyter-widgets/base",
       "_view_module_version": "1.2.0",
       "_view_name": "LayoutView",
       "align_content": null,
       "align_items": null,
       "align_self": null,
       "border": null,
       "bottom": null,
       "display": null,
       "flex": null,
       "flex_flow": null,
       "grid_area": null,
       "grid_auto_columns": null,
       "grid_auto_flow": null,
       "grid_auto_rows": null,
       "grid_column": null,
       "grid_gap": null,
       "grid_row": null,
       "grid_template_areas": null,
       "grid_template_columns": null,
       "grid_template_rows": null,
       "height": null,
       "justify_content": null,
       "justify_items": null,
       "left": null,
       "margin": null,
       "max_height": null,
       "max_width": null,
       "min_height": null,
       "min_width": null,
       "object_fit": null,
       "object_position": null,
       "order": null,
       "overflow": null,
       "overflow_x": null,
       "overflow_y": null,
       "padding": null,
       "right": null,
       "top": null,
       "visibility": null,
       "width": null
      }
     },
     "2dbcb36c0ffc4db08bdbf5ce4a109845": {
      "model_module": "@jupyter-widgets/controls",
      "model_module_version": "1.5.0",
      "model_name": "HTMLModel",
      "state": {
       "_dom_classes": [],
       "_model_module": "@jupyter-widgets/controls",
       "_model_module_version": "1.5.0",
       "_model_name": "HTMLModel",
       "_view_count": null,
       "_view_module": "@jupyter-widgets/controls",
       "_view_module_version": "1.5.0",
       "_view_name": "HTMLView",
       "description": "",
       "description_tooltip": null,
       "layout": "IPY_MODEL_083f950fc9b345bd83626245f16dc1bf",
       "placeholder": "​",
       "style": "IPY_MODEL_d8769d3a3ca74748b925b5e4c46c14c7",
       "value": "100%"
      }
     },
     "2f60dbf9cd994849a9e00fdbc234c4df": {
      "model_module": "@jupyter-widgets/base",
      "model_module_version": "1.2.0",
      "model_name": "LayoutModel",
      "state": {
       "_model_module": "@jupyter-widgets/base",
       "_model_module_version": "1.2.0",
       "_model_name": "LayoutModel",
       "_view_count": null,
       "_view_module": "@jupyter-widgets/base",
       "_view_module_version": "1.2.0",
       "_view_name": "LayoutView",
       "align_content": null,
       "align_items": null,
       "align_self": null,
       "border": null,
       "bottom": null,
       "display": null,
       "flex": null,
       "flex_flow": null,
       "grid_area": null,
       "grid_auto_columns": null,
       "grid_auto_flow": null,
       "grid_auto_rows": null,
       "grid_column": null,
       "grid_gap": null,
       "grid_row": null,
       "grid_template_areas": null,
       "grid_template_columns": null,
       "grid_template_rows": null,
       "height": null,
       "justify_content": null,
       "justify_items": null,
       "left": null,
       "margin": null,
       "max_height": null,
       "max_width": null,
       "min_height": null,
       "min_width": null,
       "object_fit": null,
       "object_position": null,
       "order": null,
       "overflow": null,
       "overflow_x": null,
       "overflow_y": null,
       "padding": null,
       "right": null,
       "top": null,
       "visibility": null,
       "width": null
      }
     },
     "2f8e5f8d007b4d5da5556c4cdbf6fdf7": {
      "model_module": "@jupyter-widgets/controls",
      "model_module_version": "1.5.0",
      "model_name": "DescriptionStyleModel",
      "state": {
       "_model_module": "@jupyter-widgets/controls",
       "_model_module_version": "1.5.0",
       "_model_name": "DescriptionStyleModel",
       "_view_count": null,
       "_view_module": "@jupyter-widgets/base",
       "_view_module_version": "1.2.0",
       "_view_name": "StyleView",
       "description_width": ""
      }
     },
     "31d27a509ca04602b1c78f0222f4a542": {
      "model_module": "@jupyter-widgets/base",
      "model_module_version": "1.2.0",
      "model_name": "LayoutModel",
      "state": {
       "_model_module": "@jupyter-widgets/base",
       "_model_module_version": "1.2.0",
       "_model_name": "LayoutModel",
       "_view_count": null,
       "_view_module": "@jupyter-widgets/base",
       "_view_module_version": "1.2.0",
       "_view_name": "LayoutView",
       "align_content": null,
       "align_items": null,
       "align_self": null,
       "border": null,
       "bottom": null,
       "display": null,
       "flex": null,
       "flex_flow": null,
       "grid_area": null,
       "grid_auto_columns": null,
       "grid_auto_flow": null,
       "grid_auto_rows": null,
       "grid_column": null,
       "grid_gap": null,
       "grid_row": null,
       "grid_template_areas": null,
       "grid_template_columns": null,
       "grid_template_rows": null,
       "height": null,
       "justify_content": null,
       "justify_items": null,
       "left": null,
       "margin": null,
       "max_height": null,
       "max_width": null,
       "min_height": null,
       "min_width": null,
       "object_fit": null,
       "object_position": null,
       "order": null,
       "overflow": null,
       "overflow_x": null,
       "overflow_y": null,
       "padding": null,
       "right": null,
       "top": null,
       "visibility": null,
       "width": null
      }
     },
     "326f70fb170445589fce3b67c6830638": {
      "model_module": "@jupyter-widgets/controls",
      "model_module_version": "1.5.0",
      "model_name": "HTMLModel",
      "state": {
       "_dom_classes": [],
       "_model_module": "@jupyter-widgets/controls",
       "_model_module_version": "1.5.0",
       "_model_name": "HTMLModel",
       "_view_count": null,
       "_view_module": "@jupyter-widgets/controls",
       "_view_module_version": "1.5.0",
       "_view_name": "HTMLView",
       "description": "",
       "description_tooltip": null,
       "layout": "IPY_MODEL_ff128b71e0b84b1aa6e1b75ffeb8670c",
       "placeholder": "​",
       "style": "IPY_MODEL_5f5a773efa934e7a91b71cf19a563ccc",
       "value": " 226/226 [01:46&lt;00:00,  4.37it/s]"
      }
     },
     "329b591443454477979eb7ee13b46519": {
      "model_module": "@jupyter-widgets/controls",
      "model_module_version": "1.5.0",
      "model_name": "HTMLModel",
      "state": {
       "_dom_classes": [],
       "_model_module": "@jupyter-widgets/controls",
       "_model_module_version": "1.5.0",
       "_model_name": "HTMLModel",
       "_view_count": null,
       "_view_module": "@jupyter-widgets/controls",
       "_view_module_version": "1.5.0",
       "_view_name": "HTMLView",
       "description": "",
       "description_tooltip": null,
       "layout": "IPY_MODEL_dcb8675d1c144352ae6821ccc57cf2b2",
       "placeholder": "​",
       "style": "IPY_MODEL_1fa684d962854cb0a740f2e74eacd417",
       "value": "100%"
      }
     },
     "343a78a338f54fda9a4a7130459a5dfb": {
      "model_module": "@jupyter-widgets/controls",
      "model_module_version": "1.5.0",
      "model_name": "HTMLModel",
      "state": {
       "_dom_classes": [],
       "_model_module": "@jupyter-widgets/controls",
       "_model_module_version": "1.5.0",
       "_model_name": "HTMLModel",
       "_view_count": null,
       "_view_module": "@jupyter-widgets/controls",
       "_view_module_version": "1.5.0",
       "_view_name": "HTMLView",
       "description": "",
       "description_tooltip": null,
       "layout": "IPY_MODEL_c04d590892ec424d94dbf60adbe3f461",
       "placeholder": "​",
       "style": "IPY_MODEL_dd402825b3894cd08cc8e60f0735aa3e",
       "value": " 226/226 [02:04&lt;00:00,  5.20it/s]"
      }
     },
     "3445c45cba2144ad988b8c510738181b": {
      "model_module": "@jupyter-widgets/controls",
      "model_module_version": "1.5.0",
      "model_name": "DescriptionStyleModel",
      "state": {
       "_model_module": "@jupyter-widgets/controls",
       "_model_module_version": "1.5.0",
       "_model_name": "DescriptionStyleModel",
       "_view_count": null,
       "_view_module": "@jupyter-widgets/base",
       "_view_module_version": "1.2.0",
       "_view_name": "StyleView",
       "description_width": ""
      }
     },
     "35acb5108771425cbd98ec35f483f0f1": {
      "model_module": "@jupyter-widgets/controls",
      "model_module_version": "1.5.0",
      "model_name": "HTMLModel",
      "state": {
       "_dom_classes": [],
       "_model_module": "@jupyter-widgets/controls",
       "_model_module_version": "1.5.0",
       "_model_name": "HTMLModel",
       "_view_count": null,
       "_view_module": "@jupyter-widgets/controls",
       "_view_module_version": "1.5.0",
       "_view_name": "HTMLView",
       "description": "",
       "description_tooltip": null,
       "layout": "IPY_MODEL_7045f33782994791b74117524ed51b17",
       "placeholder": "​",
       "style": "IPY_MODEL_ae6128b795f6459b8bd1062954daa768",
       "value": "100%"
      }
     },
     "36606ba0e6cf4e98a7808ff8942d5aa4": {
      "model_module": "@jupyter-widgets/base",
      "model_module_version": "1.2.0",
      "model_name": "LayoutModel",
      "state": {
       "_model_module": "@jupyter-widgets/base",
       "_model_module_version": "1.2.0",
       "_model_name": "LayoutModel",
       "_view_count": null,
       "_view_module": "@jupyter-widgets/base",
       "_view_module_version": "1.2.0",
       "_view_name": "LayoutView",
       "align_content": null,
       "align_items": null,
       "align_self": null,
       "border": null,
       "bottom": null,
       "display": null,
       "flex": null,
       "flex_flow": null,
       "grid_area": null,
       "grid_auto_columns": null,
       "grid_auto_flow": null,
       "grid_auto_rows": null,
       "grid_column": null,
       "grid_gap": null,
       "grid_row": null,
       "grid_template_areas": null,
       "grid_template_columns": null,
       "grid_template_rows": null,
       "height": null,
       "justify_content": null,
       "justify_items": null,
       "left": null,
       "margin": null,
       "max_height": null,
       "max_width": null,
       "min_height": null,
       "min_width": null,
       "object_fit": null,
       "object_position": null,
       "order": null,
       "overflow": null,
       "overflow_x": null,
       "overflow_y": null,
       "padding": null,
       "right": null,
       "top": null,
       "visibility": null,
       "width": null
      }
     },
     "380961f122ca4838ab3611efb0b95b0b": {
      "model_module": "@jupyter-widgets/controls",
      "model_module_version": "1.5.0",
      "model_name": "FloatProgressModel",
      "state": {
       "_dom_classes": [],
       "_model_module": "@jupyter-widgets/controls",
       "_model_module_version": "1.5.0",
       "_model_name": "FloatProgressModel",
       "_view_count": null,
       "_view_module": "@jupyter-widgets/controls",
       "_view_module_version": "1.5.0",
       "_view_name": "ProgressView",
       "bar_style": "success",
       "description": "",
       "description_tooltip": null,
       "layout": "IPY_MODEL_9bedc24b3f114c92a9a00ae8072d6c3b",
       "max": 226.0,
       "min": 0.0,
       "orientation": "horizontal",
       "style": "IPY_MODEL_7e20a91e0a58477ca7d4b8ca5dd3a6c1",
       "value": 226.0
      }
     },
     "38ff557838a74e61a5a55fad7bfb941c": {
      "model_module": "@jupyter-widgets/controls",
      "model_module_version": "1.5.0",
      "model_name": "FloatProgressModel",
      "state": {
       "_dom_classes": [],
       "_model_module": "@jupyter-widgets/controls",
       "_model_module_version": "1.5.0",
       "_model_name": "FloatProgressModel",
       "_view_count": null,
       "_view_module": "@jupyter-widgets/controls",
       "_view_module_version": "1.5.0",
       "_view_name": "ProgressView",
       "bar_style": "success",
       "description": "",
       "description_tooltip": null,
       "layout": "IPY_MODEL_ec4af57f563c46b8a38f53cf7cf39098",
       "max": 226.0,
       "min": 0.0,
       "orientation": "horizontal",
       "style": "IPY_MODEL_3fb1c295346f41dbb061b5a5628085d7",
       "value": 226.0
      }
     },
     "3b346ee0de0b4f17b87131c5597e54c7": {
      "model_module": "@jupyter-widgets/base",
      "model_module_version": "1.2.0",
      "model_name": "LayoutModel",
      "state": {
       "_model_module": "@jupyter-widgets/base",
       "_model_module_version": "1.2.0",
       "_model_name": "LayoutModel",
       "_view_count": null,
       "_view_module": "@jupyter-widgets/base",
       "_view_module_version": "1.2.0",
       "_view_name": "LayoutView",
       "align_content": null,
       "align_items": null,
       "align_self": null,
       "border": null,
       "bottom": null,
       "display": null,
       "flex": null,
       "flex_flow": null,
       "grid_area": null,
       "grid_auto_columns": null,
       "grid_auto_flow": null,
       "grid_auto_rows": null,
       "grid_column": null,
       "grid_gap": null,
       "grid_row": null,
       "grid_template_areas": null,
       "grid_template_columns": null,
       "grid_template_rows": null,
       "height": null,
       "justify_content": null,
       "justify_items": null,
       "left": null,
       "margin": null,
       "max_height": null,
       "max_width": null,
       "min_height": null,
       "min_width": null,
       "object_fit": null,
       "object_position": null,
       "order": null,
       "overflow": null,
       "overflow_x": null,
       "overflow_y": null,
       "padding": null,
       "right": null,
       "top": null,
       "visibility": null,
       "width": null
      }
     },
     "3d6edefa23c741e8b22f1896b6ede6a5": {
      "model_module": "@jupyter-widgets/controls",
      "model_module_version": "1.5.0",
      "model_name": "HTMLModel",
      "state": {
       "_dom_classes": [],
       "_model_module": "@jupyter-widgets/controls",
       "_model_module_version": "1.5.0",
       "_model_name": "HTMLModel",
       "_view_count": null,
       "_view_module": "@jupyter-widgets/controls",
       "_view_module_version": "1.5.0",
       "_view_name": "HTMLView",
       "description": "",
       "description_tooltip": null,
       "layout": "IPY_MODEL_2d21e09a09e34e8a9e7dba21d46b3642",
       "placeholder": "​",
       "style": "IPY_MODEL_b5293e7cf64048209f501a0e1adfefe4",
       "value": "100%"
      }
     },
     "3fb1c295346f41dbb061b5a5628085d7": {
      "model_module": "@jupyter-widgets/controls",
      "model_module_version": "1.5.0",
      "model_name": "ProgressStyleModel",
      "state": {
       "_model_module": "@jupyter-widgets/controls",
       "_model_module_version": "1.5.0",
       "_model_name": "ProgressStyleModel",
       "_view_count": null,
       "_view_module": "@jupyter-widgets/base",
       "_view_module_version": "1.2.0",
       "_view_name": "StyleView",
       "bar_color": null,
       "description_width": ""
      }
     },
     "3fe4c584b7e745ebb6d3d2014e1f7865": {
      "model_module": "@jupyter-widgets/base",
      "model_module_version": "1.2.0",
      "model_name": "LayoutModel",
      "state": {
       "_model_module": "@jupyter-widgets/base",
       "_model_module_version": "1.2.0",
       "_model_name": "LayoutModel",
       "_view_count": null,
       "_view_module": "@jupyter-widgets/base",
       "_view_module_version": "1.2.0",
       "_view_name": "LayoutView",
       "align_content": null,
       "align_items": null,
       "align_self": null,
       "border": null,
       "bottom": null,
       "display": null,
       "flex": null,
       "flex_flow": null,
       "grid_area": null,
       "grid_auto_columns": null,
       "grid_auto_flow": null,
       "grid_auto_rows": null,
       "grid_column": null,
       "grid_gap": null,
       "grid_row": null,
       "grid_template_areas": null,
       "grid_template_columns": null,
       "grid_template_rows": null,
       "height": null,
       "justify_content": null,
       "justify_items": null,
       "left": null,
       "margin": null,
       "max_height": null,
       "max_width": null,
       "min_height": null,
       "min_width": null,
       "object_fit": null,
       "object_position": null,
       "order": null,
       "overflow": null,
       "overflow_x": null,
       "overflow_y": null,
       "padding": null,
       "right": null,
       "top": null,
       "visibility": null,
       "width": null
      }
     },
     "41c3d4437fe94435b6adbdf09e5e0021": {
      "model_module": "@jupyter-widgets/controls",
      "model_module_version": "1.5.0",
      "model_name": "HTMLModel",
      "state": {
       "_dom_classes": [],
       "_model_module": "@jupyter-widgets/controls",
       "_model_module_version": "1.5.0",
       "_model_name": "HTMLModel",
       "_view_count": null,
       "_view_module": "@jupyter-widgets/controls",
       "_view_module_version": "1.5.0",
       "_view_name": "HTMLView",
       "description": "",
       "description_tooltip": null,
       "layout": "IPY_MODEL_2321d26eb1644f70a31a39541c9d4b66",
       "placeholder": "​",
       "style": "IPY_MODEL_b132a00a8c0a4954a346b1f856295f41",
       "value": "100%"
      }
     },
     "425ab16770fe4b8e93ff6bd2fd6bfad1": {
      "model_module": "@jupyter-widgets/base",
      "model_module_version": "1.2.0",
      "model_name": "LayoutModel",
      "state": {
       "_model_module": "@jupyter-widgets/base",
       "_model_module_version": "1.2.0",
       "_model_name": "LayoutModel",
       "_view_count": null,
       "_view_module": "@jupyter-widgets/base",
       "_view_module_version": "1.2.0",
       "_view_name": "LayoutView",
       "align_content": null,
       "align_items": null,
       "align_self": null,
       "border": null,
       "bottom": null,
       "display": null,
       "flex": null,
       "flex_flow": null,
       "grid_area": null,
       "grid_auto_columns": null,
       "grid_auto_flow": null,
       "grid_auto_rows": null,
       "grid_column": null,
       "grid_gap": null,
       "grid_row": null,
       "grid_template_areas": null,
       "grid_template_columns": null,
       "grid_template_rows": null,
       "height": null,
       "justify_content": null,
       "justify_items": null,
       "left": null,
       "margin": null,
       "max_height": null,
       "max_width": null,
       "min_height": null,
       "min_width": null,
       "object_fit": null,
       "object_position": null,
       "order": null,
       "overflow": null,
       "overflow_x": null,
       "overflow_y": null,
       "padding": null,
       "right": null,
       "top": null,
       "visibility": null,
       "width": null
      }
     },
     "42b867ac60524effb3b2edcbc8a1f800": {
      "model_module": "@jupyter-widgets/controls",
      "model_module_version": "1.5.0",
      "model_name": "ProgressStyleModel",
      "state": {
       "_model_module": "@jupyter-widgets/controls",
       "_model_module_version": "1.5.0",
       "_model_name": "ProgressStyleModel",
       "_view_count": null,
       "_view_module": "@jupyter-widgets/base",
       "_view_module_version": "1.2.0",
       "_view_name": "StyleView",
       "bar_color": null,
       "description_width": ""
      }
     },
     "466c8608b5544fe3a67a382af76cdce6": {
      "model_module": "@jupyter-widgets/controls",
      "model_module_version": "1.5.0",
      "model_name": "HBoxModel",
      "state": {
       "_dom_classes": [],
       "_model_module": "@jupyter-widgets/controls",
       "_model_module_version": "1.5.0",
       "_model_name": "HBoxModel",
       "_view_count": null,
       "_view_module": "@jupyter-widgets/controls",
       "_view_module_version": "1.5.0",
       "_view_name": "HBoxView",
       "box_style": "",
       "children": [
        "IPY_MODEL_aa976ece44884b478f49d5434dfdcb5d",
        "IPY_MODEL_b4dc8dc5bc194e0686816ce262efc3df",
        "IPY_MODEL_1e968116503248f5ba9fce8a1fb17047"
       ],
       "layout": "IPY_MODEL_26f1397e3bc146ff9fbf221787360b96"
      }
     },
     "46fdc6f53b0744b88d67dfadf34c210f": {
      "model_module": "@jupyter-widgets/controls",
      "model_module_version": "1.5.0",
      "model_name": "ProgressStyleModel",
      "state": {
       "_model_module": "@jupyter-widgets/controls",
       "_model_module_version": "1.5.0",
       "_model_name": "ProgressStyleModel",
       "_view_count": null,
       "_view_module": "@jupyter-widgets/base",
       "_view_module_version": "1.2.0",
       "_view_name": "StyleView",
       "bar_color": null,
       "description_width": ""
      }
     },
     "47b176fb43a543d29216f6a334c47599": {
      "model_module": "@jupyter-widgets/controls",
      "model_module_version": "1.5.0",
      "model_name": "DescriptionStyleModel",
      "state": {
       "_model_module": "@jupyter-widgets/controls",
       "_model_module_version": "1.5.0",
       "_model_name": "DescriptionStyleModel",
       "_view_count": null,
       "_view_module": "@jupyter-widgets/base",
       "_view_module_version": "1.2.0",
       "_view_name": "StyleView",
       "description_width": ""
      }
     },
     "488857a0d8754c6c8d2bbfd52e349a39": {
      "model_module": "@jupyter-widgets/controls",
      "model_module_version": "1.5.0",
      "model_name": "HBoxModel",
      "state": {
       "_dom_classes": [],
       "_model_module": "@jupyter-widgets/controls",
       "_model_module_version": "1.5.0",
       "_model_name": "HBoxModel",
       "_view_count": null,
       "_view_module": "@jupyter-widgets/controls",
       "_view_module_version": "1.5.0",
       "_view_name": "HBoxView",
       "box_style": "",
       "children": [
        "IPY_MODEL_9119d0aadd17485dbd565e97747624e1",
        "IPY_MODEL_11bfc7f6508a45f7aef8435ac1c5757a",
        "IPY_MODEL_8b644f520f724b70bfbd58fbb7450585"
       ],
       "layout": "IPY_MODEL_3b346ee0de0b4f17b87131c5597e54c7"
      }
     },
     "4b0cd9203c5f4d74bbc53ad8b2ada2ce": {
      "model_module": "@jupyter-widgets/base",
      "model_module_version": "1.2.0",
      "model_name": "LayoutModel",
      "state": {
       "_model_module": "@jupyter-widgets/base",
       "_model_module_version": "1.2.0",
       "_model_name": "LayoutModel",
       "_view_count": null,
       "_view_module": "@jupyter-widgets/base",
       "_view_module_version": "1.2.0",
       "_view_name": "LayoutView",
       "align_content": null,
       "align_items": null,
       "align_self": null,
       "border": null,
       "bottom": null,
       "display": null,
       "flex": null,
       "flex_flow": null,
       "grid_area": null,
       "grid_auto_columns": null,
       "grid_auto_flow": null,
       "grid_auto_rows": null,
       "grid_column": null,
       "grid_gap": null,
       "grid_row": null,
       "grid_template_areas": null,
       "grid_template_columns": null,
       "grid_template_rows": null,
       "height": null,
       "justify_content": null,
       "justify_items": null,
       "left": null,
       "margin": null,
       "max_height": null,
       "max_width": null,
       "min_height": null,
       "min_width": null,
       "object_fit": null,
       "object_position": null,
       "order": null,
       "overflow": null,
       "overflow_x": null,
       "overflow_y": null,
       "padding": null,
       "right": null,
       "top": null,
       "visibility": null,
       "width": null
      }
     },
     "4b112d6807984efb93838430f38d4d76": {
      "model_module": "@jupyter-widgets/base",
      "model_module_version": "1.2.0",
      "model_name": "LayoutModel",
      "state": {
       "_model_module": "@jupyter-widgets/base",
       "_model_module_version": "1.2.0",
       "_model_name": "LayoutModel",
       "_view_count": null,
       "_view_module": "@jupyter-widgets/base",
       "_view_module_version": "1.2.0",
       "_view_name": "LayoutView",
       "align_content": null,
       "align_items": null,
       "align_self": null,
       "border": null,
       "bottom": null,
       "display": null,
       "flex": null,
       "flex_flow": null,
       "grid_area": null,
       "grid_auto_columns": null,
       "grid_auto_flow": null,
       "grid_auto_rows": null,
       "grid_column": null,
       "grid_gap": null,
       "grid_row": null,
       "grid_template_areas": null,
       "grid_template_columns": null,
       "grid_template_rows": null,
       "height": null,
       "justify_content": null,
       "justify_items": null,
       "left": null,
       "margin": null,
       "max_height": null,
       "max_width": null,
       "min_height": null,
       "min_width": null,
       "object_fit": null,
       "object_position": null,
       "order": null,
       "overflow": null,
       "overflow_x": null,
       "overflow_y": null,
       "padding": null,
       "right": null,
       "top": null,
       "visibility": null,
       "width": null
      }
     },
     "4ba9b446aed6491caa6bf00f5806f124": {
      "model_module": "@jupyter-widgets/controls",
      "model_module_version": "1.5.0",
      "model_name": "HTMLModel",
      "state": {
       "_dom_classes": [],
       "_model_module": "@jupyter-widgets/controls",
       "_model_module_version": "1.5.0",
       "_model_name": "HTMLModel",
       "_view_count": null,
       "_view_module": "@jupyter-widgets/controls",
       "_view_module_version": "1.5.0",
       "_view_name": "HTMLView",
       "description": "",
       "description_tooltip": null,
       "layout": "IPY_MODEL_7faa882d308c43968472f976b65fd179",
       "placeholder": "​",
       "style": "IPY_MODEL_bf05ac0e1c23489f96d90e6f78b8cdea",
       "value": "100%"
      }
     },
     "4c0a1608952c41eda18c55a6e1693732": {
      "model_module": "@jupyter-widgets/controls",
      "model_module_version": "1.5.0",
      "model_name": "DescriptionStyleModel",
      "state": {
       "_model_module": "@jupyter-widgets/controls",
       "_model_module_version": "1.5.0",
       "_model_name": "DescriptionStyleModel",
       "_view_count": null,
       "_view_module": "@jupyter-widgets/base",
       "_view_module_version": "1.2.0",
       "_view_name": "StyleView",
       "description_width": ""
      }
     },
     "4ccfe86ac70a4b75bcee73d8ec0a2f1f": {
      "model_module": "@jupyter-widgets/controls",
      "model_module_version": "1.5.0",
      "model_name": "HTMLModel",
      "state": {
       "_dom_classes": [],
       "_model_module": "@jupyter-widgets/controls",
       "_model_module_version": "1.5.0",
       "_model_name": "HTMLModel",
       "_view_count": null,
       "_view_module": "@jupyter-widgets/controls",
       "_view_module_version": "1.5.0",
       "_view_name": "HTMLView",
       "description": "",
       "description_tooltip": null,
       "layout": "IPY_MODEL_5f779cec7e2d4f75b1c548550d85412e",
       "placeholder": "​",
       "style": "IPY_MODEL_c1285ee45c284f779e83dec3f111a534",
       "value": "100%"
      }
     },
     "4e784ec77b5d4fb5bf4da53426dfa362": {
      "model_module": "@jupyter-widgets/controls",
      "model_module_version": "1.5.0",
      "model_name": "ProgressStyleModel",
      "state": {
       "_model_module": "@jupyter-widgets/controls",
       "_model_module_version": "1.5.0",
       "_model_name": "ProgressStyleModel",
       "_view_count": null,
       "_view_module": "@jupyter-widgets/base",
       "_view_module_version": "1.2.0",
       "_view_name": "StyleView",
       "bar_color": null,
       "description_width": ""
      }
     },
     "526105d933644740a2ebe1a3f443c7bf": {
      "model_module": "@jupyter-widgets/controls",
      "model_module_version": "1.5.0",
      "model_name": "HTMLModel",
      "state": {
       "_dom_classes": [],
       "_model_module": "@jupyter-widgets/controls",
       "_model_module_version": "1.5.0",
       "_model_name": "HTMLModel",
       "_view_count": null,
       "_view_module": "@jupyter-widgets/controls",
       "_view_module_version": "1.5.0",
       "_view_name": "HTMLView",
       "description": "",
       "description_tooltip": null,
       "layout": "IPY_MODEL_fee95d4ce3ca4757a252f914cce670e4",
       "placeholder": "​",
       "style": "IPY_MODEL_db1d2264d8d84ace8f02abe6c461d54e",
       "value": "100%"
      }
     },
     "529b55b19c9e44d1be9cbc33cbacf125": {
      "model_module": "@jupyter-widgets/controls",
      "model_module_version": "1.5.0",
      "model_name": "FloatProgressModel",
      "state": {
       "_dom_classes": [],
       "_model_module": "@jupyter-widgets/controls",
       "_model_module_version": "1.5.0",
       "_model_name": "FloatProgressModel",
       "_view_count": null,
       "_view_module": "@jupyter-widgets/controls",
       "_view_module_version": "1.5.0",
       "_view_name": "ProgressView",
       "bar_style": "success",
       "description": "",
       "description_tooltip": null,
       "layout": "IPY_MODEL_68cfbf405f264204ac7057c60bcd04f5",
       "max": 226.0,
       "min": 0.0,
       "orientation": "horizontal",
       "style": "IPY_MODEL_42b867ac60524effb3b2edcbc8a1f800",
       "value": 226.0
      }
     },
     "5613f868ed944c40acb922c1ad3cf6ba": {
      "model_module": "@jupyter-widgets/controls",
      "model_module_version": "1.5.0",
      "model_name": "DescriptionStyleModel",
      "state": {
       "_model_module": "@jupyter-widgets/controls",
       "_model_module_version": "1.5.0",
       "_model_name": "DescriptionStyleModel",
       "_view_count": null,
       "_view_module": "@jupyter-widgets/base",
       "_view_module_version": "1.2.0",
       "_view_name": "StyleView",
       "description_width": ""
      }
     },
     "59fc989f401743e5ba9efd55905c40eb": {
      "model_module": "@jupyter-widgets/controls",
      "model_module_version": "1.5.0",
      "model_name": "HTMLModel",
      "state": {
       "_dom_classes": [],
       "_model_module": "@jupyter-widgets/controls",
       "_model_module_version": "1.5.0",
       "_model_name": "HTMLModel",
       "_view_count": null,
       "_view_module": "@jupyter-widgets/controls",
       "_view_module_version": "1.5.0",
       "_view_name": "HTMLView",
       "description": "",
       "description_tooltip": null,
       "layout": "IPY_MODEL_fd86ba069d904410950a1769896ed2b5",
       "placeholder": "​",
       "style": "IPY_MODEL_6b8cc542b9ae48f9a2a004dd377b714f",
       "value": "100%"
      }
     },
     "5abdcde6b4e4418c97fc4961050b13a9": {
      "model_module": "@jupyter-widgets/controls",
      "model_module_version": "1.5.0",
      "model_name": "DescriptionStyleModel",
      "state": {
       "_model_module": "@jupyter-widgets/controls",
       "_model_module_version": "1.5.0",
       "_model_name": "DescriptionStyleModel",
       "_view_count": null,
       "_view_module": "@jupyter-widgets/base",
       "_view_module_version": "1.2.0",
       "_view_name": "StyleView",
       "description_width": ""
      }
     },
     "5c812292083b481cb23cd8d913702962": {
      "model_module": "@jupyter-widgets/controls",
      "model_module_version": "1.5.0",
      "model_name": "HTMLModel",
      "state": {
       "_dom_classes": [],
       "_model_module": "@jupyter-widgets/controls",
       "_model_module_version": "1.5.0",
       "_model_name": "HTMLModel",
       "_view_count": null,
       "_view_module": "@jupyter-widgets/controls",
       "_view_module_version": "1.5.0",
       "_view_name": "HTMLView",
       "description": "",
       "description_tooltip": null,
       "layout": "IPY_MODEL_9664e4ed951e4373ad05b7991ac1ebfe",
       "placeholder": "​",
       "style": "IPY_MODEL_7a3a878e06c44bb185dadb11ec50694e",
       "value": "100%"
      }
     },
     "5d1a968e8d894f2cb7d8e557ec5f6010": {
      "model_module": "@jupyter-widgets/base",
      "model_module_version": "1.2.0",
      "model_name": "LayoutModel",
      "state": {
       "_model_module": "@jupyter-widgets/base",
       "_model_module_version": "1.2.0",
       "_model_name": "LayoutModel",
       "_view_count": null,
       "_view_module": "@jupyter-widgets/base",
       "_view_module_version": "1.2.0",
       "_view_name": "LayoutView",
       "align_content": null,
       "align_items": null,
       "align_self": null,
       "border": null,
       "bottom": null,
       "display": null,
       "flex": null,
       "flex_flow": null,
       "grid_area": null,
       "grid_auto_columns": null,
       "grid_auto_flow": null,
       "grid_auto_rows": null,
       "grid_column": null,
       "grid_gap": null,
       "grid_row": null,
       "grid_template_areas": null,
       "grid_template_columns": null,
       "grid_template_rows": null,
       "height": null,
       "justify_content": null,
       "justify_items": null,
       "left": null,
       "margin": null,
       "max_height": null,
       "max_width": null,
       "min_height": null,
       "min_width": null,
       "object_fit": null,
       "object_position": null,
       "order": null,
       "overflow": null,
       "overflow_x": null,
       "overflow_y": null,
       "padding": null,
       "right": null,
       "top": null,
       "visibility": null,
       "width": null
      }
     },
     "5d75b6e4d60c491887a6aa294b7db565": {
      "model_module": "@jupyter-widgets/base",
      "model_module_version": "1.2.0",
      "model_name": "LayoutModel",
      "state": {
       "_model_module": "@jupyter-widgets/base",
       "_model_module_version": "1.2.0",
       "_model_name": "LayoutModel",
       "_view_count": null,
       "_view_module": "@jupyter-widgets/base",
       "_view_module_version": "1.2.0",
       "_view_name": "LayoutView",
       "align_content": null,
       "align_items": null,
       "align_self": null,
       "border": null,
       "bottom": null,
       "display": null,
       "flex": null,
       "flex_flow": null,
       "grid_area": null,
       "grid_auto_columns": null,
       "grid_auto_flow": null,
       "grid_auto_rows": null,
       "grid_column": null,
       "grid_gap": null,
       "grid_row": null,
       "grid_template_areas": null,
       "grid_template_columns": null,
       "grid_template_rows": null,
       "height": null,
       "justify_content": null,
       "justify_items": null,
       "left": null,
       "margin": null,
       "max_height": null,
       "max_width": null,
       "min_height": null,
       "min_width": null,
       "object_fit": null,
       "object_position": null,
       "order": null,
       "overflow": null,
       "overflow_x": null,
       "overflow_y": null,
       "padding": null,
       "right": null,
       "top": null,
       "visibility": null,
       "width": null
      }
     },
     "5e212d2b1ce345fbad79fa6e6323b72f": {
      "model_module": "@jupyter-widgets/base",
      "model_module_version": "1.2.0",
      "model_name": "LayoutModel",
      "state": {
       "_model_module": "@jupyter-widgets/base",
       "_model_module_version": "1.2.0",
       "_model_name": "LayoutModel",
       "_view_count": null,
       "_view_module": "@jupyter-widgets/base",
       "_view_module_version": "1.2.0",
       "_view_name": "LayoutView",
       "align_content": null,
       "align_items": null,
       "align_self": null,
       "border": null,
       "bottom": null,
       "display": null,
       "flex": null,
       "flex_flow": null,
       "grid_area": null,
       "grid_auto_columns": null,
       "grid_auto_flow": null,
       "grid_auto_rows": null,
       "grid_column": null,
       "grid_gap": null,
       "grid_row": null,
       "grid_template_areas": null,
       "grid_template_columns": null,
       "grid_template_rows": null,
       "height": null,
       "justify_content": null,
       "justify_items": null,
       "left": null,
       "margin": null,
       "max_height": null,
       "max_width": null,
       "min_height": null,
       "min_width": null,
       "object_fit": null,
       "object_position": null,
       "order": null,
       "overflow": null,
       "overflow_x": null,
       "overflow_y": null,
       "padding": null,
       "right": null,
       "top": null,
       "visibility": null,
       "width": null
      }
     },
     "5f5a773efa934e7a91b71cf19a563ccc": {
      "model_module": "@jupyter-widgets/controls",
      "model_module_version": "1.5.0",
      "model_name": "DescriptionStyleModel",
      "state": {
       "_model_module": "@jupyter-widgets/controls",
       "_model_module_version": "1.5.0",
       "_model_name": "DescriptionStyleModel",
       "_view_count": null,
       "_view_module": "@jupyter-widgets/base",
       "_view_module_version": "1.2.0",
       "_view_name": "StyleView",
       "description_width": ""
      }
     },
     "5f779cec7e2d4f75b1c548550d85412e": {
      "model_module": "@jupyter-widgets/base",
      "model_module_version": "1.2.0",
      "model_name": "LayoutModel",
      "state": {
       "_model_module": "@jupyter-widgets/base",
       "_model_module_version": "1.2.0",
       "_model_name": "LayoutModel",
       "_view_count": null,
       "_view_module": "@jupyter-widgets/base",
       "_view_module_version": "1.2.0",
       "_view_name": "LayoutView",
       "align_content": null,
       "align_items": null,
       "align_self": null,
       "border": null,
       "bottom": null,
       "display": null,
       "flex": null,
       "flex_flow": null,
       "grid_area": null,
       "grid_auto_columns": null,
       "grid_auto_flow": null,
       "grid_auto_rows": null,
       "grid_column": null,
       "grid_gap": null,
       "grid_row": null,
       "grid_template_areas": null,
       "grid_template_columns": null,
       "grid_template_rows": null,
       "height": null,
       "justify_content": null,
       "justify_items": null,
       "left": null,
       "margin": null,
       "max_height": null,
       "max_width": null,
       "min_height": null,
       "min_width": null,
       "object_fit": null,
       "object_position": null,
       "order": null,
       "overflow": null,
       "overflow_x": null,
       "overflow_y": null,
       "padding": null,
       "right": null,
       "top": null,
       "visibility": null,
       "width": null
      }
     },
     "6115b575c4634eaabd68baec276f1d8c": {
      "model_module": "@jupyter-widgets/base",
      "model_module_version": "1.2.0",
      "model_name": "LayoutModel",
      "state": {
       "_model_module": "@jupyter-widgets/base",
       "_model_module_version": "1.2.0",
       "_model_name": "LayoutModel",
       "_view_count": null,
       "_view_module": "@jupyter-widgets/base",
       "_view_module_version": "1.2.0",
       "_view_name": "LayoutView",
       "align_content": null,
       "align_items": null,
       "align_self": null,
       "border": null,
       "bottom": null,
       "display": null,
       "flex": null,
       "flex_flow": null,
       "grid_area": null,
       "grid_auto_columns": null,
       "grid_auto_flow": null,
       "grid_auto_rows": null,
       "grid_column": null,
       "grid_gap": null,
       "grid_row": null,
       "grid_template_areas": null,
       "grid_template_columns": null,
       "grid_template_rows": null,
       "height": null,
       "justify_content": null,
       "justify_items": null,
       "left": null,
       "margin": null,
       "max_height": null,
       "max_width": null,
       "min_height": null,
       "min_width": null,
       "object_fit": null,
       "object_position": null,
       "order": null,
       "overflow": null,
       "overflow_x": null,
       "overflow_y": null,
       "padding": null,
       "right": null,
       "top": null,
       "visibility": null,
       "width": null
      }
     },
     "61548ec8c1f14eceb02b03ac577b6aa5": {
      "model_module": "@jupyter-widgets/controls",
      "model_module_version": "1.5.0",
      "model_name": "HTMLModel",
      "state": {
       "_dom_classes": [],
       "_model_module": "@jupyter-widgets/controls",
       "_model_module_version": "1.5.0",
       "_model_name": "HTMLModel",
       "_view_count": null,
       "_view_module": "@jupyter-widgets/controls",
       "_view_module_version": "1.5.0",
       "_view_name": "HTMLView",
       "description": "",
       "description_tooltip": null,
       "layout": "IPY_MODEL_10f335ea16f7437faa4f5e9052cce567",
       "placeholder": "​",
       "style": "IPY_MODEL_ad79e4a50f8641c78a1e0b575a327742",
       "value": " 100/100 [00:22&lt;00:00,  5.07it/s]"
      }
     },
     "61ca90cd11084f418ea701c0e16b590f": {
      "model_module": "@jupyter-widgets/base",
      "model_module_version": "1.2.0",
      "model_name": "LayoutModel",
      "state": {
       "_model_module": "@jupyter-widgets/base",
       "_model_module_version": "1.2.0",
       "_model_name": "LayoutModel",
       "_view_count": null,
       "_view_module": "@jupyter-widgets/base",
       "_view_module_version": "1.2.0",
       "_view_name": "LayoutView",
       "align_content": null,
       "align_items": null,
       "align_self": null,
       "border": null,
       "bottom": null,
       "display": null,
       "flex": null,
       "flex_flow": null,
       "grid_area": null,
       "grid_auto_columns": null,
       "grid_auto_flow": null,
       "grid_auto_rows": null,
       "grid_column": null,
       "grid_gap": null,
       "grid_row": null,
       "grid_template_areas": null,
       "grid_template_columns": null,
       "grid_template_rows": null,
       "height": null,
       "justify_content": null,
       "justify_items": null,
       "left": null,
       "margin": null,
       "max_height": null,
       "max_width": null,
       "min_height": null,
       "min_width": null,
       "object_fit": null,
       "object_position": null,
       "order": null,
       "overflow": null,
       "overflow_x": null,
       "overflow_y": null,
       "padding": null,
       "right": null,
       "top": null,
       "visibility": null,
       "width": null
      }
     },
     "633ad16e79ca47bea702718ab24396c0": {
      "model_module": "@jupyter-widgets/controls",
      "model_module_version": "1.5.0",
      "model_name": "HBoxModel",
      "state": {
       "_dom_classes": [],
       "_model_module": "@jupyter-widgets/controls",
       "_model_module_version": "1.5.0",
       "_model_name": "HBoxModel",
       "_view_count": null,
       "_view_module": "@jupyter-widgets/controls",
       "_view_module_version": "1.5.0",
       "_view_name": "HBoxView",
       "box_style": "",
       "children": [
        "IPY_MODEL_526105d933644740a2ebe1a3f443c7bf",
        "IPY_MODEL_145645a4143b4fd6aad44cf5c6fdb96b",
        "IPY_MODEL_89e523ea5a00467e896b9f783845db79"
       ],
       "layout": "IPY_MODEL_26c43e28253e460a8d127ccb49a0de17"
      }
     },
     "63b8d14c270148c8b9f8789a4b01f580": {
      "model_module": "@jupyter-widgets/base",
      "model_module_version": "1.2.0",
      "model_name": "LayoutModel",
      "state": {
       "_model_module": "@jupyter-widgets/base",
       "_model_module_version": "1.2.0",
       "_model_name": "LayoutModel",
       "_view_count": null,
       "_view_module": "@jupyter-widgets/base",
       "_view_module_version": "1.2.0",
       "_view_name": "LayoutView",
       "align_content": null,
       "align_items": null,
       "align_self": null,
       "border": null,
       "bottom": null,
       "display": null,
       "flex": null,
       "flex_flow": null,
       "grid_area": null,
       "grid_auto_columns": null,
       "grid_auto_flow": null,
       "grid_auto_rows": null,
       "grid_column": null,
       "grid_gap": null,
       "grid_row": null,
       "grid_template_areas": null,
       "grid_template_columns": null,
       "grid_template_rows": null,
       "height": null,
       "justify_content": null,
       "justify_items": null,
       "left": null,
       "margin": null,
       "max_height": null,
       "max_width": null,
       "min_height": null,
       "min_width": null,
       "object_fit": null,
       "object_position": null,
       "order": null,
       "overflow": null,
       "overflow_x": null,
       "overflow_y": null,
       "padding": null,
       "right": null,
       "top": null,
       "visibility": null,
       "width": null
      }
     },
     "65a91c512669423caaf81166e4361097": {
      "model_module": "@jupyter-widgets/base",
      "model_module_version": "1.2.0",
      "model_name": "LayoutModel",
      "state": {
       "_model_module": "@jupyter-widgets/base",
       "_model_module_version": "1.2.0",
       "_model_name": "LayoutModel",
       "_view_count": null,
       "_view_module": "@jupyter-widgets/base",
       "_view_module_version": "1.2.0",
       "_view_name": "LayoutView",
       "align_content": null,
       "align_items": null,
       "align_self": null,
       "border": null,
       "bottom": null,
       "display": null,
       "flex": null,
       "flex_flow": null,
       "grid_area": null,
       "grid_auto_columns": null,
       "grid_auto_flow": null,
       "grid_auto_rows": null,
       "grid_column": null,
       "grid_gap": null,
       "grid_row": null,
       "grid_template_areas": null,
       "grid_template_columns": null,
       "grid_template_rows": null,
       "height": null,
       "justify_content": null,
       "justify_items": null,
       "left": null,
       "margin": null,
       "max_height": null,
       "max_width": null,
       "min_height": null,
       "min_width": null,
       "object_fit": null,
       "object_position": null,
       "order": null,
       "overflow": null,
       "overflow_x": null,
       "overflow_y": null,
       "padding": null,
       "right": null,
       "top": null,
       "visibility": null,
       "width": null
      }
     },
     "669183588bc24bf2b2abf34cc839fe84": {
      "model_module": "@jupyter-widgets/base",
      "model_module_version": "1.2.0",
      "model_name": "LayoutModel",
      "state": {
       "_model_module": "@jupyter-widgets/base",
       "_model_module_version": "1.2.0",
       "_model_name": "LayoutModel",
       "_view_count": null,
       "_view_module": "@jupyter-widgets/base",
       "_view_module_version": "1.2.0",
       "_view_name": "LayoutView",
       "align_content": null,
       "align_items": null,
       "align_self": null,
       "border": null,
       "bottom": null,
       "display": null,
       "flex": null,
       "flex_flow": null,
       "grid_area": null,
       "grid_auto_columns": null,
       "grid_auto_flow": null,
       "grid_auto_rows": null,
       "grid_column": null,
       "grid_gap": null,
       "grid_row": null,
       "grid_template_areas": null,
       "grid_template_columns": null,
       "grid_template_rows": null,
       "height": null,
       "justify_content": null,
       "justify_items": null,
       "left": null,
       "margin": null,
       "max_height": null,
       "max_width": null,
       "min_height": null,
       "min_width": null,
       "object_fit": null,
       "object_position": null,
       "order": null,
       "overflow": null,
       "overflow_x": null,
       "overflow_y": null,
       "padding": null,
       "right": null,
       "top": null,
       "visibility": null,
       "width": null
      }
     },
     "66ee8d0b63484bc5af26adee825ef0cf": {
      "model_module": "@jupyter-widgets/controls",
      "model_module_version": "1.5.0",
      "model_name": "HTMLModel",
      "state": {
       "_dom_classes": [],
       "_model_module": "@jupyter-widgets/controls",
       "_model_module_version": "1.5.0",
       "_model_name": "HTMLModel",
       "_view_count": null,
       "_view_module": "@jupyter-widgets/controls",
       "_view_module_version": "1.5.0",
       "_view_name": "HTMLView",
       "description": "",
       "description_tooltip": null,
       "layout": "IPY_MODEL_e681d1e694764be480af1f0f20f7dbb7",
       "placeholder": "​",
       "style": "IPY_MODEL_5abdcde6b4e4418c97fc4961050b13a9",
       "value": " 226/226 [01:39&lt;00:00,  4.33it/s]"
      }
     },
     "680ec1f323a242e6978a24a832eacfbf": {
      "model_module": "@jupyter-widgets/base",
      "model_module_version": "1.2.0",
      "model_name": "LayoutModel",
      "state": {
       "_model_module": "@jupyter-widgets/base",
       "_model_module_version": "1.2.0",
       "_model_name": "LayoutModel",
       "_view_count": null,
       "_view_module": "@jupyter-widgets/base",
       "_view_module_version": "1.2.0",
       "_view_name": "LayoutView",
       "align_content": null,
       "align_items": null,
       "align_self": null,
       "border": null,
       "bottom": null,
       "display": null,
       "flex": null,
       "flex_flow": null,
       "grid_area": null,
       "grid_auto_columns": null,
       "grid_auto_flow": null,
       "grid_auto_rows": null,
       "grid_column": null,
       "grid_gap": null,
       "grid_row": null,
       "grid_template_areas": null,
       "grid_template_columns": null,
       "grid_template_rows": null,
       "height": null,
       "justify_content": null,
       "justify_items": null,
       "left": null,
       "margin": null,
       "max_height": null,
       "max_width": null,
       "min_height": null,
       "min_width": null,
       "object_fit": null,
       "object_position": null,
       "order": null,
       "overflow": null,
       "overflow_x": null,
       "overflow_y": null,
       "padding": null,
       "right": null,
       "top": null,
       "visibility": null,
       "width": null
      }
     },
     "68b3b07d875c490a84531f581aed1491": {
      "model_module": "@jupyter-widgets/base",
      "model_module_version": "1.2.0",
      "model_name": "LayoutModel",
      "state": {
       "_model_module": "@jupyter-widgets/base",
       "_model_module_version": "1.2.0",
       "_model_name": "LayoutModel",
       "_view_count": null,
       "_view_module": "@jupyter-widgets/base",
       "_view_module_version": "1.2.0",
       "_view_name": "LayoutView",
       "align_content": null,
       "align_items": null,
       "align_self": null,
       "border": null,
       "bottom": null,
       "display": null,
       "flex": null,
       "flex_flow": null,
       "grid_area": null,
       "grid_auto_columns": null,
       "grid_auto_flow": null,
       "grid_auto_rows": null,
       "grid_column": null,
       "grid_gap": null,
       "grid_row": null,
       "grid_template_areas": null,
       "grid_template_columns": null,
       "grid_template_rows": null,
       "height": null,
       "justify_content": null,
       "justify_items": null,
       "left": null,
       "margin": null,
       "max_height": null,
       "max_width": null,
       "min_height": null,
       "min_width": null,
       "object_fit": null,
       "object_position": null,
       "order": null,
       "overflow": null,
       "overflow_x": null,
       "overflow_y": null,
       "padding": null,
       "right": null,
       "top": null,
       "visibility": null,
       "width": null
      }
     },
     "68cfbf405f264204ac7057c60bcd04f5": {
      "model_module": "@jupyter-widgets/base",
      "model_module_version": "1.2.0",
      "model_name": "LayoutModel",
      "state": {
       "_model_module": "@jupyter-widgets/base",
       "_model_module_version": "1.2.0",
       "_model_name": "LayoutModel",
       "_view_count": null,
       "_view_module": "@jupyter-widgets/base",
       "_view_module_version": "1.2.0",
       "_view_name": "LayoutView",
       "align_content": null,
       "align_items": null,
       "align_self": null,
       "border": null,
       "bottom": null,
       "display": null,
       "flex": null,
       "flex_flow": null,
       "grid_area": null,
       "grid_auto_columns": null,
       "grid_auto_flow": null,
       "grid_auto_rows": null,
       "grid_column": null,
       "grid_gap": null,
       "grid_row": null,
       "grid_template_areas": null,
       "grid_template_columns": null,
       "grid_template_rows": null,
       "height": null,
       "justify_content": null,
       "justify_items": null,
       "left": null,
       "margin": null,
       "max_height": null,
       "max_width": null,
       "min_height": null,
       "min_width": null,
       "object_fit": null,
       "object_position": null,
       "order": null,
       "overflow": null,
       "overflow_x": null,
       "overflow_y": null,
       "padding": null,
       "right": null,
       "top": null,
       "visibility": null,
       "width": null
      }
     },
     "6b8cc542b9ae48f9a2a004dd377b714f": {
      "model_module": "@jupyter-widgets/controls",
      "model_module_version": "1.5.0",
      "model_name": "DescriptionStyleModel",
      "state": {
       "_model_module": "@jupyter-widgets/controls",
       "_model_module_version": "1.5.0",
       "_model_name": "DescriptionStyleModel",
       "_view_count": null,
       "_view_module": "@jupyter-widgets/base",
       "_view_module_version": "1.2.0",
       "_view_name": "StyleView",
       "description_width": ""
      }
     },
     "6cbfc86db4554b0c83fc8f58faf60672": {
      "model_module": "@jupyter-widgets/controls",
      "model_module_version": "1.5.0",
      "model_name": "FloatProgressModel",
      "state": {
       "_dom_classes": [],
       "_model_module": "@jupyter-widgets/controls",
       "_model_module_version": "1.5.0",
       "_model_name": "FloatProgressModel",
       "_view_count": null,
       "_view_module": "@jupyter-widgets/controls",
       "_view_module_version": "1.5.0",
       "_view_name": "ProgressView",
       "bar_style": "success",
       "description": "",
       "description_tooltip": null,
       "layout": "IPY_MODEL_9c3e70d4cfc44b6e8d18cc937f17cc16",
       "max": 226.0,
       "min": 0.0,
       "orientation": "horizontal",
       "style": "IPY_MODEL_46fdc6f53b0744b88d67dfadf34c210f",
       "value": 226.0
      }
     },
     "6da16af633164d7b97c4cc922a22b6e6": {
      "model_module": "@jupyter-widgets/controls",
      "model_module_version": "1.5.0",
      "model_name": "DescriptionStyleModel",
      "state": {
       "_model_module": "@jupyter-widgets/controls",
       "_model_module_version": "1.5.0",
       "_model_name": "DescriptionStyleModel",
       "_view_count": null,
       "_view_module": "@jupyter-widgets/base",
       "_view_module_version": "1.2.0",
       "_view_name": "StyleView",
       "description_width": ""
      }
     },
     "7038f08acbd9430eb329b9a48aba992e": {
      "model_module": "@jupyter-widgets/base",
      "model_module_version": "1.2.0",
      "model_name": "LayoutModel",
      "state": {
       "_model_module": "@jupyter-widgets/base",
       "_model_module_version": "1.2.0",
       "_model_name": "LayoutModel",
       "_view_count": null,
       "_view_module": "@jupyter-widgets/base",
       "_view_module_version": "1.2.0",
       "_view_name": "LayoutView",
       "align_content": null,
       "align_items": null,
       "align_self": null,
       "border": null,
       "bottom": null,
       "display": null,
       "flex": null,
       "flex_flow": null,
       "grid_area": null,
       "grid_auto_columns": null,
       "grid_auto_flow": null,
       "grid_auto_rows": null,
       "grid_column": null,
       "grid_gap": null,
       "grid_row": null,
       "grid_template_areas": null,
       "grid_template_columns": null,
       "grid_template_rows": null,
       "height": null,
       "justify_content": null,
       "justify_items": null,
       "left": null,
       "margin": null,
       "max_height": null,
       "max_width": null,
       "min_height": null,
       "min_width": null,
       "object_fit": null,
       "object_position": null,
       "order": null,
       "overflow": null,
       "overflow_x": null,
       "overflow_y": null,
       "padding": null,
       "right": null,
       "top": null,
       "visibility": null,
       "width": null
      }
     },
     "703f92f861c94c51a5a447f7c80e089a": {
      "model_module": "@jupyter-widgets/base",
      "model_module_version": "1.2.0",
      "model_name": "LayoutModel",
      "state": {
       "_model_module": "@jupyter-widgets/base",
       "_model_module_version": "1.2.0",
       "_model_name": "LayoutModel",
       "_view_count": null,
       "_view_module": "@jupyter-widgets/base",
       "_view_module_version": "1.2.0",
       "_view_name": "LayoutView",
       "align_content": null,
       "align_items": null,
       "align_self": null,
       "border": null,
       "bottom": null,
       "display": null,
       "flex": null,
       "flex_flow": null,
       "grid_area": null,
       "grid_auto_columns": null,
       "grid_auto_flow": null,
       "grid_auto_rows": null,
       "grid_column": null,
       "grid_gap": null,
       "grid_row": null,
       "grid_template_areas": null,
       "grid_template_columns": null,
       "grid_template_rows": null,
       "height": null,
       "justify_content": null,
       "justify_items": null,
       "left": null,
       "margin": null,
       "max_height": null,
       "max_width": null,
       "min_height": null,
       "min_width": null,
       "object_fit": null,
       "object_position": null,
       "order": null,
       "overflow": null,
       "overflow_x": null,
       "overflow_y": null,
       "padding": null,
       "right": null,
       "top": null,
       "visibility": null,
       "width": null
      }
     },
     "7045f33782994791b74117524ed51b17": {
      "model_module": "@jupyter-widgets/base",
      "model_module_version": "1.2.0",
      "model_name": "LayoutModel",
      "state": {
       "_model_module": "@jupyter-widgets/base",
       "_model_module_version": "1.2.0",
       "_model_name": "LayoutModel",
       "_view_count": null,
       "_view_module": "@jupyter-widgets/base",
       "_view_module_version": "1.2.0",
       "_view_name": "LayoutView",
       "align_content": null,
       "align_items": null,
       "align_self": null,
       "border": null,
       "bottom": null,
       "display": null,
       "flex": null,
       "flex_flow": null,
       "grid_area": null,
       "grid_auto_columns": null,
       "grid_auto_flow": null,
       "grid_auto_rows": null,
       "grid_column": null,
       "grid_gap": null,
       "grid_row": null,
       "grid_template_areas": null,
       "grid_template_columns": null,
       "grid_template_rows": null,
       "height": null,
       "justify_content": null,
       "justify_items": null,
       "left": null,
       "margin": null,
       "max_height": null,
       "max_width": null,
       "min_height": null,
       "min_width": null,
       "object_fit": null,
       "object_position": null,
       "order": null,
       "overflow": null,
       "overflow_x": null,
       "overflow_y": null,
       "padding": null,
       "right": null,
       "top": null,
       "visibility": null,
       "width": null
      }
     },
     "726f9af1ea5c4e87be54f592daac6c5c": {
      "model_module": "@jupyter-widgets/controls",
      "model_module_version": "1.5.0",
      "model_name": "DescriptionStyleModel",
      "state": {
       "_model_module": "@jupyter-widgets/controls",
       "_model_module_version": "1.5.0",
       "_model_name": "DescriptionStyleModel",
       "_view_count": null,
       "_view_module": "@jupyter-widgets/base",
       "_view_module_version": "1.2.0",
       "_view_name": "StyleView",
       "description_width": ""
      }
     },
     "72cbcac82f404ff192d6ff4400138a12": {
      "model_module": "@jupyter-widgets/controls",
      "model_module_version": "1.5.0",
      "model_name": "FloatProgressModel",
      "state": {
       "_dom_classes": [],
       "_model_module": "@jupyter-widgets/controls",
       "_model_module_version": "1.5.0",
       "_model_name": "FloatProgressModel",
       "_view_count": null,
       "_view_module": "@jupyter-widgets/controls",
       "_view_module_version": "1.5.0",
       "_view_name": "ProgressView",
       "bar_style": "success",
       "description": "",
       "description_tooltip": null,
       "layout": "IPY_MODEL_a2c1903ce68a456894454fe29b29d3d3",
       "max": 226.0,
       "min": 0.0,
       "orientation": "horizontal",
       "style": "IPY_MODEL_4e784ec77b5d4fb5bf4da53426dfa362",
       "value": 226.0
      }
     },
     "7320009d67a344c3b2be445e353fd477": {
      "model_module": "@jupyter-widgets/base",
      "model_module_version": "1.2.0",
      "model_name": "LayoutModel",
      "state": {
       "_model_module": "@jupyter-widgets/base",
       "_model_module_version": "1.2.0",
       "_model_name": "LayoutModel",
       "_view_count": null,
       "_view_module": "@jupyter-widgets/base",
       "_view_module_version": "1.2.0",
       "_view_name": "LayoutView",
       "align_content": null,
       "align_items": null,
       "align_self": null,
       "border": null,
       "bottom": null,
       "display": null,
       "flex": null,
       "flex_flow": null,
       "grid_area": null,
       "grid_auto_columns": null,
       "grid_auto_flow": null,
       "grid_auto_rows": null,
       "grid_column": null,
       "grid_gap": null,
       "grid_row": null,
       "grid_template_areas": null,
       "grid_template_columns": null,
       "grid_template_rows": null,
       "height": null,
       "justify_content": null,
       "justify_items": null,
       "left": null,
       "margin": null,
       "max_height": null,
       "max_width": null,
       "min_height": null,
       "min_width": null,
       "object_fit": null,
       "object_position": null,
       "order": null,
       "overflow": null,
       "overflow_x": null,
       "overflow_y": null,
       "padding": null,
       "right": null,
       "top": null,
       "visibility": null,
       "width": null
      }
     },
     "783c76f7d7134a61baeecdea02405200": {
      "model_module": "@jupyter-widgets/controls",
      "model_module_version": "1.5.0",
      "model_name": "DescriptionStyleModel",
      "state": {
       "_model_module": "@jupyter-widgets/controls",
       "_model_module_version": "1.5.0",
       "_model_name": "DescriptionStyleModel",
       "_view_count": null,
       "_view_module": "@jupyter-widgets/base",
       "_view_module_version": "1.2.0",
       "_view_name": "StyleView",
       "description_width": ""
      }
     },
     "7a0397974868434a8e6c6e8aef4b5335": {
      "model_module": "@jupyter-widgets/controls",
      "model_module_version": "1.5.0",
      "model_name": "ProgressStyleModel",
      "state": {
       "_model_module": "@jupyter-widgets/controls",
       "_model_module_version": "1.5.0",
       "_model_name": "ProgressStyleModel",
       "_view_count": null,
       "_view_module": "@jupyter-widgets/base",
       "_view_module_version": "1.2.0",
       "_view_name": "StyleView",
       "bar_color": null,
       "description_width": ""
      }
     },
     "7a3a878e06c44bb185dadb11ec50694e": {
      "model_module": "@jupyter-widgets/controls",
      "model_module_version": "1.5.0",
      "model_name": "DescriptionStyleModel",
      "state": {
       "_model_module": "@jupyter-widgets/controls",
       "_model_module_version": "1.5.0",
       "_model_name": "DescriptionStyleModel",
       "_view_count": null,
       "_view_module": "@jupyter-widgets/base",
       "_view_module_version": "1.2.0",
       "_view_name": "StyleView",
       "description_width": ""
      }
     },
     "7bda2fa92c534c349d8db2825831a1b2": {
      "model_module": "@jupyter-widgets/base",
      "model_module_version": "1.2.0",
      "model_name": "LayoutModel",
      "state": {
       "_model_module": "@jupyter-widgets/base",
       "_model_module_version": "1.2.0",
       "_model_name": "LayoutModel",
       "_view_count": null,
       "_view_module": "@jupyter-widgets/base",
       "_view_module_version": "1.2.0",
       "_view_name": "LayoutView",
       "align_content": null,
       "align_items": null,
       "align_self": null,
       "border": null,
       "bottom": null,
       "display": null,
       "flex": null,
       "flex_flow": null,
       "grid_area": null,
       "grid_auto_columns": null,
       "grid_auto_flow": null,
       "grid_auto_rows": null,
       "grid_column": null,
       "grid_gap": null,
       "grid_row": null,
       "grid_template_areas": null,
       "grid_template_columns": null,
       "grid_template_rows": null,
       "height": null,
       "justify_content": null,
       "justify_items": null,
       "left": null,
       "margin": null,
       "max_height": null,
       "max_width": null,
       "min_height": null,
       "min_width": null,
       "object_fit": null,
       "object_position": null,
       "order": null,
       "overflow": null,
       "overflow_x": null,
       "overflow_y": null,
       "padding": null,
       "right": null,
       "top": null,
       "visibility": null,
       "width": null
      }
     },
     "7ca9d074946640dfbd7552ef8e5ef510": {
      "model_module": "@jupyter-widgets/base",
      "model_module_version": "1.2.0",
      "model_name": "LayoutModel",
      "state": {
       "_model_module": "@jupyter-widgets/base",
       "_model_module_version": "1.2.0",
       "_model_name": "LayoutModel",
       "_view_count": null,
       "_view_module": "@jupyter-widgets/base",
       "_view_module_version": "1.2.0",
       "_view_name": "LayoutView",
       "align_content": null,
       "align_items": null,
       "align_self": null,
       "border": null,
       "bottom": null,
       "display": null,
       "flex": null,
       "flex_flow": null,
       "grid_area": null,
       "grid_auto_columns": null,
       "grid_auto_flow": null,
       "grid_auto_rows": null,
       "grid_column": null,
       "grid_gap": null,
       "grid_row": null,
       "grid_template_areas": null,
       "grid_template_columns": null,
       "grid_template_rows": null,
       "height": null,
       "justify_content": null,
       "justify_items": null,
       "left": null,
       "margin": null,
       "max_height": null,
       "max_width": null,
       "min_height": null,
       "min_width": null,
       "object_fit": null,
       "object_position": null,
       "order": null,
       "overflow": null,
       "overflow_x": null,
       "overflow_y": null,
       "padding": null,
       "right": null,
       "top": null,
       "visibility": null,
       "width": null
      }
     },
     "7d01bd98823a46c998a01c4aeb9d9312": {
      "model_module": "@jupyter-widgets/base",
      "model_module_version": "1.2.0",
      "model_name": "LayoutModel",
      "state": {
       "_model_module": "@jupyter-widgets/base",
       "_model_module_version": "1.2.0",
       "_model_name": "LayoutModel",
       "_view_count": null,
       "_view_module": "@jupyter-widgets/base",
       "_view_module_version": "1.2.0",
       "_view_name": "LayoutView",
       "align_content": null,
       "align_items": null,
       "align_self": null,
       "border": null,
       "bottom": null,
       "display": null,
       "flex": null,
       "flex_flow": null,
       "grid_area": null,
       "grid_auto_columns": null,
       "grid_auto_flow": null,
       "grid_auto_rows": null,
       "grid_column": null,
       "grid_gap": null,
       "grid_row": null,
       "grid_template_areas": null,
       "grid_template_columns": null,
       "grid_template_rows": null,
       "height": null,
       "justify_content": null,
       "justify_items": null,
       "left": null,
       "margin": null,
       "max_height": null,
       "max_width": null,
       "min_height": null,
       "min_width": null,
       "object_fit": null,
       "object_position": null,
       "order": null,
       "overflow": null,
       "overflow_x": null,
       "overflow_y": null,
       "padding": null,
       "right": null,
       "top": null,
       "visibility": null,
       "width": null
      }
     },
     "7e20a91e0a58477ca7d4b8ca5dd3a6c1": {
      "model_module": "@jupyter-widgets/controls",
      "model_module_version": "1.5.0",
      "model_name": "ProgressStyleModel",
      "state": {
       "_model_module": "@jupyter-widgets/controls",
       "_model_module_version": "1.5.0",
       "_model_name": "ProgressStyleModel",
       "_view_count": null,
       "_view_module": "@jupyter-widgets/base",
       "_view_module_version": "1.2.0",
       "_view_name": "StyleView",
       "bar_color": null,
       "description_width": ""
      }
     },
     "7f6d95c79bd7434bb4e8b61f9cbfa98c": {
      "model_module": "@jupyter-widgets/controls",
      "model_module_version": "1.5.0",
      "model_name": "ProgressStyleModel",
      "state": {
       "_model_module": "@jupyter-widgets/controls",
       "_model_module_version": "1.5.0",
       "_model_name": "ProgressStyleModel",
       "_view_count": null,
       "_view_module": "@jupyter-widgets/base",
       "_view_module_version": "1.2.0",
       "_view_name": "StyleView",
       "bar_color": null,
       "description_width": ""
      }
     },
     "7faa882d308c43968472f976b65fd179": {
      "model_module": "@jupyter-widgets/base",
      "model_module_version": "1.2.0",
      "model_name": "LayoutModel",
      "state": {
       "_model_module": "@jupyter-widgets/base",
       "_model_module_version": "1.2.0",
       "_model_name": "LayoutModel",
       "_view_count": null,
       "_view_module": "@jupyter-widgets/base",
       "_view_module_version": "1.2.0",
       "_view_name": "LayoutView",
       "align_content": null,
       "align_items": null,
       "align_self": null,
       "border": null,
       "bottom": null,
       "display": null,
       "flex": null,
       "flex_flow": null,
       "grid_area": null,
       "grid_auto_columns": null,
       "grid_auto_flow": null,
       "grid_auto_rows": null,
       "grid_column": null,
       "grid_gap": null,
       "grid_row": null,
       "grid_template_areas": null,
       "grid_template_columns": null,
       "grid_template_rows": null,
       "height": null,
       "justify_content": null,
       "justify_items": null,
       "left": null,
       "margin": null,
       "max_height": null,
       "max_width": null,
       "min_height": null,
       "min_width": null,
       "object_fit": null,
       "object_position": null,
       "order": null,
       "overflow": null,
       "overflow_x": null,
       "overflow_y": null,
       "padding": null,
       "right": null,
       "top": null,
       "visibility": null,
       "width": null
      }
     },
     "8063e6594aad4853bfa5d679796e6eba": {
      "model_module": "@jupyter-widgets/base",
      "model_module_version": "1.2.0",
      "model_name": "LayoutModel",
      "state": {
       "_model_module": "@jupyter-widgets/base",
       "_model_module_version": "1.2.0",
       "_model_name": "LayoutModel",
       "_view_count": null,
       "_view_module": "@jupyter-widgets/base",
       "_view_module_version": "1.2.0",
       "_view_name": "LayoutView",
       "align_content": null,
       "align_items": null,
       "align_self": null,
       "border": null,
       "bottom": null,
       "display": null,
       "flex": null,
       "flex_flow": null,
       "grid_area": null,
       "grid_auto_columns": null,
       "grid_auto_flow": null,
       "grid_auto_rows": null,
       "grid_column": null,
       "grid_gap": null,
       "grid_row": null,
       "grid_template_areas": null,
       "grid_template_columns": null,
       "grid_template_rows": null,
       "height": null,
       "justify_content": null,
       "justify_items": null,
       "left": null,
       "margin": null,
       "max_height": null,
       "max_width": null,
       "min_height": null,
       "min_width": null,
       "object_fit": null,
       "object_position": null,
       "order": null,
       "overflow": null,
       "overflow_x": null,
       "overflow_y": null,
       "padding": null,
       "right": null,
       "top": null,
       "visibility": null,
       "width": null
      }
     },
     "83d285a7572d42f39a69964fa7fe84de": {
      "model_module": "@jupyter-widgets/controls",
      "model_module_version": "1.5.0",
      "model_name": "ProgressStyleModel",
      "state": {
       "_model_module": "@jupyter-widgets/controls",
       "_model_module_version": "1.5.0",
       "_model_name": "ProgressStyleModel",
       "_view_count": null,
       "_view_module": "@jupyter-widgets/base",
       "_view_module_version": "1.2.0",
       "_view_name": "StyleView",
       "bar_color": null,
       "description_width": ""
      }
     },
     "83d308293ee34ac593da18ee14535db5": {
      "model_module": "@jupyter-widgets/controls",
      "model_module_version": "1.5.0",
      "model_name": "DescriptionStyleModel",
      "state": {
       "_model_module": "@jupyter-widgets/controls",
       "_model_module_version": "1.5.0",
       "_model_name": "DescriptionStyleModel",
       "_view_count": null,
       "_view_module": "@jupyter-widgets/base",
       "_view_module_version": "1.2.0",
       "_view_name": "StyleView",
       "description_width": ""
      }
     },
     "843d976209c74653b67b33f7aa22fe14": {
      "model_module": "@jupyter-widgets/base",
      "model_module_version": "1.2.0",
      "model_name": "LayoutModel",
      "state": {
       "_model_module": "@jupyter-widgets/base",
       "_model_module_version": "1.2.0",
       "_model_name": "LayoutModel",
       "_view_count": null,
       "_view_module": "@jupyter-widgets/base",
       "_view_module_version": "1.2.0",
       "_view_name": "LayoutView",
       "align_content": null,
       "align_items": null,
       "align_self": null,
       "border": null,
       "bottom": null,
       "display": null,
       "flex": null,
       "flex_flow": null,
       "grid_area": null,
       "grid_auto_columns": null,
       "grid_auto_flow": null,
       "grid_auto_rows": null,
       "grid_column": null,
       "grid_gap": null,
       "grid_row": null,
       "grid_template_areas": null,
       "grid_template_columns": null,
       "grid_template_rows": null,
       "height": null,
       "justify_content": null,
       "justify_items": null,
       "left": null,
       "margin": null,
       "max_height": null,
       "max_width": null,
       "min_height": null,
       "min_width": null,
       "object_fit": null,
       "object_position": null,
       "order": null,
       "overflow": null,
       "overflow_x": null,
       "overflow_y": null,
       "padding": null,
       "right": null,
       "top": null,
       "visibility": null,
       "width": null
      }
     },
     "844ac7f2d1c048129f1f3d34cb56131a": {
      "model_module": "@jupyter-widgets/controls",
      "model_module_version": "1.5.0",
      "model_name": "ProgressStyleModel",
      "state": {
       "_model_module": "@jupyter-widgets/controls",
       "_model_module_version": "1.5.0",
       "_model_name": "ProgressStyleModel",
       "_view_count": null,
       "_view_module": "@jupyter-widgets/base",
       "_view_module_version": "1.2.0",
       "_view_name": "StyleView",
       "bar_color": null,
       "description_width": ""
      }
     },
     "84d75b59281247cca5e31d05f8ca1bb6": {
      "model_module": "@jupyter-widgets/controls",
      "model_module_version": "1.5.0",
      "model_name": "DescriptionStyleModel",
      "state": {
       "_model_module": "@jupyter-widgets/controls",
       "_model_module_version": "1.5.0",
       "_model_name": "DescriptionStyleModel",
       "_view_count": null,
       "_view_module": "@jupyter-widgets/base",
       "_view_module_version": "1.2.0",
       "_view_name": "StyleView",
       "description_width": ""
      }
     },
     "855eaf53e27c40cb9cec9e72cb48027b": {
      "model_module": "@jupyter-widgets/base",
      "model_module_version": "1.2.0",
      "model_name": "LayoutModel",
      "state": {
       "_model_module": "@jupyter-widgets/base",
       "_model_module_version": "1.2.0",
       "_model_name": "LayoutModel",
       "_view_count": null,
       "_view_module": "@jupyter-widgets/base",
       "_view_module_version": "1.2.0",
       "_view_name": "LayoutView",
       "align_content": null,
       "align_items": null,
       "align_self": null,
       "border": null,
       "bottom": null,
       "display": null,
       "flex": null,
       "flex_flow": null,
       "grid_area": null,
       "grid_auto_columns": null,
       "grid_auto_flow": null,
       "grid_auto_rows": null,
       "grid_column": null,
       "grid_gap": null,
       "grid_row": null,
       "grid_template_areas": null,
       "grid_template_columns": null,
       "grid_template_rows": null,
       "height": null,
       "justify_content": null,
       "justify_items": null,
       "left": null,
       "margin": null,
       "max_height": null,
       "max_width": null,
       "min_height": null,
       "min_width": null,
       "object_fit": null,
       "object_position": null,
       "order": null,
       "overflow": null,
       "overflow_x": null,
       "overflow_y": null,
       "padding": null,
       "right": null,
       "top": null,
       "visibility": null,
       "width": null
      }
     },
     "86c28e6c2c6a4c588bfe3d816d12803c": {
      "model_module": "@jupyter-widgets/base",
      "model_module_version": "1.2.0",
      "model_name": "LayoutModel",
      "state": {
       "_model_module": "@jupyter-widgets/base",
       "_model_module_version": "1.2.0",
       "_model_name": "LayoutModel",
       "_view_count": null,
       "_view_module": "@jupyter-widgets/base",
       "_view_module_version": "1.2.0",
       "_view_name": "LayoutView",
       "align_content": null,
       "align_items": null,
       "align_self": null,
       "border": null,
       "bottom": null,
       "display": null,
       "flex": null,
       "flex_flow": null,
       "grid_area": null,
       "grid_auto_columns": null,
       "grid_auto_flow": null,
       "grid_auto_rows": null,
       "grid_column": null,
       "grid_gap": null,
       "grid_row": null,
       "grid_template_areas": null,
       "grid_template_columns": null,
       "grid_template_rows": null,
       "height": null,
       "justify_content": null,
       "justify_items": null,
       "left": null,
       "margin": null,
       "max_height": null,
       "max_width": null,
       "min_height": null,
       "min_width": null,
       "object_fit": null,
       "object_position": null,
       "order": null,
       "overflow": null,
       "overflow_x": null,
       "overflow_y": null,
       "padding": null,
       "right": null,
       "top": null,
       "visibility": null,
       "width": null
      }
     },
     "89e523ea5a00467e896b9f783845db79": {
      "model_module": "@jupyter-widgets/controls",
      "model_module_version": "1.5.0",
      "model_name": "HTMLModel",
      "state": {
       "_dom_classes": [],
       "_model_module": "@jupyter-widgets/controls",
       "_model_module_version": "1.5.0",
       "_model_name": "HTMLModel",
       "_view_count": null,
       "_view_module": "@jupyter-widgets/controls",
       "_view_module_version": "1.5.0",
       "_view_name": "HTMLView",
       "description": "",
       "description_tooltip": null,
       "layout": "IPY_MODEL_8d7bb6ab01cc488e9ebfd51551e75316",
       "placeholder": "​",
       "style": "IPY_MODEL_0cd6bf43c41340d0bd11d1ef52554bab",
       "value": " 226/226 [02:07&lt;00:00,  5.35it/s]"
      }
     },
     "8af744e3a22b4245ba396f5713964c19": {
      "model_module": "@jupyter-widgets/controls",
      "model_module_version": "1.5.0",
      "model_name": "DescriptionStyleModel",
      "state": {
       "_model_module": "@jupyter-widgets/controls",
       "_model_module_version": "1.5.0",
       "_model_name": "DescriptionStyleModel",
       "_view_count": null,
       "_view_module": "@jupyter-widgets/base",
       "_view_module_version": "1.2.0",
       "_view_name": "StyleView",
       "description_width": ""
      }
     },
     "8b644f520f724b70bfbd58fbb7450585": {
      "model_module": "@jupyter-widgets/controls",
      "model_module_version": "1.5.0",
      "model_name": "HTMLModel",
      "state": {
       "_dom_classes": [],
       "_model_module": "@jupyter-widgets/controls",
       "_model_module_version": "1.5.0",
       "_model_name": "HTMLModel",
       "_view_count": null,
       "_view_module": "@jupyter-widgets/controls",
       "_view_module_version": "1.5.0",
       "_view_name": "HTMLView",
       "description": "",
       "description_tooltip": null,
       "layout": "IPY_MODEL_669183588bc24bf2b2abf34cc839fe84",
       "placeholder": "​",
       "style": "IPY_MODEL_6da16af633164d7b97c4cc922a22b6e6",
       "value": " 226/226 [01:45&lt;00:00,  4.76it/s]"
      }
     },
     "8bc3cb41cc1d4a4d82f6fd32eb78fd7e": {
      "model_module": "@jupyter-widgets/controls",
      "model_module_version": "1.5.0",
      "model_name": "FloatProgressModel",
      "state": {
       "_dom_classes": [],
       "_model_module": "@jupyter-widgets/controls",
       "_model_module_version": "1.5.0",
       "_model_name": "FloatProgressModel",
       "_view_count": null,
       "_view_module": "@jupyter-widgets/controls",
       "_view_module_version": "1.5.0",
       "_view_name": "ProgressView",
       "bar_style": "success",
       "description": "",
       "description_tooltip": null,
       "layout": "IPY_MODEL_d5336a939fc74f52b96cd0f625b1bb85",
       "max": 226.0,
       "min": 0.0,
       "orientation": "horizontal",
       "style": "IPY_MODEL_1aa9660700f4421ab465817be6867300",
       "value": 226.0
      }
     },
     "8d4fc5fa624d437b90945cbabb5802c6": {
      "model_module": "@jupyter-widgets/base",
      "model_module_version": "1.2.0",
      "model_name": "LayoutModel",
      "state": {
       "_model_module": "@jupyter-widgets/base",
       "_model_module_version": "1.2.0",
       "_model_name": "LayoutModel",
       "_view_count": null,
       "_view_module": "@jupyter-widgets/base",
       "_view_module_version": "1.2.0",
       "_view_name": "LayoutView",
       "align_content": null,
       "align_items": null,
       "align_self": null,
       "border": null,
       "bottom": null,
       "display": null,
       "flex": null,
       "flex_flow": null,
       "grid_area": null,
       "grid_auto_columns": null,
       "grid_auto_flow": null,
       "grid_auto_rows": null,
       "grid_column": null,
       "grid_gap": null,
       "grid_row": null,
       "grid_template_areas": null,
       "grid_template_columns": null,
       "grid_template_rows": null,
       "height": null,
       "justify_content": null,
       "justify_items": null,
       "left": null,
       "margin": null,
       "max_height": null,
       "max_width": null,
       "min_height": null,
       "min_width": null,
       "object_fit": null,
       "object_position": null,
       "order": null,
       "overflow": null,
       "overflow_x": null,
       "overflow_y": null,
       "padding": null,
       "right": null,
       "top": null,
       "visibility": null,
       "width": null
      }
     },
     "8d7bb6ab01cc488e9ebfd51551e75316": {
      "model_module": "@jupyter-widgets/base",
      "model_module_version": "1.2.0",
      "model_name": "LayoutModel",
      "state": {
       "_model_module": "@jupyter-widgets/base",
       "_model_module_version": "1.2.0",
       "_model_name": "LayoutModel",
       "_view_count": null,
       "_view_module": "@jupyter-widgets/base",
       "_view_module_version": "1.2.0",
       "_view_name": "LayoutView",
       "align_content": null,
       "align_items": null,
       "align_self": null,
       "border": null,
       "bottom": null,
       "display": null,
       "flex": null,
       "flex_flow": null,
       "grid_area": null,
       "grid_auto_columns": null,
       "grid_auto_flow": null,
       "grid_auto_rows": null,
       "grid_column": null,
       "grid_gap": null,
       "grid_row": null,
       "grid_template_areas": null,
       "grid_template_columns": null,
       "grid_template_rows": null,
       "height": null,
       "justify_content": null,
       "justify_items": null,
       "left": null,
       "margin": null,
       "max_height": null,
       "max_width": null,
       "min_height": null,
       "min_width": null,
       "object_fit": null,
       "object_position": null,
       "order": null,
       "overflow": null,
       "overflow_x": null,
       "overflow_y": null,
       "padding": null,
       "right": null,
       "top": null,
       "visibility": null,
       "width": null
      }
     },
     "8e2824622335441394c688241b7de901": {
      "model_module": "@jupyter-widgets/base",
      "model_module_version": "1.2.0",
      "model_name": "LayoutModel",
      "state": {
       "_model_module": "@jupyter-widgets/base",
       "_model_module_version": "1.2.0",
       "_model_name": "LayoutModel",
       "_view_count": null,
       "_view_module": "@jupyter-widgets/base",
       "_view_module_version": "1.2.0",
       "_view_name": "LayoutView",
       "align_content": null,
       "align_items": null,
       "align_self": null,
       "border": null,
       "bottom": null,
       "display": null,
       "flex": null,
       "flex_flow": null,
       "grid_area": null,
       "grid_auto_columns": null,
       "grid_auto_flow": null,
       "grid_auto_rows": null,
       "grid_column": null,
       "grid_gap": null,
       "grid_row": null,
       "grid_template_areas": null,
       "grid_template_columns": null,
       "grid_template_rows": null,
       "height": null,
       "justify_content": null,
       "justify_items": null,
       "left": null,
       "margin": null,
       "max_height": null,
       "max_width": null,
       "min_height": null,
       "min_width": null,
       "object_fit": null,
       "object_position": null,
       "order": null,
       "overflow": null,
       "overflow_x": null,
       "overflow_y": null,
       "padding": null,
       "right": null,
       "top": null,
       "visibility": null,
       "width": null
      }
     },
     "9041eebea41b4177a9a2f7a528dc96a8": {
      "model_module": "@jupyter-widgets/controls",
      "model_module_version": "1.5.0",
      "model_name": "DescriptionStyleModel",
      "state": {
       "_model_module": "@jupyter-widgets/controls",
       "_model_module_version": "1.5.0",
       "_model_name": "DescriptionStyleModel",
       "_view_count": null,
       "_view_module": "@jupyter-widgets/base",
       "_view_module_version": "1.2.0",
       "_view_name": "StyleView",
       "description_width": ""
      }
     },
     "9119d0aadd17485dbd565e97747624e1": {
      "model_module": "@jupyter-widgets/controls",
      "model_module_version": "1.5.0",
      "model_name": "HTMLModel",
      "state": {
       "_dom_classes": [],
       "_model_module": "@jupyter-widgets/controls",
       "_model_module_version": "1.5.0",
       "_model_name": "HTMLModel",
       "_view_count": null,
       "_view_module": "@jupyter-widgets/controls",
       "_view_module_version": "1.5.0",
       "_view_name": "HTMLView",
       "description": "",
       "description_tooltip": null,
       "layout": "IPY_MODEL_b83c623c3d674148b9d3ee91c08f487b",
       "placeholder": "​",
       "style": "IPY_MODEL_3445c45cba2144ad988b8c510738181b",
       "value": "100%"
      }
     },
     "91ece1e6efba438685251d7718665ddf": {
      "model_module": "@jupyter-widgets/controls",
      "model_module_version": "1.5.0",
      "model_name": "DescriptionStyleModel",
      "state": {
       "_model_module": "@jupyter-widgets/controls",
       "_model_module_version": "1.5.0",
       "_model_name": "DescriptionStyleModel",
       "_view_count": null,
       "_view_module": "@jupyter-widgets/base",
       "_view_module_version": "1.2.0",
       "_view_name": "StyleView",
       "description_width": ""
      }
     },
     "93c16df267184529abee7316fcf582cf": {
      "model_module": "@jupyter-widgets/base",
      "model_module_version": "1.2.0",
      "model_name": "LayoutModel",
      "state": {
       "_model_module": "@jupyter-widgets/base",
       "_model_module_version": "1.2.0",
       "_model_name": "LayoutModel",
       "_view_count": null,
       "_view_module": "@jupyter-widgets/base",
       "_view_module_version": "1.2.0",
       "_view_name": "LayoutView",
       "align_content": null,
       "align_items": null,
       "align_self": null,
       "border": null,
       "bottom": null,
       "display": null,
       "flex": null,
       "flex_flow": null,
       "grid_area": null,
       "grid_auto_columns": null,
       "grid_auto_flow": null,
       "grid_auto_rows": null,
       "grid_column": null,
       "grid_gap": null,
       "grid_row": null,
       "grid_template_areas": null,
       "grid_template_columns": null,
       "grid_template_rows": null,
       "height": null,
       "justify_content": null,
       "justify_items": null,
       "left": null,
       "margin": null,
       "max_height": null,
       "max_width": null,
       "min_height": null,
       "min_width": null,
       "object_fit": null,
       "object_position": null,
       "order": null,
       "overflow": null,
       "overflow_x": null,
       "overflow_y": null,
       "padding": null,
       "right": null,
       "top": null,
       "visibility": null,
       "width": null
      }
     },
     "93e315a1d79044c29eb273d3973891b4": {
      "model_module": "@jupyter-widgets/controls",
      "model_module_version": "1.5.0",
      "model_name": "ProgressStyleModel",
      "state": {
       "_model_module": "@jupyter-widgets/controls",
       "_model_module_version": "1.5.0",
       "_model_name": "ProgressStyleModel",
       "_view_count": null,
       "_view_module": "@jupyter-widgets/base",
       "_view_module_version": "1.2.0",
       "_view_name": "StyleView",
       "bar_color": null,
       "description_width": ""
      }
     },
     "9664e4ed951e4373ad05b7991ac1ebfe": {
      "model_module": "@jupyter-widgets/base",
      "model_module_version": "1.2.0",
      "model_name": "LayoutModel",
      "state": {
       "_model_module": "@jupyter-widgets/base",
       "_model_module_version": "1.2.0",
       "_model_name": "LayoutModel",
       "_view_count": null,
       "_view_module": "@jupyter-widgets/base",
       "_view_module_version": "1.2.0",
       "_view_name": "LayoutView",
       "align_content": null,
       "align_items": null,
       "align_self": null,
       "border": null,
       "bottom": null,
       "display": null,
       "flex": null,
       "flex_flow": null,
       "grid_area": null,
       "grid_auto_columns": null,
       "grid_auto_flow": null,
       "grid_auto_rows": null,
       "grid_column": null,
       "grid_gap": null,
       "grid_row": null,
       "grid_template_areas": null,
       "grid_template_columns": null,
       "grid_template_rows": null,
       "height": null,
       "justify_content": null,
       "justify_items": null,
       "left": null,
       "margin": null,
       "max_height": null,
       "max_width": null,
       "min_height": null,
       "min_width": null,
       "object_fit": null,
       "object_position": null,
       "order": null,
       "overflow": null,
       "overflow_x": null,
       "overflow_y": null,
       "padding": null,
       "right": null,
       "top": null,
       "visibility": null,
       "width": null
      }
     },
     "977e99ad89b24c8f8db1ea696dc24383": {
      "model_module": "@jupyter-widgets/controls",
      "model_module_version": "1.5.0",
      "model_name": "DescriptionStyleModel",
      "state": {
       "_model_module": "@jupyter-widgets/controls",
       "_model_module_version": "1.5.0",
       "_model_name": "DescriptionStyleModel",
       "_view_count": null,
       "_view_module": "@jupyter-widgets/base",
       "_view_module_version": "1.2.0",
       "_view_name": "StyleView",
       "description_width": ""
      }
     },
     "97cdc5ce2dc7420dba8771238695121c": {
      "model_module": "@jupyter-widgets/controls",
      "model_module_version": "1.5.0",
      "model_name": "HTMLModel",
      "state": {
       "_dom_classes": [],
       "_model_module": "@jupyter-widgets/controls",
       "_model_module_version": "1.5.0",
       "_model_name": "HTMLModel",
       "_view_count": null,
       "_view_module": "@jupyter-widgets/controls",
       "_view_module_version": "1.5.0",
       "_view_name": "HTMLView",
       "description": "",
       "description_tooltip": null,
       "layout": "IPY_MODEL_4b112d6807984efb93838430f38d4d76",
       "placeholder": "​",
       "style": "IPY_MODEL_4c0a1608952c41eda18c55a6e1693732",
       "value": " 19/20 [41:35&lt;01:54, 114.23s/it]"
      }
     },
     "984d4d66413f426d80036ef00a1dcc67": {
      "model_module": "@jupyter-widgets/controls",
      "model_module_version": "1.5.0",
      "model_name": "HBoxModel",
      "state": {
       "_dom_classes": [],
       "_model_module": "@jupyter-widgets/controls",
       "_model_module_version": "1.5.0",
       "_model_name": "HBoxModel",
       "_view_count": null,
       "_view_module": "@jupyter-widgets/controls",
       "_view_module_version": "1.5.0",
       "_view_name": "HBoxView",
       "box_style": "",
       "children": [
        "IPY_MODEL_a08d9fbcbb2948849b62d0e7be4ce940",
        "IPY_MODEL_c94644f3593c4e2a90e6d959cf909b76",
        "IPY_MODEL_326f70fb170445589fce3b67c6830638"
       ],
       "layout": "IPY_MODEL_e0022318bf894b1296e7a838ae128015"
      }
     },
     "98a40652ac644c4c85e3edc48afd3bf1": {
      "model_module": "@jupyter-widgets/controls",
      "model_module_version": "1.5.0",
      "model_name": "HBoxModel",
      "state": {
       "_dom_classes": [],
       "_model_module": "@jupyter-widgets/controls",
       "_model_module_version": "1.5.0",
       "_model_name": "HBoxModel",
       "_view_count": null,
       "_view_module": "@jupyter-widgets/controls",
       "_view_module_version": "1.5.0",
       "_view_name": "HBoxView",
       "box_style": "",
       "children": [
        "IPY_MODEL_2dbcb36c0ffc4db08bdbf5ce4a109845",
        "IPY_MODEL_38ff557838a74e61a5a55fad7bfb941c",
        "IPY_MODEL_2866e2d5dc204de1a8391dddccb1eb2c"
       ],
       "layout": "IPY_MODEL_1e6fe7354da24bebb9a76939b5713b6c"
      }
     },
     "9a1a5a873b8542eebf2138a71ea3ef48": {
      "model_module": "@jupyter-widgets/controls",
      "model_module_version": "1.5.0",
      "model_name": "HTMLModel",
      "state": {
       "_dom_classes": [],
       "_model_module": "@jupyter-widgets/controls",
       "_model_module_version": "1.5.0",
       "_model_name": "HTMLModel",
       "_view_count": null,
       "_view_module": "@jupyter-widgets/controls",
       "_view_module_version": "1.5.0",
       "_view_name": "HTMLView",
       "description": "",
       "description_tooltip": null,
       "layout": "IPY_MODEL_86c28e6c2c6a4c588bfe3d816d12803c",
       "placeholder": "​",
       "style": "IPY_MODEL_5613f868ed944c40acb922c1ad3cf6ba",
       "value": " 226/226 [01:51&lt;00:00,  5.47it/s]"
      }
     },
     "9b7dd888d9184db7b684f0f3e26437d4": {
      "model_module": "@jupyter-widgets/controls",
      "model_module_version": "1.5.0",
      "model_name": "ProgressStyleModel",
      "state": {
       "_model_module": "@jupyter-widgets/controls",
       "_model_module_version": "1.5.0",
       "_model_name": "ProgressStyleModel",
       "_view_count": null,
       "_view_module": "@jupyter-widgets/base",
       "_view_module_version": "1.2.0",
       "_view_name": "StyleView",
       "bar_color": null,
       "description_width": ""
      }
     },
     "9bedc24b3f114c92a9a00ae8072d6c3b": {
      "model_module": "@jupyter-widgets/base",
      "model_module_version": "1.2.0",
      "model_name": "LayoutModel",
      "state": {
       "_model_module": "@jupyter-widgets/base",
       "_model_module_version": "1.2.0",
       "_model_name": "LayoutModel",
       "_view_count": null,
       "_view_module": "@jupyter-widgets/base",
       "_view_module_version": "1.2.0",
       "_view_name": "LayoutView",
       "align_content": null,
       "align_items": null,
       "align_self": null,
       "border": null,
       "bottom": null,
       "display": null,
       "flex": null,
       "flex_flow": null,
       "grid_area": null,
       "grid_auto_columns": null,
       "grid_auto_flow": null,
       "grid_auto_rows": null,
       "grid_column": null,
       "grid_gap": null,
       "grid_row": null,
       "grid_template_areas": null,
       "grid_template_columns": null,
       "grid_template_rows": null,
       "height": null,
       "justify_content": null,
       "justify_items": null,
       "left": null,
       "margin": null,
       "max_height": null,
       "max_width": null,
       "min_height": null,
       "min_width": null,
       "object_fit": null,
       "object_position": null,
       "order": null,
       "overflow": null,
       "overflow_x": null,
       "overflow_y": null,
       "padding": null,
       "right": null,
       "top": null,
       "visibility": null,
       "width": null
      }
     },
     "9c3e70d4cfc44b6e8d18cc937f17cc16": {
      "model_module": "@jupyter-widgets/base",
      "model_module_version": "1.2.0",
      "model_name": "LayoutModel",
      "state": {
       "_model_module": "@jupyter-widgets/base",
       "_model_module_version": "1.2.0",
       "_model_name": "LayoutModel",
       "_view_count": null,
       "_view_module": "@jupyter-widgets/base",
       "_view_module_version": "1.2.0",
       "_view_name": "LayoutView",
       "align_content": null,
       "align_items": null,
       "align_self": null,
       "border": null,
       "bottom": null,
       "display": null,
       "flex": null,
       "flex_flow": null,
       "grid_area": null,
       "grid_auto_columns": null,
       "grid_auto_flow": null,
       "grid_auto_rows": null,
       "grid_column": null,
       "grid_gap": null,
       "grid_row": null,
       "grid_template_areas": null,
       "grid_template_columns": null,
       "grid_template_rows": null,
       "height": null,
       "justify_content": null,
       "justify_items": null,
       "left": null,
       "margin": null,
       "max_height": null,
       "max_width": null,
       "min_height": null,
       "min_width": null,
       "object_fit": null,
       "object_position": null,
       "order": null,
       "overflow": null,
       "overflow_x": null,
       "overflow_y": null,
       "padding": null,
       "right": null,
       "top": null,
       "visibility": null,
       "width": null
      }
     },
     "9c49645723f2475fa2b0dcc2046e523a": {
      "model_module": "@jupyter-widgets/controls",
      "model_module_version": "1.5.0",
      "model_name": "ProgressStyleModel",
      "state": {
       "_model_module": "@jupyter-widgets/controls",
       "_model_module_version": "1.5.0",
       "_model_name": "ProgressStyleModel",
       "_view_count": null,
       "_view_module": "@jupyter-widgets/base",
       "_view_module_version": "1.2.0",
       "_view_name": "StyleView",
       "bar_color": null,
       "description_width": ""
      }
     },
     "9cd1243a70364a678c8995ae68af1158": {
      "model_module": "@jupyter-widgets/controls",
      "model_module_version": "1.5.0",
      "model_name": "ProgressStyleModel",
      "state": {
       "_model_module": "@jupyter-widgets/controls",
       "_model_module_version": "1.5.0",
       "_model_name": "ProgressStyleModel",
       "_view_count": null,
       "_view_module": "@jupyter-widgets/base",
       "_view_module_version": "1.2.0",
       "_view_name": "StyleView",
       "bar_color": null,
       "description_width": ""
      }
     },
     "a08d9fbcbb2948849b62d0e7be4ce940": {
      "model_module": "@jupyter-widgets/controls",
      "model_module_version": "1.5.0",
      "model_name": "HTMLModel",
      "state": {
       "_dom_classes": [],
       "_model_module": "@jupyter-widgets/controls",
       "_model_module_version": "1.5.0",
       "_model_name": "HTMLModel",
       "_view_count": null,
       "_view_module": "@jupyter-widgets/controls",
       "_view_module_version": "1.5.0",
       "_view_name": "HTMLView",
       "description": "",
       "description_tooltip": null,
       "layout": "IPY_MODEL_d712f2b14c39447e895711b3bf53eaed",
       "placeholder": "​",
       "style": "IPY_MODEL_2f8e5f8d007b4d5da5556c4cdbf6fdf7",
       "value": "100%"
      }
     },
     "a2c1903ce68a456894454fe29b29d3d3": {
      "model_module": "@jupyter-widgets/base",
      "model_module_version": "1.2.0",
      "model_name": "LayoutModel",
      "state": {
       "_model_module": "@jupyter-widgets/base",
       "_model_module_version": "1.2.0",
       "_model_name": "LayoutModel",
       "_view_count": null,
       "_view_module": "@jupyter-widgets/base",
       "_view_module_version": "1.2.0",
       "_view_name": "LayoutView",
       "align_content": null,
       "align_items": null,
       "align_self": null,
       "border": null,
       "bottom": null,
       "display": null,
       "flex": null,
       "flex_flow": null,
       "grid_area": null,
       "grid_auto_columns": null,
       "grid_auto_flow": null,
       "grid_auto_rows": null,
       "grid_column": null,
       "grid_gap": null,
       "grid_row": null,
       "grid_template_areas": null,
       "grid_template_columns": null,
       "grid_template_rows": null,
       "height": null,
       "justify_content": null,
       "justify_items": null,
       "left": null,
       "margin": null,
       "max_height": null,
       "max_width": null,
       "min_height": null,
       "min_width": null,
       "object_fit": null,
       "object_position": null,
       "order": null,
       "overflow": null,
       "overflow_x": null,
       "overflow_y": null,
       "padding": null,
       "right": null,
       "top": null,
       "visibility": null,
       "width": null
      }
     },
     "a32da72b0fac40f48b998bea46b3a1c7": {
      "model_module": "@jupyter-widgets/base",
      "model_module_version": "1.2.0",
      "model_name": "LayoutModel",
      "state": {
       "_model_module": "@jupyter-widgets/base",
       "_model_module_version": "1.2.0",
       "_model_name": "LayoutModel",
       "_view_count": null,
       "_view_module": "@jupyter-widgets/base",
       "_view_module_version": "1.2.0",
       "_view_name": "LayoutView",
       "align_content": null,
       "align_items": null,
       "align_self": null,
       "border": null,
       "bottom": null,
       "display": null,
       "flex": null,
       "flex_flow": null,
       "grid_area": null,
       "grid_auto_columns": null,
       "grid_auto_flow": null,
       "grid_auto_rows": null,
       "grid_column": null,
       "grid_gap": null,
       "grid_row": null,
       "grid_template_areas": null,
       "grid_template_columns": null,
       "grid_template_rows": null,
       "height": null,
       "justify_content": null,
       "justify_items": null,
       "left": null,
       "margin": null,
       "max_height": null,
       "max_width": null,
       "min_height": null,
       "min_width": null,
       "object_fit": null,
       "object_position": null,
       "order": null,
       "overflow": null,
       "overflow_x": null,
       "overflow_y": null,
       "padding": null,
       "right": null,
       "top": null,
       "visibility": null,
       "width": null
      }
     },
     "aa051732746c466f91aa1c74d59787d1": {
      "model_module": "@jupyter-widgets/controls",
      "model_module_version": "1.5.0",
      "model_name": "HBoxModel",
      "state": {
       "_dom_classes": [],
       "_model_module": "@jupyter-widgets/controls",
       "_model_module_version": "1.5.0",
       "_model_name": "HBoxModel",
       "_view_count": null,
       "_view_module": "@jupyter-widgets/controls",
       "_view_module_version": "1.5.0",
       "_view_name": "HBoxView",
       "box_style": "",
       "children": [
        "IPY_MODEL_002e5b969f6848c9a28a005176129d24",
        "IPY_MODEL_bc8e0f6198ee4ca7be1b988df81b20fa",
        "IPY_MODEL_61548ec8c1f14eceb02b03ac577b6aa5"
       ],
       "layout": "IPY_MODEL_c8ae9f2b614a44d7a1c0f9a1bdace351"
      }
     },
     "aa1796eb27654dc091882fcc17f10b7c": {
      "model_module": "@jupyter-widgets/controls",
      "model_module_version": "1.5.0",
      "model_name": "DescriptionStyleModel",
      "state": {
       "_model_module": "@jupyter-widgets/controls",
       "_model_module_version": "1.5.0",
       "_model_name": "DescriptionStyleModel",
       "_view_count": null,
       "_view_module": "@jupyter-widgets/base",
       "_view_module_version": "1.2.0",
       "_view_name": "StyleView",
       "description_width": ""
      }
     },
     "aa28c982f91b4262b339974867d1050e": {
      "model_module": "@jupyter-widgets/controls",
      "model_module_version": "1.5.0",
      "model_name": "DescriptionStyleModel",
      "state": {
       "_model_module": "@jupyter-widgets/controls",
       "_model_module_version": "1.5.0",
       "_model_name": "DescriptionStyleModel",
       "_view_count": null,
       "_view_module": "@jupyter-widgets/base",
       "_view_module_version": "1.2.0",
       "_view_name": "StyleView",
       "description_width": ""
      }
     },
     "aa976ece44884b478f49d5434dfdcb5d": {
      "model_module": "@jupyter-widgets/controls",
      "model_module_version": "1.5.0",
      "model_name": "HTMLModel",
      "state": {
       "_dom_classes": [],
       "_model_module": "@jupyter-widgets/controls",
       "_model_module_version": "1.5.0",
       "_model_name": "HTMLModel",
       "_view_count": null,
       "_view_module": "@jupyter-widgets/controls",
       "_view_module_version": "1.5.0",
       "_view_name": "HTMLView",
       "description": "",
       "description_tooltip": null,
       "layout": "IPY_MODEL_293319cdf39b478c845f476c8b5a6b50",
       "placeholder": "​",
       "style": "IPY_MODEL_b61059d4dc3f4793a3df437fb9b69380",
       "value": "100%"
      }
     },
     "abed70241e3f4356bd28444376814519": {
      "model_module": "@jupyter-widgets/controls",
      "model_module_version": "1.5.0",
      "model_name": "DescriptionStyleModel",
      "state": {
       "_model_module": "@jupyter-widgets/controls",
       "_model_module_version": "1.5.0",
       "_model_name": "DescriptionStyleModel",
       "_view_count": null,
       "_view_module": "@jupyter-widgets/base",
       "_view_module_version": "1.2.0",
       "_view_name": "StyleView",
       "description_width": ""
      }
     },
     "ad79e4a50f8641c78a1e0b575a327742": {
      "model_module": "@jupyter-widgets/controls",
      "model_module_version": "1.5.0",
      "model_name": "DescriptionStyleModel",
      "state": {
       "_model_module": "@jupyter-widgets/controls",
       "_model_module_version": "1.5.0",
       "_model_name": "DescriptionStyleModel",
       "_view_count": null,
       "_view_module": "@jupyter-widgets/base",
       "_view_module_version": "1.2.0",
       "_view_name": "StyleView",
       "description_width": ""
      }
     },
     "ae6128b795f6459b8bd1062954daa768": {
      "model_module": "@jupyter-widgets/controls",
      "model_module_version": "1.5.0",
      "model_name": "DescriptionStyleModel",
      "state": {
       "_model_module": "@jupyter-widgets/controls",
       "_model_module_version": "1.5.0",
       "_model_name": "DescriptionStyleModel",
       "_view_count": null,
       "_view_module": "@jupyter-widgets/base",
       "_view_module_version": "1.2.0",
       "_view_name": "StyleView",
       "description_width": ""
      }
     },
     "b132a00a8c0a4954a346b1f856295f41": {
      "model_module": "@jupyter-widgets/controls",
      "model_module_version": "1.5.0",
      "model_name": "DescriptionStyleModel",
      "state": {
       "_model_module": "@jupyter-widgets/controls",
       "_model_module_version": "1.5.0",
       "_model_name": "DescriptionStyleModel",
       "_view_count": null,
       "_view_module": "@jupyter-widgets/base",
       "_view_module_version": "1.2.0",
       "_view_name": "StyleView",
       "description_width": ""
      }
     },
     "b34cea77c3b4456bb05fb50e863a72ff": {
      "model_module": "@jupyter-widgets/controls",
      "model_module_version": "1.5.0",
      "model_name": "HBoxModel",
      "state": {
       "_dom_classes": [],
       "_model_module": "@jupyter-widgets/controls",
       "_model_module_version": "1.5.0",
       "_model_name": "HBoxModel",
       "_view_count": null,
       "_view_module": "@jupyter-widgets/controls",
       "_view_module_version": "1.5.0",
       "_view_name": "HBoxView",
       "box_style": "",
       "children": [
        "IPY_MODEL_3d6edefa23c741e8b22f1896b6ede6a5",
        "IPY_MODEL_c468b62f6af84cfba811fe763ddd1d0b",
        "IPY_MODEL_bf3772e2530c4786b2d454a396307451"
       ],
       "layout": "IPY_MODEL_28a98f2463d9477896ec7f0149152213"
      }
     },
     "b3cf10d6ace64110adc4ce5de51b716c": {
      "model_module": "@jupyter-widgets/base",
      "model_module_version": "1.2.0",
      "model_name": "LayoutModel",
      "state": {
       "_model_module": "@jupyter-widgets/base",
       "_model_module_version": "1.2.0",
       "_model_name": "LayoutModel",
       "_view_count": null,
       "_view_module": "@jupyter-widgets/base",
       "_view_module_version": "1.2.0",
       "_view_name": "LayoutView",
       "align_content": null,
       "align_items": null,
       "align_self": null,
       "border": null,
       "bottom": null,
       "display": null,
       "flex": null,
       "flex_flow": null,
       "grid_area": null,
       "grid_auto_columns": null,
       "grid_auto_flow": null,
       "grid_auto_rows": null,
       "grid_column": null,
       "grid_gap": null,
       "grid_row": null,
       "grid_template_areas": null,
       "grid_template_columns": null,
       "grid_template_rows": null,
       "height": null,
       "justify_content": null,
       "justify_items": null,
       "left": null,
       "margin": null,
       "max_height": null,
       "max_width": null,
       "min_height": null,
       "min_width": null,
       "object_fit": null,
       "object_position": null,
       "order": null,
       "overflow": null,
       "overflow_x": null,
       "overflow_y": null,
       "padding": null,
       "right": null,
       "top": null,
       "visibility": null,
       "width": null
      }
     },
     "b4897bfd1a6841bab422d98d9cd3d0ad": {
      "model_module": "@jupyter-widgets/controls",
      "model_module_version": "1.5.0",
      "model_name": "FloatProgressModel",
      "state": {
       "_dom_classes": [],
       "_model_module": "@jupyter-widgets/controls",
       "_model_module_version": "1.5.0",
       "_model_name": "FloatProgressModel",
       "_view_count": null,
       "_view_module": "@jupyter-widgets/controls",
       "_view_module_version": "1.5.0",
       "_view_name": "ProgressView",
       "bar_style": "success",
       "description": "",
       "description_tooltip": null,
       "layout": "IPY_MODEL_d841044133204d5fa303df562a734e6b",
       "max": 226.0,
       "min": 0.0,
       "orientation": "horizontal",
       "style": "IPY_MODEL_0352f1c1f7474ad6bfa841c9202c2974",
       "value": 226.0
      }
     },
     "b4dc8dc5bc194e0686816ce262efc3df": {
      "model_module": "@jupyter-widgets/controls",
      "model_module_version": "1.5.0",
      "model_name": "FloatProgressModel",
      "state": {
       "_dom_classes": [],
       "_model_module": "@jupyter-widgets/controls",
       "_model_module_version": "1.5.0",
       "_model_name": "FloatProgressModel",
       "_view_count": null,
       "_view_module": "@jupyter-widgets/controls",
       "_view_module_version": "1.5.0",
       "_view_name": "ProgressView",
       "bar_style": "success",
       "description": "",
       "description_tooltip": null,
       "layout": "IPY_MODEL_68b3b07d875c490a84531f581aed1491",
       "max": 226.0,
       "min": 0.0,
       "orientation": "horizontal",
       "style": "IPY_MODEL_9b7dd888d9184db7b684f0f3e26437d4",
       "value": 226.0
      }
     },
     "b5293e7cf64048209f501a0e1adfefe4": {
      "model_module": "@jupyter-widgets/controls",
      "model_module_version": "1.5.0",
      "model_name": "DescriptionStyleModel",
      "state": {
       "_model_module": "@jupyter-widgets/controls",
       "_model_module_version": "1.5.0",
       "_model_name": "DescriptionStyleModel",
       "_view_count": null,
       "_view_module": "@jupyter-widgets/base",
       "_view_module_version": "1.2.0",
       "_view_name": "StyleView",
       "description_width": ""
      }
     },
     "b61059d4dc3f4793a3df437fb9b69380": {
      "model_module": "@jupyter-widgets/controls",
      "model_module_version": "1.5.0",
      "model_name": "DescriptionStyleModel",
      "state": {
       "_model_module": "@jupyter-widgets/controls",
       "_model_module_version": "1.5.0",
       "_model_name": "DescriptionStyleModel",
       "_view_count": null,
       "_view_module": "@jupyter-widgets/base",
       "_view_module_version": "1.2.0",
       "_view_name": "StyleView",
       "description_width": ""
      }
     },
     "b660086152174114a1b5586587821b6c": {
      "model_module": "@jupyter-widgets/base",
      "model_module_version": "1.2.0",
      "model_name": "LayoutModel",
      "state": {
       "_model_module": "@jupyter-widgets/base",
       "_model_module_version": "1.2.0",
       "_model_name": "LayoutModel",
       "_view_count": null,
       "_view_module": "@jupyter-widgets/base",
       "_view_module_version": "1.2.0",
       "_view_name": "LayoutView",
       "align_content": null,
       "align_items": null,
       "align_self": null,
       "border": null,
       "bottom": null,
       "display": null,
       "flex": null,
       "flex_flow": null,
       "grid_area": null,
       "grid_auto_columns": null,
       "grid_auto_flow": null,
       "grid_auto_rows": null,
       "grid_column": null,
       "grid_gap": null,
       "grid_row": null,
       "grid_template_areas": null,
       "grid_template_columns": null,
       "grid_template_rows": null,
       "height": null,
       "justify_content": null,
       "justify_items": null,
       "left": null,
       "margin": null,
       "max_height": null,
       "max_width": null,
       "min_height": null,
       "min_width": null,
       "object_fit": null,
       "object_position": null,
       "order": null,
       "overflow": null,
       "overflow_x": null,
       "overflow_y": null,
       "padding": null,
       "right": null,
       "top": null,
       "visibility": null,
       "width": null
      }
     },
     "b7f7d4b76bde4654afeb093c88eb7207": {
      "model_module": "@jupyter-widgets/base",
      "model_module_version": "1.2.0",
      "model_name": "LayoutModel",
      "state": {
       "_model_module": "@jupyter-widgets/base",
       "_model_module_version": "1.2.0",
       "_model_name": "LayoutModel",
       "_view_count": null,
       "_view_module": "@jupyter-widgets/base",
       "_view_module_version": "1.2.0",
       "_view_name": "LayoutView",
       "align_content": null,
       "align_items": null,
       "align_self": null,
       "border": null,
       "bottom": null,
       "display": null,
       "flex": null,
       "flex_flow": null,
       "grid_area": null,
       "grid_auto_columns": null,
       "grid_auto_flow": null,
       "grid_auto_rows": null,
       "grid_column": null,
       "grid_gap": null,
       "grid_row": null,
       "grid_template_areas": null,
       "grid_template_columns": null,
       "grid_template_rows": null,
       "height": null,
       "justify_content": null,
       "justify_items": null,
       "left": null,
       "margin": null,
       "max_height": null,
       "max_width": null,
       "min_height": null,
       "min_width": null,
       "object_fit": null,
       "object_position": null,
       "order": null,
       "overflow": null,
       "overflow_x": null,
       "overflow_y": null,
       "padding": null,
       "right": null,
       "top": null,
       "visibility": null,
       "width": null
      }
     },
     "b83c623c3d674148b9d3ee91c08f487b": {
      "model_module": "@jupyter-widgets/base",
      "model_module_version": "1.2.0",
      "model_name": "LayoutModel",
      "state": {
       "_model_module": "@jupyter-widgets/base",
       "_model_module_version": "1.2.0",
       "_model_name": "LayoutModel",
       "_view_count": null,
       "_view_module": "@jupyter-widgets/base",
       "_view_module_version": "1.2.0",
       "_view_name": "LayoutView",
       "align_content": null,
       "align_items": null,
       "align_self": null,
       "border": null,
       "bottom": null,
       "display": null,
       "flex": null,
       "flex_flow": null,
       "grid_area": null,
       "grid_auto_columns": null,
       "grid_auto_flow": null,
       "grid_auto_rows": null,
       "grid_column": null,
       "grid_gap": null,
       "grid_row": null,
       "grid_template_areas": null,
       "grid_template_columns": null,
       "grid_template_rows": null,
       "height": null,
       "justify_content": null,
       "justify_items": null,
       "left": null,
       "margin": null,
       "max_height": null,
       "max_width": null,
       "min_height": null,
       "min_width": null,
       "object_fit": null,
       "object_position": null,
       "order": null,
       "overflow": null,
       "overflow_x": null,
       "overflow_y": null,
       "padding": null,
       "right": null,
       "top": null,
       "visibility": null,
       "width": null
      }
     },
     "b9908427f87a483fa22aae09b2908415": {
      "model_module": "@jupyter-widgets/controls",
      "model_module_version": "1.5.0",
      "model_name": "FloatProgressModel",
      "state": {
       "_dom_classes": [],
       "_model_module": "@jupyter-widgets/controls",
       "_model_module_version": "1.5.0",
       "_model_name": "FloatProgressModel",
       "_view_count": null,
       "_view_module": "@jupyter-widgets/controls",
       "_view_module_version": "1.5.0",
       "_view_name": "ProgressView",
       "bar_style": "success",
       "description": "",
       "description_tooltip": null,
       "layout": "IPY_MODEL_f4ee64ff9d7e495ca706678621c5d1fb",
       "max": 226.0,
       "min": 0.0,
       "orientation": "horizontal",
       "style": "IPY_MODEL_d5d400faf382467a8f3799fc5b58d450",
       "value": 226.0
      }
     },
     "bb2045ae7e214829b089822b1eae017f": {
      "model_module": "@jupyter-widgets/base",
      "model_module_version": "1.2.0",
      "model_name": "LayoutModel",
      "state": {
       "_model_module": "@jupyter-widgets/base",
       "_model_module_version": "1.2.0",
       "_model_name": "LayoutModel",
       "_view_count": null,
       "_view_module": "@jupyter-widgets/base",
       "_view_module_version": "1.2.0",
       "_view_name": "LayoutView",
       "align_content": null,
       "align_items": null,
       "align_self": null,
       "border": null,
       "bottom": null,
       "display": null,
       "flex": null,
       "flex_flow": null,
       "grid_area": null,
       "grid_auto_columns": null,
       "grid_auto_flow": null,
       "grid_auto_rows": null,
       "grid_column": null,
       "grid_gap": null,
       "grid_row": null,
       "grid_template_areas": null,
       "grid_template_columns": null,
       "grid_template_rows": null,
       "height": null,
       "justify_content": null,
       "justify_items": null,
       "left": null,
       "margin": null,
       "max_height": null,
       "max_width": null,
       "min_height": null,
       "min_width": null,
       "object_fit": null,
       "object_position": null,
       "order": null,
       "overflow": null,
       "overflow_x": null,
       "overflow_y": null,
       "padding": null,
       "right": null,
       "top": null,
       "visibility": null,
       "width": null
      }
     },
     "bb9ede3dcf1040ba935761aaad5ba7fb": {
      "model_module": "@jupyter-widgets/controls",
      "model_module_version": "1.5.0",
      "model_name": "HTMLModel",
      "state": {
       "_dom_classes": [],
       "_model_module": "@jupyter-widgets/controls",
       "_model_module_version": "1.5.0",
       "_model_name": "HTMLModel",
       "_view_count": null,
       "_view_module": "@jupyter-widgets/controls",
       "_view_module_version": "1.5.0",
       "_view_name": "HTMLView",
       "description": "",
       "description_tooltip": null,
       "layout": "IPY_MODEL_b3cf10d6ace64110adc4ce5de51b716c",
       "placeholder": "​",
       "style": "IPY_MODEL_abed70241e3f4356bd28444376814519",
       "value": " 226/226 [01:40&lt;00:00,  5.06it/s]"
      }
     },
     "bc3300f069804fc2a3dc2479271e9c18": {
      "model_module": "@jupyter-widgets/controls",
      "model_module_version": "1.5.0",
      "model_name": "FloatProgressModel",
      "state": {
       "_dom_classes": [],
       "_model_module": "@jupyter-widgets/controls",
       "_model_module_version": "1.5.0",
       "_model_name": "FloatProgressModel",
       "_view_count": null,
       "_view_module": "@jupyter-widgets/controls",
       "_view_module_version": "1.5.0",
       "_view_name": "ProgressView",
       "bar_style": "success",
       "description": "",
       "description_tooltip": null,
       "layout": "IPY_MODEL_7038f08acbd9430eb329b9a48aba992e",
       "max": 226.0,
       "min": 0.0,
       "orientation": "horizontal",
       "style": "IPY_MODEL_9cd1243a70364a678c8995ae68af1158",
       "value": 226.0
      }
     },
     "bc8e0f6198ee4ca7be1b988df81b20fa": {
      "model_module": "@jupyter-widgets/controls",
      "model_module_version": "1.5.0",
      "model_name": "FloatProgressModel",
      "state": {
       "_dom_classes": [],
       "_model_module": "@jupyter-widgets/controls",
       "_model_module_version": "1.5.0",
       "_model_name": "FloatProgressModel",
       "_view_count": null,
       "_view_module": "@jupyter-widgets/controls",
       "_view_module_version": "1.5.0",
       "_view_name": "ProgressView",
       "bar_style": "success",
       "description": "",
       "description_tooltip": null,
       "layout": "IPY_MODEL_de17f9f344aa4acaaf14d7b90fc5c7fa",
       "max": 100.0,
       "min": 0.0,
       "orientation": "horizontal",
       "style": "IPY_MODEL_13ca97fb3dc54afdb05db29cba6973bc",
       "value": 100.0
      }
     },
     "bda1ae93fe3248109eaa7a4e99f36bc1": {
      "model_module": "@jupyter-widgets/base",
      "model_module_version": "1.2.0",
      "model_name": "LayoutModel",
      "state": {
       "_model_module": "@jupyter-widgets/base",
       "_model_module_version": "1.2.0",
       "_model_name": "LayoutModel",
       "_view_count": null,
       "_view_module": "@jupyter-widgets/base",
       "_view_module_version": "1.2.0",
       "_view_name": "LayoutView",
       "align_content": null,
       "align_items": null,
       "align_self": null,
       "border": null,
       "bottom": null,
       "display": null,
       "flex": null,
       "flex_flow": null,
       "grid_area": null,
       "grid_auto_columns": null,
       "grid_auto_flow": null,
       "grid_auto_rows": null,
       "grid_column": null,
       "grid_gap": null,
       "grid_row": null,
       "grid_template_areas": null,
       "grid_template_columns": null,
       "grid_template_rows": null,
       "height": null,
       "justify_content": null,
       "justify_items": null,
       "left": null,
       "margin": null,
       "max_height": null,
       "max_width": null,
       "min_height": null,
       "min_width": null,
       "object_fit": null,
       "object_position": null,
       "order": null,
       "overflow": null,
       "overflow_x": null,
       "overflow_y": null,
       "padding": null,
       "right": null,
       "top": null,
       "visibility": null,
       "width": null
      }
     },
     "be353ff01352426bb60578d32d092895": {
      "model_module": "@jupyter-widgets/base",
      "model_module_version": "1.2.0",
      "model_name": "LayoutModel",
      "state": {
       "_model_module": "@jupyter-widgets/base",
       "_model_module_version": "1.2.0",
       "_model_name": "LayoutModel",
       "_view_count": null,
       "_view_module": "@jupyter-widgets/base",
       "_view_module_version": "1.2.0",
       "_view_name": "LayoutView",
       "align_content": null,
       "align_items": null,
       "align_self": null,
       "border": null,
       "bottom": null,
       "display": null,
       "flex": null,
       "flex_flow": null,
       "grid_area": null,
       "grid_auto_columns": null,
       "grid_auto_flow": null,
       "grid_auto_rows": null,
       "grid_column": null,
       "grid_gap": null,
       "grid_row": null,
       "grid_template_areas": null,
       "grid_template_columns": null,
       "grid_template_rows": null,
       "height": null,
       "justify_content": null,
       "justify_items": null,
       "left": null,
       "margin": null,
       "max_height": null,
       "max_width": null,
       "min_height": null,
       "min_width": null,
       "object_fit": null,
       "object_position": null,
       "order": null,
       "overflow": null,
       "overflow_x": null,
       "overflow_y": null,
       "padding": null,
       "right": null,
       "top": null,
       "visibility": null,
       "width": null
      }
     },
     "bf05ac0e1c23489f96d90e6f78b8cdea": {
      "model_module": "@jupyter-widgets/controls",
      "model_module_version": "1.5.0",
      "model_name": "DescriptionStyleModel",
      "state": {
       "_model_module": "@jupyter-widgets/controls",
       "_model_module_version": "1.5.0",
       "_model_name": "DescriptionStyleModel",
       "_view_count": null,
       "_view_module": "@jupyter-widgets/base",
       "_view_module_version": "1.2.0",
       "_view_name": "StyleView",
       "description_width": ""
      }
     },
     "bf3772e2530c4786b2d454a396307451": {
      "model_module": "@jupyter-widgets/controls",
      "model_module_version": "1.5.0",
      "model_name": "HTMLModel",
      "state": {
       "_dom_classes": [],
       "_model_module": "@jupyter-widgets/controls",
       "_model_module_version": "1.5.0",
       "_model_name": "HTMLModel",
       "_view_count": null,
       "_view_module": "@jupyter-widgets/controls",
       "_view_module_version": "1.5.0",
       "_view_name": "HTMLView",
       "description": "",
       "description_tooltip": null,
       "layout": "IPY_MODEL_7d01bd98823a46c998a01c4aeb9d9312",
       "placeholder": "​",
       "style": "IPY_MODEL_977e99ad89b24c8f8db1ea696dc24383",
       "value": " 226/226 [01:54&lt;00:00,  4.90it/s]"
      }
     },
     "bf7e4b971cc54f1a8a90b218f48a429f": {
      "model_module": "@jupyter-widgets/controls",
      "model_module_version": "1.5.0",
      "model_name": "HTMLModel",
      "state": {
       "_dom_classes": [],
       "_model_module": "@jupyter-widgets/controls",
       "_model_module_version": "1.5.0",
       "_model_name": "HTMLModel",
       "_view_count": null,
       "_view_module": "@jupyter-widgets/controls",
       "_view_module_version": "1.5.0",
       "_view_name": "HTMLView",
       "description": "",
       "description_tooltip": null,
       "layout": "IPY_MODEL_e4b0b6a09f844fc3ac2cde6f9053aabe",
       "placeholder": "​",
       "style": "IPY_MODEL_8af744e3a22b4245ba396f5713964c19",
       "value": " 226/226 [01:56&lt;00:00,  5.15it/s]"
      }
     },
     "bf9954f401024a8a816adbde7b976b1f": {
      "model_module": "@jupyter-widgets/controls",
      "model_module_version": "1.5.0",
      "model_name": "DescriptionStyleModel",
      "state": {
       "_model_module": "@jupyter-widgets/controls",
       "_model_module_version": "1.5.0",
       "_model_name": "DescriptionStyleModel",
       "_view_count": null,
       "_view_module": "@jupyter-widgets/base",
       "_view_module_version": "1.2.0",
       "_view_name": "StyleView",
       "description_width": ""
      }
     },
     "c04d590892ec424d94dbf60adbe3f461": {
      "model_module": "@jupyter-widgets/base",
      "model_module_version": "1.2.0",
      "model_name": "LayoutModel",
      "state": {
       "_model_module": "@jupyter-widgets/base",
       "_model_module_version": "1.2.0",
       "_model_name": "LayoutModel",
       "_view_count": null,
       "_view_module": "@jupyter-widgets/base",
       "_view_module_version": "1.2.0",
       "_view_name": "LayoutView",
       "align_content": null,
       "align_items": null,
       "align_self": null,
       "border": null,
       "bottom": null,
       "display": null,
       "flex": null,
       "flex_flow": null,
       "grid_area": null,
       "grid_auto_columns": null,
       "grid_auto_flow": null,
       "grid_auto_rows": null,
       "grid_column": null,
       "grid_gap": null,
       "grid_row": null,
       "grid_template_areas": null,
       "grid_template_columns": null,
       "grid_template_rows": null,
       "height": null,
       "justify_content": null,
       "justify_items": null,
       "left": null,
       "margin": null,
       "max_height": null,
       "max_width": null,
       "min_height": null,
       "min_width": null,
       "object_fit": null,
       "object_position": null,
       "order": null,
       "overflow": null,
       "overflow_x": null,
       "overflow_y": null,
       "padding": null,
       "right": null,
       "top": null,
       "visibility": null,
       "width": null
      }
     },
     "c071f3b88827446fa287c59f914e9601": {
      "model_module": "@jupyter-widgets/base",
      "model_module_version": "1.2.0",
      "model_name": "LayoutModel",
      "state": {
       "_model_module": "@jupyter-widgets/base",
       "_model_module_version": "1.2.0",
       "_model_name": "LayoutModel",
       "_view_count": null,
       "_view_module": "@jupyter-widgets/base",
       "_view_module_version": "1.2.0",
       "_view_name": "LayoutView",
       "align_content": null,
       "align_items": null,
       "align_self": null,
       "border": null,
       "bottom": null,
       "display": null,
       "flex": null,
       "flex_flow": null,
       "grid_area": null,
       "grid_auto_columns": null,
       "grid_auto_flow": null,
       "grid_auto_rows": null,
       "grid_column": null,
       "grid_gap": null,
       "grid_row": null,
       "grid_template_areas": null,
       "grid_template_columns": null,
       "grid_template_rows": null,
       "height": null,
       "justify_content": null,
       "justify_items": null,
       "left": null,
       "margin": null,
       "max_height": null,
       "max_width": null,
       "min_height": null,
       "min_width": null,
       "object_fit": null,
       "object_position": null,
       "order": null,
       "overflow": null,
       "overflow_x": null,
       "overflow_y": null,
       "padding": null,
       "right": null,
       "top": null,
       "visibility": null,
       "width": null
      }
     },
     "c1285ee45c284f779e83dec3f111a534": {
      "model_module": "@jupyter-widgets/controls",
      "model_module_version": "1.5.0",
      "model_name": "DescriptionStyleModel",
      "state": {
       "_model_module": "@jupyter-widgets/controls",
       "_model_module_version": "1.5.0",
       "_model_name": "DescriptionStyleModel",
       "_view_count": null,
       "_view_module": "@jupyter-widgets/base",
       "_view_module_version": "1.2.0",
       "_view_name": "StyleView",
       "description_width": ""
      }
     },
     "c12c45df896448b1baaf6bc372b6a874": {
      "model_module": "@jupyter-widgets/base",
      "model_module_version": "1.2.0",
      "model_name": "LayoutModel",
      "state": {
       "_model_module": "@jupyter-widgets/base",
       "_model_module_version": "1.2.0",
       "_model_name": "LayoutModel",
       "_view_count": null,
       "_view_module": "@jupyter-widgets/base",
       "_view_module_version": "1.2.0",
       "_view_name": "LayoutView",
       "align_content": null,
       "align_items": null,
       "align_self": null,
       "border": null,
       "bottom": null,
       "display": null,
       "flex": null,
       "flex_flow": null,
       "grid_area": null,
       "grid_auto_columns": null,
       "grid_auto_flow": null,
       "grid_auto_rows": null,
       "grid_column": null,
       "grid_gap": null,
       "grid_row": null,
       "grid_template_areas": null,
       "grid_template_columns": null,
       "grid_template_rows": null,
       "height": null,
       "justify_content": null,
       "justify_items": null,
       "left": null,
       "margin": null,
       "max_height": null,
       "max_width": null,
       "min_height": null,
       "min_width": null,
       "object_fit": null,
       "object_position": null,
       "order": null,
       "overflow": null,
       "overflow_x": null,
       "overflow_y": null,
       "padding": null,
       "right": null,
       "top": null,
       "visibility": null,
       "width": null
      }
     },
     "c1d0abc97545491ebdc0f570c452b836": {
      "model_module": "@jupyter-widgets/controls",
      "model_module_version": "1.5.0",
      "model_name": "HTMLModel",
      "state": {
       "_dom_classes": [],
       "_model_module": "@jupyter-widgets/controls",
       "_model_module_version": "1.5.0",
       "_model_name": "HTMLModel",
       "_view_count": null,
       "_view_module": "@jupyter-widgets/controls",
       "_view_module_version": "1.5.0",
       "_view_name": "HTMLView",
       "description": "",
       "description_tooltip": null,
       "layout": "IPY_MODEL_31d27a509ca04602b1c78f0222f4a542",
       "placeholder": "​",
       "style": "IPY_MODEL_91ece1e6efba438685251d7718665ddf",
       "value": " 226/226 [02:30&lt;00:00,  4.89it/s]"
      }
     },
     "c3d2d5c44cbf4fd3b62ab04521fcf337": {
      "model_module": "@jupyter-widgets/controls",
      "model_module_version": "1.5.0",
      "model_name": "DescriptionStyleModel",
      "state": {
       "_model_module": "@jupyter-widgets/controls",
       "_model_module_version": "1.5.0",
       "_model_name": "DescriptionStyleModel",
       "_view_count": null,
       "_view_module": "@jupyter-widgets/base",
       "_view_module_version": "1.2.0",
       "_view_name": "StyleView",
       "description_width": ""
      }
     },
     "c468b62f6af84cfba811fe763ddd1d0b": {
      "model_module": "@jupyter-widgets/controls",
      "model_module_version": "1.5.0",
      "model_name": "FloatProgressModel",
      "state": {
       "_dom_classes": [],
       "_model_module": "@jupyter-widgets/controls",
       "_model_module_version": "1.5.0",
       "_model_name": "FloatProgressModel",
       "_view_count": null,
       "_view_module": "@jupyter-widgets/controls",
       "_view_module_version": "1.5.0",
       "_view_name": "ProgressView",
       "bar_style": "success",
       "description": "",
       "description_tooltip": null,
       "layout": "IPY_MODEL_f70e1256bb21400cb9faab872a89952f",
       "max": 226.0,
       "min": 0.0,
       "orientation": "horizontal",
       "style": "IPY_MODEL_9c49645723f2475fa2b0dcc2046e523a",
       "value": 226.0
      }
     },
     "c5ff085e993e4587a6a95858754f87fd": {
      "model_module": "@jupyter-widgets/controls",
      "model_module_version": "1.5.0",
      "model_name": "HBoxModel",
      "state": {
       "_dom_classes": [],
       "_model_module": "@jupyter-widgets/controls",
       "_model_module_version": "1.5.0",
       "_model_name": "HBoxModel",
       "_view_count": null,
       "_view_module": "@jupyter-widgets/controls",
       "_view_module_version": "1.5.0",
       "_view_name": "HBoxView",
       "box_style": "",
       "children": [
        "IPY_MODEL_16f094bbfa1c4cf39c19a15566f65cc0",
        "IPY_MODEL_09b33209980e416482bc61923a6832a6",
        "IPY_MODEL_bf7e4b971cc54f1a8a90b218f48a429f"
       ],
       "layout": "IPY_MODEL_843d976209c74653b67b33f7aa22fe14"
      }
     },
     "c806c3c096a84c92b0f88730c866ccb4": {
      "model_module": "@jupyter-widgets/controls",
      "model_module_version": "1.5.0",
      "model_name": "ProgressStyleModel",
      "state": {
       "_model_module": "@jupyter-widgets/controls",
       "_model_module_version": "1.5.0",
       "_model_name": "ProgressStyleModel",
       "_view_count": null,
       "_view_module": "@jupyter-widgets/base",
       "_view_module_version": "1.2.0",
       "_view_name": "StyleView",
       "bar_color": null,
       "description_width": ""
      }
     },
     "c8ae9f2b614a44d7a1c0f9a1bdace351": {
      "model_module": "@jupyter-widgets/base",
      "model_module_version": "1.2.0",
      "model_name": "LayoutModel",
      "state": {
       "_model_module": "@jupyter-widgets/base",
       "_model_module_version": "1.2.0",
       "_model_name": "LayoutModel",
       "_view_count": null,
       "_view_module": "@jupyter-widgets/base",
       "_view_module_version": "1.2.0",
       "_view_name": "LayoutView",
       "align_content": null,
       "align_items": null,
       "align_self": null,
       "border": null,
       "bottom": null,
       "display": null,
       "flex": null,
       "flex_flow": null,
       "grid_area": null,
       "grid_auto_columns": null,
       "grid_auto_flow": null,
       "grid_auto_rows": null,
       "grid_column": null,
       "grid_gap": null,
       "grid_row": null,
       "grid_template_areas": null,
       "grid_template_columns": null,
       "grid_template_rows": null,
       "height": null,
       "justify_content": null,
       "justify_items": null,
       "left": null,
       "margin": null,
       "max_height": null,
       "max_width": null,
       "min_height": null,
       "min_width": null,
       "object_fit": null,
       "object_position": null,
       "order": null,
       "overflow": null,
       "overflow_x": null,
       "overflow_y": null,
       "padding": null,
       "right": null,
       "top": null,
       "visibility": null,
       "width": null
      }
     },
     "c94644f3593c4e2a90e6d959cf909b76": {
      "model_module": "@jupyter-widgets/controls",
      "model_module_version": "1.5.0",
      "model_name": "FloatProgressModel",
      "state": {
       "_dom_classes": [],
       "_model_module": "@jupyter-widgets/controls",
       "_model_module_version": "1.5.0",
       "_model_name": "FloatProgressModel",
       "_view_count": null,
       "_view_module": "@jupyter-widgets/controls",
       "_view_module_version": "1.5.0",
       "_view_name": "ProgressView",
       "bar_style": "success",
       "description": "",
       "description_tooltip": null,
       "layout": "IPY_MODEL_4b0cd9203c5f4d74bbc53ad8b2ada2ce",
       "max": 226.0,
       "min": 0.0,
       "orientation": "horizontal",
       "style": "IPY_MODEL_ca02c177464b44dfb401ab24081fe203",
       "value": 226.0
      }
     },
     "ca02c177464b44dfb401ab24081fe203": {
      "model_module": "@jupyter-widgets/controls",
      "model_module_version": "1.5.0",
      "model_name": "ProgressStyleModel",
      "state": {
       "_model_module": "@jupyter-widgets/controls",
       "_model_module_version": "1.5.0",
       "_model_name": "ProgressStyleModel",
       "_view_count": null,
       "_view_module": "@jupyter-widgets/base",
       "_view_module_version": "1.2.0",
       "_view_name": "StyleView",
       "bar_color": null,
       "description_width": ""
      }
     },
     "cad1b568bf5a466b8ca7540e7717e3f7": {
      "model_module": "@jupyter-widgets/base",
      "model_module_version": "1.2.0",
      "model_name": "LayoutModel",
      "state": {
       "_model_module": "@jupyter-widgets/base",
       "_model_module_version": "1.2.0",
       "_model_name": "LayoutModel",
       "_view_count": null,
       "_view_module": "@jupyter-widgets/base",
       "_view_module_version": "1.2.0",
       "_view_name": "LayoutView",
       "align_content": null,
       "align_items": null,
       "align_self": null,
       "border": null,
       "bottom": null,
       "display": null,
       "flex": null,
       "flex_flow": null,
       "grid_area": null,
       "grid_auto_columns": null,
       "grid_auto_flow": null,
       "grid_auto_rows": null,
       "grid_column": null,
       "grid_gap": null,
       "grid_row": null,
       "grid_template_areas": null,
       "grid_template_columns": null,
       "grid_template_rows": null,
       "height": null,
       "justify_content": null,
       "justify_items": null,
       "left": null,
       "margin": null,
       "max_height": null,
       "max_width": null,
       "min_height": null,
       "min_width": null,
       "object_fit": null,
       "object_position": null,
       "order": null,
       "overflow": null,
       "overflow_x": null,
       "overflow_y": null,
       "padding": null,
       "right": null,
       "top": null,
       "visibility": null,
       "width": null
      }
     },
     "cb79dea2ebf745279cb2252a310531bd": {
      "model_module": "@jupyter-widgets/controls",
      "model_module_version": "1.5.0",
      "model_name": "FloatProgressModel",
      "state": {
       "_dom_classes": [],
       "_model_module": "@jupyter-widgets/controls",
       "_model_module_version": "1.5.0",
       "_model_name": "FloatProgressModel",
       "_view_count": null,
       "_view_module": "@jupyter-widgets/controls",
       "_view_module_version": "1.5.0",
       "_view_name": "ProgressView",
       "bar_style": "success",
       "description": "",
       "description_tooltip": null,
       "layout": "IPY_MODEL_23219479f62843d79a3d84aacf9ab49f",
       "max": 226.0,
       "min": 0.0,
       "orientation": "horizontal",
       "style": "IPY_MODEL_c806c3c096a84c92b0f88730c866ccb4",
       "value": 226.0
      }
     },
     "cb7d9d4cc70a4e1aba5cfde4e9f061cc": {
      "model_module": "@jupyter-widgets/controls",
      "model_module_version": "1.5.0",
      "model_name": "FloatProgressModel",
      "state": {
       "_dom_classes": [],
       "_model_module": "@jupyter-widgets/controls",
       "_model_module_version": "1.5.0",
       "_model_name": "FloatProgressModel",
       "_view_count": null,
       "_view_module": "@jupyter-widgets/controls",
       "_view_module_version": "1.5.0",
       "_view_name": "ProgressView",
       "bar_style": "success",
       "description": "",
       "description_tooltip": null,
       "layout": "IPY_MODEL_c071f3b88827446fa287c59f914e9601",
       "max": 226.0,
       "min": 0.0,
       "orientation": "horizontal",
       "style": "IPY_MODEL_d3a107bd653645e3b8c067001bb28a65",
       "value": 226.0
      }
     },
     "ccb02e6e8ed148d9999c895125ffe64a": {
      "model_module": "@jupyter-widgets/controls",
      "model_module_version": "1.5.0",
      "model_name": "HTMLModel",
      "state": {
       "_dom_classes": [],
       "_model_module": "@jupyter-widgets/controls",
       "_model_module_version": "1.5.0",
       "_model_name": "HTMLModel",
       "_view_count": null,
       "_view_module": "@jupyter-widgets/controls",
       "_view_module_version": "1.5.0",
       "_view_name": "HTMLView",
       "description": "",
       "description_tooltip": null,
       "layout": "IPY_MODEL_36606ba0e6cf4e98a7808ff8942d5aa4",
       "placeholder": "​",
       "style": "IPY_MODEL_203537942ea847ca96ec135968a80dd7",
       "value": " 226/226 [02:07&lt;00:00,  5.28it/s]"
      }
     },
     "cd30c3df561e4d499aca64a17132a040": {
      "model_module": "@jupyter-widgets/controls",
      "model_module_version": "1.5.0",
      "model_name": "DescriptionStyleModel",
      "state": {
       "_model_module": "@jupyter-widgets/controls",
       "_model_module_version": "1.5.0",
       "_model_name": "DescriptionStyleModel",
       "_view_count": null,
       "_view_module": "@jupyter-widgets/base",
       "_view_module_version": "1.2.0",
       "_view_name": "StyleView",
       "description_width": ""
      }
     },
     "d261ac9dfa76478c87bbdd57adaf334a": {
      "model_module": "@jupyter-widgets/controls",
      "model_module_version": "1.5.0",
      "model_name": "DescriptionStyleModel",
      "state": {
       "_model_module": "@jupyter-widgets/controls",
       "_model_module_version": "1.5.0",
       "_model_name": "DescriptionStyleModel",
       "_view_count": null,
       "_view_module": "@jupyter-widgets/base",
       "_view_module_version": "1.2.0",
       "_view_name": "StyleView",
       "description_width": ""
      }
     },
     "d2eabff4c53a4349b80742a70651ffdf": {
      "model_module": "@jupyter-widgets/controls",
      "model_module_version": "1.5.0",
      "model_name": "DescriptionStyleModel",
      "state": {
       "_model_module": "@jupyter-widgets/controls",
       "_model_module_version": "1.5.0",
       "_model_name": "DescriptionStyleModel",
       "_view_count": null,
       "_view_module": "@jupyter-widgets/base",
       "_view_module_version": "1.2.0",
       "_view_name": "StyleView",
       "description_width": ""
      }
     },
     "d3a107bd653645e3b8c067001bb28a65": {
      "model_module": "@jupyter-widgets/controls",
      "model_module_version": "1.5.0",
      "model_name": "ProgressStyleModel",
      "state": {
       "_model_module": "@jupyter-widgets/controls",
       "_model_module_version": "1.5.0",
       "_model_name": "ProgressStyleModel",
       "_view_count": null,
       "_view_module": "@jupyter-widgets/base",
       "_view_module_version": "1.2.0",
       "_view_name": "StyleView",
       "bar_color": null,
       "description_width": ""
      }
     },
     "d5336a939fc74f52b96cd0f625b1bb85": {
      "model_module": "@jupyter-widgets/base",
      "model_module_version": "1.2.0",
      "model_name": "LayoutModel",
      "state": {
       "_model_module": "@jupyter-widgets/base",
       "_model_module_version": "1.2.0",
       "_model_name": "LayoutModel",
       "_view_count": null,
       "_view_module": "@jupyter-widgets/base",
       "_view_module_version": "1.2.0",
       "_view_name": "LayoutView",
       "align_content": null,
       "align_items": null,
       "align_self": null,
       "border": null,
       "bottom": null,
       "display": null,
       "flex": null,
       "flex_flow": null,
       "grid_area": null,
       "grid_auto_columns": null,
       "grid_auto_flow": null,
       "grid_auto_rows": null,
       "grid_column": null,
       "grid_gap": null,
       "grid_row": null,
       "grid_template_areas": null,
       "grid_template_columns": null,
       "grid_template_rows": null,
       "height": null,
       "justify_content": null,
       "justify_items": null,
       "left": null,
       "margin": null,
       "max_height": null,
       "max_width": null,
       "min_height": null,
       "min_width": null,
       "object_fit": null,
       "object_position": null,
       "order": null,
       "overflow": null,
       "overflow_x": null,
       "overflow_y": null,
       "padding": null,
       "right": null,
       "top": null,
       "visibility": null,
       "width": null
      }
     },
     "d5d400faf382467a8f3799fc5b58d450": {
      "model_module": "@jupyter-widgets/controls",
      "model_module_version": "1.5.0",
      "model_name": "ProgressStyleModel",
      "state": {
       "_model_module": "@jupyter-widgets/controls",
       "_model_module_version": "1.5.0",
       "_model_name": "ProgressStyleModel",
       "_view_count": null,
       "_view_module": "@jupyter-widgets/base",
       "_view_module_version": "1.2.0",
       "_view_name": "StyleView",
       "bar_color": null,
       "description_width": ""
      }
     },
     "d6f6ae9e1a134f2d8c5262f9b8369e14": {
      "model_module": "@jupyter-widgets/controls",
      "model_module_version": "1.5.0",
      "model_name": "HTMLModel",
      "state": {
       "_dom_classes": [],
       "_model_module": "@jupyter-widgets/controls",
       "_model_module_version": "1.5.0",
       "_model_name": "HTMLModel",
       "_view_count": null,
       "_view_module": "@jupyter-widgets/controls",
       "_view_module_version": "1.5.0",
       "_view_name": "HTMLView",
       "description": "",
       "description_tooltip": null,
       "layout": "IPY_MODEL_bb2045ae7e214829b089822b1eae017f",
       "placeholder": "​",
       "style": "IPY_MODEL_47b176fb43a543d29216f6a334c47599",
       "value": " 226/226 [01:50&lt;00:00,  5.76it/s]"
      }
     },
     "d712f2b14c39447e895711b3bf53eaed": {
      "model_module": "@jupyter-widgets/base",
      "model_module_version": "1.2.0",
      "model_name": "LayoutModel",
      "state": {
       "_model_module": "@jupyter-widgets/base",
       "_model_module_version": "1.2.0",
       "_model_name": "LayoutModel",
       "_view_count": null,
       "_view_module": "@jupyter-widgets/base",
       "_view_module_version": "1.2.0",
       "_view_name": "LayoutView",
       "align_content": null,
       "align_items": null,
       "align_self": null,
       "border": null,
       "bottom": null,
       "display": null,
       "flex": null,
       "flex_flow": null,
       "grid_area": null,
       "grid_auto_columns": null,
       "grid_auto_flow": null,
       "grid_auto_rows": null,
       "grid_column": null,
       "grid_gap": null,
       "grid_row": null,
       "grid_template_areas": null,
       "grid_template_columns": null,
       "grid_template_rows": null,
       "height": null,
       "justify_content": null,
       "justify_items": null,
       "left": null,
       "margin": null,
       "max_height": null,
       "max_width": null,
       "min_height": null,
       "min_width": null,
       "object_fit": null,
       "object_position": null,
       "order": null,
       "overflow": null,
       "overflow_x": null,
       "overflow_y": null,
       "padding": null,
       "right": null,
       "top": null,
       "visibility": null,
       "width": null
      }
     },
     "d7b3024a9ca74188acab5e6b063a4735": {
      "model_module": "@jupyter-widgets/controls",
      "model_module_version": "1.5.0",
      "model_name": "HTMLModel",
      "state": {
       "_dom_classes": [],
       "_model_module": "@jupyter-widgets/controls",
       "_model_module_version": "1.5.0",
       "_model_name": "HTMLModel",
       "_view_count": null,
       "_view_module": "@jupyter-widgets/controls",
       "_view_module_version": "1.5.0",
       "_view_name": "HTMLView",
       "description": "",
       "description_tooltip": null,
       "layout": "IPY_MODEL_db2a03da7d1944a39998b40f7c9453d1",
       "placeholder": "​",
       "style": "IPY_MODEL_d2eabff4c53a4349b80742a70651ffdf",
       "value": " 226/226 [02:26&lt;00:00,  5.03it/s]"
      }
     },
     "d841044133204d5fa303df562a734e6b": {
      "model_module": "@jupyter-widgets/base",
      "model_module_version": "1.2.0",
      "model_name": "LayoutModel",
      "state": {
       "_model_module": "@jupyter-widgets/base",
       "_model_module_version": "1.2.0",
       "_model_name": "LayoutModel",
       "_view_count": null,
       "_view_module": "@jupyter-widgets/base",
       "_view_module_version": "1.2.0",
       "_view_name": "LayoutView",
       "align_content": null,
       "align_items": null,
       "align_self": null,
       "border": null,
       "bottom": null,
       "display": null,
       "flex": null,
       "flex_flow": null,
       "grid_area": null,
       "grid_auto_columns": null,
       "grid_auto_flow": null,
       "grid_auto_rows": null,
       "grid_column": null,
       "grid_gap": null,
       "grid_row": null,
       "grid_template_areas": null,
       "grid_template_columns": null,
       "grid_template_rows": null,
       "height": null,
       "justify_content": null,
       "justify_items": null,
       "left": null,
       "margin": null,
       "max_height": null,
       "max_width": null,
       "min_height": null,
       "min_width": null,
       "object_fit": null,
       "object_position": null,
       "order": null,
       "overflow": null,
       "overflow_x": null,
       "overflow_y": null,
       "padding": null,
       "right": null,
       "top": null,
       "visibility": null,
       "width": null
      }
     },
     "d87121879c014f32b0352c765b2b3394": {
      "model_module": "@jupyter-widgets/controls",
      "model_module_version": "1.5.0",
      "model_name": "DescriptionStyleModel",
      "state": {
       "_model_module": "@jupyter-widgets/controls",
       "_model_module_version": "1.5.0",
       "_model_name": "DescriptionStyleModel",
       "_view_count": null,
       "_view_module": "@jupyter-widgets/base",
       "_view_module_version": "1.2.0",
       "_view_name": "StyleView",
       "description_width": ""
      }
     },
     "d8769d3a3ca74748b925b5e4c46c14c7": {
      "model_module": "@jupyter-widgets/controls",
      "model_module_version": "1.5.0",
      "model_name": "DescriptionStyleModel",
      "state": {
       "_model_module": "@jupyter-widgets/controls",
       "_model_module_version": "1.5.0",
       "_model_name": "DescriptionStyleModel",
       "_view_count": null,
       "_view_module": "@jupyter-widgets/base",
       "_view_module_version": "1.2.0",
       "_view_name": "StyleView",
       "description_width": ""
      }
     },
     "d8d137dca24842df8afc97f38a0b38f5": {
      "model_module": "@jupyter-widgets/controls",
      "model_module_version": "1.5.0",
      "model_name": "FloatProgressModel",
      "state": {
       "_dom_classes": [],
       "_model_module": "@jupyter-widgets/controls",
       "_model_module_version": "1.5.0",
       "_model_name": "FloatProgressModel",
       "_view_count": null,
       "_view_module": "@jupyter-widgets/controls",
       "_view_module_version": "1.5.0",
       "_view_name": "ProgressView",
       "bar_style": "success",
       "description": "",
       "description_tooltip": null,
       "layout": "IPY_MODEL_dc1a1fced91d4c569c0e265eab22a853",
       "max": 226.0,
       "min": 0.0,
       "orientation": "horizontal",
       "style": "IPY_MODEL_fb788641b15347bdb686ffaf509c0766",
       "value": 226.0
      }
     },
     "d9ffaff5e1084a9a9eeb377757aff324": {
      "model_module": "@jupyter-widgets/controls",
      "model_module_version": "1.5.0",
      "model_name": "HBoxModel",
      "state": {
       "_dom_classes": [],
       "_model_module": "@jupyter-widgets/controls",
       "_model_module_version": "1.5.0",
       "_model_name": "HBoxModel",
       "_view_count": null,
       "_view_module": "@jupyter-widgets/controls",
       "_view_module_version": "1.5.0",
       "_view_name": "HBoxView",
       "box_style": "",
       "children": [
        "IPY_MODEL_ffde9bae327a421f9576f802334e0231",
        "IPY_MODEL_cb7d9d4cc70a4e1aba5cfde4e9f061cc",
        "IPY_MODEL_d7b3024a9ca74188acab5e6b063a4735"
       ],
       "layout": "IPY_MODEL_63b8d14c270148c8b9f8789a4b01f580"
      }
     },
     "db1d2264d8d84ace8f02abe6c461d54e": {
      "model_module": "@jupyter-widgets/controls",
      "model_module_version": "1.5.0",
      "model_name": "DescriptionStyleModel",
      "state": {
       "_model_module": "@jupyter-widgets/controls",
       "_model_module_version": "1.5.0",
       "_model_name": "DescriptionStyleModel",
       "_view_count": null,
       "_view_module": "@jupyter-widgets/base",
       "_view_module_version": "1.2.0",
       "_view_name": "StyleView",
       "description_width": ""
      }
     },
     "db2a03da7d1944a39998b40f7c9453d1": {
      "model_module": "@jupyter-widgets/base",
      "model_module_version": "1.2.0",
      "model_name": "LayoutModel",
      "state": {
       "_model_module": "@jupyter-widgets/base",
       "_model_module_version": "1.2.0",
       "_model_name": "LayoutModel",
       "_view_count": null,
       "_view_module": "@jupyter-widgets/base",
       "_view_module_version": "1.2.0",
       "_view_name": "LayoutView",
       "align_content": null,
       "align_items": null,
       "align_self": null,
       "border": null,
       "bottom": null,
       "display": null,
       "flex": null,
       "flex_flow": null,
       "grid_area": null,
       "grid_auto_columns": null,
       "grid_auto_flow": null,
       "grid_auto_rows": null,
       "grid_column": null,
       "grid_gap": null,
       "grid_row": null,
       "grid_template_areas": null,
       "grid_template_columns": null,
       "grid_template_rows": null,
       "height": null,
       "justify_content": null,
       "justify_items": null,
       "left": null,
       "margin": null,
       "max_height": null,
       "max_width": null,
       "min_height": null,
       "min_width": null,
       "object_fit": null,
       "object_position": null,
       "order": null,
       "overflow": null,
       "overflow_x": null,
       "overflow_y": null,
       "padding": null,
       "right": null,
       "top": null,
       "visibility": null,
       "width": null
      }
     },
     "dc1a1fced91d4c569c0e265eab22a853": {
      "model_module": "@jupyter-widgets/base",
      "model_module_version": "1.2.0",
      "model_name": "LayoutModel",
      "state": {
       "_model_module": "@jupyter-widgets/base",
       "_model_module_version": "1.2.0",
       "_model_name": "LayoutModel",
       "_view_count": null,
       "_view_module": "@jupyter-widgets/base",
       "_view_module_version": "1.2.0",
       "_view_name": "LayoutView",
       "align_content": null,
       "align_items": null,
       "align_self": null,
       "border": null,
       "bottom": null,
       "display": null,
       "flex": null,
       "flex_flow": null,
       "grid_area": null,
       "grid_auto_columns": null,
       "grid_auto_flow": null,
       "grid_auto_rows": null,
       "grid_column": null,
       "grid_gap": null,
       "grid_row": null,
       "grid_template_areas": null,
       "grid_template_columns": null,
       "grid_template_rows": null,
       "height": null,
       "justify_content": null,
       "justify_items": null,
       "left": null,
       "margin": null,
       "max_height": null,
       "max_width": null,
       "min_height": null,
       "min_width": null,
       "object_fit": null,
       "object_position": null,
       "order": null,
       "overflow": null,
       "overflow_x": null,
       "overflow_y": null,
       "padding": null,
       "right": null,
       "top": null,
       "visibility": null,
       "width": null
      }
     },
     "dcb8675d1c144352ae6821ccc57cf2b2": {
      "model_module": "@jupyter-widgets/base",
      "model_module_version": "1.2.0",
      "model_name": "LayoutModel",
      "state": {
       "_model_module": "@jupyter-widgets/base",
       "_model_module_version": "1.2.0",
       "_model_name": "LayoutModel",
       "_view_count": null,
       "_view_module": "@jupyter-widgets/base",
       "_view_module_version": "1.2.0",
       "_view_name": "LayoutView",
       "align_content": null,
       "align_items": null,
       "align_self": null,
       "border": null,
       "bottom": null,
       "display": null,
       "flex": null,
       "flex_flow": null,
       "grid_area": null,
       "grid_auto_columns": null,
       "grid_auto_flow": null,
       "grid_auto_rows": null,
       "grid_column": null,
       "grid_gap": null,
       "grid_row": null,
       "grid_template_areas": null,
       "grid_template_columns": null,
       "grid_template_rows": null,
       "height": null,
       "justify_content": null,
       "justify_items": null,
       "left": null,
       "margin": null,
       "max_height": null,
       "max_width": null,
       "min_height": null,
       "min_width": null,
       "object_fit": null,
       "object_position": null,
       "order": null,
       "overflow": null,
       "overflow_x": null,
       "overflow_y": null,
       "padding": null,
       "right": null,
       "top": null,
       "visibility": null,
       "width": null
      }
     },
     "dd402825b3894cd08cc8e60f0735aa3e": {
      "model_module": "@jupyter-widgets/controls",
      "model_module_version": "1.5.0",
      "model_name": "DescriptionStyleModel",
      "state": {
       "_model_module": "@jupyter-widgets/controls",
       "_model_module_version": "1.5.0",
       "_model_name": "DescriptionStyleModel",
       "_view_count": null,
       "_view_module": "@jupyter-widgets/base",
       "_view_module_version": "1.2.0",
       "_view_name": "StyleView",
       "description_width": ""
      }
     },
     "dd6b9e1c8b124ad09e350c9937e5bbf4": {
      "model_module": "@jupyter-widgets/controls",
      "model_module_version": "1.5.0",
      "model_name": "HBoxModel",
      "state": {
       "_dom_classes": [],
       "_model_module": "@jupyter-widgets/controls",
       "_model_module_version": "1.5.0",
       "_model_name": "HBoxModel",
       "_view_count": null,
       "_view_module": "@jupyter-widgets/controls",
       "_view_module_version": "1.5.0",
       "_view_name": "HBoxView",
       "box_style": "",
       "children": [
        "IPY_MODEL_35acb5108771425cbd98ec35f483f0f1",
        "IPY_MODEL_02b91c2619e14ecbaed0fd75586de7bf",
        "IPY_MODEL_de273ae2ae5f40518de2eb110dc49528"
       ],
       "layout": "IPY_MODEL_61ca90cd11084f418ea701c0e16b590f"
      }
     },
     "de17f9f344aa4acaaf14d7b90fc5c7fa": {
      "model_module": "@jupyter-widgets/base",
      "model_module_version": "1.2.0",
      "model_name": "LayoutModel",
      "state": {
       "_model_module": "@jupyter-widgets/base",
       "_model_module_version": "1.2.0",
       "_model_name": "LayoutModel",
       "_view_count": null,
       "_view_module": "@jupyter-widgets/base",
       "_view_module_version": "1.2.0",
       "_view_name": "LayoutView",
       "align_content": null,
       "align_items": null,
       "align_self": null,
       "border": null,
       "bottom": null,
       "display": null,
       "flex": null,
       "flex_flow": null,
       "grid_area": null,
       "grid_auto_columns": null,
       "grid_auto_flow": null,
       "grid_auto_rows": null,
       "grid_column": null,
       "grid_gap": null,
       "grid_row": null,
       "grid_template_areas": null,
       "grid_template_columns": null,
       "grid_template_rows": null,
       "height": null,
       "justify_content": null,
       "justify_items": null,
       "left": null,
       "margin": null,
       "max_height": null,
       "max_width": null,
       "min_height": null,
       "min_width": null,
       "object_fit": null,
       "object_position": null,
       "order": null,
       "overflow": null,
       "overflow_x": null,
       "overflow_y": null,
       "padding": null,
       "right": null,
       "top": null,
       "visibility": null,
       "width": null
      }
     },
     "de273ae2ae5f40518de2eb110dc49528": {
      "model_module": "@jupyter-widgets/controls",
      "model_module_version": "1.5.0",
      "model_name": "HTMLModel",
      "state": {
       "_dom_classes": [],
       "_model_module": "@jupyter-widgets/controls",
       "_model_module_version": "1.5.0",
       "_model_name": "HTMLModel",
       "_view_count": null,
       "_view_module": "@jupyter-widgets/controls",
       "_view_module_version": "1.5.0",
       "_view_name": "HTMLView",
       "description": "",
       "description_tooltip": null,
       "layout": "IPY_MODEL_17b97a57325748e1bfdcd8a6380f7e68",
       "placeholder": "​",
       "style": "IPY_MODEL_aa1796eb27654dc091882fcc17f10b7c",
       "value": " 226/226 [02:50&lt;00:00,  1.21s/it]"
      }
     },
     "e0022318bf894b1296e7a838ae128015": {
      "model_module": "@jupyter-widgets/base",
      "model_module_version": "1.2.0",
      "model_name": "LayoutModel",
      "state": {
       "_model_module": "@jupyter-widgets/base",
       "_model_module_version": "1.2.0",
       "_model_name": "LayoutModel",
       "_view_count": null,
       "_view_module": "@jupyter-widgets/base",
       "_view_module_version": "1.2.0",
       "_view_name": "LayoutView",
       "align_content": null,
       "align_items": null,
       "align_self": null,
       "border": null,
       "bottom": null,
       "display": null,
       "flex": null,
       "flex_flow": null,
       "grid_area": null,
       "grid_auto_columns": null,
       "grid_auto_flow": null,
       "grid_auto_rows": null,
       "grid_column": null,
       "grid_gap": null,
       "grid_row": null,
       "grid_template_areas": null,
       "grid_template_columns": null,
       "grid_template_rows": null,
       "height": null,
       "justify_content": null,
       "justify_items": null,
       "left": null,
       "margin": null,
       "max_height": null,
       "max_width": null,
       "min_height": null,
       "min_width": null,
       "object_fit": null,
       "object_position": null,
       "order": null,
       "overflow": null,
       "overflow_x": null,
       "overflow_y": null,
       "padding": null,
       "right": null,
       "top": null,
       "visibility": null,
       "width": null
      }
     },
     "e4b0b6a09f844fc3ac2cde6f9053aabe": {
      "model_module": "@jupyter-widgets/base",
      "model_module_version": "1.2.0",
      "model_name": "LayoutModel",
      "state": {
       "_model_module": "@jupyter-widgets/base",
       "_model_module_version": "1.2.0",
       "_model_name": "LayoutModel",
       "_view_count": null,
       "_view_module": "@jupyter-widgets/base",
       "_view_module_version": "1.2.0",
       "_view_name": "LayoutView",
       "align_content": null,
       "align_items": null,
       "align_self": null,
       "border": null,
       "bottom": null,
       "display": null,
       "flex": null,
       "flex_flow": null,
       "grid_area": null,
       "grid_auto_columns": null,
       "grid_auto_flow": null,
       "grid_auto_rows": null,
       "grid_column": null,
       "grid_gap": null,
       "grid_row": null,
       "grid_template_areas": null,
       "grid_template_columns": null,
       "grid_template_rows": null,
       "height": null,
       "justify_content": null,
       "justify_items": null,
       "left": null,
       "margin": null,
       "max_height": null,
       "max_width": null,
       "min_height": null,
       "min_width": null,
       "object_fit": null,
       "object_position": null,
       "order": null,
       "overflow": null,
       "overflow_x": null,
       "overflow_y": null,
       "padding": null,
       "right": null,
       "top": null,
       "visibility": null,
       "width": null
      }
     },
     "e65ca02295314022b935f73a5b799381": {
      "model_module": "@jupyter-widgets/controls",
      "model_module_version": "1.5.0",
      "model_name": "HBoxModel",
      "state": {
       "_dom_classes": [],
       "_model_module": "@jupyter-widgets/controls",
       "_model_module_version": "1.5.0",
       "_model_name": "HBoxModel",
       "_view_count": null,
       "_view_module": "@jupyter-widgets/controls",
       "_view_module_version": "1.5.0",
       "_view_name": "HBoxView",
       "box_style": "",
       "children": [
        "IPY_MODEL_ec598c24df474a9f84aac9f41ffc8bb6",
        "IPY_MODEL_72cbcac82f404ff192d6ff4400138a12",
        "IPY_MODEL_ccb02e6e8ed148d9999c895125ffe64a"
       ],
       "layout": "IPY_MODEL_cad1b568bf5a466b8ca7540e7717e3f7"
      }
     },
     "e681d1e694764be480af1f0f20f7dbb7": {
      "model_module": "@jupyter-widgets/base",
      "model_module_version": "1.2.0",
      "model_name": "LayoutModel",
      "state": {
       "_model_module": "@jupyter-widgets/base",
       "_model_module_version": "1.2.0",
       "_model_name": "LayoutModel",
       "_view_count": null,
       "_view_module": "@jupyter-widgets/base",
       "_view_module_version": "1.2.0",
       "_view_name": "LayoutView",
       "align_content": null,
       "align_items": null,
       "align_self": null,
       "border": null,
       "bottom": null,
       "display": null,
       "flex": null,
       "flex_flow": null,
       "grid_area": null,
       "grid_auto_columns": null,
       "grid_auto_flow": null,
       "grid_auto_rows": null,
       "grid_column": null,
       "grid_gap": null,
       "grid_row": null,
       "grid_template_areas": null,
       "grid_template_columns": null,
       "grid_template_rows": null,
       "height": null,
       "justify_content": null,
       "justify_items": null,
       "left": null,
       "margin": null,
       "max_height": null,
       "max_width": null,
       "min_height": null,
       "min_width": null,
       "object_fit": null,
       "object_position": null,
       "order": null,
       "overflow": null,
       "overflow_x": null,
       "overflow_y": null,
       "padding": null,
       "right": null,
       "top": null,
       "visibility": null,
       "width": null
      }
     },
     "ec4af57f563c46b8a38f53cf7cf39098": {
      "model_module": "@jupyter-widgets/base",
      "model_module_version": "1.2.0",
      "model_name": "LayoutModel",
      "state": {
       "_model_module": "@jupyter-widgets/base",
       "_model_module_version": "1.2.0",
       "_model_name": "LayoutModel",
       "_view_count": null,
       "_view_module": "@jupyter-widgets/base",
       "_view_module_version": "1.2.0",
       "_view_name": "LayoutView",
       "align_content": null,
       "align_items": null,
       "align_self": null,
       "border": null,
       "bottom": null,
       "display": null,
       "flex": null,
       "flex_flow": null,
       "grid_area": null,
       "grid_auto_columns": null,
       "grid_auto_flow": null,
       "grid_auto_rows": null,
       "grid_column": null,
       "grid_gap": null,
       "grid_row": null,
       "grid_template_areas": null,
       "grid_template_columns": null,
       "grid_template_rows": null,
       "height": null,
       "justify_content": null,
       "justify_items": null,
       "left": null,
       "margin": null,
       "max_height": null,
       "max_width": null,
       "min_height": null,
       "min_width": null,
       "object_fit": null,
       "object_position": null,
       "order": null,
       "overflow": null,
       "overflow_x": null,
       "overflow_y": null,
       "padding": null,
       "right": null,
       "top": null,
       "visibility": null,
       "width": null
      }
     },
     "ec598c24df474a9f84aac9f41ffc8bb6": {
      "model_module": "@jupyter-widgets/controls",
      "model_module_version": "1.5.0",
      "model_name": "HTMLModel",
      "state": {
       "_dom_classes": [],
       "_model_module": "@jupyter-widgets/controls",
       "_model_module_version": "1.5.0",
       "_model_name": "HTMLModel",
       "_view_count": null,
       "_view_module": "@jupyter-widgets/controls",
       "_view_module_version": "1.5.0",
       "_view_name": "HTMLView",
       "description": "",
       "description_tooltip": null,
       "layout": "IPY_MODEL_a32da72b0fac40f48b998bea46b3a1c7",
       "placeholder": "​",
       "style": "IPY_MODEL_117556b3422e4751a0c60619d05351c2",
       "value": "100%"
      }
     },
     "f05c654d4500495ca144db3dc08d9742": {
      "model_module": "@jupyter-widgets/controls",
      "model_module_version": "1.5.0",
      "model_name": "HTMLModel",
      "state": {
       "_dom_classes": [],
       "_model_module": "@jupyter-widgets/controls",
       "_model_module_version": "1.5.0",
       "_model_name": "HTMLModel",
       "_view_count": null,
       "_view_module": "@jupyter-widgets/controls",
       "_view_module_version": "1.5.0",
       "_view_name": "HTMLView",
       "description": "",
       "description_tooltip": null,
       "layout": "IPY_MODEL_93c16df267184529abee7316fcf582cf",
       "placeholder": "​",
       "style": "IPY_MODEL_bf9954f401024a8a816adbde7b976b1f",
       "value": " 226/226 [02:38&lt;00:00,  4.24s/it]"
      }
     },
     "f1068ba5b8f943819043e334c5d80927": {
      "model_module": "@jupyter-widgets/controls",
      "model_module_version": "1.5.0",
      "model_name": "HBoxModel",
      "state": {
       "_dom_classes": [],
       "_model_module": "@jupyter-widgets/controls",
       "_model_module_version": "1.5.0",
       "_model_name": "HBoxModel",
       "_view_count": null,
       "_view_module": "@jupyter-widgets/controls",
       "_view_module_version": "1.5.0",
       "_view_name": "HBoxView",
       "box_style": "",
       "children": [
        "IPY_MODEL_2c677a394959445abf654828af9c5789",
        "IPY_MODEL_380961f122ca4838ab3611efb0b95b0b",
        "IPY_MODEL_f05c654d4500495ca144db3dc08d9742"
       ],
       "layout": "IPY_MODEL_65a91c512669423caaf81166e4361097"
      }
     },
     "f4a13e79fa814d188b326409473a7a89": {
      "model_module": "@jupyter-widgets/controls",
      "model_module_version": "1.5.0",
      "model_name": "HBoxModel",
      "state": {
       "_dom_classes": [],
       "_model_module": "@jupyter-widgets/controls",
       "_model_module_version": "1.5.0",
       "_model_name": "HBoxModel",
       "_view_count": null,
       "_view_module": "@jupyter-widgets/controls",
       "_view_module_version": "1.5.0",
       "_view_name": "HBoxView",
       "box_style": "",
       "children": [
        "IPY_MODEL_5c812292083b481cb23cd8d913702962",
        "IPY_MODEL_2c53f68b7856499892a0d5f830bf44d4",
        "IPY_MODEL_fd21342f182546958f1c9f9f8c3648d3"
       ],
       "layout": "IPY_MODEL_5d1a968e8d894f2cb7d8e557ec5f6010"
      }
     },
     "f4ee64ff9d7e495ca706678621c5d1fb": {
      "model_module": "@jupyter-widgets/base",
      "model_module_version": "1.2.0",
      "model_name": "LayoutModel",
      "state": {
       "_model_module": "@jupyter-widgets/base",
       "_model_module_version": "1.2.0",
       "_model_name": "LayoutModel",
       "_view_count": null,
       "_view_module": "@jupyter-widgets/base",
       "_view_module_version": "1.2.0",
       "_view_name": "LayoutView",
       "align_content": null,
       "align_items": null,
       "align_self": null,
       "border": null,
       "bottom": null,
       "display": null,
       "flex": null,
       "flex_flow": null,
       "grid_area": null,
       "grid_auto_columns": null,
       "grid_auto_flow": null,
       "grid_auto_rows": null,
       "grid_column": null,
       "grid_gap": null,
       "grid_row": null,
       "grid_template_areas": null,
       "grid_template_columns": null,
       "grid_template_rows": null,
       "height": null,
       "justify_content": null,
       "justify_items": null,
       "left": null,
       "margin": null,
       "max_height": null,
       "max_width": null,
       "min_height": null,
       "min_width": null,
       "object_fit": null,
       "object_position": null,
       "order": null,
       "overflow": null,
       "overflow_x": null,
       "overflow_y": null,
       "padding": null,
       "right": null,
       "top": null,
       "visibility": null,
       "width": null
      }
     },
     "f572e806be2140839ea271fc8a524c45": {
      "model_module": "@jupyter-widgets/controls",
      "model_module_version": "1.5.0",
      "model_name": "DescriptionStyleModel",
      "state": {
       "_model_module": "@jupyter-widgets/controls",
       "_model_module_version": "1.5.0",
       "_model_name": "DescriptionStyleModel",
       "_view_count": null,
       "_view_module": "@jupyter-widgets/base",
       "_view_module_version": "1.2.0",
       "_view_name": "StyleView",
       "description_width": ""
      }
     },
     "f70b7d7020294afbb01ee01d7fe932c2": {
      "model_module": "@jupyter-widgets/controls",
      "model_module_version": "1.5.0",
      "model_name": "HTMLModel",
      "state": {
       "_dom_classes": [],
       "_model_module": "@jupyter-widgets/controls",
       "_model_module_version": "1.5.0",
       "_model_name": "HTMLModel",
       "_view_count": null,
       "_view_module": "@jupyter-widgets/controls",
       "_view_module_version": "1.5.0",
       "_view_name": "HTMLView",
       "description": "",
       "description_tooltip": null,
       "layout": "IPY_MODEL_8063e6594aad4853bfa5d679796e6eba",
       "placeholder": "​",
       "style": "IPY_MODEL_726f9af1ea5c4e87be54f592daac6c5c",
       "value": "100%"
      }
     },
     "f70e1256bb21400cb9faab872a89952f": {
      "model_module": "@jupyter-widgets/base",
      "model_module_version": "1.2.0",
      "model_name": "LayoutModel",
      "state": {
       "_model_module": "@jupyter-widgets/base",
       "_model_module_version": "1.2.0",
       "_model_name": "LayoutModel",
       "_view_count": null,
       "_view_module": "@jupyter-widgets/base",
       "_view_module_version": "1.2.0",
       "_view_name": "LayoutView",
       "align_content": null,
       "align_items": null,
       "align_self": null,
       "border": null,
       "bottom": null,
       "display": null,
       "flex": null,
       "flex_flow": null,
       "grid_area": null,
       "grid_auto_columns": null,
       "grid_auto_flow": null,
       "grid_auto_rows": null,
       "grid_column": null,
       "grid_gap": null,
       "grid_row": null,
       "grid_template_areas": null,
       "grid_template_columns": null,
       "grid_template_rows": null,
       "height": null,
       "justify_content": null,
       "justify_items": null,
       "left": null,
       "margin": null,
       "max_height": null,
       "max_width": null,
       "min_height": null,
       "min_width": null,
       "object_fit": null,
       "object_position": null,
       "order": null,
       "overflow": null,
       "overflow_x": null,
       "overflow_y": null,
       "padding": null,
       "right": null,
       "top": null,
       "visibility": null,
       "width": null
      }
     },
     "f79198a280024bc78811ff7472ae0776": {
      "model_module": "@jupyter-widgets/base",
      "model_module_version": "1.2.0",
      "model_name": "LayoutModel",
      "state": {
       "_model_module": "@jupyter-widgets/base",
       "_model_module_version": "1.2.0",
       "_model_name": "LayoutModel",
       "_view_count": null,
       "_view_module": "@jupyter-widgets/base",
       "_view_module_version": "1.2.0",
       "_view_name": "LayoutView",
       "align_content": null,
       "align_items": null,
       "align_self": null,
       "border": null,
       "bottom": null,
       "display": null,
       "flex": null,
       "flex_flow": null,
       "grid_area": null,
       "grid_auto_columns": null,
       "grid_auto_flow": null,
       "grid_auto_rows": null,
       "grid_column": null,
       "grid_gap": null,
       "grid_row": null,
       "grid_template_areas": null,
       "grid_template_columns": null,
       "grid_template_rows": null,
       "height": null,
       "justify_content": null,
       "justify_items": null,
       "left": null,
       "margin": null,
       "max_height": null,
       "max_width": null,
       "min_height": null,
       "min_width": null,
       "object_fit": null,
       "object_position": null,
       "order": null,
       "overflow": null,
       "overflow_x": null,
       "overflow_y": null,
       "padding": null,
       "right": null,
       "top": null,
       "visibility": null,
       "width": null
      }
     },
     "f832d0b964fa4e81a2022aac3b894c2e": {
      "model_module": "@jupyter-widgets/controls",
      "model_module_version": "1.5.0",
      "model_name": "HBoxModel",
      "state": {
       "_dom_classes": [],
       "_model_module": "@jupyter-widgets/controls",
       "_model_module_version": "1.5.0",
       "_model_name": "HBoxModel",
       "_view_count": null,
       "_view_module": "@jupyter-widgets/controls",
       "_view_module_version": "1.5.0",
       "_view_name": "HBoxView",
       "box_style": "",
       "children": [
        "IPY_MODEL_4ccfe86ac70a4b75bcee73d8ec0a2f1f",
        "IPY_MODEL_cb79dea2ebf745279cb2252a310531bd",
        "IPY_MODEL_66ee8d0b63484bc5af26adee825ef0cf"
       ],
       "layout": "IPY_MODEL_2f60dbf9cd994849a9e00fdbc234c4df"
      }
     },
     "f9fb669caaa649b4ab18be2ed1485a5f": {
      "model_module": "@jupyter-widgets/controls",
      "model_module_version": "1.5.0",
      "model_name": "HBoxModel",
      "state": {
       "_dom_classes": [],
       "_model_module": "@jupyter-widgets/controls",
       "_model_module_version": "1.5.0",
       "_model_name": "HBoxModel",
       "_view_count": null,
       "_view_module": "@jupyter-widgets/controls",
       "_view_module_version": "1.5.0",
       "_view_name": "HBoxView",
       "box_style": "",
       "children": [
        "IPY_MODEL_59fc989f401743e5ba9efd55905c40eb",
        "IPY_MODEL_bc3300f069804fc2a3dc2479271e9c18",
        "IPY_MODEL_d6f6ae9e1a134f2d8c5262f9b8369e14"
       ],
       "layout": "IPY_MODEL_8d4fc5fa624d437b90945cbabb5802c6"
      }
     },
     "fb13afe969854e66bae848b1676c0bb9": {
      "model_module": "@jupyter-widgets/controls",
      "model_module_version": "1.5.0",
      "model_name": "HTMLModel",
      "state": {
       "_dom_classes": [],
       "_model_module": "@jupyter-widgets/controls",
       "_model_module_version": "1.5.0",
       "_model_name": "HTMLModel",
       "_view_count": null,
       "_view_module": "@jupyter-widgets/controls",
       "_view_module_version": "1.5.0",
       "_view_name": "HTMLView",
       "description": "",
       "description_tooltip": null,
       "layout": "IPY_MODEL_298ea7acad4a4d75b66492aa486bd7c7",
       "placeholder": "​",
       "style": "IPY_MODEL_f572e806be2140839ea271fc8a524c45",
       "value": "100%"
      }
     },
     "fb32abe7bbc34f219e998573393f3c1f": {
      "model_module": "@jupyter-widgets/controls",
      "model_module_version": "1.5.0",
      "model_name": "HTMLModel",
      "state": {
       "_dom_classes": [],
       "_model_module": "@jupyter-widgets/controls",
       "_model_module_version": "1.5.0",
       "_model_name": "HTMLModel",
       "_view_count": null,
       "_view_module": "@jupyter-widgets/controls",
       "_view_module_version": "1.5.0",
       "_view_name": "HTMLView",
       "description": "",
       "description_tooltip": null,
       "layout": "IPY_MODEL_425ab16770fe4b8e93ff6bd2fd6bfad1",
       "placeholder": "​",
       "style": "IPY_MODEL_d261ac9dfa76478c87bbdd57adaf334a",
       "value": "100%"
      }
     },
     "fb788641b15347bdb686ffaf509c0766": {
      "model_module": "@jupyter-widgets/controls",
      "model_module_version": "1.5.0",
      "model_name": "ProgressStyleModel",
      "state": {
       "_model_module": "@jupyter-widgets/controls",
       "_model_module_version": "1.5.0",
       "_model_name": "ProgressStyleModel",
       "_view_count": null,
       "_view_module": "@jupyter-widgets/base",
       "_view_module_version": "1.2.0",
       "_view_name": "StyleView",
       "bar_color": null,
       "description_width": ""
      }
     },
     "fc55da155b084e9eb952a962536970a1": {
      "model_module": "@jupyter-widgets/controls",
      "model_module_version": "1.5.0",
      "model_name": "DescriptionStyleModel",
      "state": {
       "_model_module": "@jupyter-widgets/controls",
       "_model_module_version": "1.5.0",
       "_model_name": "DescriptionStyleModel",
       "_view_count": null,
       "_view_module": "@jupyter-widgets/base",
       "_view_module_version": "1.2.0",
       "_view_name": "StyleView",
       "description_width": ""
      }
     },
     "fd21342f182546958f1c9f9f8c3648d3": {
      "model_module": "@jupyter-widgets/controls",
      "model_module_version": "1.5.0",
      "model_name": "HTMLModel",
      "state": {
       "_dom_classes": [],
       "_model_module": "@jupyter-widgets/controls",
       "_model_module_version": "1.5.0",
       "_model_name": "HTMLModel",
       "_view_count": null,
       "_view_module": "@jupyter-widgets/controls",
       "_view_module_version": "1.5.0",
       "_view_name": "HTMLView",
       "description": "",
       "description_tooltip": null,
       "layout": "IPY_MODEL_7320009d67a344c3b2be445e353fd477",
       "placeholder": "​",
       "style": "IPY_MODEL_83d308293ee34ac593da18ee14535db5",
       "value": " 226/226 [02:18&lt;00:00,  3.84it/s]"
      }
     },
     "fd86ba069d904410950a1769896ed2b5": {
      "model_module": "@jupyter-widgets/base",
      "model_module_version": "1.2.0",
      "model_name": "LayoutModel",
      "state": {
       "_model_module": "@jupyter-widgets/base",
       "_model_module_version": "1.2.0",
       "_model_name": "LayoutModel",
       "_view_count": null,
       "_view_module": "@jupyter-widgets/base",
       "_view_module_version": "1.2.0",
       "_view_name": "LayoutView",
       "align_content": null,
       "align_items": null,
       "align_self": null,
       "border": null,
       "bottom": null,
       "display": null,
       "flex": null,
       "flex_flow": null,
       "grid_area": null,
       "grid_auto_columns": null,
       "grid_auto_flow": null,
       "grid_auto_rows": null,
       "grid_column": null,
       "grid_gap": null,
       "grid_row": null,
       "grid_template_areas": null,
       "grid_template_columns": null,
       "grid_template_rows": null,
       "height": null,
       "justify_content": null,
       "justify_items": null,
       "left": null,
       "margin": null,
       "max_height": null,
       "max_width": null,
       "min_height": null,
       "min_width": null,
       "object_fit": null,
       "object_position": null,
       "order": null,
       "overflow": null,
       "overflow_x": null,
       "overflow_y": null,
       "padding": null,
       "right": null,
       "top": null,
       "visibility": null,
       "width": null
      }
     },
     "fee95d4ce3ca4757a252f914cce670e4": {
      "model_module": "@jupyter-widgets/base",
      "model_module_version": "1.2.0",
      "model_name": "LayoutModel",
      "state": {
       "_model_module": "@jupyter-widgets/base",
       "_model_module_version": "1.2.0",
       "_model_name": "LayoutModel",
       "_view_count": null,
       "_view_module": "@jupyter-widgets/base",
       "_view_module_version": "1.2.0",
       "_view_name": "LayoutView",
       "align_content": null,
       "align_items": null,
       "align_self": null,
       "border": null,
       "bottom": null,
       "display": null,
       "flex": null,
       "flex_flow": null,
       "grid_area": null,
       "grid_auto_columns": null,
       "grid_auto_flow": null,
       "grid_auto_rows": null,
       "grid_column": null,
       "grid_gap": null,
       "grid_row": null,
       "grid_template_areas": null,
       "grid_template_columns": null,
       "grid_template_rows": null,
       "height": null,
       "justify_content": null,
       "justify_items": null,
       "left": null,
       "margin": null,
       "max_height": null,
       "max_width": null,
       "min_height": null,
       "min_width": null,
       "object_fit": null,
       "object_position": null,
       "order": null,
       "overflow": null,
       "overflow_x": null,
       "overflow_y": null,
       "padding": null,
       "right": null,
       "top": null,
       "visibility": null,
       "width": null
      }
     },
     "ff128b71e0b84b1aa6e1b75ffeb8670c": {
      "model_module": "@jupyter-widgets/base",
      "model_module_version": "1.2.0",
      "model_name": "LayoutModel",
      "state": {
       "_model_module": "@jupyter-widgets/base",
       "_model_module_version": "1.2.0",
       "_model_name": "LayoutModel",
       "_view_count": null,
       "_view_module": "@jupyter-widgets/base",
       "_view_module_version": "1.2.0",
       "_view_name": "LayoutView",
       "align_content": null,
       "align_items": null,
       "align_self": null,
       "border": null,
       "bottom": null,
       "display": null,
       "flex": null,
       "flex_flow": null,
       "grid_area": null,
       "grid_auto_columns": null,
       "grid_auto_flow": null,
       "grid_auto_rows": null,
       "grid_column": null,
       "grid_gap": null,
       "grid_row": null,
       "grid_template_areas": null,
       "grid_template_columns": null,
       "grid_template_rows": null,
       "height": null,
       "justify_content": null,
       "justify_items": null,
       "left": null,
       "margin": null,
       "max_height": null,
       "max_width": null,
       "min_height": null,
       "min_width": null,
       "object_fit": null,
       "object_position": null,
       "order": null,
       "overflow": null,
       "overflow_x": null,
       "overflow_y": null,
       "padding": null,
       "right": null,
       "top": null,
       "visibility": null,
       "width": null
      }
     },
     "ffde9bae327a421f9576f802334e0231": {
      "model_module": "@jupyter-widgets/controls",
      "model_module_version": "1.5.0",
      "model_name": "HTMLModel",
      "state": {
       "_dom_classes": [],
       "_model_module": "@jupyter-widgets/controls",
       "_model_module_version": "1.5.0",
       "_model_name": "HTMLModel",
       "_view_count": null,
       "_view_module": "@jupyter-widgets/controls",
       "_view_module_version": "1.5.0",
       "_view_name": "HTMLView",
       "description": "",
       "description_tooltip": null,
       "layout": "IPY_MODEL_1f24a6a880034c74aa25299e1ee8964c",
       "placeholder": "​",
       "style": "IPY_MODEL_d87121879c014f32b0352c765b2b3394",
       "value": "100%"
      }
     }
    },
    "version_major": 2,
    "version_minor": 0
   }
  }
 },
 "nbformat": 4,
 "nbformat_minor": 5
}
