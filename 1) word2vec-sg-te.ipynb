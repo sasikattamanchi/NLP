{
 "cells": [
  {
   "cell_type": "markdown",
   "metadata": {},
   "source": [
    "Implementation of model to generate word2vec embeddings for telugu language. The model is trained on a corpus of wikipedia articles."
   ]
  },
  {
   "cell_type": "markdown",
   "metadata": {},
   "source": [
    "## Imports"
   ]
  },
  {
   "cell_type": "code",
   "execution_count": 1,
   "metadata": {
    "execution": {
     "iopub.execute_input": "2021-12-11T04:57:45.688028Z",
     "iopub.status.busy": "2021-12-11T04:57:45.687200Z",
     "iopub.status.idle": "2021-12-11T04:57:45.707499Z",
     "shell.execute_reply": "2021-12-11T04:57:45.706780Z",
     "shell.execute_reply.started": "2021-12-11T04:57:45.687905Z"
    }
   },
   "outputs": [],
   "source": [
    "%config Completer.use_jedi=False"
   ]
  },
  {
   "cell_type": "code",
   "execution_count": 2,
   "metadata": {
    "execution": {
     "iopub.execute_input": "2021-12-11T04:57:45.710556Z",
     "iopub.status.busy": "2021-12-11T04:57:45.710355Z",
     "iopub.status.idle": "2021-12-11T04:57:45.716385Z",
     "shell.execute_reply": "2021-12-11T04:57:45.715583Z",
     "shell.execute_reply.started": "2021-12-11T04:57:45.710531Z"
    }
   },
   "outputs": [],
   "source": [
    "import numpy as np"
   ]
  },
  {
   "cell_type": "code",
   "execution_count": 3,
   "metadata": {
    "execution": {
     "iopub.execute_input": "2021-12-11T04:57:45.719771Z",
     "iopub.status.busy": "2021-12-11T04:57:45.718743Z",
     "iopub.status.idle": "2021-12-11T04:57:45.766449Z",
     "shell.execute_reply": "2021-12-11T04:57:45.765770Z",
     "shell.execute_reply.started": "2021-12-11T04:57:45.719726Z"
    }
   },
   "outputs": [],
   "source": [
    "from tqdm.notebook import trange, tqdm"
   ]
  },
  {
   "cell_type": "code",
   "execution_count": 4,
   "metadata": {
    "execution": {
     "iopub.execute_input": "2021-12-11T04:57:45.769098Z",
     "iopub.status.busy": "2021-12-11T04:57:45.768763Z",
     "iopub.status.idle": "2021-12-11T04:57:46.227888Z",
     "shell.execute_reply": "2021-12-11T04:57:46.227173Z",
     "shell.execute_reply.started": "2021-12-11T04:57:45.769059Z"
    }
   },
   "outputs": [],
   "source": [
    "import torch\n",
    "import torch.nn as nn\n",
    "import torch.nn.functional as F\n",
    "from torch.autograd import Variable"
   ]
  },
  {
   "cell_type": "code",
   "execution_count": 5,
   "metadata": {
    "execution": {
     "iopub.execute_input": "2021-12-11T04:57:46.231059Z",
     "iopub.status.busy": "2021-12-11T04:57:46.229135Z",
     "iopub.status.idle": "2021-12-11T04:57:46.234376Z",
     "shell.execute_reply": "2021-12-11T04:57:46.233712Z",
     "shell.execute_reply.started": "2021-12-11T04:57:46.231020Z"
    }
   },
   "outputs": [],
   "source": [
    "import matplotlib.pyplot as plt"
   ]
  },
  {
   "cell_type": "code",
   "execution_count": 6,
   "metadata": {
    "execution": {
     "iopub.execute_input": "2021-12-11T04:57:46.236273Z",
     "iopub.status.busy": "2021-12-11T04:57:46.235569Z",
     "iopub.status.idle": "2021-12-11T04:57:46.244941Z",
     "shell.execute_reply": "2021-12-11T04:57:46.244203Z",
     "shell.execute_reply.started": "2021-12-11T04:57:46.236232Z"
    }
   },
   "outputs": [],
   "source": [
    "from itertools import chain\n",
    "from collections import Counter\n",
    "import string\n",
    "import time\n",
    "import re\n",
    "import gc\n",
    "import random\n",
    "import math"
   ]
  },
  {
   "cell_type": "code",
   "execution_count": 7,
   "metadata": {
    "execution": {
     "iopub.execute_input": "2021-12-11T04:57:46.246785Z",
     "iopub.status.busy": "2021-12-11T04:57:46.246179Z",
     "iopub.status.idle": "2021-12-11T04:57:46.258880Z",
     "shell.execute_reply": "2021-12-11T04:57:46.258176Z",
     "shell.execute_reply.started": "2021-12-11T04:57:46.246748Z"
    }
   },
   "outputs": [
    {
     "data": {
      "text/plain": [
       "<torch._C.Generator at 0x7fb9b08ade90>"
      ]
     },
     "execution_count": 7,
     "metadata": {},
     "output_type": "execute_result"
    }
   ],
   "source": [
    "torch.manual_seed(42)"
   ]
  },
  {
   "cell_type": "code",
   "execution_count": 8,
   "metadata": {
    "execution": {
     "iopub.execute_input": "2021-12-11T04:57:46.263013Z",
     "iopub.status.busy": "2021-12-11T04:57:46.261220Z",
     "iopub.status.idle": "2021-12-11T04:57:46.289574Z",
     "shell.execute_reply": "2021-12-11T04:57:46.288810Z",
     "shell.execute_reply.started": "2021-12-11T04:57:46.262983Z"
    }
   },
   "outputs": [
    {
     "data": {
      "text/plain": [
       "device(type='cuda', index=0)"
      ]
     },
     "execution_count": 8,
     "metadata": {},
     "output_type": "execute_result"
    }
   ],
   "source": [
    "device = torch.device(\"cuda:0\" if torch.cuda.is_available() else \"cpu\")\n",
    "device "
   ]
  },
  {
   "cell_type": "markdown",
   "metadata": {},
   "source": [
    "## Generate skipgrams"
   ]
  },
  {
   "cell_type": "code",
   "execution_count": 9,
   "metadata": {
    "execution": {
     "iopub.execute_input": "2021-12-11T04:57:46.291824Z",
     "iopub.status.busy": "2021-12-11T04:57:46.291143Z",
     "iopub.status.idle": "2021-12-11T04:57:46.391836Z",
     "shell.execute_reply": "2021-12-11T04:57:46.390934Z",
     "shell.execute_reply.started": "2021-12-11T04:57:46.291779Z"
    }
   },
   "outputs": [
    {
     "data": {
      "text/plain": [
       "115"
      ]
     },
     "execution_count": 9,
     "metadata": {},
     "output_type": "execute_result"
    }
   ],
   "source": [
    "gc.collect()"
   ]
  },
  {
   "cell_type": "code",
   "execution_count": 10,
   "metadata": {
    "execution": {
     "iopub.execute_input": "2021-12-11T04:57:46.393721Z",
     "iopub.status.busy": "2021-12-11T04:57:46.393318Z",
     "iopub.status.idle": "2021-12-11T04:57:46.400687Z",
     "shell.execute_reply": "2021-12-11T04:57:46.400000Z",
     "shell.execute_reply.started": "2021-12-11T04:57:46.393671Z"
    }
   },
   "outputs": [],
   "source": [
    "# sample sentence to test the code\n",
    "sentences = ['This is a notebook'.lower().split(), 'Another good notebook exists somewhere else as far as I know'.lower().split()]"
   ]
  },
  {
   "cell_type": "code",
   "execution_count": 11,
   "metadata": {
    "execution": {
     "iopub.execute_input": "2021-12-11T04:57:46.402644Z",
     "iopub.status.busy": "2021-12-11T04:57:46.402115Z",
     "iopub.status.idle": "2021-12-11T04:57:46.412734Z",
     "shell.execute_reply": "2021-12-11T04:57:46.411930Z",
     "shell.execute_reply.started": "2021-12-11T04:57:46.402568Z"
    }
   },
   "outputs": [],
   "source": [
    "# generate_word_contextword_pairs generate_word_contextword_pairs(sentence, n_of_ngram=3):\n",
    "#     n = n_of_ngram\n",
    "#     indx = int((n_of_ngram-1)/2)\n",
    "#     all_word_context_pairs = []\n",
    "#     for i in np.arange(len(sentence)-n + 1):\n",
    "#         all_word_context_pairs.append([(sentence[i+indx], context_word) for context_word in sentence[i:i+indx]])\n",
    "#         all_word_context_pairs.append([(sentence[i+indx], context_word) for context_word in sentence[i+indx+1:i+n]])\n",
    "    \n",
    "#     return list(chain.from_iterable(all_word_context_pairs))\n",
    "\n",
    "# def generate_word_contextword_pairs(sentence, window_size=5): \n",
    "#     all_word_context_pairs = []\n",
    "#     for i in np.arange(window_size, len(sentence)-window_size):\n",
    "#         all_word_context_pairs.append([(sentence[i], context_word) for context_word in sentence[i-window_size:i]])\n",
    "#         all_word_context_pairs.append([(sentence[i], context_word) for context_word in sentence[i+1:i+window_size+1]])\n",
    "    \n",
    "#     return list(chain.from_iterable(all_word_context_pairs))\n",
    "\n",
    "def generate_word_contextword_pairs(sentence, window_size=5): \n",
    "    all_word_context_pairs = []\n",
    "    \n",
    "    for i, word in enumerate(sentence):\n",
    "#         win_size = np.random.randint(low = 1, high = window_size+1 )\n",
    "        win_size = window_size\n",
    "        contexts = sentence[i-win_size:i] + sentence[i+1:i+win_size+1]\n",
    "        all_word_context_pairs.append([(word, context_word) for context_word in contexts])\n",
    "    return list(chain.from_iterable(all_word_context_pairs))\n",
    "\n",
    "def generate_word_contextword_pairs_dynamic(sentence, window_size=5): \n",
    "    # window size is dynamic. window_size parameter is the maximum allowed window_size.\n",
    "    # so for each word, win_size is uniformly sampled from [1, window_size]\n",
    "    # Ref: Goldberg and Levy 2014 \n",
    "\n",
    "    all_word_context_pairs = []\n",
    "    \n",
    "    for i, word in enumerate(sentence):\n",
    "        win_size = np.random.randint(low = 1, high = window_size+1 )\n",
    "#         win_size = window_size\n",
    "        contexts = sentence[i-win_size:i] + sentence[i+1:i+win_size+1]\n",
    "        all_word_context_pairs.append([(word, context_word) for context_word in contexts])\n",
    "    return list(chain.from_iterable(all_word_context_pairs))"
   ]
  },
  {
   "cell_type": "code",
   "execution_count": 12,
   "metadata": {
    "execution": {
     "iopub.execute_input": "2021-12-11T04:57:46.414828Z",
     "iopub.status.busy": "2021-12-11T04:57:46.414104Z",
     "iopub.status.idle": "2021-12-11T04:57:46.428043Z",
     "shell.execute_reply": "2021-12-11T04:57:46.427163Z",
     "shell.execute_reply.started": "2021-12-11T04:57:46.414793Z"
    }
   },
   "outputs": [
    {
     "data": {
      "text/plain": [
       "[('another', 'good'),\n",
       " ('good', 'another'),\n",
       " ('good', 'notebook'),\n",
       " ('notebook', 'good'),\n",
       " ('notebook', 'exists'),\n",
       " ('exists', 'good'),\n",
       " ('exists', 'notebook'),\n",
       " ('exists', 'somewhere'),\n",
       " ('exists', 'else'),\n",
       " ('somewhere', 'notebook'),\n",
       " ('somewhere', 'exists'),\n",
       " ('somewhere', 'else'),\n",
       " ('somewhere', 'as'),\n",
       " ('else', 'somewhere'),\n",
       " ('else', 'as'),\n",
       " ('as', 'somewhere'),\n",
       " ('as', 'else'),\n",
       " ('as', 'far'),\n",
       " ('as', 'as'),\n",
       " ('far', 'as'),\n",
       " ('far', 'as'),\n",
       " ('as', 'as'),\n",
       " ('as', 'far'),\n",
       " ('as', 'i'),\n",
       " ('as', 'know'),\n",
       " ('i', 'far'),\n",
       " ('i', 'as'),\n",
       " ('i', 'know'),\n",
       " ('know', 'as'),\n",
       " ('know', 'i')]"
      ]
     },
     "execution_count": 12,
     "metadata": {},
     "output_type": "execute_result"
    }
   ],
   "source": [
    "generate_word_contextword_pairs_dynamic(sentences[1],2)"
   ]
  },
  {
   "cell_type": "code",
   "execution_count": 13,
   "metadata": {
    "execution": {
     "iopub.execute_input": "2021-12-11T04:57:46.432865Z",
     "iopub.status.busy": "2021-12-11T04:57:46.432511Z",
     "iopub.status.idle": "2021-12-11T04:57:46.439969Z",
     "shell.execute_reply": "2021-12-11T04:57:46.439069Z",
     "shell.execute_reply.started": "2021-12-11T04:57:46.432820Z"
    }
   },
   "outputs": [
    {
     "data": {
      "text/plain": [
       "[('another', 'good'),\n",
       " ('another', 'notebook'),\n",
       " ('good', 'notebook'),\n",
       " ('good', 'exists'),\n",
       " ('notebook', 'another'),\n",
       " ('notebook', 'good'),\n",
       " ('notebook', 'exists'),\n",
       " ('notebook', 'somewhere'),\n",
       " ('exists', 'good'),\n",
       " ('exists', 'notebook'),\n",
       " ('exists', 'somewhere'),\n",
       " ('exists', 'else'),\n",
       " ('somewhere', 'notebook'),\n",
       " ('somewhere', 'exists'),\n",
       " ('somewhere', 'else'),\n",
       " ('somewhere', 'as'),\n",
       " ('else', 'exists'),\n",
       " ('else', 'somewhere'),\n",
       " ('else', 'as'),\n",
       " ('else', 'far'),\n",
       " ('as', 'somewhere'),\n",
       " ('as', 'else'),\n",
       " ('as', 'far'),\n",
       " ('as', 'as'),\n",
       " ('far', 'else'),\n",
       " ('far', 'as'),\n",
       " ('far', 'as'),\n",
       " ('far', 'i'),\n",
       " ('as', 'as'),\n",
       " ('as', 'far'),\n",
       " ('as', 'i'),\n",
       " ('as', 'know'),\n",
       " ('i', 'far'),\n",
       " ('i', 'as'),\n",
       " ('i', 'know'),\n",
       " ('know', 'as'),\n",
       " ('know', 'i')]"
      ]
     },
     "execution_count": 13,
     "metadata": {},
     "output_type": "execute_result"
    }
   ],
   "source": [
    "generate_word_contextword_pairs(sentences[1],2)"
   ]
  },
  {
   "cell_type": "markdown",
   "metadata": {},
   "source": [
    "## Telugu wikipedia corpus"
   ]
  },
  {
   "cell_type": "code",
   "execution_count": 14,
   "metadata": {
    "execution": {
     "iopub.execute_input": "2021-12-11T04:57:46.442383Z",
     "iopub.status.busy": "2021-12-11T04:57:46.441520Z",
     "iopub.status.idle": "2021-12-11T04:57:54.041981Z",
     "shell.execute_reply": "2021-12-11T04:57:54.041208Z",
     "shell.execute_reply.started": "2021-12-11T04:57:46.442345Z"
    }
   },
   "outputs": [
    {
     "name": "stdout",
     "output_type": "stream",
     "text": [
      "Length of corpus: 990983\n"
     ]
    }
   ],
   "source": [
    "te_corpus = open('Data/te_wiki_cleaned_dedup.txt').read().splitlines()\n",
    "# Remove digits\n",
    "te_corpus = [re.sub(r'\\d+', '',line).strip() for line in te_corpus] \n",
    "# Remove all space/tab/newline/half-space characters\n",
    "te_corpus = [re.sub(r'\\u200c', ' ', line) for line in te_corpus]\n",
    "print(f'Length of corpus: {len(te_corpus)}')"
   ]
  },
  {
   "cell_type": "code",
   "execution_count": 15,
   "metadata": {
    "execution": {
     "iopub.execute_input": "2021-12-11T04:57:54.043848Z",
     "iopub.status.busy": "2021-12-11T04:57:54.043507Z",
     "iopub.status.idle": "2021-12-11T04:57:54.048557Z",
     "shell.execute_reply": "2021-12-11T04:57:54.047838Z",
     "shell.execute_reply.started": "2021-12-11T04:57:54.043806Z"
    }
   },
   "outputs": [
    {
     "name": "stdout",
     "output_type": "stream",
     "text": [
      "['గుంటూరు జిల్లా, ఆంధ్రప్రదేశ్ లోని కోస్తా ప్రాంతంలో ఒక జిల్లా.', 'రాష్ట్ర రాజధాని అమరావతి గుంటూరు జిల్లాలో వుంది.', 'కృష్ణా నది, సముద్రంలో కలిసేవరకు, ఎడమవైపు కృష్ణాజిల్లా, కుడివైపు గుంటూరు జిల్లాను వేరుచేస్తుంది.', 'ఈ జిల్లా , చ. కి. మీ. ల విస్తీర్ణంలో వ్యాపించి, ,, ( గణన) జనాభా కలిగి రాష్ట్రంలో రెండవ పెద్ద జనాభాగల జిల్లాగా గుర్తింపు పొందింది.', 'ఈ జిల్లాకు అతి పురాతన చరిత్ర ఉంది.', 'మౌర్యులు, శాతవాహనులు, పల్లవులు, చాళుక్యులు, కాకతీయులు, రెడ్డి రాజులు, విజయనగర రాజులు పరిపాలించారు.', 'పల్నాటి యుద్ధం ఈ జిల్లాలోని కారంపూడిలో జరిగింది.', 'మొగలు సామ్రాజ్యం నిజాం పాలన, ఈస్ట్ ఇండియా కంపెనీ, ఆ తరువాత మద్రాసు ప్రసిడెన్సీలో భాగమైంది.', 'స్వాతంత్ర్య సమరంలో పెదనందిపాడు పన్నుల ఎగవేత, సైమన్ కమిషన్ ఉద్యమం లాంటి ఎన్నో చారిత్రక ఘట్టాలు ఈ జిల్లాలో జరిగాయి.', 'స్వాతంత్ర్యం తరువాత ఆంధ్రరాష్ట్రంలో, ఆ తదుపరి ఆంధ్రప్రదేశ్ లో భాగమైంది.']\n"
     ]
    }
   ],
   "source": [
    "print(te_corpus[:10])"
   ]
  },
  {
   "cell_type": "code",
   "execution_count": 16,
   "metadata": {
    "execution": {
     "iopub.execute_input": "2021-12-11T04:57:54.050654Z",
     "iopub.status.busy": "2021-12-11T04:57:54.050080Z",
     "iopub.status.idle": "2021-12-11T04:58:04.257332Z",
     "shell.execute_reply": "2021-12-11T04:58:04.256560Z",
     "shell.execute_reply.started": "2021-12-11T04:57:54.050615Z"
    }
   },
   "outputs": [],
   "source": [
    "# Remove punctuation\n",
    "te_corpus = [line.translate(str.maketrans('', '', string.punctuation)) for line in te_corpus] "
   ]
  },
  {
   "cell_type": "code",
   "execution_count": 17,
   "metadata": {
    "execution": {
     "iopub.execute_input": "2021-12-11T04:58:04.259691Z",
     "iopub.status.busy": "2021-12-11T04:58:04.259404Z",
     "iopub.status.idle": "2021-12-11T04:58:04.869742Z",
     "shell.execute_reply": "2021-12-11T04:58:04.868956Z",
     "shell.execute_reply.started": "2021-12-11T04:58:04.259644Z"
    }
   },
   "outputs": [],
   "source": [
    "# Remove empty lines and lowercasing\n",
    "te_corpus = [line.lower() for line in te_corpus if line] "
   ]
  },
  {
   "cell_type": "code",
   "execution_count": 18,
   "metadata": {
    "execution": {
     "iopub.execute_input": "2021-12-11T04:58:04.872189Z",
     "iopub.status.busy": "2021-12-11T04:58:04.871857Z",
     "iopub.status.idle": "2021-12-11T04:58:06.079128Z",
     "shell.execute_reply": "2021-12-11T04:58:06.078347Z",
     "shell.execute_reply.started": "2021-12-11T04:58:04.872138Z"
    }
   },
   "outputs": [
    {
     "name": "stdout",
     "output_type": "stream",
     "text": [
      "Length of corpus: 202620\n"
     ]
    }
   ],
   "source": [
    "# Remove lines with less than 15 words\n",
    "te_corpus = [line.strip() for line in te_corpus if len(line.strip().split()) >= 15]\n",
    "print(f'Length of corpus: {len(te_corpus)}')"
   ]
  },
  {
   "cell_type": "code",
   "execution_count": 19,
   "metadata": {
    "execution": {
     "iopub.execute_input": "2021-12-11T04:58:06.080933Z",
     "iopub.status.busy": "2021-12-11T04:58:06.080486Z",
     "iopub.status.idle": "2021-12-11T04:58:07.345414Z",
     "shell.execute_reply": "2021-12-11T04:58:07.344571Z",
     "shell.execute_reply.started": "2021-12-11T04:58:06.080876Z"
    }
   },
   "outputs": [],
   "source": [
    "# Tokenize\n",
    "te_corpus = [line.strip().split() for line in te_corpus]"
   ]
  },
  {
   "cell_type": "code",
   "execution_count": 20,
   "metadata": {
    "execution": {
     "iopub.execute_input": "2021-12-11T04:58:07.346942Z",
     "iopub.status.busy": "2021-12-11T04:58:07.346673Z",
     "iopub.status.idle": "2021-12-11T04:58:07.352257Z",
     "shell.execute_reply": "2021-12-11T04:58:07.351555Z",
     "shell.execute_reply.started": "2021-12-11T04:58:07.346906Z"
    }
   },
   "outputs": [
    {
     "name": "stdout",
     "output_type": "stream",
     "text": [
      "[['ఈ', 'జిల్లా', 'చ', 'కి', 'మీ', 'ల', 'విస్తీర్ణంలో', 'వ్యాపించి', 'గణన', 'జనాభా', 'కలిగి', 'రాష్ట్రంలో', 'రెండవ', 'పెద్ద', 'జనాభాగల', 'జిల్లాగా', 'గుర్తింపు', 'పొందింది'], ['స్వాతంత్ర్య', 'సమరంలో', 'పెదనందిపాడు', 'పన్నుల', 'ఎగవేత', 'సైమన్', 'కమిషన్', 'ఉద్యమం', 'లాంటి', 'ఎన్నో', 'చారిత్రక', 'ఘట్టాలు', 'ఈ', 'జిల్లాలో', 'జరిగాయి'], ['ప్రసిద్ధ', 'బౌద్ధ', 'తత్వవేత్త', 'అయిన', 'ఆచార్య', 'నాగార్జునుడు', 'ఈ', 'ప్రాంతం', 'వాడు', 'క్రీ', 'పూ', 'నాటికే', 'ఈ', 'ప్రాంతంలో', 'అభ్రకం', 'మైకా', 'ను', 'కనుగొనబడింది'], ['శాసన', 'ఆధారాలను', 'బట్టి', 'కుబేర', 'రాజు', 'క్రీ', 'పూ', 'ప్రాంతంలో', 'భట్టిప్రోలును', 'పరిపాలించాడని', 'ఆ', 'తరువాత', 'సాల', 'రాజులు', 'పాలించారని', 'తెలుస్తుంది'], ['వివిధ', 'కాలాల్లో', 'గుంటూరును', 'పరిపాలించిన', 'వంశాలలో', 'ప్రముఖమైనవి', 'శాతవాహనులు', 'ఇక్ష్వాకులు', 'పల్లవులు', 'ఆనంద', 'గోత్రీకులు', 'విష్ణుకుండినులు', 'చాళుక్యులు', 'చోళులు', 'కాకతీయులు', 'రెడ్డి', 'రాజులు', 'విజయనగర', 'రాజులు', 'కుతుబ్', 'షాహీలు'], ['ఆవి', 'దాచేపల్లి', 'ప్రత్తిపాడు', 'మార్టూరు', 'ఠుంఠురుకొర', 'మంగళగిరి', 'బాపట్ల', 'పొన్నూరు', 'రేపల్లె', 'తెనాలి', 'గుంటూరు', 'కూరపాడు', 'కొండవీడు', 'నరసరావుపేట', 'వినుకొండ'], ['లో', 'తెనాలి', 'గుంటూరు', 'సత్తెనపల్లి', 'పలనాడు', 'బాపట్ల', 'నరసరావుపేట', 'వినుకొండ', 'తాలూకాలను', 'వేరు', 'చేసి', 'మళ్ళీ', 'జిల్లాను', 'ఏర్పాటు', 'చేసారు'], ['ఒంగోలు', 'తాలూకా', 'మొత్తం', 'బాపట్ల', 'నరసరావుపేట', 'వినుకొండ', 'తాలూకాలలోని', 'కొన్ని', 'ప్రాంతాలను', 'విడదీసి', 'ప్రకాశం', 'జిల్లాలో', 'కలిపి', 'ఏర్పాటు', 'చేసారు'], ['తూర్పున', 'కృష్ణా', 'జిల్లా', 'ఆగ్నేయాన', 'బంగాళాఖాతం', 'దక్షిణాన', 'ప్రకాశం', 'జిల్లా', 'పశ్చిమాన', 'తెలంగాణా', 'లోని', 'మహబూబ్', 'నగర్', 'జిల్లా', 'వాయువ్యాన', 'తెలంగాణా', 'లోని', 'నల్గొండ', 'జిల్లా', 'సరిహద్దులుగా', 'ఉన్నాయి'], ['సత్తెనపల్లి', 'దగ్గరలోని', 'వెంకటాయపాలెం', 'పేరు', 'కలిగిన', 'పలకరాయి', 'క్వార్ట్జైట్లు', 'గల', 'కొండలే', 'ఇవి', 'కిమీ', 'పొడవుతో', 'ఈశాన్య', 'నైరుతీ', 'దిక్కున', 'వుంటాయి']]\n"
     ]
    }
   ],
   "source": [
    "print(te_corpus[:10])"
   ]
  },
  {
   "cell_type": "code",
   "execution_count": 21,
   "metadata": {
    "execution": {
     "iopub.execute_input": "2021-12-11T04:58:07.354307Z",
     "iopub.status.busy": "2021-12-11T04:58:07.353476Z",
     "iopub.status.idle": "2021-12-11T04:58:08.400304Z",
     "shell.execute_reply": "2021-12-11T04:58:08.398647Z",
     "shell.execute_reply.started": "2021-12-11T04:58:07.354270Z"
    }
   },
   "outputs": [
    {
     "name": "stdout",
     "output_type": "stream",
     "text": [
      "Number of tokens: 478640\n"
     ]
    }
   ],
   "source": [
    "unigram_freq = dict(Counter(list(chain.from_iterable(te_corpus))))\n",
    "print(f'Number of tokens: {len(unigram_freq)}')"
   ]
  },
  {
   "cell_type": "code",
   "execution_count": 22,
   "metadata": {
    "execution": {
     "iopub.execute_input": "2021-12-11T04:58:08.402082Z",
     "iopub.status.busy": "2021-12-11T04:58:08.401795Z",
     "iopub.status.idle": "2021-12-11T04:58:08.538394Z",
     "shell.execute_reply": "2021-12-11T04:58:08.537584Z",
     "shell.execute_reply.started": "2021-12-11T04:58:08.402045Z"
    }
   },
   "outputs": [
    {
     "name": "stdout",
     "output_type": "stream",
     "text": [
      "Number of tokens: 8915\n"
     ]
    }
   ],
   "source": [
    "min_occurrences = 50\n",
    "unigram_freq_filtered ={}\n",
    "[unigram_freq_filtered.update({key:unigram_freq[key]}) for key in unigram_freq.keys() if unigram_freq[key]>min_occurrences]\n",
    "print(f'Number of tokens: {len(unigram_freq_filtered)}')"
   ]
  },
  {
   "cell_type": "code",
   "execution_count": 23,
   "metadata": {
    "execution": {
     "iopub.execute_input": "2021-12-11T04:58:08.540027Z",
     "iopub.status.busy": "2021-12-11T04:58:08.539756Z",
     "iopub.status.idle": "2021-12-11T04:58:08.548265Z",
     "shell.execute_reply": "2021-12-11T04:58:08.547546Z",
     "shell.execute_reply.started": "2021-12-11T04:58:08.539991Z"
    }
   },
   "outputs": [
    {
     "data": {
      "text/plain": [
       "[('ఈ', 38562),\n",
       " ('జిల్లా', 6723),\n",
       " ('చ', 571),\n",
       " ('కి', 45451),\n",
       " ('మీ', 43087),\n",
       " ('ల', 2399),\n",
       " ('విస్తీర్ణంలో', 145),\n",
       " ('వ్యాపించి', 134),\n",
       " ('గణన', 52),\n",
       " ('జనాభా', 2201)]"
      ]
     },
     "execution_count": 23,
     "metadata": {},
     "output_type": "execute_result"
    }
   ],
   "source": [
    "list(unigram_freq_filtered.items())[:10]"
   ]
  },
  {
   "cell_type": "code",
   "execution_count": 24,
   "metadata": {
    "execution": {
     "iopub.execute_input": "2021-12-11T04:58:08.549965Z",
     "iopub.status.busy": "2021-12-11T04:58:08.549538Z",
     "iopub.status.idle": "2021-12-11T04:58:08.557996Z",
     "shell.execute_reply": "2021-12-11T04:58:08.557027Z",
     "shell.execute_reply.started": "2021-12-11T04:58:08.549929Z"
    }
   },
   "outputs": [],
   "source": [
    "# Vocabulary\n",
    "vocab = list(unigram_freq_filtered.keys())\n",
    "# vocab.insert(0, '<unk>')\n",
    "vocab_size = len(vocab)"
   ]
  },
  {
   "cell_type": "code",
   "execution_count": 25,
   "metadata": {
    "execution": {
     "iopub.execute_input": "2021-12-11T04:58:08.559603Z",
     "iopub.status.busy": "2021-12-11T04:58:08.559326Z",
     "iopub.status.idle": "2021-12-11T04:58:08.569147Z",
     "shell.execute_reply": "2021-12-11T04:58:08.568360Z",
     "shell.execute_reply.started": "2021-12-11T04:58:08.559566Z"
    }
   },
   "outputs": [],
   "source": [
    "# dictionaries to help convert between index and word\n",
    "word_to_idx = {word: i for i, word in enumerate(vocab)}\n",
    "indx_to_word = {i: word for i, word in enumerate(vocab)}"
   ]
  },
  {
   "cell_type": "code",
   "execution_count": 26,
   "metadata": {
    "execution": {
     "iopub.execute_input": "2021-12-11T04:58:08.570751Z",
     "iopub.status.busy": "2021-12-11T04:58:08.570381Z",
     "iopub.status.idle": "2021-12-11T05:04:04.767938Z",
     "shell.execute_reply": "2021-12-11T05:04:04.767083Z",
     "shell.execute_reply.started": "2021-12-11T04:58:08.570711Z"
    }
   },
   "outputs": [
    {
     "data": {
      "application/vnd.jupyter.widget-view+json": {
       "model_id": "d2acf5bbf7cf4ee08bb7af90c114cbed",
       "version_major": 2,
       "version_minor": 0
      },
      "text/plain": [
       "  0%|          | 0/202620 [00:00<?, ?it/s]"
      ]
     },
     "metadata": {},
     "output_type": "display_data"
    }
   ],
   "source": [
    "# Handle low freq words\n",
    "te_corpus_N = []\n",
    "for sentence in tqdm(te_corpus,total=len(te_corpus)):\n",
    "    sent_N = []\n",
    "    for word in sentence:\n",
    "        if word in vocab:\n",
    "            sent_N.append(word) \n",
    "#         else:\n",
    "#             sent_N.append('<unk>') # remove them; ref: Goldberg and Levy 2014\n",
    "    te_corpus_N.append(sent_N)"
   ]
  },
  {
   "cell_type": "code",
   "execution_count": 27,
   "metadata": {
    "execution": {
     "iopub.execute_input": "2021-12-11T05:04:04.769710Z",
     "iopub.status.busy": "2021-12-11T05:04:04.769438Z",
     "iopub.status.idle": "2021-12-11T05:04:04.775841Z",
     "shell.execute_reply": "2021-12-11T05:04:04.775082Z",
     "shell.execute_reply.started": "2021-12-11T05:04:04.769664Z"
    }
   },
   "outputs": [
    {
     "data": {
      "text/plain": [
       "(202620, 202620)"
      ]
     },
     "execution_count": 27,
     "metadata": {},
     "output_type": "execute_result"
    }
   ],
   "source": [
    "len(te_corpus), len(te_corpus_N)"
   ]
  },
  {
   "cell_type": "code",
   "execution_count": 28,
   "metadata": {
    "execution": {
     "iopub.execute_input": "2021-12-11T05:04:04.777617Z",
     "iopub.status.busy": "2021-12-11T05:04:04.777360Z",
     "iopub.status.idle": "2021-12-11T05:04:05.240263Z",
     "shell.execute_reply": "2021-12-11T05:04:05.239447Z",
     "shell.execute_reply.started": "2021-12-11T05:04:04.777582Z"
    }
   },
   "outputs": [],
   "source": [
    "vocab_freq = torch.Tensor(list(Counter(list(chain.from_iterable(te_corpus_N))).values()))"
   ]
  },
  {
   "cell_type": "code",
   "execution_count": 29,
   "metadata": {
    "execution": {
     "iopub.execute_input": "2021-12-11T05:04:05.242089Z",
     "iopub.status.busy": "2021-12-11T05:04:05.241797Z",
     "iopub.status.idle": "2021-12-11T05:04:05.264653Z",
     "shell.execute_reply": "2021-12-11T05:04:05.263951Z",
     "shell.execute_reply.started": "2021-12-11T05:04:05.242052Z"
    }
   },
   "outputs": [],
   "source": [
    "sampling_dist = vocab_freq**0.75"
   ]
  },
  {
   "cell_type": "code",
   "execution_count": 30,
   "metadata": {
    "execution": {
     "iopub.execute_input": "2021-12-11T05:04:05.266127Z",
     "iopub.status.busy": "2021-12-11T05:04:05.265777Z",
     "iopub.status.idle": "2021-12-11T05:04:05.286989Z",
     "shell.execute_reply": "2021-12-11T05:04:05.286341Z",
     "shell.execute_reply.started": "2021-12-11T05:04:05.266088Z"
    }
   },
   "outputs": [],
   "source": [
    "sampling_dist = sampling_dist/sampling_dist.sum()"
   ]
  },
  {
   "cell_type": "code",
   "execution_count": 31,
   "metadata": {
    "execution": {
     "iopub.execute_input": "2021-12-11T05:04:05.289829Z",
     "iopub.status.busy": "2021-12-11T05:04:05.289631Z",
     "iopub.status.idle": "2021-12-11T05:04:20.897733Z",
     "shell.execute_reply": "2021-12-11T05:04:20.896979Z",
     "shell.execute_reply.started": "2021-12-11T05:04:05.289805Z"
    }
   },
   "outputs": [
    {
     "name": "stdout",
     "output_type": "stream",
     "text": [
      "A few word-context pairs: [('ఈ', 'జిల్లా'), ('ఈ', 'చ'), ('ఈ', 'కి'), ('ఈ', 'మీ'), ('ఈ', 'ల'), ('జిల్లా', 'చ'), ('జిల్లా', 'కి'), ('జిల్లా', 'మీ'), ('జిల్లా', 'ల'), ('జిల్లా', 'విస్తీర్ణంలో')]\n",
      "A few word-context pairs interms of vocab indices: [(0, 1), (0, 2), (0, 3), (0, 4), (0, 5), (1, 2), (1, 3), (1, 4), (1, 5), (1, 6)]\n"
     ]
    }
   ],
   "source": [
    "data = list(chain.from_iterable([generate_word_contextword_pairs(sentence,5) for sentence in te_corpus_N]))\n",
    "# data = list(chain.from_iterable([generate_word_contextword_pairs_dynamic(sentence,5) for sentence in te_corpus_N]))\n",
    "print(f'A few word-context pairs: {data[0:10]}')\n",
    "data = [(word_to_idx[a], word_to_idx[b]) for a,b in data]\n",
    "print(f'A few word-context pairs interms of vocab indices: {data[0:10]}')"
   ]
  },
  {
   "cell_type": "code",
   "execution_count": 32,
   "metadata": {
    "execution": {
     "iopub.execute_input": "2021-12-11T05:04:20.899499Z",
     "iopub.status.busy": "2021-12-11T05:04:20.899081Z",
     "iopub.status.idle": "2021-12-11T05:04:20.903777Z",
     "shell.execute_reply": "2021-12-11T05:04:20.902960Z",
     "shell.execute_reply.started": "2021-12-11T05:04:20.899460Z"
    }
   },
   "outputs": [],
   "source": [
    "BATCH_SIZE = 1024*4\n",
    "dataloader = torch.utils.data.DataLoader(data, batch_size=BATCH_SIZE, shuffle=True)"
   ]
  },
  {
   "cell_type": "markdown",
   "metadata": {},
   "source": [
    "## Model"
   ]
  },
  {
   "cell_type": "code",
   "execution_count": 33,
   "metadata": {
    "execution": {
     "iopub.execute_input": "2021-12-11T05:04:20.905445Z",
     "iopub.status.busy": "2021-12-11T05:04:20.905040Z",
     "iopub.status.idle": "2021-12-11T05:04:20.916884Z",
     "shell.execute_reply": "2021-12-11T05:04:20.916207Z",
     "shell.execute_reply.started": "2021-12-11T05:04:20.905410Z"
    }
   },
   "outputs": [],
   "source": [
    "class SkipGramNegativeSampling(nn.Module):\n",
    "    \n",
    "    def __init__(self,embedding_size, vocab_size, num_neg_samples=5, sampling_weights=None):\n",
    "        super(SkipGramNegativeSampling, self).__init__()\n",
    "        self.input_embedding = nn.Embedding(vocab_size,embedding_size)\n",
    "        self.output_embedding = nn.Embedding(vocab_size, embedding_size)\n",
    "        \n",
    "        self.vocab_size = vocab_size\n",
    "        self.embedding_size = embedding_size      \n",
    "        self.num_neg_samples = num_neg_samples\n",
    "        if sampling_weights is not None:\n",
    "            self.sampling_weights = sampling_weights\n",
    "        else:\n",
    "            self.sampling_weights = torch.ones(self.vocab_size)/self.vocab_size\n",
    "            \n",
    "        \n",
    "    def forward(self, inputs, outputs):\n",
    "        # Dont need forward. Computing loss dirictly is simpler\n",
    "#         raise NotImplementedError\n",
    "        out = self.input_embedding(inputs)* self.output_embedding(outputs)\n",
    "#         for _ in out.shape[1:]:\n",
    "#             out= out.sum(1)\n",
    "#         return out\n",
    "        return out.sum(1)\n",
    "    \n",
    "    def negativeSampling(self, num_samples):        \n",
    "        # returns indices of sampled words\n",
    "        return torch.multinomial(self.sampling_weights, num_samples, replacement=True)\n",
    "    \n",
    "    def loss(self, inputs, outputs, negative_samples):\n",
    "        input_em = self.input_embedding(inputs)\n",
    "        output_em = self.output_embedding(outputs)\n",
    "        neg_samples_em = self.output_embedding(negative_samples)\n",
    "\n",
    "        loss_val_term1 = F.logsigmoid(torch.sum(input_em* output_em, dim=1))\n",
    "        loss_val_term2 = torch.sum(F.logsigmoid(-torch.sum((input_em.unsqueeze(1).repeat((1,self.num_neg_samples,1))*neg_samples_em), dim=2)), dim=1)\n",
    "        \n",
    "        return -torch.sum(loss_val_term1 + loss_val_term2)\n",
    "\n",
    "    \n",
    "    \n",
    "    "
   ]
  },
  {
   "cell_type": "code",
   "execution_count": 34,
   "metadata": {
    "execution": {
     "iopub.execute_input": "2021-12-11T05:04:20.918481Z",
     "iopub.status.busy": "2021-12-11T05:04:20.918230Z",
     "iopub.status.idle": "2021-12-11T05:04:23.642270Z",
     "shell.execute_reply": "2021-12-11T05:04:23.641432Z",
     "shell.execute_reply.started": "2021-12-11T05:04:20.918447Z"
    }
   },
   "outputs": [],
   "source": [
    "# for future use\n",
    "torch.save(te_corpus_N,'Data/teWikiCorpus.pkl')"
   ]
  },
  {
   "cell_type": "code",
   "execution_count": 35,
   "metadata": {
    "execution": {
     "iopub.execute_input": "2021-12-11T05:04:23.643853Z",
     "iopub.status.busy": "2021-12-11T05:04:23.643571Z",
     "iopub.status.idle": "2021-12-11T05:04:23.655617Z",
     "shell.execute_reply": "2021-12-11T05:04:23.653605Z",
     "shell.execute_reply.started": "2021-12-11T05:04:23.643817Z"
    }
   },
   "outputs": [],
   "source": [
    "# Find optimal Learning rate \n",
    "def find_learning_rate(model, dataloader, initial_lr = 1e-5, max_lr = 1e2,  num_lr_finder_steps=100):\n",
    "\n",
    "\n",
    "    # Free memory\n",
    "    gc.collect()\n",
    "    torch.cuda.empty_cache()\n",
    "\n",
    "    # training mode\n",
    "    model.to(device)\n",
    "    model.train()\n",
    "\n",
    "    optimizer = torch.optim.Adam(model.parameters(), lr = initial_lr)\n",
    "    fac= np.exp((1/num_lr_finder_steps)*np.log(max_lr/initial_lr))\n",
    "    scheduler = torch.optim.lr_scheduler.LambdaLR(optimizer,lr_lambda=lambda epoch: fac**(epoch+1))\n",
    "    # scheduler = None\n",
    "    iter_dataloader = iter(dataloader)\n",
    "    lr_list = []\n",
    "    for iteration in trange(num_lr_finder_steps):\n",
    "        \n",
    "        word_indx, context_word_indx  = next(iter_dataloader)\n",
    "        \n",
    "        # zero the gradients\n",
    "        optimizer.zero_grad()\n",
    "        \n",
    "        # compute loss\n",
    "        inp = word_indx.to(device)\n",
    "        outp = context_word_indx.to(device)\n",
    "        negative_samples = model.negativeSampling(model.num_neg_samples*inp.shape[0]) # batch size = inputs.shape[0]\n",
    "        negative_samples = negative_samples.reshape(inp.shape[0],model.num_neg_samples)\n",
    "        negative_samples = negative_samples.to(device)\n",
    "\n",
    "        loss = model.loss(inp, outp,negative_samples)\n",
    "        \n",
    "        lr_list.append([scheduler.get_last_lr()[0],loss.item() ])\n",
    "        \n",
    "        # backward pass\n",
    "        loss.backward()\n",
    "        \n",
    "        # optimization step\n",
    "        optimizer.step()\n",
    "        \n",
    "        # scheduler step\n",
    "        scheduler.step()\n",
    "        \n",
    "    return np.array(lr_list)\n",
    "        "
   ]
  },
  {
   "cell_type": "code",
   "execution_count": 36,
   "metadata": {
    "execution": {
     "iopub.execute_input": "2021-12-11T05:04:23.657188Z",
     "iopub.status.busy": "2021-12-11T05:04:23.656926Z",
     "iopub.status.idle": "2021-12-11T05:04:36.492092Z",
     "shell.execute_reply": "2021-12-11T05:04:36.491306Z",
     "shell.execute_reply.started": "2021-12-11T05:04:23.657152Z"
    }
   },
   "outputs": [
    {
     "data": {
      "application/vnd.jupyter.widget-view+json": {
       "model_id": "43cd8aaa69f543e3982033cebd9db9a3",
       "version_major": 2,
       "version_minor": 0
      },
      "text/plain": [
       "  0%|          | 0/500 [00:00<?, ?it/s]"
      ]
     },
     "metadata": {},
     "output_type": "display_data"
    }
   ],
   "source": [
    "# Remember to run lr_finder on just initialised model\n",
    "model = SkipGramNegativeSampling(embedding_size= 100, vocab_size=vocab_size, num_neg_samples= 5, sampling_weights=sampling_dist)\n",
    "lr_list = find_learning_rate(model, dataloader, initial_lr=1e-5,max_lr=1e1,num_lr_finder_steps=500)"
   ]
  },
  {
   "cell_type": "code",
   "execution_count": 37,
   "metadata": {
    "execution": {
     "iopub.execute_input": "2021-12-11T05:04:36.493964Z",
     "iopub.status.busy": "2021-12-11T05:04:36.493544Z",
     "iopub.status.idle": "2021-12-11T05:04:37.544183Z",
     "shell.execute_reply": "2021-12-11T05:04:37.543443Z",
     "shell.execute_reply.started": "2021-12-11T05:04:36.493923Z"
    }
   },
   "outputs": [
    {
     "data": {
      "text/plain": [
       "[<matplotlib.lines.Line2D at 0x7fb89ce468d0>]"
      ]
     },
     "execution_count": 37,
     "metadata": {},
     "output_type": "execute_result"
    },
    {
     "data": {
      "image/png": "[encoded data removed]",
      "text/plain": [
       "<Figure size 432x288 with 1 Axes>"
      ]
     },
     "metadata": {
      "needs_background": "light"
     },
     "output_type": "display_data"
    }
   ],
   "source": [
    "plt.loglog(lr_list[:,0], lr_list[:,1])"
   ]
  },
  {
   "cell_type": "code",
   "execution_count": 38,
   "metadata": {
    "execution": {
     "iopub.execute_input": "2021-12-11T05:04:37.545920Z",
     "iopub.status.busy": "2021-12-11T05:04:37.545346Z",
     "iopub.status.idle": "2021-12-11T05:04:37.550576Z",
     "shell.execute_reply": "2021-12-11T05:04:37.549574Z",
     "shell.execute_reply.started": "2021-12-11T05:04:37.545863Z"
    }
   },
   "outputs": [],
   "source": [
    "optimal_lr = 0.005 # 0.01 and above leading to divergence"
   ]
  },
  {
   "cell_type": "code",
   "execution_count": 39,
   "metadata": {
    "execution": {
     "iopub.execute_input": "2021-12-11T05:04:37.552391Z",
     "iopub.status.busy": "2021-12-11T05:04:37.552106Z",
     "iopub.status.idle": "2021-12-11T05:04:37.578348Z",
     "shell.execute_reply": "2021-12-11T05:04:37.577361Z",
     "shell.execute_reply.started": "2021-12-11T05:04:37.552354Z"
    }
   },
   "outputs": [],
   "source": [
    "# Instantiate model\n",
    "model = SkipGramNegativeSampling(embedding_size= 100, vocab_size=vocab_size, num_neg_samples= 5, sampling_weights=sampling_dist)"
   ]
  },
  {
   "cell_type": "code",
   "execution_count": 40,
   "metadata": {
    "execution": {
     "iopub.execute_input": "2021-12-11T05:04:37.583707Z",
     "iopub.status.busy": "2021-12-11T05:04:37.583203Z",
     "iopub.status.idle": "2021-12-11T05:42:07.225849Z",
     "shell.execute_reply": "2021-12-11T05:42:07.224953Z",
     "shell.execute_reply.started": "2021-12-11T05:04:37.583655Z"
    }
   },
   "outputs": [
    {
     "data": {
      "application/vnd.jupyter.widget-view+json": {
       "model_id": "2fecdccb5cf0470dafdc644b7170830a",
       "version_major": 2,
       "version_minor": 0
      },
      "text/plain": [
       "  0%|          | 0/30 [00:00<?, ?it/s]"
      ]
     },
     "metadata": {},
     "output_type": "display_data"
    },
    {
     "data": {
      "application/vnd.jupyter.widget-view+json": {
       "model_id": "4f418e58ebef4b84abeff680d6661e32",
       "version_major": 2,
       "version_minor": 0
      },
      "text/plain": [
       "  0%|          | 0/4918 [00:00<?, ?it/s]"
      ]
     },
     "metadata": {},
     "output_type": "display_data"
    },
    {
     "name": "stdout",
     "output_type": "stream",
     "text": [
      "Epoch 0 done. Loss: 262760135.93164062\n"
     ]
    },
    {
     "data": {
      "application/vnd.jupyter.widget-view+json": {
       "model_id": "569d1ddcbbe84c7ca8db5a647bb12219",
       "version_major": 2,
       "version_minor": 0
      },
      "text/plain": [
       "  0%|          | 0/4918 [00:00<?, ?it/s]"
      ]
     },
     "metadata": {},
     "output_type": "display_data"
    },
    {
     "name": "stdout",
     "output_type": "stream",
     "text": [
      "Epoch 1 done. Loss: 73876308.12158203\n"
     ]
    },
    {
     "data": {
      "application/vnd.jupyter.widget-view+json": {
       "model_id": "e29def09a926405dac495911fc0797e4",
       "version_major": 2,
       "version_minor": 0
      },
      "text/plain": [
       "  0%|          | 0/4918 [00:00<?, ?it/s]"
      ]
     },
     "metadata": {},
     "output_type": "display_data"
    },
    {
     "name": "stdout",
     "output_type": "stream",
     "text": [
      "Epoch 2 done. Loss: 47793887.3347168\n"
     ]
    },
    {
     "data": {
      "application/vnd.jupyter.widget-view+json": {
       "model_id": "ebf17c5f9e894160a097218d26aa27fd",
       "version_major": 2,
       "version_minor": 0
      },
      "text/plain": [
       "  0%|          | 0/4918 [00:00<?, ?it/s]"
      ]
     },
     "metadata": {},
     "output_type": "display_data"
    },
    {
     "name": "stdout",
     "output_type": "stream",
     "text": [
      "Epoch 3 done. Loss: 40613047.87561035\n"
     ]
    },
    {
     "data": {
      "application/vnd.jupyter.widget-view+json": {
       "model_id": "81f6a4891f0e43a7a2c597c60b7dc781",
       "version_major": 2,
       "version_minor": 0
      },
      "text/plain": [
       "  0%|          | 0/4918 [00:00<?, ?it/s]"
      ]
     },
     "metadata": {},
     "output_type": "display_data"
    },
    {
     "name": "stdout",
     "output_type": "stream",
     "text": [
      "Epoch 4 done. Loss: 38765282.25817871\n"
     ]
    },
    {
     "data": {
      "application/vnd.jupyter.widget-view+json": {
       "model_id": "ea1dd45556464c2b875752fb09aacdb7",
       "version_major": 2,
       "version_minor": 0
      },
      "text/plain": [
       "  0%|          | 0/4918 [00:00<?, ?it/s]"
      ]
     },
     "metadata": {},
     "output_type": "display_data"
    },
    {
     "name": "stdout",
     "output_type": "stream",
     "text": [
      "Epoch 5 done. Loss: 38170908.56384277\n"
     ]
    },
    {
     "data": {
      "application/vnd.jupyter.widget-view+json": {
       "model_id": "ba428c500b0c4ef8973eb2e86526f971",
       "version_major": 2,
       "version_minor": 0
      },
      "text/plain": [
       "  0%|          | 0/4918 [00:00<?, ?it/s]"
      ]
     },
     "metadata": {},
     "output_type": "display_data"
    },
    {
     "name": "stdout",
     "output_type": "stream",
     "text": [
      "Epoch 6 done. Loss: 37904804.677612305\n"
     ]
    },
    {
     "data": {
      "application/vnd.jupyter.widget-view+json": {
       "model_id": "8e1ed2c58c7a4ee6a6cc9fc0a32c8fee",
       "version_major": 2,
       "version_minor": 0
      },
      "text/plain": [
       "  0%|          | 0/4918 [00:00<?, ?it/s]"
      ]
     },
     "metadata": {},
     "output_type": "display_data"
    },
    {
     "name": "stdout",
     "output_type": "stream",
     "text": [
      "Epoch 7 done. Loss: 37770416.11621094\n"
     ]
    },
    {
     "data": {
      "application/vnd.jupyter.widget-view+json": {
       "model_id": "82678c8782c348008518112fbd86752b",
       "version_major": 2,
       "version_minor": 0
      },
      "text/plain": [
       "  0%|          | 0/4918 [00:00<?, ?it/s]"
      ]
     },
     "metadata": {},
     "output_type": "display_data"
    },
    {
     "name": "stdout",
     "output_type": "stream",
     "text": [
      "Epoch 8 done. Loss: 37733812.841308594\n"
     ]
    },
    {
     "data": {
      "application/vnd.jupyter.widget-view+json": {
       "model_id": "9889e3d66f5c46eeb7f56f6b86a9d1bc",
       "version_major": 2,
       "version_minor": 0
      },
      "text/plain": [
       "  0%|          | 0/4918 [00:00<?, ?it/s]"
      ]
     },
     "metadata": {},
     "output_type": "display_data"
    },
    {
     "name": "stdout",
     "output_type": "stream",
     "text": [
      "Epoch 9 done. Loss: 37747191.46411133\n"
     ]
    },
    {
     "data": {
      "application/vnd.jupyter.widget-view+json": {
       "model_id": "a92de197a7a3450791fa2aa4b6b53604",
       "version_major": 2,
       "version_minor": 0
      },
      "text/plain": [
       "  0%|          | 0/4918 [00:00<?, ?it/s]"
      ]
     },
     "metadata": {},
     "output_type": "display_data"
    },
    {
     "name": "stdout",
     "output_type": "stream",
     "text": [
      "Epoch 10 done. Loss: 37793030.99963379\n"
     ]
    },
    {
     "data": {
      "application/vnd.jupyter.widget-view+json": {
       "model_id": "daa825bdf85942e6a522ec1c83aeae1d",
       "version_major": 2,
       "version_minor": 0
      },
      "text/plain": [
       "  0%|          | 0/4918 [00:00<?, ?it/s]"
      ]
     },
     "metadata": {},
     "output_type": "display_data"
    },
    {
     "name": "stdout",
     "output_type": "stream",
     "text": [
      "Epoch 11 done. Loss: 37870642.029296875\n"
     ]
    },
    {
     "data": {
      "application/vnd.jupyter.widget-view+json": {
       "model_id": "160ce90241c1474f8c53473e36dcfd59",
       "version_major": 2,
       "version_minor": 0
      },
      "text/plain": [
       "  0%|          | 0/4918 [00:00<?, ?it/s]"
      ]
     },
     "metadata": {},
     "output_type": "display_data"
    },
    {
     "name": "stdout",
     "output_type": "stream",
     "text": [
      "Epoch 12 done. Loss: 37880494.10180664\n"
     ]
    },
    {
     "data": {
      "application/vnd.jupyter.widget-view+json": {
       "model_id": "22a22eac4e9e4a938174a6d9a7a6e603",
       "version_major": 2,
       "version_minor": 0
      },
      "text/plain": [
       "  0%|          | 0/4918 [00:00<?, ?it/s]"
      ]
     },
     "metadata": {},
     "output_type": "display_data"
    },
    {
     "name": "stdout",
     "output_type": "stream",
     "text": [
      "Epoch 13 done. Loss: 37742449.669921875\n"
     ]
    },
    {
     "data": {
      "application/vnd.jupyter.widget-view+json": {
       "model_id": "161f634c4b9e41d0baf06ba43a1a6a20",
       "version_major": 2,
       "version_minor": 0
      },
      "text/plain": [
       "  0%|          | 0/4918 [00:00<?, ?it/s]"
      ]
     },
     "metadata": {},
     "output_type": "display_data"
    },
    {
     "name": "stdout",
     "output_type": "stream",
     "text": [
      "Epoch 14 done. Loss: 37613395.802978516\n"
     ]
    },
    {
     "data": {
      "application/vnd.jupyter.widget-view+json": {
       "model_id": "f9a5c2c93b374a569cdea341c1b82168",
       "version_major": 2,
       "version_minor": 0
      },
      "text/plain": [
       "  0%|          | 0/4918 [00:00<?, ?it/s]"
      ]
     },
     "metadata": {},
     "output_type": "display_data"
    },
    {
     "name": "stdout",
     "output_type": "stream",
     "text": [
      "Epoch 15 done. Loss: 37486634.61291504\n"
     ]
    },
    {
     "data": {
      "application/vnd.jupyter.widget-view+json": {
       "model_id": "6a923441252549a880b27d22ef4e2b0a",
       "version_major": 2,
       "version_minor": 0
      },
      "text/plain": [
       "  0%|          | 0/4918 [00:00<?, ?it/s]"
      ]
     },
     "metadata": {},
     "output_type": "display_data"
    },
    {
     "name": "stdout",
     "output_type": "stream",
     "text": [
      "Epoch 16 done. Loss: 37354301.186035156\n"
     ]
    },
    {
     "data": {
      "application/vnd.jupyter.widget-view+json": {
       "model_id": "483b64ac2511440b8dec51fe8b9ef8a9",
       "version_major": 2,
       "version_minor": 0
      },
      "text/plain": [
       "  0%|          | 0/4918 [00:00<?, ?it/s]"
      ]
     },
     "metadata": {},
     "output_type": "display_data"
    },
    {
     "name": "stdout",
     "output_type": "stream",
     "text": [
      "Epoch 17 done. Loss: 37224589.146118164\n"
     ]
    },
    {
     "data": {
      "application/vnd.jupyter.widget-view+json": {
       "model_id": "715a5d8bd5734e19a5858d8c29d0804b",
       "version_major": 2,
       "version_minor": 0
      },
      "text/plain": [
       "  0%|          | 0/4918 [00:00<?, ?it/s]"
      ]
     },
     "metadata": {},
     "output_type": "display_data"
    },
    {
     "name": "stdout",
     "output_type": "stream",
     "text": [
      "Epoch 18 done. Loss: 37093519.99926758\n"
     ]
    },
    {
     "data": {
      "application/vnd.jupyter.widget-view+json": {
       "model_id": "1203fc56a2c6456d82488be38cc31851",
       "version_major": 2,
       "version_minor": 0
      },
      "text/plain": [
       "  0%|          | 0/4918 [00:00<?, ?it/s]"
      ]
     },
     "metadata": {},
     "output_type": "display_data"
    },
    {
     "name": "stdout",
     "output_type": "stream",
     "text": [
      "Epoch 19 done. Loss: 36962673.9284668\n"
     ]
    },
    {
     "data": {
      "application/vnd.jupyter.widget-view+json": {
       "model_id": "49af286265294d6ab1e7d050115f91c1",
       "version_major": 2,
       "version_minor": 0
      },
      "text/plain": [
       "  0%|          | 0/4918 [00:00<?, ?it/s]"
      ]
     },
     "metadata": {},
     "output_type": "display_data"
    },
    {
     "name": "stdout",
     "output_type": "stream",
     "text": [
      "Epoch 20 done. Loss: 36823727.65649414\n"
     ]
    },
    {
     "data": {
      "application/vnd.jupyter.widget-view+json": {
       "model_id": "d35bd9096da9427c9c796d1e626b0eb5",
       "version_major": 2,
       "version_minor": 0
      },
      "text/plain": [
       "  0%|          | 0/4918 [00:00<?, ?it/s]"
      ]
     },
     "metadata": {},
     "output_type": "display_data"
    },
    {
     "name": "stdout",
     "output_type": "stream",
     "text": [
      "Epoch 21 done. Loss: 36695964.10021973\n"
     ]
    },
    {
     "data": {
      "application/vnd.jupyter.widget-view+json": {
       "model_id": "503716505cc74a8cb0b00c44bcd73c36",
       "version_major": 2,
       "version_minor": 0
      },
      "text/plain": [
       "  0%|          | 0/4918 [00:00<?, ?it/s]"
      ]
     },
     "metadata": {},
     "output_type": "display_data"
    },
    {
     "name": "stdout",
     "output_type": "stream",
     "text": [
      "Epoch 22 done. Loss: 36559310.03149414\n"
     ]
    },
    {
     "data": {
      "application/vnd.jupyter.widget-view+json": {
       "model_id": "1eec6fd39b31466ab07487ad1a5227b3",
       "version_major": 2,
       "version_minor": 0
      },
      "text/plain": [
       "  0%|          | 0/4918 [00:00<?, ?it/s]"
      ]
     },
     "metadata": {},
     "output_type": "display_data"
    },
    {
     "name": "stdout",
     "output_type": "stream",
     "text": [
      "Epoch 23 done. Loss: 36417930.14135742\n"
     ]
    },
    {
     "data": {
      "application/vnd.jupyter.widget-view+json": {
       "model_id": "d68a80d5fd1b4f1abb29a6655dedb402",
       "version_major": 2,
       "version_minor": 0
      },
      "text/plain": [
       "  0%|          | 0/4918 [00:00<?, ?it/s]"
      ]
     },
     "metadata": {},
     "output_type": "display_data"
    },
    {
     "name": "stdout",
     "output_type": "stream",
     "text": [
      "Epoch 24 done. Loss: 36309929.19592285\n"
     ]
    },
    {
     "data": {
      "application/vnd.jupyter.widget-view+json": {
       "model_id": "2bb43774eb074d4faf60287ad3162b1b",
       "version_major": 2,
       "version_minor": 0
      },
      "text/plain": [
       "  0%|          | 0/4918 [00:00<?, ?it/s]"
      ]
     },
     "metadata": {},
     "output_type": "display_data"
    },
    {
     "name": "stdout",
     "output_type": "stream",
     "text": [
      "Epoch 25 done. Loss: 36272442.28955078\n"
     ]
    },
    {
     "data": {
      "application/vnd.jupyter.widget-view+json": {
       "model_id": "4825954d4df94ba3a64d52577dc73674",
       "version_major": 2,
       "version_minor": 0
      },
      "text/plain": [
       "  0%|          | 0/4918 [00:00<?, ?it/s]"
      ]
     },
     "metadata": {},
     "output_type": "display_data"
    },
    {
     "name": "stdout",
     "output_type": "stream",
     "text": [
      "Epoch 26 done. Loss: 36236087.76049805\n"
     ]
    },
    {
     "data": {
      "application/vnd.jupyter.widget-view+json": {
       "model_id": "effaaf990ec142b698c8d040e02f3b85",
       "version_major": 2,
       "version_minor": 0
      },
      "text/plain": [
       "  0%|          | 0/4918 [00:00<?, ?it/s]"
      ]
     },
     "metadata": {},
     "output_type": "display_data"
    },
    {
     "name": "stdout",
     "output_type": "stream",
     "text": [
      "Epoch 27 done. Loss: 36201281.384887695\n"
     ]
    },
    {
     "data": {
      "application/vnd.jupyter.widget-view+json": {
       "model_id": "50d8f12879cc4f53a0364bbdc130761d",
       "version_major": 2,
       "version_minor": 0
      },
      "text/plain": [
       "  0%|          | 0/4918 [00:00<?, ?it/s]"
      ]
     },
     "metadata": {},
     "output_type": "display_data"
    },
    {
     "name": "stdout",
     "output_type": "stream",
     "text": [
      "Epoch 28 done. Loss: 36167888.80859375\n"
     ]
    },
    {
     "data": {
      "application/vnd.jupyter.widget-view+json": {
       "model_id": "fa31c95148dd4bf1a579e88da8103979",
       "version_major": 2,
       "version_minor": 0
      },
      "text/plain": [
       "  0%|          | 0/4918 [00:00<?, ?it/s]"
      ]
     },
     "metadata": {},
     "output_type": "display_data"
    },
    {
     "name": "stdout",
     "output_type": "stream",
     "text": [
      "Epoch 29 done. Loss: 36132809.97924805\n",
      "Epoch 29 done. Loss: 36132809.97924805\n",
      "Model trained for 30 in  37.48 minutes\n"
     ]
    }
   ],
   "source": [
    "# Train\n",
    "LEARNING_RATE = optimal_lr\n",
    "NUM_EPOCHS = 30\n",
    "LOG_INTERVAL = 1\n",
    "\n",
    "# Free memory\n",
    "gc.collect()\n",
    "torch.cuda.empty_cache()\n",
    "\n",
    "start = time.time() # timer\n",
    "\n",
    "# training\n",
    "model = model.to(device)\n",
    "model.train()\n",
    "\n",
    "loss_values =[]\n",
    "\n",
    "optimizer = torch.optim.Adam(model.parameters(), lr = LEARNING_RATE)\n",
    "scheduler = torch.optim.lr_scheduler.OneCycleLR(optimizer, \n",
    "                                                max_lr=LEARNING_RATE, \n",
    "                                                steps_per_epoch=len(dataloader), \n",
    "                                                anneal_strategy = 'linear',\n",
    "                                                epochs=NUM_EPOCHS,\n",
    "                                                div_factor = 10,\n",
    "                                                final_div_factor = 1000,\n",
    "                                                pct_start = 0.4,\n",
    "                                                three_phase = True,\n",
    "                                               )\n",
    "# scheduler = None\n",
    "\n",
    "\n",
    "for epoch in trange(NUM_EPOCHS):\n",
    "    loss_total = 0\n",
    "    \n",
    "    for word_indx, context_word_indx in tqdm(dataloader, total=len(dataloader)):\n",
    "         \n",
    "        # zero the gradients\n",
    "        optimizer.zero_grad()     \n",
    "\n",
    "        # compute loss\n",
    "        inp = word_indx.to(device)\n",
    "        outp = context_word_indx.to(device)\n",
    "        negative_samples = model.negativeSampling(model.num_neg_samples*inp.shape[0]) # batch size = inputs.shape[0]\n",
    "        negative_samples = negative_samples.reshape(inp.shape[0],model.num_neg_samples)\n",
    "        negative_samples = negative_samples.to(device)\n",
    "        \n",
    "        loss = model.loss(inp, outp,negative_samples)\n",
    "        loss_total += loss.item()\n",
    "\n",
    "        # backward pass\n",
    "        loss.backward()\n",
    "        \n",
    "        # optimization step\n",
    "        optimizer.step()\n",
    "        \n",
    "        if scheduler is not None:\n",
    "            scheduler.step()\n",
    "        \n",
    "    loss_values.append(loss_total)\n",
    "            \n",
    "    if epoch%LOG_INTERVAL ==0:\n",
    "        print(\"Epoch \" + str(epoch) + \" done. Loss: \" + str(loss_total))\n",
    "#         torch.save(model, 'saved_model.pkl')\n",
    "        \n",
    "print(\"Epoch \" + str(epoch) + \" done. Loss: \" + str(loss_total))\n",
    "elapsed = time.time() - start\n",
    "print(f\"Model trained for {NUM_EPOCHS} in {elapsed/60: .2f} minutes\")\n",
    "\n",
    "\n",
    "torch.save({\n",
    "        'epoch': epoch,\n",
    "        'model_state_dict': model.state_dict(),\n",
    "        'optimizer_state_dict': optimizer.state_dict(),\n",
    "        'loss_values': loss_values,\n",
    "        }, f'Word2Vec_te_{NUM_EPOCHS}_epochs.pt')"
   ]
  },
  {
   "cell_type": "code",
   "execution_count": 41,
   "metadata": {
    "execution": {
     "iopub.execute_input": "2021-12-11T05:42:07.233010Z",
     "iopub.status.busy": "2021-12-11T05:42:07.230610Z",
     "iopub.status.idle": "2021-12-11T05:42:07.493525Z",
     "shell.execute_reply": "2021-12-11T05:42:07.492859Z",
     "shell.execute_reply.started": "2021-12-11T05:42:07.232968Z"
    }
   },
   "outputs": [
    {
     "data": {
      "text/plain": [
       "[<matplotlib.lines.Line2D at 0x7fb8b5ec6310>]"
      ]
     },
     "execution_count": 41,
     "metadata": {},
     "output_type": "execute_result"
    },
    {
     "data": {
      "image/png": "[encoded data removed]",
      "text/plain": [
       "<Figure size 432x288 with 1 Axes>"
      ]
     },
     "metadata": {
      "needs_background": "light"
     },
     "output_type": "display_data"
    }
   ],
   "source": [
    "plt.plot(loss_values[1:])"
   ]
  },
  {
   "cell_type": "code",
   "execution_count": 42,
   "metadata": {
    "execution": {
     "iopub.execute_input": "2021-12-11T05:42:07.499269Z",
     "iopub.status.busy": "2021-12-11T05:42:07.497385Z",
     "iopub.status.idle": "2021-12-11T05:42:07.514675Z",
     "shell.execute_reply": "2021-12-11T05:42:07.514077Z",
     "shell.execute_reply.started": "2021-12-11T05:42:07.499229Z"
    }
   },
   "outputs": [],
   "source": [
    "model.to('cpu')\n",
    "model.eval()\n",
    "em = nn.Embedding.from_pretrained(model.input_embedding.weight, freeze=True)\n",
    "word_emb = em.weight"
   ]
  },
  {
   "cell_type": "code",
   "execution_count": 43,
   "metadata": {
    "execution": {
     "iopub.execute_input": "2021-12-11T05:42:07.520442Z",
     "iopub.status.busy": "2021-12-11T05:42:07.518487Z",
     "iopub.status.idle": "2021-12-11T05:42:07.526117Z",
     "shell.execute_reply": "2021-12-11T05:42:07.525451Z",
     "shell.execute_reply.started": "2021-12-11T05:42:07.520405Z"
    }
   },
   "outputs": [],
   "source": [
    "def cosineSimilarity(w1, w2):\n",
    "    return np.dot(w1,w2)/(np.linalg.norm(w1) * np.linalg.norm(w2))"
   ]
  },
  {
   "cell_type": "code",
   "execution_count": 44,
   "metadata": {
    "execution": {
     "iopub.execute_input": "2021-12-11T05:42:07.532075Z",
     "iopub.status.busy": "2021-12-11T05:42:07.530591Z",
     "iopub.status.idle": "2021-12-11T05:42:07.541234Z",
     "shell.execute_reply": "2021-12-11T05:42:07.539948Z",
     "shell.execute_reply.started": "2021-12-11T05:42:07.532026Z"
    }
   },
   "outputs": [],
   "source": [
    "def findSimilar(word, word_emb, k=5):\n",
    "    word_vec = word_emb[word_to_idx[word]]\n",
    "\n",
    "    sim = np.zeros(word_emb.shape[0])\n",
    "    for i,row in enumerate(word_emb):\n",
    "        sim[i] = cosineSimilarity(word_vec.numpy(), row.numpy())\n",
    "    val,ind = torch.topk(torch.Tensor(sim), k+1)\n",
    "    return [(vocab[ind[i]], val[i].item() )for i in np.arange(1, len(ind))]\n",
    "\n",
    "# def findSimilar(word, word_emb, k=5):\n",
    "#     word_vec = word_emb[word_to_idx[word]]\n",
    "#     sim = torch.zeros(word_emb.shape[0])\n",
    "#     for i,row in enumerate(word_emb):\n",
    "#         sim[i] = torch.dot(word_vec, row)\n",
    "#     val,ind = torch.topk(sim, k)\n",
    "#     return [indx_to_word[i] for i in ind.numpy()]\n",
    "# #     return ind.numpy()"
   ]
  },
  {
   "cell_type": "code",
   "execution_count": 45,
   "metadata": {
    "execution": {
     "iopub.execute_input": "2021-12-11T05:42:07.544753Z",
     "iopub.status.busy": "2021-12-11T05:42:07.543470Z",
     "iopub.status.idle": "2021-12-11T05:42:07.856478Z",
     "shell.execute_reply": "2021-12-11T05:42:07.855792Z",
     "shell.execute_reply.started": "2021-12-11T05:42:07.544714Z"
    }
   },
   "outputs": [
    {
     "data": {
      "text/plain": [
       "[('ఉత్తర', 0.8820783495903015),\n",
       " ('తూర్పు', 0.8115730881690979),\n",
       " ('ఆగ్నేయ', 0.7735185027122498),\n",
       " ('పశ్చిమ', 0.7714394330978394),\n",
       " ('ఈశాన్య', 0.7370826601982117),\n",
       " ('నైరుతి', 0.6693284511566162),\n",
       " ('సరిహద్దులో', 0.6219167113304138),\n",
       " ('భారతదేశం', 0.5986282229423523),\n",
       " ('వాయవ్య', 0.596453845500946),\n",
       " ('తూర్పున', 0.5913439393043518)]"
      ]
     },
     "execution_count": 45,
     "metadata": {},
     "output_type": "execute_result"
    }
   ],
   "source": [
    "findSimilar('దక్షిణ', word_emb, 10)"
   ]
  },
  {
   "cell_type": "code",
   "execution_count": 46,
   "metadata": {
    "execution": {
     "iopub.execute_input": "2021-12-11T05:42:07.858097Z",
     "iopub.status.busy": "2021-12-11T05:42:07.857802Z",
     "iopub.status.idle": "2021-12-11T05:42:08.031543Z",
     "shell.execute_reply": "2021-12-11T05:42:08.030754Z",
     "shell.execute_reply.started": "2021-12-11T05:42:07.858061Z"
    }
   },
   "outputs": [
    {
     "data": {
      "text/plain": [
       "[('వరి', 0.6491200923919678),\n",
       " ('పంట', 0.6468113660812378),\n",
       " ('కూరగాయలు', 0.5941598415374756),\n",
       " ('మొక్కజొన్న', 0.5630755424499512),\n",
       " ('సాగు', 0.5612453818321228),\n",
       " ('రైతులు', 0.5576823353767395),\n",
       " ('వేరుశనగ', 0.5540198087692261),\n",
       " ('జొన్న', 0.5502128005027771),\n",
       " ('చెరకు', 0.5467171669006348),\n",
       " ('పంటలను', 0.5452612638473511)]"
      ]
     },
     "execution_count": 46,
     "metadata": {},
     "output_type": "execute_result"
    }
   ],
   "source": [
    "findSimilar('పంటలు', word_emb, 10)"
   ]
  },
  {
   "cell_type": "code",
   "execution_count": 47,
   "metadata": {
    "execution": {
     "iopub.execute_input": "2021-12-11T05:42:08.033278Z",
     "iopub.status.busy": "2021-12-11T05:42:08.033037Z",
     "iopub.status.idle": "2021-12-11T05:42:08.226489Z",
     "shell.execute_reply": "2021-12-11T05:42:08.225793Z",
     "shell.execute_reply.started": "2021-12-11T05:42:08.033242Z"
    }
   },
   "outputs": [
    {
     "data": {
      "text/plain": [
       "[('పది', 0.7577728033065796),\n",
       " ('తొమ్మిది', 0.6858631372451782),\n",
       " ('ఆరు', 0.6722651124000549),\n",
       " ('ఏడు', 0.6405187845230103),\n",
       " ('నాలుగు', 0.6318432688713074),\n",
       " ('ఇరవై', 0.6151851415634155),\n",
       " ('అయిదు', 0.597472608089447),\n",
       " ('పన్నెండు', 0.5868387222290039),\n",
       " ('అరవై', 0.5862650275230408),\n",
       " ('ఐదు', 0.5674272775650024)]"
      ]
     },
     "execution_count": 47,
     "metadata": {},
     "output_type": "execute_result"
    }
   ],
   "source": [
    "findSimilar('ఎనిమిది', word_emb, 10)"
   ]
  },
  {
   "cell_type": "code",
   "execution_count": 48,
   "metadata": {
    "execution": {
     "iopub.execute_input": "2021-12-11T05:42:08.228107Z",
     "iopub.status.busy": "2021-12-11T05:42:08.227834Z",
     "iopub.status.idle": "2021-12-11T05:42:08.407477Z",
     "shell.execute_reply": "2021-12-11T05:42:08.406776Z",
     "shell.execute_reply.started": "2021-12-11T05:42:08.228072Z"
    }
   },
   "outputs": [
    {
     "data": {
      "text/plain": [
       "[('ఎక్కువ', 0.802049994468689),\n",
       " ('కంటే', 0.7693387866020203),\n",
       " ('తక్కువగా', 0.7488549947738647),\n",
       " ('అధిక', 0.7403759956359863),\n",
       " ('చాలా', 0.6861771941184998),\n",
       " ('ఎక్కువగా', 0.6174743175506592),\n",
       " ('ఉష్ణోగ్రత', 0.601702094078064),\n",
       " ('మొత్తంలో', 0.5920453071594238),\n",
       " ('సాంద్రత', 0.5896340608596802),\n",
       " ('పోలిస్తే', 0.5876764059066772)]"
      ]
     },
     "execution_count": 48,
     "metadata": {},
     "output_type": "execute_result"
    }
   ],
   "source": [
    "findSimilar('తక్కువ', word_emb, 10)"
   ]
  },
  {
   "cell_type": "code",
   "execution_count": 49,
   "metadata": {
    "execution": {
     "iopub.execute_input": "2021-12-11T05:42:08.409088Z",
     "iopub.status.busy": "2021-12-11T05:42:08.408812Z",
     "iopub.status.idle": "2021-12-11T05:42:08.585602Z",
     "shell.execute_reply": "2021-12-11T05:42:08.584940Z",
     "shell.execute_reply.started": "2021-12-11T05:42:08.409051Z"
    }
   },
   "outputs": [
    {
     "data": {
      "text/plain": [
       "[('జనగణన', 0.5437976717948914),\n",
       " ('గ్రామానికి', 0.5251233577728271),\n",
       " ('మండలంలోని', 0.5204244256019592),\n",
       " ('ఇళ్లతో', 0.514874279499054),\n",
       " ('గ్రామ', 0.5063568949699402),\n",
       " ('మండలానికి', 0.4992063343524933),\n",
       " ('పట్టణం', 0.48425593972206116),\n",
       " ('గ్రామములో', 0.46907129883766174),\n",
       " ('రాజుపాలెం', 0.46144938468933105),\n",
       " ('గ్రామాల', 0.45734643936157227)]"
      ]
     },
     "execution_count": 49,
     "metadata": {},
     "output_type": "execute_result"
    }
   ],
   "source": [
    "findSimilar('గ్రామం', word_emb, 10)"
   ]
  },
  {
   "cell_type": "code",
   "execution_count": null,
   "metadata": {},
   "outputs": [],
   "source": []
  },
  {
   "cell_type": "code",
   "execution_count": null,
   "metadata": {},
   "outputs": [],
   "source": []
  }
 ],
 "metadata": {
  "kernelspec": {
   "display_name": "Python 3 (ipykernel)",
   "language": "python",
   "name": "python3"
  },
  "language_info": {
   "codemirror_mode": {
    "name": "ipython",
    "version": 3
   },
   "file_extension": ".py",
   "mimetype": "text/x-python",
   "name": "python",
   "nbconvert_exporter": "python",
   "pygments_lexer": "ipython3",
   "version": "3.8.2"
  }
 },
 "nbformat": 4,
 "nbformat_minor": 4
}
